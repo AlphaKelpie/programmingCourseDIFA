{
 "cells": [
  {
   "attachments": {},
   "cell_type": "markdown",
   "metadata": {
    "slideshow": {
     "slide_type": "slide"
    }
   },
   "source": [
    "## programming and coding\n",
    "\n",
    "This two concept are often mixed up.\n",
    "We could use this two informal descriptions:\n",
    "\n",
    "**Programming** is about thinking how to formalize a certain sequence of operation.\n",
    "\n",
    "**Coding** is writing a computer program that actually perform the operations we have in mind.\n",
    "\n",
    "While **coding** is strictly related to a specific programming language, but most of the **programming** skills are identical among different languages.\n",
    "\n",
    "As a matter of fact, one does not even need a computer to be able to \"program\""
   ]
  },
  {
   "cell_type": "markdown",
   "metadata": {
    "slideshow": {
     "slide_type": "slide"
    }
   },
   "source": [
    "### how do you prepare coffee?\n",
    "\n",
    "Try describing the steps necessary to prepare a coffee."
   ]
  },
  {
   "attachments": {},
   "cell_type": "markdown",
   "metadata": {
    "slideshow": {
     "slide_type": "fragment"
    }
   },
   "source": [
    "### pointers\n",
    "\n",
    "* are you describing a moka or a capsule machine?\n",
    "* how expert is the other person?\n",
    "* is the coffee already available?"
   ]
  },
  {
   "cell_type": "markdown",
   "metadata": {
    "slideshow": {
     "slide_type": "slide"
    }
   },
   "source": [
    "## programming concepts\n",
    "\n",
    "There are really only 5 basic concepts to programming; anything else, in all languages, is basically just rehashing of these ideas.\n",
    "\n",
    "* storing and retrieving things\n",
    "* Conditional execution\n",
    "* functions and routines\n",
    "* iteration\n",
    "* data structure(s)"
   ]
  },
  {
   "attachments": {},
   "cell_type": "markdown",
   "metadata": {
    "slideshow": {
     "slide_type": "slide"
    }
   },
   "source": [
    "We will discuss these ideas (and all that follows) using python.\n",
    "\n",
    "Python was **not** chosen because it's **the best language**.\n",
    "It's a solid all-rounder, that will allow you to experiment with ease in a lot of different facets of programming.\n",
    "\n",
    "> Python is not the best language at anything, but it's the second best for most things\n",
    "(*someone on Twitter*)"
   ]
  },
  {
   "cell_type": "markdown",
   "metadata": {
    "slideshow": {
     "slide_type": "slide"
    }
   },
   "source": [
    "Python is a **high level** and **interpreted** language.\n",
    "\n",
    "**high level** means that it tries to express its concepts in a way closer to the human than to the machine\n",
    "\n",
    "**interpreted** means that it does not execute directly on the machine, but generates commands for the python interpreter, that executes them\n",
    "\n",
    "for sake of completeness, it's also a **dynamically typed** language."
   ]
  },
  {
   "cell_type": "markdown",
   "metadata": {
    "slideshow": {
     "slide_type": "slide"
    }
   },
   "source": [
    "## Python tutor\n",
    "\n",
    "To see what python is doing in the inside, you can go and play in this website.\n",
    "\n",
    "It allows you to write python code and see what the python interpreter is doing with each piece of code.\n",
    "\n",
    "\n",
    "http://pythontutor.com/visualize.html#mode=edit"
   ]
  },
  {
   "cell_type": "code",
   "execution_count": 93,
   "metadata": {
    "slideshow": {
     "slide_type": "slide"
    }
   },
   "outputs": [
    {
     "name": "stdout",
     "output_type": "stream",
     "text": [
      "(0.5+0j)\n"
     ]
    }
   ],
   "source": [
    "a = 0+1j\n",
    "b = 1 + a**2 / 2\n",
    "print(b)"
   ]
  },
  {
   "attachments": {},
   "cell_type": "markdown",
   "metadata": {
    "slideshow": {
     "slide_type": "fragment"
    }
   },
   "source": [
    "#### notes:\n",
    "\n",
    "we did not need to declare the existence of variables **a** and **b** beforehand\n",
    "\n",
    "we did not need to declare their type beforehand\n",
    "\n",
    "Python handles complex number naturally (not important, but nice)"
   ]
  },
  {
   "cell_type": "code",
   "execution_count": 95,
   "metadata": {
    "slideshow": {
     "slide_type": "slide"
    }
   },
   "outputs": [
    {
     "ename": "TypeError",
     "evalue": "unsupported operand type(s) for +: 'int' and 'str'",
     "output_type": "error",
     "traceback": [
      "\u001b[0;31m---------------------------------------------------------------------------\u001b[0m",
      "\u001b[0;31mTypeError\u001b[0m                                 Traceback (most recent call last)",
      "\u001b[0;32m<ipython-input-95-0be4553b3466>\u001b[0m in \u001b[0;36m<module>\u001b[0;34m\u001b[0m\n\u001b[1;32m      1\u001b[0m \u001b[0ma\u001b[0m \u001b[0;34m=\u001b[0m \u001b[0;36m1\u001b[0m\u001b[0;34m\u001b[0m\u001b[0;34m\u001b[0m\u001b[0m\n\u001b[1;32m      2\u001b[0m \u001b[0mb\u001b[0m \u001b[0;34m=\u001b[0m \u001b[0;34m'2'\u001b[0m\u001b[0;34m\u001b[0m\u001b[0;34m\u001b[0m\u001b[0m\n\u001b[0;32m----> 3\u001b[0;31m \u001b[0mc\u001b[0m \u001b[0;34m=\u001b[0m \u001b[0ma\u001b[0m \u001b[0;34m+\u001b[0m \u001b[0mb\u001b[0m\u001b[0;34m\u001b[0m\u001b[0;34m\u001b[0m\u001b[0m\n\u001b[0m",
      "\u001b[0;31mTypeError\u001b[0m: unsupported operand type(s) for +: 'int' and 'str'"
     ]
    }
   ],
   "source": [
    "a = 1\n",
    "b = '2'\n",
    "c = a + b"
   ]
  },
  {
   "cell_type": "markdown",
   "metadata": {
    "slideshow": {
     "slide_type": "fragment"
    }
   },
   "source": [
    "#### notes:\n",
    "\n",
    "Python will complain loudly if you make a mistake, and does not try to guess what you want to do if it's not uniquely defined.\n",
    "It's for your own good.\n",
    "Really.\n",
    "\n",
    "Before panicking, read the error message, they are usually very clear!\n",
    "\n",
    "if you are not sure what to look for, download and print this flowchart:\n",
    "https://www.dropbox.com/s/cqsxfws52gulkyx/drawing.pdf"
   ]
  },
  {
   "cell_type": "code",
   "execution_count": 8,
   "metadata": {
    "slideshow": {
     "slide_type": "slide"
    }
   },
   "outputs": [
    {
     "name": "stdout",
     "output_type": "stream",
     "text": [
      "The Zen of Python, by Tim Peters\n",
      "\n",
      "Beautiful is better than ugly.\n",
      "Explicit is better than implicit.\n",
      "Simple is better than complex.\n",
      "Complex is better than complicated.\n",
      "Flat is better than nested.\n",
      "Sparse is better than dense.\n",
      "Readability counts.\n",
      "Special cases aren't special enough to break the rules.\n",
      "Although practicality beats purity.\n",
      "Errors should never pass silently.\n",
      "Unless explicitly silenced.\n",
      "In the face of ambiguity, refuse the temptation to guess.\n",
      "There should be one-- and preferably only one --obvious way to do it.\n",
      "Although that way may not be obvious at first unless you're Dutch.\n",
      "Now is better than never.\n",
      "Although never is often better than *right* now.\n",
      "If the implementation is hard to explain, it's a bad idea.\n",
      "If the implementation is easy to explain, it may be a good idea.\n",
      "Namespaces are one honking great idea -- let's do more of those!\n"
     ]
    }
   ],
   "source": [
    "import this"
   ]
  },
  {
   "cell_type": "markdown",
   "metadata": {
    "slideshow": {
     "slide_type": "slide"
    }
   },
   "source": [
    "### conditional execution\n",
    "\n",
    "do something only if a certain condition is met"
   ]
  },
  {
   "cell_type": "code",
   "execution_count": 97,
   "metadata": {
    "slideshow": {
     "slide_type": "slide"
    }
   },
   "outputs": [
    {
     "name": "stdout",
     "output_type": "stream",
     "text": [
      "positive number\n"
     ]
    }
   ],
   "source": [
    "x = 5\n",
    "if x>0:\n",
    "    print(\"positive number\")\n",
    "else:\n",
    "    print(\"negative number\")"
   ]
  },
  {
   "cell_type": "code",
   "execution_count": 4,
   "metadata": {
    "slideshow": {
     "slide_type": "fragment"
    }
   },
   "outputs": [
    {
     "name": "stdout",
     "output_type": "stream",
     "text": [
      "1\n"
     ]
    }
   ],
   "source": [
    "y = 1 if x>0 else -1\n",
    "print(y)"
   ]
  },
  {
   "cell_type": "markdown",
   "metadata": {
    "slideshow": {
     "slide_type": "fragment"
    }
   },
   "source": [
    "### important note:\n",
    "\n",
    "Python uses whitespaces (indentations) to represent code scoping:\n",
    "what is indented after the **if** and the **else** is related to those two commands, and only executed when you are inside them.\n",
    "\n",
    "this is referred as a code block.\n",
    "\n",
    "Before starting a new block, the previous line ends with a `:`"
   ]
  },
  {
   "cell_type": "code",
   "execution_count": 7,
   "metadata": {
    "slideshow": {
     "slide_type": "slide"
    }
   },
   "outputs": [
    {
     "name": "stdout",
     "output_type": "stream",
     "text": [
      "x is zero\n"
     ]
    }
   ],
   "source": [
    "x = 0\n",
    "if x>0:\n",
    "    print(\"positive number\")\n",
    "elif x<0:\n",
    "    print(\"negative number\")\n",
    "else:\n",
    "    print(\"x is zero\")"
   ]
  },
  {
   "attachments": {},
   "cell_type": "markdown",
   "metadata": {
    "slideshow": {
     "slide_type": "slide"
    }
   },
   "source": [
    "### functions and routines\n",
    "\n",
    "From the language perspective of python they are the same thing, but from a conceptual perspective, they are very different.\n",
    "\n",
    "* routines do something to the system, and usually don't return anything interesting (like printing). \n",
    "* functions create new objects from the inputs, but don't modify the input themselves\n",
    "\n",
    "they are both referred as functions, and can do both, but try to know which is which and plan accordingly.\n",
    "\n",
    "And try to avoid mixing the two."
   ]
  },
  {
   "cell_type": "code",
   "execution_count": 5,
   "metadata": {
    "slideshow": {
     "slide_type": "fragment"
    }
   },
   "outputs": [
    {
     "data": {
      "text/plain": [
       "-1"
      ]
     },
     "execution_count": 5,
     "metadata": {},
     "output_type": "execute_result"
    }
   ],
   "source": [
    "def get_sign_of_number(number_to_be_tested):\n",
    "    sign = 1 if number_to_be_tested>0 else -1\n",
    "    return sign\n",
    "\n",
    "get_sign_of_number(-3)"
   ]
  },
  {
   "attachments": {},
   "cell_type": "markdown",
   "metadata": {
    "slideshow": {
     "slide_type": "slide"
    }
   },
   "source": [
    "An important concept related to functions is the concept of **scoping**.\n",
    "\n",
    "When we execute a function we can use variables that are *reserved to the function*.\n",
    "\n",
    "This allows to write simpler code."
   ]
  },
  {
   "cell_type": "code",
   "execution_count": 101,
   "metadata": {
    "slideshow": {
     "slide_type": "slide"
    }
   },
   "outputs": [
    {
     "name": "stdout",
     "output_type": "stream",
     "text": [
      "8\n"
     ]
    }
   ],
   "source": [
    "def my_adder(x):\n",
    "    global y\n",
    "    g  = 3\n",
    "    result = x + y + g\n",
    "    y += 1\n",
    "    return result\n",
    "\n",
    "y = 4\n",
    "print(my_adder(1))"
   ]
  },
  {
   "cell_type": "code",
   "execution_count": 104,
   "metadata": {},
   "outputs": [
    {
     "name": "stdout",
     "output_type": "stream",
     "text": [
      "11\n"
     ]
    }
   ],
   "source": [
    "print(my_adder(1))"
   ]
  },
  {
   "cell_type": "code",
   "execution_count": 8,
   "metadata": {
    "slideshow": {
     "slide_type": "fragment"
    }
   },
   "outputs": [
    {
     "ename": "NameError",
     "evalue": "name 'g' is not defined",
     "output_type": "error",
     "traceback": [
      "\u001b[0;31m---------------------------------------------------------------------------\u001b[0m",
      "\u001b[0;31mNameError\u001b[0m                                 Traceback (most recent call last)",
      "\u001b[0;32m<ipython-input-8-e1cdc681402c>\u001b[0m in \u001b[0;36m<module>\u001b[0;34m()\u001b[0m\n\u001b[0;32m----> 1\u001b[0;31m \u001b[0mprint\u001b[0m\u001b[0;34m(\u001b[0m\u001b[0mg\u001b[0m\u001b[0;34m)\u001b[0m\u001b[0;34m\u001b[0m\u001b[0m\n\u001b[0m",
      "\u001b[0;31mNameError\u001b[0m: name 'g' is not defined"
     ]
    }
   ],
   "source": [
    "print(g)"
   ]
  },
  {
   "cell_type": "markdown",
   "metadata": {
    "slideshow": {
     "slide_type": "slide"
    }
   },
   "source": [
    "### libraries\n",
    "\n",
    "libraries are collections of functions and classes that allows to reuse well-written code (from you or from somebody else) in your new code.\n",
    "\n",
    "to import a library you can do it in several ways.\n",
    "\n",
    "whatever you need to implement, it is usually worth checking if there is already a library doing it for you."
   ]
  },
  {
   "cell_type": "code",
   "execution_count": 9,
   "metadata": {
    "slideshow": {
     "slide_type": "fragment"
    }
   },
   "outputs": [
    {
     "data": {
      "text/plain": [
       "1.0"
      ]
     },
     "execution_count": 9,
     "metadata": {},
     "output_type": "execute_result"
    }
   ],
   "source": [
    "import math\n",
    "math.log(math.e)"
   ]
  },
  {
   "cell_type": "code",
   "execution_count": 10,
   "metadata": {
    "slideshow": {
     "slide_type": "fragment"
    }
   },
   "outputs": [
    {
     "data": {
      "text/plain": [
       "1.0"
      ]
     },
     "execution_count": 10,
     "metadata": {},
     "output_type": "execute_result"
    }
   ],
   "source": [
    "from math import log, e\n",
    "log(e)"
   ]
  },
  {
   "cell_type": "code",
   "execution_count": 11,
   "metadata": {
    "slideshow": {
     "slide_type": "fragment"
    }
   },
   "outputs": [
    {
     "data": {
      "text/plain": [
       "1.0"
      ]
     },
     "execution_count": 11,
     "metadata": {},
     "output_type": "execute_result"
    }
   ],
   "source": [
    "from math import log as take_logarithm\n",
    "take_logarithm(math.e)"
   ]
  },
  {
   "cell_type": "markdown",
   "metadata": {
    "slideshow": {
     "slide_type": "slide"
    }
   },
   "source": [
    "there is another way of importing functions from libraries:\n",
    "\n",
    "    from math import *\n",
    "    \n",
    "**don't do this**\n",
    "\n",
    "everytime you `import *`, a puppy dies.\n",
    "\n",
    "don't kill the puppies."
   ]
  },
  {
   "cell_type": "markdown",
   "metadata": {
    "slideshow": {
     "slide_type": "slide"
    }
   },
   "source": [
    "the most commonly imported libraries are usually imported with standard shorter names, and you will see most code using these conventions.\n",
    "Don't stray from conventions unless you need why you are doing it.\n",
    "\n",
    "in scientific code, the most common ones are:\n",
    "\n",
    "    import numpy as np\n",
    "    import pandas as pd\n",
    "    import pylab as plt\n",
    "    "
   ]
  },
  {
   "cell_type": "markdown",
   "metadata": {
    "slideshow": {
     "slide_type": "slide"
    }
   },
   "source": [
    "### DRY principle\n",
    "\n",
    "**DRY**: Do not Repeat Yourself.\n",
    "\n",
    "Repeating code (or copy pasting it) can lead to sever errors:\n",
    "\n",
    "* dependencies on surrounding code\n",
    "* forgetting to change a variable name\n",
    "* visual clutter\n",
    "\n",
    "Functions are the primary way of implementing DRY principles.\n",
    "\n",
    "The rule of thumb is that if you are going to do it more than twice, write a function instead...\n",
    "Sometime even if you are going to do it once!"
   ]
  },
  {
   "cell_type": "code",
   "execution_count": 15,
   "metadata": {
    "slideshow": {
     "slide_type": "slide"
    }
   },
   "outputs": [
    {
     "data": {
      "text/plain": [
       "1.25"
      ]
     },
     "execution_count": 15,
     "metadata": {},
     "output_type": "execute_result"
    }
   ],
   "source": [
    "import statistics\n",
    "\n",
    "x = [0, 1, 2, 3, 4, 5, 6, 7, 8, 9, 0]\n",
    "x_med = statistics.median(x)\n",
    "x_min = min(x)\n",
    "x_max = max(x)\n",
    "x_top = x_max - x_med\n",
    "x_bot = x_med - x_min\n",
    "x_ratio = x_top/x_bot\n",
    "x_ratio"
   ]
  },
  {
   "cell_type": "markdown",
   "metadata": {
    "slideshow": {
     "slide_type": "fragment"
    }
   },
   "source": [
    "This code is obscure and pollute the namespace!"
   ]
  },
  {
   "cell_type": "code",
   "execution_count": 19,
   "metadata": {
    "slideshow": {
     "slide_type": "slide"
    }
   },
   "outputs": [
    {
     "data": {
      "text/plain": [
       "1.25"
      ]
     },
     "execution_count": 19,
     "metadata": {},
     "output_type": "execute_result"
    }
   ],
   "source": [
    "def interquantile_asymmetry(data):\n",
    "    \"\"\"calculate the asymmetry between min, max and median\"\"\"\n",
    "    x_med = statistics.median(data)\n",
    "    x_min = min(data)\n",
    "    x_max = max(data)\n",
    "    x_top = x_max - x_med\n",
    "    x_bot = x_med - x_min\n",
    "    x_ratio = x_top / x_bot\n",
    "    return x_ratio\n",
    "\n",
    "interquantile_asymmetry(x)"
   ]
  },
  {
   "attachments": {},
   "cell_type": "markdown",
   "metadata": {
    "slideshow": {
     "slide_type": "slide"
    }
   },
   "source": [
    "### iterations\n",
    "\n",
    "Repeating an operation over and over, typically with a different input each time, or with an exit condition.\n",
    "\n",
    "Typically they underpin the usage of words like: `while`, `for`/`for each`, `until`."
   ]
  },
  {
   "attachments": {},
   "cell_type": "markdown",
   "metadata": {
    "slideshow": {
     "slide_type": "slide"
    }
   },
   "source": [
    "There are two main approaches to iteration: **bounded** and **unbounded**.\n",
    "\n",
    "In the **bounded** kind of iteration, the program have an idea on how many iteration cycles it will need.\n",
    "It usually corresponds to saying: *for every one of these objects, do this*.\n",
    "\n",
    "The **unbounded** iterations are more related to exploration.\n",
    "The program has no idea beforehand on how many steps might be necessary.\n",
    "It usually corresponds to saying: *to this thing until something happens*\n",
    "\n",
    "**Unbounded** iterations usually require some form of internal state that is used to perform decision to continue based on what has been seen previously."
   ]
  },
  {
   "attachments": {},
   "cell_type": "markdown",
   "metadata": {
    "slideshow": {
     "slide_type": "slide"
    }
   },
   "source": [
    "In python, bounded iterations are represented with a `for`, while unbuonded with a `while`.\n",
    "\n",
    "It is important to notice that:\n",
    "* These are not clear-cut distinctions, and sometimes things can get murky\n",
    "* **bounded** does not mean finite\n",
    "* the bounds might be known to the program but not to you\n",
    "* Python often transforms unbounded loops in bounded ones under the hood"
   ]
  },
  {
   "cell_type": "code",
   "execution_count": 20,
   "metadata": {
    "slideshow": {
     "slide_type": "slide"
    }
   },
   "outputs": [
    {
     "name": "stdout",
     "output_type": "stream",
     "text": [
      "The year is 2010\n",
      "The year is 2011\n",
      "The year is 2012\n"
     ]
    }
   ],
   "source": [
    "years = [2010, 2011, 2012]\n",
    "for year in years:\n",
    "    print(\"The year is\", year)"
   ]
  },
  {
   "cell_type": "code",
   "execution_count": 107,
   "metadata": {
    "slideshow": {
     "slide_type": "slide"
    }
   },
   "outputs": [
    {
     "name": "stdout",
     "output_type": "stream",
     "text": [
      "position= 0\n",
      "position= 1\n",
      "position= 2\n",
      "position= 1\n",
      "position= 0\n",
      "position= 1\n",
      "position= 2\n",
      "position= 1\n",
      "position= 2\n"
     ]
    }
   ],
   "source": [
    "import random\n",
    "x = 0\n",
    "while x<3:\n",
    "    print(\"position=\", x)\n",
    "    step = random.choice([-1, 1])\n",
    "    x = x + step\n",
    "    "
   ]
  },
  {
   "cell_type": "markdown",
   "metadata": {
    "slideshow": {
     "slide_type": "slide"
    }
   },
   "source": [
    "sometimes one needs to break out early from a loop.\n",
    "\n",
    "this can be done using the `break` keyword, that kills the loop immediately and completely\n",
    "\n",
    "similarly, one can skip a single iteration of the loop with the `continue` keyword"
   ]
  },
  {
   "cell_type": "code",
   "execution_count": 3,
   "metadata": {
    "slideshow": {
     "slide_type": "slide"
    }
   },
   "outputs": [
    {
     "name": "stdout",
     "output_type": "stream",
     "text": [
      "position= 0\n",
      "position= 1\n",
      "position= 2\n",
      "position= 1\n",
      "position= 0\n",
      "position= 1\n",
      "position= 2\n"
     ]
    }
   ],
   "source": [
    "# the `break` keyword is useful to perform a do-while loop\n",
    "\n",
    "import random\n",
    "x = 0\n",
    "while True:\n",
    "    print(\"position=\", x)\n",
    "    step = random.choice([-1, 1])\n",
    "    x = x + step\n",
    "    if x>=3:\n",
    "        break"
   ]
  },
  {
   "cell_type": "code",
   "execution_count": 4,
   "metadata": {
    "slideshow": {
     "slide_type": "slide"
    }
   },
   "outputs": [
    {
     "name": "stdout",
     "output_type": "stream",
     "text": [
      "2020\n",
      "2021\n",
      "2022\n",
      "2023\n"
     ]
    }
   ],
   "source": [
    "# continue can be used to skip data that we don't want to process\n",
    "\n",
    "years = [2018, 2019, 2020, 2021, 2022, 2023]\n",
    "for year in years:\n",
    "    if year<2020:\n",
    "        continue\n",
    "    print(year)"
   ]
  },
  {
   "attachments": {},
   "cell_type": "markdown",
   "metadata": {
    "slideshow": {
     "slide_type": "slide"
    }
   },
   "source": [
    "## data structures\n",
    "\n",
    "These are containers that holds the informations, and make more or less easy to retrieve and manipulate this information.\n",
    "\n",
    "Programming can be described as creating and modifying data structures with the previous concept until the desired result is obtained.\n",
    "\n",
    "There are a great number of data structures, and more get introduced in a language by libraries.\n",
    "\n",
    "I will use the python names for these concepts, but they can be found one way or another in basically all programming languages."
   ]
  },
  {
   "cell_type": "markdown",
   "metadata": {
    "slideshow": {
     "slide_type": "slide"
    }
   },
   "source": [
    "#### basics\n",
    "\n",
    "* strings\n",
    "* maps\n",
    "* list\n",
    "* tuples\n",
    "\n",
    "#### more advanced\n",
    "\n",
    "* objects\n",
    "* enum"
   ]
  },
  {
   "cell_type": "markdown",
   "metadata": {
    "slideshow": {
     "slide_type": "slide"
    }
   },
   "source": [
    "## Fundamental structures"
   ]
  },
  {
   "attachments": {},
   "cell_type": "markdown",
   "metadata": {
    "slideshow": {
     "slide_type": "slide"
    }
   },
   "source": [
    "### Strings\n",
    "\n",
    "They contain text, and allows for some (relatively)\n",
    "complex manipulation of it.\n",
    "\n",
    "strings can be enclosed in single quotes, double quotes, \n",
    "triple single and triple double.\n",
    "\n",
    "    \"text to be used\"\n",
    "    'text to be used'\n",
    "    '''text to be used'''\n",
    "    \"\"\"text to be used\"\"\"\n",
    "    \n",
    "single or double quotes are identical,\n",
    "just chose the one you like the most.\n",
    "\n",
    "triple quotes (both single and double) \n",
    "can span several lines\n",
    "\n",
    "    \"\"\"this string starts here\n",
    "    keeps going\n",
    "    and ends here\"\"\"\n",
    "\n"
   ]
  },
  {
   "cell_type": "code",
   "execution_count": 29,
   "metadata": {
    "slideshow": {
     "slide_type": "slide"
    }
   },
   "outputs": [
    {
     "data": {
      "text/plain": [
       "True"
      ]
     },
     "execution_count": 29,
     "metadata": {},
     "output_type": "execute_result"
    }
   ],
   "source": [
    "a = \"hello WORLD\"\n",
    "\n",
    "\"hello\" in a"
   ]
  },
  {
   "cell_type": "code",
   "execution_count": 30,
   "metadata": {
    "slideshow": {
     "slide_type": "fragment"
    }
   },
   "outputs": [
    {
     "data": {
      "text/plain": [
       "'Hello World'"
      ]
     },
     "execution_count": 30,
     "metadata": {},
     "output_type": "execute_result"
    }
   ],
   "source": [
    "a.title()"
   ]
  },
  {
   "cell_type": "code",
   "execution_count": 31,
   "metadata": {
    "slideshow": {
     "slide_type": "fragment"
    }
   },
   "outputs": [
    {
     "data": {
      "text/plain": [
       "'hello world'"
      ]
     },
     "execution_count": 31,
     "metadata": {},
     "output_type": "execute_result"
    }
   ],
   "source": [
    "a.lower()"
   ]
  },
  {
   "cell_type": "code",
   "execution_count": 32,
   "metadata": {
    "slideshow": {
     "slide_type": "slide"
    }
   },
   "outputs": [
    {
     "data": {
      "text/plain": [
       "'HELLO WORLD'"
      ]
     },
     "execution_count": 32,
     "metadata": {},
     "output_type": "execute_result"
    }
   ],
   "source": [
    "a.upper()"
   ]
  },
  {
   "cell_type": "code",
   "execution_count": 33,
   "metadata": {
    "slideshow": {
     "slide_type": "fragment"
    }
   },
   "outputs": [
    {
     "data": {
      "text/plain": [
       "True"
      ]
     },
     "execution_count": 33,
     "metadata": {},
     "output_type": "execute_result"
    }
   ],
   "source": [
    "a.startswith(\"hello\")"
   ]
  },
  {
   "cell_type": "code",
   "execution_count": 34,
   "metadata": {
    "slideshow": {
     "slide_type": "fragment"
    }
   },
   "outputs": [
    {
     "data": {
      "text/plain": [
       "False"
      ]
     },
     "execution_count": 34,
     "metadata": {},
     "output_type": "execute_result"
    }
   ],
   "source": [
    "a.endswith(\"world\")"
   ]
  },
  {
   "cell_type": "code",
   "execution_count": 36,
   "metadata": {
    "slideshow": {
     "slide_type": "fragment"
    }
   },
   "outputs": [
    {
     "data": {
      "text/plain": [
       "'ciao WORLD'"
      ]
     },
     "execution_count": 36,
     "metadata": {},
     "output_type": "execute_result"
    }
   ],
   "source": [
    "a.replace(\"hello\", \"ciao\")"
   ]
  },
  {
   "cell_type": "code",
   "execution_count": 109,
   "metadata": {
    "slideshow": {
     "slide_type": "fragment"
    }
   },
   "outputs": [
    {
     "data": {
      "text/plain": [
       "'value of π: 3.142e+00'"
      ]
     },
     "execution_count": 109,
     "metadata": {},
     "output_type": "execute_result"
    }
   ],
   "source": [
    "pi = 3.141592653589793\n",
    "\"value of π: {:.3e}\".format(pi)"
   ]
  },
  {
   "cell_type": "markdown",
   "metadata": {
    "slideshow": {
     "slide_type": "slide"
    }
   },
   "source": [
    "#### special characters\n",
    "\n",
    "by default, special characters that cannot be rendered directly are represented with `\\` followed by some letters or codes that uniquely identify them\n",
    "\n",
    "* `\\n` newline\n",
    "* `\\t` tabulation\n",
    "* `\\U0001f604` unicode point for smiley face"
   ]
  },
  {
   "cell_type": "code",
   "execution_count": 48,
   "metadata": {
    "slideshow": {
     "slide_type": "fragment"
    }
   },
   "outputs": [
    {
     "name": "stdout",
     "output_type": "stream",
     "text": [
      "😄\n"
     ]
    }
   ],
   "source": [
    "print('\\U0001f604')"
   ]
  },
  {
   "cell_type": "markdown",
   "metadata": {
    "slideshow": {
     "slide_type": "slide"
    }
   },
   "source": [
    "it can recognized the whole unicode point name, if you want to have a more human description of it"
   ]
  },
  {
   "cell_type": "code",
   "execution_count": 55,
   "metadata": {
    "slideshow": {
     "slide_type": "fragment"
    }
   },
   "outputs": [
    {
     "name": "stdout",
     "output_type": "stream",
     "text": [
      "😁\n",
      "α\n"
     ]
    }
   ],
   "source": [
    "print('\\N{grinning face with smiling eyes}')\n",
    "print('\\N{GREEK SMALL LETTER ALPHA}')"
   ]
  },
  {
   "cell_type": "code",
   "execution_count": 110,
   "metadata": {
    "slideshow": {
     "slide_type": "fragment"
    }
   },
   "outputs": [
    {
     "name": "stdout",
     "output_type": "stream",
     "text": [
      "α\n"
     ]
    }
   ],
   "source": [
    "print(\"α\")"
   ]
  },
  {
   "attachments": {},
   "cell_type": "markdown",
   "metadata": {
    "slideshow": {
     "slide_type": "slide"
    }
   },
   "source": [
    "### Indexing of objects\n",
    "\n",
    "Several objects in python allow extracting subsequences by using the indexing operator `[]`.\n",
    "\n",
    "Each object specify how it reacts to the specific index you pass it.\n",
    "\n",
    "Strings, lists and most other iterable objects use 0-based indexing"
   ]
  },
  {
   "cell_type": "code",
   "execution_count": 56,
   "metadata": {
    "slideshow": {
     "slide_type": "fragment"
    }
   },
   "outputs": [
    {
     "data": {
      "text/plain": [
       "'h'"
      ]
     },
     "execution_count": 56,
     "metadata": {},
     "output_type": "execute_result"
    }
   ],
   "source": [
    "a = \"hello world\"\n",
    "a[0]"
   ]
  },
  {
   "cell_type": "code",
   "execution_count": 57,
   "metadata": {
    "slideshow": {
     "slide_type": "fragment"
    }
   },
   "outputs": [
    {
     "data": {
      "text/plain": [
       "'d'"
      ]
     },
     "execution_count": 57,
     "metadata": {},
     "output_type": "execute_result"
    }
   ],
   "source": [
    "a[-1]"
   ]
  },
  {
   "cell_type": "markdown",
   "metadata": {
    "slideshow": {
     "slide_type": "slide"
    }
   },
   "source": [
    "it is also possible to specify **ranges**, with a start and stop positions (assumed by default to be the first and last element).\n",
    "\n",
    "in a range the last element indicated is excluded from the sequence"
   ]
  },
  {
   "cell_type": "code",
   "execution_count": 58,
   "metadata": {
    "slideshow": {
     "slide_type": "fragment"
    }
   },
   "outputs": [
    {
     "data": {
      "text/plain": [
       "'hello'"
      ]
     },
     "execution_count": 58,
     "metadata": {},
     "output_type": "execute_result"
    }
   ],
   "source": [
    "a[:5]"
   ]
  },
  {
   "cell_type": "code",
   "execution_count": 59,
   "metadata": {
    "slideshow": {
     "slide_type": "fragment"
    }
   },
   "outputs": [
    {
     "data": {
      "text/plain": [
       "'world'"
      ]
     },
     "execution_count": 59,
     "metadata": {},
     "output_type": "execute_result"
    }
   ],
   "source": [
    "a[-5:]"
   ]
  },
  {
   "cell_type": "code",
   "execution_count": 60,
   "metadata": {
    "slideshow": {
     "slide_type": "fragment"
    }
   },
   "outputs": [
    {
     "data": {
      "text/plain": [
       "True"
      ]
     },
     "execution_count": 60,
     "metadata": {},
     "output_type": "execute_result"
    }
   ],
   "source": [
    "a[:5] + a[5:] == a"
   ]
  },
  {
   "cell_type": "markdown",
   "metadata": {
    "slideshow": {
     "slide_type": "slide"
    }
   },
   "source": [
    "It is also possible to specify a **step**, that indicates if it has to skip some elements of the sequence"
   ]
  },
  {
   "cell_type": "code",
   "execution_count": 61,
   "metadata": {
    "slideshow": {
     "slide_type": "fragment"
    }
   },
   "outputs": [
    {
     "data": {
      "text/plain": [
       "'hlowrd'"
      ]
     },
     "execution_count": 61,
     "metadata": {},
     "output_type": "execute_result"
    }
   ],
   "source": [
    "a[::2]"
   ]
  },
  {
   "cell_type": "code",
   "execution_count": 62,
   "metadata": {
    "slideshow": {
     "slide_type": "fragment"
    }
   },
   "outputs": [
    {
     "data": {
      "text/plain": [
       "'dlrow olleh'"
      ]
     },
     "execution_count": 62,
     "metadata": {},
     "output_type": "execute_result"
    }
   ],
   "source": [
    "a[::-1]"
   ]
  },
  {
   "cell_type": "markdown",
   "metadata": {
    "slideshow": {
     "slide_type": "slide"
    }
   },
   "source": [
    "### Lists\n",
    "\n",
    "Lists are collections of items all with some common characteristic."
   ]
  },
  {
   "cell_type": "markdown",
   "metadata": {
    "slideshow": {
     "slide_type": "fragment"
    }
   },
   "source": [
    "    [1, 2, 3]\n",
    "    \n",
    "is a list of integer numbers\n",
    "\n",
    "    ['hello', 'world']\n",
    "    \n",
    "is a list of strings\n",
    "\n",
    "    ['hello', 1, 'world']\n",
    "    \n",
    "is a list of generic python objects"
   ]
  },
  {
   "cell_type": "markdown",
   "metadata": {
    "slideshow": {
     "slide_type": "slide"
    }
   },
   "source": [
    "Python will not enforce the kind of objects you can keep in a list, but you should in general be careful of the meaning of what you are doing.\n",
    "\n",
    "Other programming languages can be more strict about it"
   ]
  },
  {
   "attachments": {},
   "cell_type": "markdown",
   "metadata": {
    "slideshow": {
     "slide_type": "fragment"
    }
   },
   "source": [
    "The typical usage is to store object on which you want to perform some specific operation.\n",
    "\n",
    "Therefore, the only restriction is that this operation is allowed on the data contained."
   ]
  },
  {
   "cell_type": "code",
   "execution_count": 12,
   "metadata": {
    "slideshow": {
     "slide_type": "fragment"
    }
   },
   "outputs": [
    {
     "name": "stdout",
     "output_type": "stream",
     "text": [
      "hellohello\n",
      "2\n",
      "worldworld\n"
     ]
    }
   ],
   "source": [
    "data = ['hello', 1, 'world']\n",
    "\n",
    "for datum in data:\n",
    "    print(datum*2)"
   ]
  },
  {
   "cell_type": "code",
   "execution_count": 13,
   "metadata": {
    "slideshow": {
     "slide_type": "slide"
    }
   },
   "outputs": [
    {
     "data": {
      "text/plain": [
       "True"
      ]
     },
     "execution_count": 13,
     "metadata": {},
     "output_type": "execute_result"
    }
   ],
   "source": [
    "data = [1, 2, 3]\n",
    "2 in data"
   ]
  },
  {
   "attachments": {},
   "cell_type": "markdown",
   "metadata": {
    "slideshow": {
     "slide_type": "slide"
    }
   },
   "source": [
    "### Tuples\n",
    "\n",
    "They store heterogeneous data, where the order is relevant.\n",
    "\n",
    "Sometimes you will see them referred as **immutable lists**.\n",
    "This is an improper use.\n",
    "\n",
    "A common use is to pack together multiple return values from a function."
   ]
  },
  {
   "cell_type": "code",
   "execution_count": 4,
   "metadata": {
    "slideshow": {
     "slide_type": "fragment"
    }
   },
   "outputs": [],
   "source": [
    "info = (\"enrico\", \"giampieri\", \"FIS/07\")"
   ]
  },
  {
   "cell_type": "code",
   "execution_count": 17,
   "metadata": {
    "slideshow": {
     "slide_type": "fragment"
    }
   },
   "outputs": [
    {
     "data": {
      "text/plain": [
       "'enrico'"
      ]
     },
     "execution_count": 17,
     "metadata": {},
     "output_type": "execute_result"
    }
   ],
   "source": [
    "info[0]"
   ]
  },
  {
   "attachments": {},
   "cell_type": "markdown",
   "metadata": {
    "slideshow": {
     "slide_type": "slide"
    }
   },
   "source": [
    "They are typically used to return several values at the same time from a function"
   ]
  },
  {
   "cell_type": "code",
   "execution_count": 71,
   "metadata": {
    "slideshow": {
     "slide_type": "fragment"
    }
   },
   "outputs": [
    {
     "name": "stdout",
     "output_type": "stream",
     "text": [
      "0 6\n"
     ]
    }
   ],
   "source": [
    "def min_max(data):\n",
    "    min_ = min(data)\n",
    "    max_ = max(data)\n",
    "    return (min_, max_)\n",
    "\n",
    "data = [0, 1, 2, 3, 4, 5, 6]\n",
    "min_, max_ = min_max(data)\n",
    "print(min_, max_)"
   ]
  },
  {
   "attachments": {},
   "cell_type": "markdown",
   "metadata": {
    "slideshow": {
     "slide_type": "slide"
    }
   },
   "source": [
    "Their greatest limitation is the limited expressivity: each position have a meaning, but there nothing directly expressing that meaning.\n",
    "\n",
    "to correct this, newer versions of python introduced **namedtuples** in the mix, where the meanings are explicitly referenced by names."
   ]
  },
  {
   "cell_type": "code",
   "execution_count": 72,
   "metadata": {
    "slideshow": {
     "slide_type": "fragment"
    }
   },
   "outputs": [
    {
     "name": "stdout",
     "output_type": "stream",
     "text": [
      "Person(age=21, name='Tom')\n",
      "21\n",
      "21\n"
     ]
    }
   ],
   "source": [
    "from collections import namedtuple\n",
    "\n",
    "Person = namedtuple(\"Person\", ['age', 'name'])\n",
    "\n",
    "person = Person(age=21, name=\"Tom\")\n",
    "print(person)\n",
    "print(person.age)\n",
    "print(person[0])"
   ]
  },
  {
   "attachments": {},
   "cell_type": "markdown",
   "metadata": {
    "slideshow": {
     "slide_type": "slide"
    }
   },
   "source": [
    "Even more information can be packed in using the **NamedTuple** factory from the typing module, from python 3.6 onward.\n",
    "\n",
    "This allows to include a class description and informations about the fields expected type (but do not enforce them)"
   ]
  },
  {
   "cell_type": "code",
   "execution_count": 78,
   "metadata": {
    "slideshow": {
     "slide_type": "fragment"
    }
   },
   "outputs": [
    {
     "name": "stdout",
     "output_type": "stream",
     "text": [
      "Person(age=21, name='Tom')\n"
     ]
    }
   ],
   "source": [
    "from typing import NamedTuple\n",
    "\n",
    "class Person(NamedTuple):\n",
    "    \"a person with age and name\"\n",
    "    age: int\n",
    "    name: str\n",
    "\n",
    "person = Person(age=21, name=\"Tom\")\n",
    "print(person)"
   ]
  },
  {
   "attachments": {},
   "cell_type": "markdown",
   "metadata": {
    "slideshow": {
     "slide_type": "slide"
    }
   },
   "source": [
    "### Dictionaries (maps)\n",
    "\n",
    "dictionaries encodes relationships between two different groups of values.\n",
    "\n",
    "it could also be seen as a list indexed by names instead of by position.\n",
    "\n",
    "these pairs are usually referred as **keys** and **values**.\n",
    "\n",
    "**values** can be any arbitrary python objects.\n",
    "\n",
    "**keys** must be hashable objects, such as strings, numbers, booleans, tuples (if all the elements as hashable)"
   ]
  },
  {
   "cell_type": "code",
   "execution_count": 79,
   "metadata": {
    "slideshow": {
     "slide_type": "fragment"
    }
   },
   "outputs": [],
   "source": [
    "office_by_name = {'Enrico': 'd012', \n",
    "                  'Claudia': 'd08'}\n",
    "office_by_name = dict(Enrico='d012', Claudia='d08')"
   ]
  },
  {
   "cell_type": "code",
   "execution_count": 80,
   "metadata": {
    "slideshow": {
     "slide_type": "fragment"
    }
   },
   "outputs": [
    {
     "data": {
      "text/plain": [
       "dict_keys(['Enrico', 'Claudia'])"
      ]
     },
     "execution_count": 80,
     "metadata": {},
     "output_type": "execute_result"
    }
   ],
   "source": [
    "office_by_name.keys()"
   ]
  },
  {
   "cell_type": "code",
   "execution_count": 81,
   "metadata": {
    "slideshow": {
     "slide_type": "fragment"
    }
   },
   "outputs": [
    {
     "data": {
      "text/plain": [
       "dict_values(['d012', 'd08'])"
      ]
     },
     "execution_count": 81,
     "metadata": {},
     "output_type": "execute_result"
    }
   ],
   "source": [
    "office_by_name.values()"
   ]
  },
  {
   "cell_type": "code",
   "execution_count": 21,
   "metadata": {
    "slideshow": {
     "slide_type": "slide"
    }
   },
   "outputs": [
    {
     "name": "stdout",
     "output_type": "stream",
     "text": [
      "Enrico d012\n",
      "Claudia d08\n"
     ]
    }
   ],
   "source": [
    "for person, office in office_by_name.items():\n",
    "    print(person, office)"
   ]
  },
  {
   "cell_type": "code",
   "execution_count": 22,
   "metadata": {
    "slideshow": {
     "slide_type": "fragment"
    }
   },
   "outputs": [
    {
     "data": {
      "text/plain": [
       "'d012'"
      ]
     },
     "execution_count": 22,
     "metadata": {},
     "output_type": "execute_result"
    }
   ],
   "source": [
    "office_by_name['Enrico']"
   ]
  },
  {
   "cell_type": "code",
   "execution_count": 23,
   "metadata": {
    "slideshow": {
     "slide_type": "fragment"
    }
   },
   "outputs": [
    {
     "data": {
      "text/plain": [
       "False"
      ]
     },
     "execution_count": 23,
     "metadata": {},
     "output_type": "execute_result"
    }
   ],
   "source": [
    "'Giulia' in office_by_name"
   ]
  },
  {
   "cell_type": "code",
   "execution_count": 24,
   "metadata": {
    "slideshow": {
     "slide_type": "slide"
    }
   },
   "outputs": [
    {
     "data": {
      "text/plain": [
       "'d012'"
      ]
     },
     "execution_count": 24,
     "metadata": {},
     "output_type": "execute_result"
    }
   ],
   "source": [
    "info_by_ID = {'001': {'name': 'Enrico', \n",
    "                      'office': 'd012'}, \n",
    "              '002': {'name': 'Claudia', \n",
    "                      'office': 'd08'}\n",
    "             } \n",
    "info_by_ID['001']['office']"
   ]
  },
  {
   "attachments": {},
   "cell_type": "markdown",
   "metadata": {
    "slideshow": {
     "slide_type": "slide"
    }
   },
   "source": [
    "### Objects\n",
    "\n",
    "they store data and provide a layer to interact with these data.\n",
    "\n",
    "We will **not** get into object-oriented programming right now."
   ]
  },
  {
   "cell_type": "code",
   "execution_count": 85,
   "metadata": {
    "slideshow": {
     "slide_type": "slide"
    }
   },
   "outputs": [
    {
     "data": {
      "text/plain": [
       "13.72"
      ]
     },
     "execution_count": 85,
     "metadata": {},
     "output_type": "execute_result"
    }
   ],
   "source": [
    "class Particle:\n",
    "    def __init__(self, name, mass, charge=0):\n",
    "        self.name = name\n",
    "        self.mass = mass\n",
    "        self.charge = charge\n",
    "        \n",
    "    def invert_charge(self):\n",
    "        self.charge = - self.charge\n",
    "        \n",
    "    def weight(self, g=9.8):\n",
    "        return self.mass * g\n",
    "    \n",
    "my_particle = Particle(\"mistery particle\", 1.4)\n",
    "my_particle.weight()"
   ]
  },
  {
   "cell_type": "markdown",
   "metadata": {
    "slideshow": {
     "slide_type": "skip"
    }
   },
   "source": [
    "## Advanced data structures"
   ]
  },
  {
   "cell_type": "markdown",
   "metadata": {
    "slideshow": {
     "slide_type": "skip"
    }
   },
   "source": [
    "#### Enum"
   ]
  },
  {
   "cell_type": "code",
   "execution_count": 40,
   "metadata": {
    "slideshow": {
     "slide_type": "skip"
    }
   },
   "outputs": [
    {
     "data": {
      "text/plain": [
       "<Color.red: 1>"
      ]
     },
     "execution_count": 40,
     "metadata": {},
     "output_type": "execute_result"
    }
   ],
   "source": [
    "from enum import Enum, auto\n",
    "class Color(Enum):\n",
    "    red = auto()\n",
    "    blue = auto()\n",
    "    green = auto()\n",
    "    \n",
    "Color.red"
   ]
  },
  {
   "cell_type": "code",
   "execution_count": 41,
   "metadata": {
    "slideshow": {
     "slide_type": "skip"
    }
   },
   "outputs": [
    {
     "name": "stdout",
     "output_type": "stream",
     "text": [
      "Color.red\n",
      "Color.blue\n",
      "Color.green\n"
     ]
    }
   ],
   "source": [
    "for color in Color:\n",
    "    print(color)"
   ]
  },
  {
   "cell_type": "markdown",
   "metadata": {
    "slideshow": {
     "slide_type": "skip"
    }
   },
   "source": [
    "#### Counter"
   ]
  },
  {
   "cell_type": "code",
   "execution_count": 43,
   "metadata": {
    "slideshow": {
     "slide_type": "skip"
    }
   },
   "outputs": [
    {
     "data": {
      "text/plain": [
       "Counter({'h': 1,\n",
       "         'e': 1,\n",
       "         'l': 3,\n",
       "         'o': 2,\n",
       "         ' ': 1,\n",
       "         'w': 1,\n",
       "         'r': 1,\n",
       "         'd': 1,\n",
       "         's': 1,\n",
       "         '!': 1})"
      ]
     },
     "execution_count": 43,
     "metadata": {},
     "output_type": "execute_result"
    }
   ],
   "source": [
    "from collections import Counter\n",
    "data1 = \"hello worlds!\"\n",
    "C1 = Counter(data1)\n",
    "C1"
   ]
  },
  {
   "cell_type": "code",
   "execution_count": 44,
   "metadata": {
    "slideshow": {
     "slide_type": "skip"
    }
   },
   "outputs": [
    {
     "data": {
      "text/plain": [
       "Counter({'h': 2,\n",
       "         'e': 4,\n",
       "         'l': 5,\n",
       "         'o': 4,\n",
       "         ' ': 2,\n",
       "         'w': 1,\n",
       "         'r': 2,\n",
       "         'd': 2,\n",
       "         's': 1,\n",
       "         '!': 1,\n",
       "         'v': 1,\n",
       "         'y': 2,\n",
       "         'b': 1})"
      ]
     },
     "execution_count": 44,
     "metadata": {},
     "output_type": "execute_result"
    }
   ],
   "source": [
    "data2 = \"hello everybody\"\n",
    "C2 = Counter(data2)\n",
    "C1+C2"
   ]
  },
  {
   "cell_type": "code",
   "execution_count": 47,
   "metadata": {
    "slideshow": {
     "slide_type": "skip"
    }
   },
   "outputs": [
    {
     "data": {
      "text/plain": [
       "Counter({'h': 2,\n",
       "         'e': 4,\n",
       "         'l': 5,\n",
       "         'o': 4,\n",
       "         ' ': 2,\n",
       "         'w': 1,\n",
       "         'r': 2,\n",
       "         'd': 2,\n",
       "         's': 1,\n",
       "         '!': 1,\n",
       "         'v': 1,\n",
       "         'y': 2,\n",
       "         'b': 1})"
      ]
     },
     "execution_count": 47,
     "metadata": {},
     "output_type": "execute_result"
    }
   ],
   "source": [
    "data1 = \"hello worlds!\"\n",
    "C1 = Counter(data1)\n",
    "C1.update(data2)\n",
    "C1"
   ]
  },
  {
   "cell_type": "code",
   "execution_count": 48,
   "metadata": {
    "slideshow": {
     "slide_type": "skip"
    }
   },
   "outputs": [
    {
     "data": {
      "text/plain": [
       "[('l', 5), ('e', 4), ('o', 4)]"
      ]
     },
     "execution_count": 48,
     "metadata": {},
     "output_type": "execute_result"
    }
   ],
   "source": [
    "C1.most_common(3)"
   ]
  },
  {
   "cell_type": "markdown",
   "metadata": {
    "slideshow": {
     "slide_type": "skip"
    }
   },
   "source": [
    "#### defaultdict"
   ]
  },
  {
   "cell_type": "code",
   "execution_count": 49,
   "metadata": {
    "slideshow": {
     "slide_type": "skip"
    }
   },
   "outputs": [
    {
     "data": {
      "text/plain": [
       "defaultdict(int, {1: 4, 2: 3, 3: 2, 4: 1, 5: 1})"
      ]
     },
     "execution_count": 49,
     "metadata": {},
     "output_type": "execute_result"
    }
   ],
   "source": [
    "from collections import defaultdict\n",
    "counter = defaultdict(int)\n",
    "\n",
    "data = [1, 2, 3, 4, 5, 1, 2, 3, 1, 1, 2]\n",
    "\n",
    "for datum in data:\n",
    "    counter[datum] += 1\n",
    "    \n",
    "counter"
   ]
  },
  {
   "cell_type": "code",
   "execution_count": null,
   "metadata": {
    "slideshow": {
     "slide_type": "skip"
    }
   },
   "outputs": [],
   "source": [
    "text = \"this text has some words that starts with the same letter\".split()\n",
    "\n",
    "index = defaultdict(list)\n",
    "\n",
    "for word in text:\n",
    "    initial = word[0]\n",
    "    index[initial].append(word)\n",
    "    \n",
    "index"
   ]
  },
  {
   "cell_type": "code",
   "execution_count": null,
   "metadata": {
    "slideshow": {
     "slide_type": "skip"
    }
   },
   "outputs": [],
   "source": []
  },
  {
   "cell_type": "markdown",
   "metadata": {
    "slideshow": {
     "slide_type": "slide"
    }
   },
   "source": [
    "# IPython\n",
    "\n",
    "the main way we will use to interact with python will be the ipython shell."
   ]
  },
  {
   "attachments": {},
   "cell_type": "markdown",
   "metadata": {
    "slideshow": {
     "slide_type": "slide"
    }
   },
   "source": [
    "#### ipython special pre-commands\n",
    "\n",
    "* `%<magic function>` use magic functions\n",
    "* `%%<cell magic>` use cell magic mode\n",
    "* `!<function>` call system programs (non-interactive)\n",
    "* `/<function>` activate autocalling\n",
    "\n",
    "\n",
    "    /print \"a\"\n",
    "\n",
    "\n",
    "* `,<function>` (comma) activate autocalling and autoquoting (divide by whitespace)\n",
    "* `;<function>` (comma) activate autocalling and autoquoting (ignore whitespaces)\n",
    "\n",
    "\n",
    "    ,my_function a b c    # becomes my_function(\"a\",\"b\",\"c\")\n",
    "    ;my_function a b c    # becomes my_function(\"a b c\")\n",
    "    \n",
    "all of these should be used as the first letter, the only exception being `!`, that can follow the `=` assignment\n",
    "\n",
    "* `?` general help\n",
    "* `<object>?` help of an object\n",
    "* `pattern?` return all the variables in the namespace that follow the pattern"
   ]
  },
  {
   "cell_type": "code",
   "execution_count": 87,
   "metadata": {
    "slideshow": {
     "slide_type": "slide"
    }
   },
   "outputs": [
    {
     "name": "stdout",
     "output_type": "stream",
     "text": [
      "Variable         Type                          Data/Info\n",
      "--------------------------------------------------------\n",
      "NamedTuple       NamedTupleMeta                <class 'typing.NamedTuple'>\n",
      "Particle         type                          <class '__main__.Particle'>\n",
      "Person           type                          <class '__main__.Person'>\n",
      "a                str                           hello world\n",
      "b                str                           2\n",
      "data             list                          n=7\n",
      "datum            str                           world\n",
      "e                float                         2.718281828459045\n",
      "log              builtin_function_or_method    <built-in function log>\n",
      "math             module                        <module 'math' from '/hom<...>36m-x86_64-linux-gnu.so'>\n",
      "max_             int                           6\n",
      "min_             int                           0\n",
      "min_max          function                      <function min_max at 0x7f66401528c8>\n",
      "my_particle      Particle                      <__main__.Particle object at 0x7f662b7e7dd8>\n",
      "namedtuple       function                      <function namedtuple at 0x7f665d969400>\n",
      "np               module                        <module 'numpy' from '/ho<...>kages/numpy/__init__.py'>\n",
      "office_by_name   dict                          n=2\n",
      "person           Person                        Person(age=21, name='Tom')\n",
      "pi               float                         3.141592653589793\n",
      "random           module                        <module 'random' from '/h<...>lib/python3.6/random.py'>\n",
      "step             int                           1\n",
      "take_logarithm   builtin_function_or_method    <built-in function log>\n",
      "text             list                          n=11\n",
      "this             module                        <module 'this' from '/hom<...>3/lib/python3.6/this.py'>\n",
      "x                int                           3\n"
     ]
    }
   ],
   "source": [
    "%whos"
   ]
  },
  {
   "cell_type": "code",
   "execution_count": 89,
   "metadata": {
    "slideshow": {
     "slide_type": "slide"
    }
   },
   "outputs": [
    {
     "name": "stdout",
     "output_type": "stream",
     "text": [
      "Variable   Type    Data/Info\n",
      "----------------------------\n",
      "data       list    n=7\n",
      "text       list    n=11\n"
     ]
    }
   ],
   "source": [
    "%whos list"
   ]
  },
  {
   "cell_type": "code",
   "execution_count": 88,
   "metadata": {
    "slideshow": {
     "slide_type": "fragment"
    }
   },
   "outputs": [
    {
     "data": {
      "text/plain": [
       "['max_', 'min_', 'step', 'x']"
      ]
     },
     "execution_count": 88,
     "metadata": {},
     "output_type": "execute_result"
    }
   ],
   "source": [
    "%who_ls int"
   ]
  },
  {
   "cell_type": "code",
   "execution_count": 91,
   "metadata": {
    "slideshow": {
     "slide_type": "fragment"
    }
   },
   "outputs": [
    {
     "name": "stdout",
     "output_type": "stream",
     "text": [
      "100 ms ± 8.86 µs per loop (mean ± std. dev. of 7 runs, 10 loops each)\n"
     ]
    }
   ],
   "source": [
    "def myfun():\n",
    "    import time\n",
    "    time.sleep(0.1)\n",
    "    \n",
    "%timeit myfun()"
   ]
  }
 ],
 "metadata": {
  "celltoolbar": "Slideshow",
  "kernelspec": {
   "display_name": "Python 3 (ipykernel)",
   "language": "python",
   "name": "python3"
  },
  "language_info": {
   "codemirror_mode": {
    "name": "ipython",
    "version": 3
   },
   "file_extension": ".py",
   "mimetype": "text/x-python",
   "name": "python",
   "nbconvert_exporter": "python",
   "pygments_lexer": "ipython3",
   "version": "3.10.6"
  }
 },
 "nbformat": 4,
 "nbformat_minor": 2
}
