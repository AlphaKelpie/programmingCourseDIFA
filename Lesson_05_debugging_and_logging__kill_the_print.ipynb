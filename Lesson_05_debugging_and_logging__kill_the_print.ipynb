{
 "cells": [
  {
   "cell_type": "markdown",
   "metadata": {
    "slideshow": {
     "slide_type": "slide"
    }
   },
   "source": [
    "# Logging and Debugging\n",
    "\n",
    "This lesson will deal on how to make sure that our code is doing what is supposed to be doing.\n",
    "\n",
    "This is related to testing, but can be viewed as complementary to it"
   ]
  },
  {
   "cell_type": "markdown",
   "metadata": {
    "slideshow": {
     "slide_type": "slide"
    }
   },
   "source": [
    "We will discuss:\n",
    "\n",
    "* debugging\n",
    "* assertions\n",
    "* logging\n",
    "* warnings\n",
    "* linters"
   ]
  },
  {
   "cell_type": "markdown",
   "metadata": {
    "slideshow": {
     "slide_type": "slide"
    }
   },
   "source": [
    "All these tools help us ensure that the program is doing what is supposed to be doing.\n",
    "\n",
    "While tests check that the program logic is correct, these tools helps you check that the program is implementing the operations you think it's doing."
   ]
  },
  {
   "cell_type": "markdown",
   "metadata": {
    "slideshow": {
     "slide_type": "slide"
    }
   },
   "source": [
    "### the logic\n",
    "\n",
    "most of these techniques are necessary to help you understand what you program is *actually* doing, instead of what you think it is supposed to be doing"
   ]
  },
  {
   "cell_type": "markdown",
   "metadata": {
    "slideshow": {
     "slide_type": "slide"
    }
   },
   "source": [
    "## Debugging\n",
    "\n",
    "A debugger is a program that attach itself to yours and monitor it state and allow you to control the execution in real time.\n",
    "\n",
    "It doesn't sound that crazy for python, but consider that the original debuggers were doing it for C programs..."
   ]
  },
  {
   "cell_type": "markdown",
   "metadata": {
    "slideshow": {
     "slide_type": "fragment"
    }
   },
   "source": [
    "What we do when we execute our programs one line at the time from an editor like spyder is basically a manual for of a debugger"
   ]
  },
  {
   "cell_type": "markdown",
   "metadata": {
    "slideshow": {
     "slide_type": "fragment"
    }
   },
   "source": [
    "Python and IPython comes with a basic debugger for the command line, but most programs provide you with more advanced (and easy to use ones).\n",
    "\n",
    "We will discuss the basic ones, but (as usual) just to explain the basic concepts that they use."
   ]
  },
  {
   "cell_type": "markdown",
   "metadata": {
    "slideshow": {
     "slide_type": "slide"
    }
   },
   "source": [
    "The basic operations can be divided in two main categories: \n",
    "\n",
    "* managing the execution\n",
    "* examine and modify the program state"
   ]
  },
  {
   "cell_type": "markdown",
   "metadata": {
    "slideshow": {
     "slide_type": "slide"
    }
   },
   "source": [
    "* **l**(list)\tLists the code at the current position\n",
    "\n",
    "* **w**(here) What is the exact position in the call stack\n",
    "* **n**(ext)\tExecute the next line (does not go down in new functions)\n",
    "* **s**(tep)\tExecute the next statement (goes down in new functions)\n",
    "* **r**(eturn)\tReturn out of a subroutine\n",
    "* **bt**\tPrint the call stack\n",
    "* **p**(rint) <expression>\tprint the result of the expression\n",
    "\n",
    "* **a**\tPrint the local variables\n",
    "* !command\tExecute the given Python command (instead of pdb commands)"
   ]
  },
  {
   "cell_type": "markdown",
   "metadata": {
    "slideshow": {
     "slide_type": "slide"
    }
   },
   "source": [
    "* **u**(p)\tWalk up the call stack\n",
    "* **d**(own)\tWalk down the call stack\n",
    "* **h**(elp)\tShow a list of commands, or find help on a specific command\n",
    "* **q**(uit)\tQuit the debugger and the program\n",
    "* **c**(ontinue)\tQuit the debugger, continue in the program\n",
    "* `<Return>`\tRepeat the previous command\n"
   ]
  },
  {
   "cell_type": "code",
   "execution_count": 1,
   "metadata": {
    "slideshow": {
     "slide_type": "slide"
    }
   },
   "outputs": [
    {
     "name": "stdout",
     "output_type": "stream",
     "text": [
      "Overwriting test.py\n"
     ]
    }
   ],
   "source": [
    "%%file test.py\n",
    "\n",
    "dati = [1, 2, 3, 4]\n",
    "\n",
    "def my_function():\n",
    "    for dato in dati:\n",
    "        print(dati[dato])\n",
    "        \n",
    "my_function()"
   ]
  },
  {
   "cell_type": "code",
   "execution_count": 2,
   "metadata": {
    "slideshow": {
     "slide_type": "slide"
    }
   },
   "outputs": [
    {
     "name": "stdout",
     "output_type": "stream",
     "text": [
      "2\n",
      "3\n",
      "4\n"
     ]
    },
    {
     "ename": "IndexError",
     "evalue": "list index out of range",
     "output_type": "error",
     "traceback": [
      "\u001b[0;31m---------------------------------------------------------------------------\u001b[0m",
      "\u001b[0;31mIndexError\u001b[0m                                Traceback (most recent call last)",
      "\u001b[0;32m~/didattica/corso_programmazione_1819/programmingCourseDIFA/test.py\u001b[0m in \u001b[0;36m<module>\u001b[0;34m\u001b[0m\n\u001b[1;32m      6\u001b[0m         \u001b[0mprint\u001b[0m\u001b[0;34m(\u001b[0m\u001b[0mdati\u001b[0m\u001b[0;34m[\u001b[0m\u001b[0mdato\u001b[0m\u001b[0;34m]\u001b[0m\u001b[0;34m)\u001b[0m\u001b[0;34m\u001b[0m\u001b[0;34m\u001b[0m\u001b[0m\n\u001b[1;32m      7\u001b[0m \u001b[0;34m\u001b[0m\u001b[0m\n\u001b[0;32m----> 8\u001b[0;31m \u001b[0mmy_function\u001b[0m\u001b[0;34m(\u001b[0m\u001b[0;34m)\u001b[0m\u001b[0;34m\u001b[0m\u001b[0;34m\u001b[0m\u001b[0m\n\u001b[0m",
      "\u001b[0;32m~/didattica/corso_programmazione_1819/programmingCourseDIFA/test.py\u001b[0m in \u001b[0;36mmy_function\u001b[0;34m()\u001b[0m\n\u001b[1;32m      4\u001b[0m \u001b[0;32mdef\u001b[0m \u001b[0mmy_function\u001b[0m\u001b[0;34m(\u001b[0m\u001b[0;34m)\u001b[0m\u001b[0;34m:\u001b[0m\u001b[0;34m\u001b[0m\u001b[0;34m\u001b[0m\u001b[0m\n\u001b[1;32m      5\u001b[0m     \u001b[0;32mfor\u001b[0m \u001b[0mdato\u001b[0m \u001b[0;32min\u001b[0m \u001b[0mdati\u001b[0m\u001b[0;34m:\u001b[0m\u001b[0;34m\u001b[0m\u001b[0;34m\u001b[0m\u001b[0m\n\u001b[0;32m----> 6\u001b[0;31m         \u001b[0mprint\u001b[0m\u001b[0;34m(\u001b[0m\u001b[0mdati\u001b[0m\u001b[0;34m[\u001b[0m\u001b[0mdato\u001b[0m\u001b[0;34m]\u001b[0m\u001b[0;34m)\u001b[0m\u001b[0;34m\u001b[0m\u001b[0;34m\u001b[0m\u001b[0m\n\u001b[0m\u001b[1;32m      7\u001b[0m \u001b[0;34m\u001b[0m\u001b[0m\n\u001b[1;32m      8\u001b[0m \u001b[0mmy_function\u001b[0m\u001b[0;34m(\u001b[0m\u001b[0;34m)\u001b[0m\u001b[0;34m\u001b[0m\u001b[0;34m\u001b[0m\u001b[0m\n",
      "\u001b[0;31mIndexError\u001b[0m: list index out of range"
     ]
    }
   ],
   "source": [
    "%run test.py"
   ]
  },
  {
   "cell_type": "code",
   "execution_count": 5,
   "metadata": {
    "slideshow": {
     "slide_type": "slide"
    }
   },
   "outputs": [
    {
     "name": "stdout",
     "output_type": "stream",
     "text": [
      "*** Blank or comment\n",
      "*** Blank or comment\n",
      "NOTE: Enter 'c' at the ipdb>  prompt to continue execution.\n",
      "> \u001b[0;32m/home/enrico/didattica/corso_programmazione_1819/programmingCourseDIFA/test.py\u001b[0m(2)\u001b[0;36m<module>\u001b[0;34m()\u001b[0m\n",
      "\u001b[0;32m      1 \u001b[0;31m\u001b[0;34m\u001b[0m\u001b[0m\n",
      "\u001b[0m\u001b[0;32m----> 2 \u001b[0;31m\u001b[0mdati\u001b[0m \u001b[0;34m=\u001b[0m \u001b[0;34m[\u001b[0m\u001b[0;36m1\u001b[0m\u001b[0;34m,\u001b[0m \u001b[0;36m2\u001b[0m\u001b[0;34m,\u001b[0m \u001b[0;36m3\u001b[0m\u001b[0;34m,\u001b[0m \u001b[0;36m4\u001b[0m\u001b[0;34m]\u001b[0m\u001b[0;34m\u001b[0m\u001b[0;34m\u001b[0m\u001b[0m\n",
      "\u001b[0m\u001b[0;32m      3 \u001b[0;31m\u001b[0;34m\u001b[0m\u001b[0m\n",
      "\u001b[0m\u001b[0;32m      4 \u001b[0;31m\u001b[0;32mdef\u001b[0m \u001b[0mmy_function\u001b[0m\u001b[0;34m(\u001b[0m\u001b[0;34m)\u001b[0m\u001b[0;34m:\u001b[0m\u001b[0;34m\u001b[0m\u001b[0;34m\u001b[0m\u001b[0m\n",
      "\u001b[0m\u001b[0;32m      5 \u001b[0;31m    \u001b[0;32mfor\u001b[0m \u001b[0mdato\u001b[0m \u001b[0;32min\u001b[0m \u001b[0mdati\u001b[0m\u001b[0;34m:\u001b[0m\u001b[0;34m\u001b[0m\u001b[0;34m\u001b[0m\u001b[0m\n",
      "\u001b[0m\n",
      "ipdb> n\n",
      "> \u001b[0;32m/home/enrico/didattica/corso_programmazione_1819/programmingCourseDIFA/test.py\u001b[0m(4)\u001b[0;36m<module>\u001b[0;34m()\u001b[0m\n",
      "\u001b[0;32m      2 \u001b[0;31m\u001b[0mdati\u001b[0m \u001b[0;34m=\u001b[0m \u001b[0;34m[\u001b[0m\u001b[0;36m1\u001b[0m\u001b[0;34m,\u001b[0m \u001b[0;36m2\u001b[0m\u001b[0;34m,\u001b[0m \u001b[0;36m3\u001b[0m\u001b[0;34m,\u001b[0m \u001b[0;36m4\u001b[0m\u001b[0;34m]\u001b[0m\u001b[0;34m\u001b[0m\u001b[0;34m\u001b[0m\u001b[0m\n",
      "\u001b[0m\u001b[0;32m      3 \u001b[0;31m\u001b[0;34m\u001b[0m\u001b[0m\n",
      "\u001b[0m\u001b[0;32m----> 4 \u001b[0;31m\u001b[0;32mdef\u001b[0m \u001b[0mmy_function\u001b[0m\u001b[0;34m(\u001b[0m\u001b[0;34m)\u001b[0m\u001b[0;34m:\u001b[0m\u001b[0;34m\u001b[0m\u001b[0;34m\u001b[0m\u001b[0m\n",
      "\u001b[0m\u001b[0;32m      5 \u001b[0;31m    \u001b[0;32mfor\u001b[0m \u001b[0mdato\u001b[0m \u001b[0;32min\u001b[0m \u001b[0mdati\u001b[0m\u001b[0;34m:\u001b[0m\u001b[0;34m\u001b[0m\u001b[0;34m\u001b[0m\u001b[0m\n",
      "\u001b[0m\u001b[0;32m      6 \u001b[0;31m        \u001b[0mprint\u001b[0m\u001b[0;34m(\u001b[0m\u001b[0mdati\u001b[0m\u001b[0;34m[\u001b[0m\u001b[0mdato\u001b[0m\u001b[0;34m]\u001b[0m\u001b[0;34m)\u001b[0m\u001b[0;34m\u001b[0m\u001b[0;34m\u001b[0m\u001b[0m\n",
      "\u001b[0m\n",
      "ipdb> p dati\n",
      "[1, 2, 3, 4]\n",
      "ipdb> !dati[-1] = 3\n",
      "ipdb> p dati\n",
      "[1, 2, 3, 3]\n",
      "ipdb> c\n",
      "2\n",
      "3\n",
      "3\n",
      "3\n"
     ]
    }
   ],
   "source": [
    "%run -d test.py"
   ]
  },
  {
   "cell_type": "markdown",
   "metadata": {
    "slideshow": {
     "slide_type": "slide"
    }
   },
   "source": [
    "### breakpoints\n",
    "\n",
    "Sometimes we know where the error is likely t be, and would like the program to proceed with the regular execution until some given point.\n",
    "These points are called **breakpoints**, and allow for a smoother debugging experience"
   ]
  },
  {
   "cell_type": "markdown",
   "metadata": {
    "slideshow": {
     "slide_type": "fragment"
    }
   },
   "source": [
    "Since Python 3.7 there’s a built-in `breakpoint()` function that calls the configured debugger. \n",
    "\n",
    "Just place `breakpoint()` anywhere in the code to get into the debugger shell.\n",
    "\n",
    "Additionally, if you want to run a python script and ignore all `breakpoint()` calls in the code it’s possible to do so by setting the environment variable PYTHONBREAKPOINT=0"
   ]
  },
  {
   "cell_type": "code",
   "execution_count": 1,
   "metadata": {
    "slideshow": {
     "slide_type": "slide"
    }
   },
   "outputs": [
    {
     "name": "stdout",
     "output_type": "stream",
     "text": [
      "Writing test.py\n"
     ]
    }
   ],
   "source": [
    "%%file test.py\n",
    "\n",
    "dati = [1, 2, 3, 4]\n",
    "\n",
    "def my_function():\n",
    "    breakpoint()\n",
    "    for dato in dati:\n",
    "        print(dati[dato])\n",
    "        \n",
    "my_function()"
   ]
  },
  {
   "cell_type": "code",
   "execution_count": 3,
   "metadata": {
    "slideshow": {
     "slide_type": "slide"
    }
   },
   "outputs": [
    {
     "name": "stdout",
     "output_type": "stream",
     "text": [
      "> c:\\users\\enrico\\documents\\didattica\\programmingcoursedifa\\test.py(6)my_function()\n",
      "-> for dato in dati:\n",
      "(Pdb) l\n",
      "  1  \t\n",
      "  2  \tdati = [1, 2, 3, 4]\n",
      "  3  \t\n",
      "  4  \tdef my_function():\n",
      "  5  \t    breakpoint()\n",
      "  6  ->\t    for dato in dati:\n",
      "  7  \t        print(dati[dato])\n",
      "  8  \t\n",
      "  9  \tmy_function()\n",
      "[EOF]\n",
      "(Pdb) a dati\n",
      "(Pdb) p dati\n",
      "[1, 2, 3, 4]\n",
      "(Pdb) q\n"
     ]
    },
    {
     "ename": "BdbQuit",
     "evalue": "",
     "output_type": "error",
     "traceback": [
      "\u001b[1;31m---------------------------------------------------------------------------\u001b[0m",
      "\u001b[1;31mBdbQuit\u001b[0m                                   Traceback (most recent call last)",
      "\u001b[1;32m~\\Documents\\didattica\\programmingCourseDIFA\\test.py\u001b[0m in \u001b[0;36m<module>\u001b[1;34m\u001b[0m\n\u001b[0;32m      7\u001b[0m         \u001b[0mprint\u001b[0m\u001b[1;33m(\u001b[0m\u001b[0mdati\u001b[0m\u001b[1;33m[\u001b[0m\u001b[0mdato\u001b[0m\u001b[1;33m]\u001b[0m\u001b[1;33m)\u001b[0m\u001b[1;33m\u001b[0m\u001b[1;33m\u001b[0m\u001b[0m\n\u001b[0;32m      8\u001b[0m \u001b[1;33m\u001b[0m\u001b[0m\n\u001b[1;32m----> 9\u001b[1;33m \u001b[0mmy_function\u001b[0m\u001b[1;33m(\u001b[0m\u001b[1;33m)\u001b[0m\u001b[1;33m\u001b[0m\u001b[1;33m\u001b[0m\u001b[0m\n\u001b[0m",
      "\u001b[1;32m~\\Documents\\didattica\\programmingCourseDIFA\\test.py\u001b[0m in \u001b[0;36mmy_function\u001b[1;34m()\u001b[0m\n\u001b[0;32m      4\u001b[0m \u001b[1;32mdef\u001b[0m \u001b[0mmy_function\u001b[0m\u001b[1;33m(\u001b[0m\u001b[1;33m)\u001b[0m\u001b[1;33m:\u001b[0m\u001b[1;33m\u001b[0m\u001b[1;33m\u001b[0m\u001b[0m\n\u001b[0;32m      5\u001b[0m     \u001b[0mbreakpoint\u001b[0m\u001b[1;33m(\u001b[0m\u001b[1;33m)\u001b[0m\u001b[1;33m\u001b[0m\u001b[1;33m\u001b[0m\u001b[0m\n\u001b[1;32m----> 6\u001b[1;33m     \u001b[1;32mfor\u001b[0m \u001b[0mdato\u001b[0m \u001b[1;32min\u001b[0m \u001b[0mdati\u001b[0m\u001b[1;33m:\u001b[0m\u001b[1;33m\u001b[0m\u001b[1;33m\u001b[0m\u001b[0m\n\u001b[0m\u001b[0;32m      7\u001b[0m         \u001b[0mprint\u001b[0m\u001b[1;33m(\u001b[0m\u001b[0mdati\u001b[0m\u001b[1;33m[\u001b[0m\u001b[0mdato\u001b[0m\u001b[1;33m]\u001b[0m\u001b[1;33m)\u001b[0m\u001b[1;33m\u001b[0m\u001b[1;33m\u001b[0m\u001b[0m\n\u001b[0;32m      8\u001b[0m \u001b[1;33m\u001b[0m\u001b[0m\n",
      "\u001b[1;32m~\\Documents\\didattica\\programmingCourseDIFA\\test.py\u001b[0m in \u001b[0;36mmy_function\u001b[1;34m()\u001b[0m\n\u001b[0;32m      4\u001b[0m \u001b[1;32mdef\u001b[0m \u001b[0mmy_function\u001b[0m\u001b[1;33m(\u001b[0m\u001b[1;33m)\u001b[0m\u001b[1;33m:\u001b[0m\u001b[1;33m\u001b[0m\u001b[1;33m\u001b[0m\u001b[0m\n\u001b[0;32m      5\u001b[0m     \u001b[0mbreakpoint\u001b[0m\u001b[1;33m(\u001b[0m\u001b[1;33m)\u001b[0m\u001b[1;33m\u001b[0m\u001b[1;33m\u001b[0m\u001b[0m\n\u001b[1;32m----> 6\u001b[1;33m     \u001b[1;32mfor\u001b[0m \u001b[0mdato\u001b[0m \u001b[1;32min\u001b[0m \u001b[0mdati\u001b[0m\u001b[1;33m:\u001b[0m\u001b[1;33m\u001b[0m\u001b[1;33m\u001b[0m\u001b[0m\n\u001b[0m\u001b[0;32m      7\u001b[0m         \u001b[0mprint\u001b[0m\u001b[1;33m(\u001b[0m\u001b[0mdati\u001b[0m\u001b[1;33m[\u001b[0m\u001b[0mdato\u001b[0m\u001b[1;33m]\u001b[0m\u001b[1;33m)\u001b[0m\u001b[1;33m\u001b[0m\u001b[1;33m\u001b[0m\u001b[0m\n\u001b[0;32m      8\u001b[0m \u001b[1;33m\u001b[0m\u001b[0m\n",
      "\u001b[1;32m~\\Miniconda3\\lib\\bdb.py\u001b[0m in \u001b[0;36mtrace_dispatch\u001b[1;34m(self, frame, event, arg)\u001b[0m\n\u001b[0;32m     86\u001b[0m             \u001b[1;32mreturn\u001b[0m \u001b[1;31m# None\u001b[0m\u001b[1;33m\u001b[0m\u001b[1;33m\u001b[0m\u001b[0m\n\u001b[0;32m     87\u001b[0m         \u001b[1;32mif\u001b[0m \u001b[0mevent\u001b[0m \u001b[1;33m==\u001b[0m \u001b[1;34m'line'\u001b[0m\u001b[1;33m:\u001b[0m\u001b[1;33m\u001b[0m\u001b[1;33m\u001b[0m\u001b[0m\n\u001b[1;32m---> 88\u001b[1;33m             \u001b[1;32mreturn\u001b[0m \u001b[0mself\u001b[0m\u001b[1;33m.\u001b[0m\u001b[0mdispatch_line\u001b[0m\u001b[1;33m(\u001b[0m\u001b[0mframe\u001b[0m\u001b[1;33m)\u001b[0m\u001b[1;33m\u001b[0m\u001b[1;33m\u001b[0m\u001b[0m\n\u001b[0m\u001b[0;32m     89\u001b[0m         \u001b[1;32mif\u001b[0m \u001b[0mevent\u001b[0m \u001b[1;33m==\u001b[0m \u001b[1;34m'call'\u001b[0m\u001b[1;33m:\u001b[0m\u001b[1;33m\u001b[0m\u001b[1;33m\u001b[0m\u001b[0m\n\u001b[0;32m     90\u001b[0m             \u001b[1;32mreturn\u001b[0m \u001b[0mself\u001b[0m\u001b[1;33m.\u001b[0m\u001b[0mdispatch_call\u001b[0m\u001b[1;33m(\u001b[0m\u001b[0mframe\u001b[0m\u001b[1;33m,\u001b[0m \u001b[0marg\u001b[0m\u001b[1;33m)\u001b[0m\u001b[1;33m\u001b[0m\u001b[1;33m\u001b[0m\u001b[0m\n",
      "\u001b[1;32m~\\Miniconda3\\lib\\bdb.py\u001b[0m in \u001b[0;36mdispatch_line\u001b[1;34m(self, frame)\u001b[0m\n\u001b[0;32m    111\u001b[0m         \u001b[1;32mif\u001b[0m \u001b[0mself\u001b[0m\u001b[1;33m.\u001b[0m\u001b[0mstop_here\u001b[0m\u001b[1;33m(\u001b[0m\u001b[0mframe\u001b[0m\u001b[1;33m)\u001b[0m \u001b[1;32mor\u001b[0m \u001b[0mself\u001b[0m\u001b[1;33m.\u001b[0m\u001b[0mbreak_here\u001b[0m\u001b[1;33m(\u001b[0m\u001b[0mframe\u001b[0m\u001b[1;33m)\u001b[0m\u001b[1;33m:\u001b[0m\u001b[1;33m\u001b[0m\u001b[1;33m\u001b[0m\u001b[0m\n\u001b[0;32m    112\u001b[0m             \u001b[0mself\u001b[0m\u001b[1;33m.\u001b[0m\u001b[0muser_line\u001b[0m\u001b[1;33m(\u001b[0m\u001b[0mframe\u001b[0m\u001b[1;33m)\u001b[0m\u001b[1;33m\u001b[0m\u001b[1;33m\u001b[0m\u001b[0m\n\u001b[1;32m--> 113\u001b[1;33m             \u001b[1;32mif\u001b[0m \u001b[0mself\u001b[0m\u001b[1;33m.\u001b[0m\u001b[0mquitting\u001b[0m\u001b[1;33m:\u001b[0m \u001b[1;32mraise\u001b[0m \u001b[0mBdbQuit\u001b[0m\u001b[1;33m\u001b[0m\u001b[1;33m\u001b[0m\u001b[0m\n\u001b[0m\u001b[0;32m    114\u001b[0m         \u001b[1;32mreturn\u001b[0m \u001b[0mself\u001b[0m\u001b[1;33m.\u001b[0m\u001b[0mtrace_dispatch\u001b[0m\u001b[1;33m\u001b[0m\u001b[1;33m\u001b[0m\u001b[0m\n\u001b[0;32m    115\u001b[0m \u001b[1;33m\u001b[0m\u001b[0m\n",
      "\u001b[1;31mBdbQuit\u001b[0m: "
     ]
    }
   ],
   "source": [
    "%run test.py"
   ]
  },
  {
   "cell_type": "markdown",
   "metadata": {
    "slideshow": {
     "slide_type": "slide"
    }
   },
   "source": [
    "## Assertions\n",
    "\n",
    "they are useful to express your expectations about the code"
   ]
  },
  {
   "cell_type": "code",
   "execution_count": 2,
   "metadata": {
    "slideshow": {
     "slide_type": "slide"
    }
   },
   "outputs": [
    {
     "ename": "AssertionError",
     "evalue": "I was not expecting that",
     "output_type": "error",
     "traceback": [
      "\u001b[0;31m---------------------------------------------------------------------------\u001b[0m",
      "\u001b[0;31mAssertionError\u001b[0m                            Traceback (most recent call last)",
      "\u001b[0;32m<ipython-input-2-54e203d14fc0>\u001b[0m in \u001b[0;36m<module>\u001b[0;34m()\u001b[0m\n\u001b[0;32m----> 1\u001b[0;31m \u001b[0;32massert\u001b[0m \u001b[0;36m1\u001b[0m\u001b[0;34m==\u001b[0m\u001b[0;36m0\u001b[0m\u001b[0;34m,\u001b[0m \u001b[0;34m\"I was not expecting that\"\u001b[0m\u001b[0;34m\u001b[0m\u001b[0m\n\u001b[0m",
      "\u001b[0;31mAssertionError\u001b[0m: I was not expecting that"
     ]
    }
   ],
   "source": [
    "assert 1==0, \"I was not expecting that\""
   ]
  },
  {
   "cell_type": "markdown",
   "metadata": {
    "slideshow": {
     "slide_type": "slide"
    }
   },
   "source": [
    "but don't rely on it, as they can be removed from the execution by using the flag `-O` (Optimize) when calling the python interpreter."
   ]
  },
  {
   "cell_type": "markdown",
   "metadata": {
    "slideshow": {
     "slide_type": "fragment"
    }
   },
   "source": [
    "A common mistake is to use assertions to check the inputs of a function.\n",
    "this is an improper use of the assert, both due to the fact that it can't be relied and that they are not providing discrimintive and informative errors to the user. "
   ]
  },
  {
   "cell_type": "markdown",
   "metadata": {
    "slideshow": {
     "slide_type": "slide"
    }
   },
   "source": [
    "they should be used for testing for sure, but in normal code they have only one real use: express invariant of your code (think back about property testing).\n",
    "\n",
    "They express in code that some characteristics of the code **has to** be valid, or something has gone very very wrong.\n",
    "\n",
    "```python\n",
    "def my_smart_sort(sequence):\n",
    "    # some sorting code\n",
    "    sorted_sequence = someting(partial_result)\n",
    "    # the resulting sequence has the same lenght of the original one or someting is wrong\n",
    "    assert len(sorted_sequence) == len(sequence)\n",
    "    return sorted_sequence\n",
    "```"
   ]
  },
  {
   "cell_type": "markdown",
   "metadata": {
    "slideshow": {
     "slide_type": "slide"
    }
   },
   "source": [
    "you can look at asserts as a stronger form of comments: comments can potentially go out of snc with your code, while assert can't, so they can communicate to the programmer reading the function with a higher degree of confidence."
   ]
  },
  {
   "cell_type": "markdown",
   "metadata": {
    "slideshow": {
     "slide_type": "slide"
    }
   },
   "source": [
    "asserts are a little fidgety, and there a couple of ways of making their use more \"humane\"\n",
    "\n",
    "the main problem with asserts is that unless one does a good job at using the return string, they will be completely obscure as a reason for an error"
   ]
  },
  {
   "cell_type": "code",
   "execution_count": 4,
   "metadata": {
    "slideshow": {
     "slide_type": "slide"
    }
   },
   "outputs": [
    {
     "ename": "AssertionError",
     "evalue": "",
     "output_type": "error",
     "traceback": [
      "\u001b[0;31m---------------------------------------------------------------------------\u001b[0m",
      "\u001b[0;31mAssertionError\u001b[0m                            Traceback (most recent call last)",
      "Input \u001b[0;32mIn [4]\u001b[0m, in \u001b[0;36m<cell line: 3>\u001b[0;34m()\u001b[0m\n\u001b[1;32m      1\u001b[0m observed \u001b[38;5;241m=\u001b[39m \u001b[38;5;241m3\u001b[39m\n\u001b[1;32m      2\u001b[0m expected \u001b[38;5;241m=\u001b[39m \u001b[38;5;241m4\u001b[39m\n\u001b[0;32m----> 3\u001b[0m \u001b[38;5;28;01massert\u001b[39;00m observed \u001b[38;5;241m==\u001b[39m expected\n",
      "\u001b[0;31mAssertionError\u001b[0m: "
     ]
    }
   ],
   "source": [
    "observed = 3\n",
    "expected = 4\n",
    "assert observed == expected"
   ]
  },
  {
   "cell_type": "markdown",
   "metadata": {
    "slideshow": {
     "slide_type": "slide"
    }
   },
   "source": [
    "first of all, one can write a longer error message by wrapping the string between parenthesis.\n",
    "\n",
    "**IMPORTANT:** do not wrap the whole expression in parenthesis, or it will always pass!\n",
    "\n",
    "WRONG, always passes! (but in modern python will raise a warning)\n",
    "\n",
    "```python\n",
    "assert (observed == expected, \"they are different\")\n",
    "```\n",
    "\n",
    "CORRECT (but **do not** separate the strings with commas):\n",
    "\n",
    "```python\n",
    "assert observed == expected, (\n",
    "    \"they are different\"\n",
    "    \"and I can write a string as long as I please\"\n",
    ")\n",
    "```"
   ]
  },
  {
   "cell_type": "markdown",
   "metadata": {
    "slideshow": {
     "slide_type": "slide"
    }
   },
   "source": [
    "Second, one can use modern string formatting (`f-strings`) to obtain informative formatting for low cost.\n",
    "\n",
    "here we use two special capabilities of the f-strings:\n",
    "* `{x=}` will print the string `\"x=<value of the variable x>\"`\n",
    "* `{x!r}` will print the representation of the value using the `repr` function, that allows for example to distinguish between numbers and string when printed"
   ]
  },
  {
   "cell_type": "code",
   "execution_count": 7,
   "metadata": {
    "slideshow": {
     "slide_type": "fragment"
    }
   },
   "outputs": [
    {
     "ename": "AssertionError",
     "evalue": "observed=3 different from expected='3'",
     "output_type": "error",
     "traceback": [
      "\u001b[0;31m---------------------------------------------------------------------------\u001b[0m",
      "\u001b[0;31mAssertionError\u001b[0m                            Traceback (most recent call last)",
      "Input \u001b[0;32mIn [7]\u001b[0m, in \u001b[0;36m<cell line: 3>\u001b[0;34m()\u001b[0m\n\u001b[1;32m      1\u001b[0m observed \u001b[38;5;241m=\u001b[39m \u001b[38;5;241m3\u001b[39m\n\u001b[1;32m      2\u001b[0m expected \u001b[38;5;241m=\u001b[39m \u001b[38;5;124m'\u001b[39m\u001b[38;5;124m3\u001b[39m\u001b[38;5;124m'\u001b[39m\n\u001b[0;32m----> 3\u001b[0m \u001b[38;5;28;01massert\u001b[39;00m observed \u001b[38;5;241m==\u001b[39m expected, (\n\u001b[1;32m      4\u001b[0m     \u001b[38;5;124mf\u001b[39m\u001b[38;5;124m\"\u001b[39m\u001b[38;5;132;01m{\u001b[39;00mobserved\u001b[38;5;132;01m=!r}\u001b[39;00m\u001b[38;5;124m different from \u001b[39m\u001b[38;5;132;01m{\u001b[39;00mexpected\u001b[38;5;132;01m=!r}\u001b[39;00m\u001b[38;5;124m\"\u001b[39m\n\u001b[1;32m      5\u001b[0m )\n",
      "\u001b[0;31mAssertionError\u001b[0m: observed=3 different from expected='3'"
     ]
    }
   ],
   "source": [
    "observed = 3\n",
    "expected = '3'\n",
    "assert observed == expected, (\n",
    "    f\"{observed=!r} different from {expected=!r}\"\n",
    ")"
   ]
  },
  {
   "cell_type": "markdown",
   "metadata": {
    "slideshow": {
     "slide_type": "slide"
    }
   },
   "source": [
    "Third and last, similarly to testing, consider using helper functions to express more clearly what the assert is checking for.\n",
    "\n",
    "It will be shorter to write and easier to read (and will force you to think a bit more about what you are doing\n",
    "\n",
    "this is opaque to understand\n",
    "```python\n",
    "mylist = [1, 2, 3]\n",
    "assert all(type(i)==type(mylist[0]) for i in mylist)\n",
    "```\n",
    "\n",
    "compare to this:\n",
    "\n",
    "```python\n",
    "def all_elements_are_same_type(iterable):\n",
    "    return all(type(i)==type(iterable[0]) for i in iterable)\n",
    "\n",
    "mylist = [1, 2, 3]\n",
    "assert all_elements_are_same_type(mylist)\n",
    "```\n",
    "\n",
    "this is better:\n",
    "* easier to undestand\n",
    "* less prone to error\n",
    "* easier to reuse in your code\n",
    "* easier to change the implementation\n"
   ]
  },
  {
   "cell_type": "markdown",
   "metadata": {
    "slideshow": {
     "slide_type": "slide"
    }
   },
   "source": [
    "the only limitation of this approach is that one still have to write their one error string, and cannot trivially generate it while performing the test.\n",
    "\n",
    "there is a solution, albeit exotic, and that require implementing objects.\n",
    "\n",
    "I'll leave a simple implementation if you feel like taking a look at it\n",
    "\n",
    "I'm not sure if it would be worth for anything less than a full fledged program that also requires not using any other external library.\n",
    "\n",
    "it does have the advantage that, same as the code for general expressions, perform basically no computation if the `assert` are removed..."
   ]
  },
  {
   "cell_type": "code",
   "execution_count": 11,
   "metadata": {
    "slideshow": {
     "slide_type": "slide"
    }
   },
   "outputs": [
    {
     "ename": "AssertionError",
     "evalue": "the tested iterable [1, 2, '3'] has different types: Counter({<class 'int'>: 2, <class 'str'>: 1})",
     "output_type": "error",
     "traceback": [
      "\u001b[0;31m---------------------------------------------------------------------------\u001b[0m",
      "\u001b[0;31mAssertionError\u001b[0m                            Traceback (most recent call last)",
      "Input \u001b[0;32mIn [11]\u001b[0m, in \u001b[0;36m<cell line: 20>\u001b[0;34m()\u001b[0m\n\u001b[1;32m     18\u001b[0m mylist \u001b[38;5;241m=\u001b[39m [\u001b[38;5;241m1\u001b[39m, \u001b[38;5;241m2\u001b[39m, \u001b[38;5;124m'\u001b[39m\u001b[38;5;124m3\u001b[39m\u001b[38;5;124m'\u001b[39m]\n\u001b[1;32m     19\u001b[0m test \u001b[38;5;241m=\u001b[39m All_elements_are_same_type(mylist)\n\u001b[0;32m---> 20\u001b[0m \u001b[38;5;28;01massert\u001b[39;00m test\u001b[38;5;241m.\u001b[39mtest(), test\u001b[38;5;241m.\u001b[39merror_message()\n",
      "\u001b[0;31mAssertionError\u001b[0m: the tested iterable [1, 2, '3'] has different types: Counter({<class 'int'>: 2, <class 'str'>: 1})"
     ]
    }
   ],
   "source": [
    "from collections import Counter\n",
    "\n",
    "class All_elements_are_same_type:\n",
    "    def __init__(self, *args, **kwargs):\n",
    "        self.args = args\n",
    "        self.kwargs = kwargs\n",
    "    \n",
    "    def test(self):\n",
    "        iterable = self.args[0]\n",
    "        result = all(type(i)==type(iterable[0]) for i in iterable)\n",
    "        return result\n",
    "    \n",
    "    def error_message(self):\n",
    "        iterable = self.args[0]\n",
    "        types = Counter(type(i) for i in iterable)\n",
    "        return f\"the tested iterable {iterable!r} has different types: {types}\"\n",
    "    \n",
    "mylist = [1, 2, '3']\n",
    "test = All_elements_are_same_type(mylist)\n",
    "assert test.test(), test.error_message()"
   ]
  },
  {
   "cell_type": "markdown",
   "metadata": {
    "slideshow": {
     "slide_type": "slide"
    }
   },
   "source": [
    "## Logging\n",
    "\n",
    "When you execute your code and print the internal state of the program to check that is working properly, that is a rudimentary form of logging.\n",
    "\n",
    "Printing the state of your program works fine as long as your program is simple and the amount of state is small.\n",
    "\n",
    "For anything more complicated, you need to use a logging system."
   ]
  },
  {
   "cell_type": "markdown",
   "metadata": {
    "slideshow": {
     "slide_type": "fragment"
    }
   },
   "source": [
    "The basic idea of a logging system is to standardize how and what gets written on a file"
   ]
  },
  {
   "cell_type": "code",
   "execution_count": 54,
   "metadata": {
    "slideshow": {
     "slide_type": "slide"
    }
   },
   "outputs": [
    {
     "name": "stderr",
     "output_type": "stream",
     "text": [
      "WARNING:root:This is a warning message\n",
      "ERROR:root:This is an error message\n",
      "CRITICAL:root:This is a critical message\n"
     ]
    }
   ],
   "source": [
    "import logging\n",
    "\n",
    "logging.basicConfig(level=logging.WARNING)\n",
    "\n",
    "logging.debug('This is a debug message')\n",
    "logging.info('This is an info message')\n",
    "logging.warning('This is a warning message')\n",
    "logging.error('This is an error message')\n",
    "logging.critical('This is a critical message')"
   ]
  },
  {
   "cell_type": "code",
   "execution_count": null,
   "metadata": {
    "slideshow": {
     "slide_type": "fragment"
    }
   },
   "outputs": [],
   "source": [
    "logging.basicConfig(filename='app.log', filemode='w',\n",
    "                    format='%(name)s - %(levelname)s - %(message)s')"
   ]
  },
  {
   "cell_type": "markdown",
   "metadata": {
    "slideshow": {
     "slide_type": "slide"
    }
   },
   "source": [
    "if you need a simple timer with decent time formatting, you can use this one:"
   ]
  },
  {
   "cell_type": "code",
   "execution_count": 56,
   "metadata": {
    "slideshow": {
     "slide_type": "fragment"
    }
   },
   "outputs": [
    {
     "name": "stderr",
     "output_type": "stream",
     "text": [
      "WARNING:root:test run, started: 2022-03-23 17:12:48.767673, ended: 2022-03-23 17:12:50.769854, ellapsed: 0:00:02.002181\n"
     ]
    }
   ],
   "source": [
    "from contextlib import contextmanager\n",
    "from datetime import datetime\n",
    "\n",
    "@contextmanager\n",
    "def Timer(description):\n",
    "    start = datetime.now()\n",
    "    try:\n",
    "        yield\n",
    "    finally:\n",
    "        end = datetime.now()\n",
    "        timedelta = end-start\n",
    "        message = f\"{description}, started: {start}, ended: {end}, ellapsed: {timedelta}\"\n",
    "        logging.warning(message)\n",
    "        \n",
    "with Timer(\"test run\"):\n",
    "    import time\n",
    "    time.sleep(2)"
   ]
  },
  {
   "cell_type": "markdown",
   "metadata": {
    "slideshow": {
     "slide_type": "slide"
    }
   },
   "source": [
    "A better library is called **eliot**, that allows for a more structured logging instead of just printing to stderr"
   ]
  },
  {
   "cell_type": "code",
   "execution_count": 41,
   "metadata": {
    "slideshow": {
     "slide_type": "slide"
    }
   },
   "outputs": [
    {
     "name": "stdout",
     "output_type": "stream",
     "text": [
      "Overwriting test.py\n"
     ]
    }
   ],
   "source": [
    "%%file test.py\n",
    "\n",
    "from eliot import start_action, to_file, log_message, log_call, start_task\n",
    "to_file(open(\"test.log\", \"w\"))\n",
    "\n",
    "@log_call\n",
    "def myfunction(value):\n",
    "    result = 1/value\n",
    "    log_message(\"during operation\", vars=locals())\n",
    "    return result\n",
    "\n",
    "with start_task(action_type=\"processing numbers\"):\n",
    "    for number in [4, 1, 0, 2, 4]:\n",
    "        with start_action(action_type=\"start evaluation\", number=number):\n",
    "            point = number *2\n",
    "            total = sum(i for i in range(point))\n",
    "            with start_action(action_type=\"inside evaluation\", total=total):\n",
    "                result = myfunction(total)\n"
   ]
  },
  {
   "cell_type": "code",
   "execution_count": 42,
   "metadata": {
    "slideshow": {
     "slide_type": "slide"
    }
   },
   "outputs": [
    {
     "ename": "ZeroDivisionError",
     "evalue": "division by zero",
     "output_type": "error",
     "traceback": [
      "\u001b[0;31m---------------------------------------------------------------------------\u001b[0m",
      "\u001b[0;31mZeroDivisionError\u001b[0m                         Traceback (most recent call last)",
      "File \u001b[0;32m~/didattica/programmingCourseDIFA_repo/master/test.py:17\u001b[0m, in \u001b[0;36m<module>\u001b[0;34m\u001b[0m\n\u001b[1;32m     15\u001b[0m total \u001b[38;5;241m=\u001b[39m \u001b[38;5;28msum\u001b[39m(i \u001b[38;5;28;01mfor\u001b[39;00m i \u001b[38;5;129;01min\u001b[39;00m \u001b[38;5;28mrange\u001b[39m(point))\n\u001b[1;32m     16\u001b[0m \u001b[38;5;28;01mwith\u001b[39;00m start_action(action_type\u001b[38;5;241m=\u001b[39m\u001b[38;5;124m\"\u001b[39m\u001b[38;5;124minside evaluation\u001b[39m\u001b[38;5;124m\"\u001b[39m, total\u001b[38;5;241m=\u001b[39mtotal):\n\u001b[0;32m---> 17\u001b[0m     result \u001b[38;5;241m=\u001b[39m \u001b[43mmyfunction\u001b[49m\u001b[43m(\u001b[49m\u001b[43mtotal\u001b[49m\u001b[43m)\u001b[49m\n",
      "File \u001b[0;32m<boltons.funcutils.FunctionBuilder-8>:2\u001b[0m, in \u001b[0;36mmyfunction\u001b[0;34m(value)\u001b[0m\n",
      "File \u001b[0;32m/home/storage/miniconda3/lib/python3.9/site-packages/eliot/_action.py:943\u001b[0m, in \u001b[0;36mlog_call.<locals>.logging_wrapper\u001b[0;34m(*args, **kwargs)\u001b[0m\n\u001b[1;32m    940\u001b[0m     callargs \u001b[38;5;241m=\u001b[39m {k: callargs[k] \u001b[38;5;28;01mfor\u001b[39;00m k \u001b[38;5;129;01min\u001b[39;00m include_args}\n\u001b[1;32m    942\u001b[0m \u001b[38;5;28;01mwith\u001b[39;00m start_action(action_type\u001b[38;5;241m=\u001b[39maction_type, \u001b[38;5;241m*\u001b[39m\u001b[38;5;241m*\u001b[39mcallargs) \u001b[38;5;28;01mas\u001b[39;00m ctx:\n\u001b[0;32m--> 943\u001b[0m     result \u001b[38;5;241m=\u001b[39m \u001b[43mwrapped_function\u001b[49m\u001b[43m(\u001b[49m\u001b[38;5;241;43m*\u001b[39;49m\u001b[43margs\u001b[49m\u001b[43m,\u001b[49m\u001b[43m \u001b[49m\u001b[38;5;241;43m*\u001b[39;49m\u001b[38;5;241;43m*\u001b[39;49m\u001b[43mkwargs\u001b[49m\u001b[43m)\u001b[49m\n\u001b[1;32m    944\u001b[0m     \u001b[38;5;28;01mif\u001b[39;00m include_result:\n\u001b[1;32m    945\u001b[0m         ctx\u001b[38;5;241m.\u001b[39madd_success_fields(result\u001b[38;5;241m=\u001b[39mresult)\n",
      "File \u001b[0;32m~/didattica/programmingCourseDIFA_repo/master/test.py:7\u001b[0m, in \u001b[0;36mmyfunction\u001b[0;34m(value)\u001b[0m\n\u001b[1;32m      5\u001b[0m \u001b[38;5;129m@log_call\u001b[39m\n\u001b[1;32m      6\u001b[0m \u001b[38;5;28;01mdef\u001b[39;00m \u001b[38;5;21mmyfunction\u001b[39m(value):\n\u001b[0;32m----> 7\u001b[0m     result \u001b[38;5;241m=\u001b[39m \u001b[38;5;241;43m1\u001b[39;49m\u001b[38;5;241;43m/\u001b[39;49m\u001b[43mvalue\u001b[49m\n\u001b[1;32m      8\u001b[0m     log_message(\u001b[38;5;124m\"\u001b[39m\u001b[38;5;124mduring operation\u001b[39m\u001b[38;5;124m\"\u001b[39m, \u001b[38;5;28mvars\u001b[39m\u001b[38;5;241m=\u001b[39m\u001b[38;5;28mlocals\u001b[39m())\n\u001b[1;32m      9\u001b[0m     \u001b[38;5;28;01mreturn\u001b[39;00m result\n",
      "\u001b[0;31mZeroDivisionError\u001b[0m: division by zero"
     ]
    }
   ],
   "source": [
    "!rm test.log\n",
    "%run test.py"
   ]
  },
  {
   "cell_type": "code",
   "execution_count": 43,
   "metadata": {
    "slideshow": {
     "slide_type": "slide"
    }
   },
   "outputs": [
    {
     "name": "stdout",
     "output_type": "stream",
     "text": [
      "\u001b[1m\u001b[37m8414afd7-131d-448f-8db0-b0188c00aca0\u001b[0m\r\n",
      "└── \u001b[35mprocessing numbers\u001b[0m/1 ⇒ \u001b[31mstarted\u001b[0m \u001b[2m\u001b[37m2022-03-23 15:54:47\u001b[0m ⧖ \u001b[2m\u001b[34m0.015s\u001b[0m\r\n",
      "    ├── \u001b[35mstart evaluation\u001b[0m/2/1 ⇒ \u001b[32mstarted\u001b[0m \u001b[2m\u001b[37m2022-03-23 15:54:47\u001b[0m ⧖ \u001b[2m\u001b[34m0.004s\u001b[0m\r\n",
      "    │   ├── \u001b[34mnumber\u001b[0m: 4\r\n",
      "    │   ├── \u001b[35minside evaluation\u001b[0m/2/2/1 ⇒ \u001b[32mstarted\u001b[0m \u001b[2m\u001b[37m2022-03-23 15:54:47\u001b[0m ⧖ \u001b[2m\u001b[34m0.003s\u001b[0m\r\n",
      "    │   │   ├── \u001b[34mtotal\u001b[0m: 28\r\n",
      "    │   │   ├── \u001b[35m__main__.myfunction\u001b[0m/2/2/2/1 ⇒ \u001b[32mstarted\u001b[0m \u001b[2m\u001b[37m2022-03-23 15:54:47\u001b[0m ⧖ \u001b[2m\u001b[34m0.001s\u001b[0m\r\n",
      "    │   │   │   ├── \u001b[34mvalue\u001b[0m: 28\r\n",
      "    │   │   │   ├── \u001b[35mduring operation\u001b[0m/2/2/2/2 \u001b[2m\u001b[37m2022-03-23 15:54:47\u001b[0m\r\n",
      "    │   │   │   │   └── \u001b[34mvars\u001b[0m: \r\n",
      "    │   │   │   │       ├── \u001b[34mresult\u001b[0m: 0.03571428571428571\r\n",
      "    │   │   │   │       └── \u001b[34mvalue\u001b[0m: 28\r\n",
      "    │   │   │   └── \u001b[35m__main__.myfunction\u001b[0m/2/2/2/3 ⇒ \u001b[32msucceeded\u001b[0m \u001b[2m\u001b[37m2022-03-23 15:54:47\u001b[0m\r\n",
      "    │   │   │       └── \u001b[34mresult\u001b[0m: 0.03571428571428571\r\n",
      "    │   │   └── \u001b[35minside evaluation\u001b[0m/2/2/3 ⇒ \u001b[32msucceeded\u001b[0m \u001b[2m\u001b[37m2022-03-23 15:54:47\u001b[0m\r\n",
      "    │   └── \u001b[35mstart evaluation\u001b[0m/2/3 ⇒ \u001b[32msucceeded\u001b[0m \u001b[2m\u001b[37m2022-03-23 15:54:47\u001b[0m\r\n",
      "    ├── \u001b[35mstart evaluation\u001b[0m/3/1 ⇒ \u001b[32mstarted\u001b[0m \u001b[2m\u001b[37m2022-03-23 15:54:47\u001b[0m ⧖ \u001b[2m\u001b[34m0.004s\u001b[0m\r\n",
      "    │   ├── \u001b[34mnumber\u001b[0m: 1\r\n",
      "    │   ├── \u001b[35minside evaluation\u001b[0m/3/2/1 ⇒ \u001b[32mstarted\u001b[0m \u001b[2m\u001b[37m2022-03-23 15:54:47\u001b[0m ⧖ \u001b[2m\u001b[34m0.003s\u001b[0m\r\n",
      "    │   │   ├── \u001b[34mtotal\u001b[0m: 1\r\n",
      "    │   │   ├── \u001b[35m__main__.myfunction\u001b[0m/3/2/2/1 ⇒ \u001b[32mstarted\u001b[0m \u001b[2m\u001b[37m2022-03-23 15:54:47\u001b[0m ⧖ \u001b[2m\u001b[34m0.001s\u001b[0m\r\n",
      "    │   │   │   ├── \u001b[34mvalue\u001b[0m: 1\r\n",
      "    │   │   │   ├── \u001b[35mduring operation\u001b[0m/3/2/2/2 \u001b[2m\u001b[37m2022-03-23 15:54:47\u001b[0m\r\n",
      "    │   │   │   │   └── \u001b[34mvars\u001b[0m: \r\n",
      "    │   │   │   │       ├── \u001b[34mresult\u001b[0m: 1.0\r\n",
      "    │   │   │   │       └── \u001b[34mvalue\u001b[0m: 1\r\n",
      "    │   │   │   └── \u001b[35m__main__.myfunction\u001b[0m/3/2/2/3 ⇒ \u001b[32msucceeded\u001b[0m \u001b[2m\u001b[37m2022-03-23 15:54:47\u001b[0m\r\n",
      "    │   │   │       └── \u001b[34mresult\u001b[0m: 1.0\r\n",
      "    │   │   └── \u001b[35minside evaluation\u001b[0m/3/2/3 ⇒ \u001b[32msucceeded\u001b[0m \u001b[2m\u001b[37m2022-03-23 15:54:47\u001b[0m\r\n",
      "    │   └── \u001b[35mstart evaluation\u001b[0m/3/3 ⇒ \u001b[32msucceeded\u001b[0m \u001b[2m\u001b[37m2022-03-23 15:54:47\u001b[0m\r\n",
      "    ├── \u001b[35mstart evaluation\u001b[0m/4/1 ⇒ \u001b[31mstarted\u001b[0m \u001b[2m\u001b[37m2022-03-23 15:54:47\u001b[0m ⧖ \u001b[2m\u001b[34m0.004s\u001b[0m\r\n",
      "    │   ├── \u001b[34mnumber\u001b[0m: 0\r\n",
      "    │   ├── \u001b[35minside evaluation\u001b[0m/4/2/1 ⇒ \u001b[31mstarted\u001b[0m \u001b[2m\u001b[37m2022-03-23 15:54:47\u001b[0m ⧖ \u001b[2m\u001b[34m0.002s\u001b[0m\r\n",
      "    │   │   ├── \u001b[34mtotal\u001b[0m: 0\r\n",
      "    │   │   ├── \u001b[35m__main__.myfunction\u001b[0m/4/2/2/1 ⇒ \u001b[31mstarted\u001b[0m \u001b[2m\u001b[37m2022-03-23 15:54:47\u001b[0m ⧖ \u001b[2m\u001b[34m0.001s\u001b[0m\r\n",
      "    │   │   │   ├── \u001b[34mvalue\u001b[0m: 0\r\n",
      "    │   │   │   └── \u001b[35m__main__.myfunction\u001b[0m/4/2/2/2 ⇒ \u001b[31mfailed\u001b[0m \u001b[2m\u001b[37m2022-03-23 15:54:47\u001b[0m\r\n",
      "    │   │   │       ├── \u001b[34mexception\u001b[0m: builtins.ZeroDivisionError\r\n",
      "    │   │   │       └── \u001b[34mreason\u001b[0m: division by zero\r\n",
      "    │   │   └── \u001b[35minside evaluation\u001b[0m/4/2/3 ⇒ \u001b[31mfailed\u001b[0m \u001b[2m\u001b[37m2022-03-23 15:54:47\u001b[0m\r\n",
      "    │   │       ├── \u001b[34mexception\u001b[0m: builtins.ZeroDivisionError\r\n",
      "    │   │       └── \u001b[34mreason\u001b[0m: division by zero\r\n",
      "    │   └── \u001b[35mstart evaluation\u001b[0m/4/3 ⇒ \u001b[31mfailed\u001b[0m \u001b[2m\u001b[37m2022-03-23 15:54:47\u001b[0m\r\n",
      "    │       ├── \u001b[34mexception\u001b[0m: builtins.ZeroDivisionError\r\n",
      "    │       └── \u001b[34mreason\u001b[0m: division by zero\r\n",
      "    └── \u001b[35mprocessing numbers\u001b[0m/5 ⇒ \u001b[31mfailed\u001b[0m \u001b[2m\u001b[37m2022-03-23 15:54:47\u001b[0m\r\n",
      "        ├── \u001b[34mexception\u001b[0m: builtins.ZeroDivisionError\r\n",
      "        └── \u001b[34mreason\u001b[0m: division by zero\r\n",
      "\r\n"
     ]
    }
   ],
   "source": [
    "!eliot-tree test.log"
   ]
  },
  {
   "cell_type": "code",
   "execution_count": 44,
   "metadata": {
    "slideshow": {
     "slide_type": "slide"
    }
   },
   "outputs": [
    {
     "name": "stdout",
     "output_type": "stream",
     "text": [
      "{\"action_status\": \"started\", \"timestamp\": 1648050887.3135529, \"task_uuid\": \"8414afd7-131d-448f-8db0-b0188c00aca0\", \"action_type\": \"processing numbers\", \"task_level\": [1]}\r\n",
      "{\"number\": 4, \"action_status\": \"started\", \"timestamp\": 1648050887.314634, \"task_uuid\": \"8414afd7-131d-448f-8db0-b0188c00aca0\", \"action_type\": \"start evaluation\", \"task_level\": [2, 1]}\r\n",
      "{\"total\": 28, \"action_status\": \"started\", \"timestamp\": 1648050887.3152003, \"task_uuid\": \"8414afd7-131d-448f-8db0-b0188c00aca0\", \"action_type\": \"inside evaluation\", \"task_level\": [2, 2, 1]}\r\n",
      "{\"value\": 28, \"action_status\": \"started\", \"timestamp\": 1648050887.3162124, \"task_uuid\": \"8414afd7-131d-448f-8db0-b0188c00aca0\", \"action_type\": \"__main__.myfunction\", \"task_level\": [2, 2, 2, 1]}\r\n",
      "{\"vars\": {\"value\": 28, \"result\": 0.03571428571428571}, \"timestamp\": 1648050887.3167036, \"task_uuid\": \"8414afd7-131d-448f-8db0-b0188c00aca0\", \"task_level\": [2, 2, 2, 2], \"message_type\": \"during operation\"}\r\n",
      "{\"result\": 0.03571428571428571, \"action_status\": \"succeeded\", \"timestamp\": 1648050887.3173218, \"task_uuid\": \"8414afd7-131d-448f-8db0-b0188c00aca0\", \"action_type\": \"__main__.myfunction\", \"task_level\": [2, 2, 2, 3]}\r\n",
      "{\"action_status\": \"succeeded\", \"timestamp\": 1648050887.3181512, \"task_uuid\": \"8414afd7-131d-448f-8db0-b0188c00aca0\", \"action_type\": \"inside evaluation\", \"task_level\": [2, 2, 3]}\r\n",
      "{\"action_status\": \"succeeded\", \"timestamp\": 1648050887.319012, \"task_uuid\": \"8414afd7-131d-448f-8db0-b0188c00aca0\", \"action_type\": \"start evaluation\", \"task_level\": [2, 3]}\r\n",
      "{\"number\": 1, \"action_status\": \"started\", \"timestamp\": 1648050887.319731, \"task_uuid\": \"8414afd7-131d-448f-8db0-b0188c00aca0\", \"action_type\": \"start evaluation\", \"task_level\": [3, 1]}\r\n",
      "{\"total\": 1, \"action_status\": \"started\", \"timestamp\": 1648050887.3206432, \"task_uuid\": \"8414afd7-131d-448f-8db0-b0188c00aca0\", \"action_type\": \"inside evaluation\", \"task_level\": [3, 2, 1]}\r\n"
     ]
    }
   ],
   "source": [
    "!head test.log"
   ]
  },
  {
   "cell_type": "markdown",
   "metadata": {
    "slideshow": {
     "slide_type": "slide"
    }
   },
   "source": [
    "What if you want to see the results in real time?\n",
    "\n",
    "A better solution is to periodically refresh the result of `eliot-tree`, piping the tail of the log file in it:\n",
    "\n",
    "    tail -f test.log | eliot-tree\n",
    "    \n",
    "for example, if we make our program be slower (simulating a slow computation)"
   ]
  },
  {
   "cell_type": "markdown",
   "metadata": {
    "slideshow": {
     "slide_type": "fragment"
    }
   },
   "source": [
    "The only limitations are:\n",
    "\n",
    "* you have to interrupt the tail process manually\n",
    "* actions are written only when completed, so if you have very high level actions this will not print until they are done"
   ]
  },
  {
   "cell_type": "markdown",
   "metadata": {
    "slideshow": {
     "slide_type": "slide"
    }
   },
   "source": [
    "## Warning systems\n",
    "\n",
    "Warnings are a way to comunicate directly with the user and let them know that there is something fishy going on.\n",
    "\n",
    "While logging is something that is run consistently, warnings should appear only in some specific situations.\n",
    "\n",
    "A tipical case is to inform your user that one of the functions that is being used is going to be removed from the next version of your library and that they should use something different"
   ]
  },
  {
   "cell_type": "code",
   "execution_count": 85,
   "metadata": {
    "slideshow": {
     "slide_type": "slide"
    }
   },
   "outputs": [
    {
     "name": "stderr",
     "output_type": "stream",
     "text": [
      "/home/enrico/miniconda3/lib/python3.6/site-packages/ipykernel_launcher.py:2: UserWarning: this is an old script, use a new one!\n",
      "  \n"
     ]
    }
   ],
   "source": [
    "import warnings\n",
    "warnings.warn(\"this is an old script, use a new one!\")\n"
   ]
  },
  {
   "cell_type": "markdown",
   "metadata": {
    "slideshow": {
     "slide_type": "slide"
    }
   },
   "source": [
    "if you want to raise an error when you catch a warning, you can use a specific context manager"
   ]
  },
  {
   "cell_type": "code",
   "execution_count": 86,
   "metadata": {
    "slideshow": {
     "slide_type": "fragment"
    }
   },
   "outputs": [
    {
     "ename": "UserWarning",
     "evalue": "there is a problem!",
     "output_type": "error",
     "traceback": [
      "\u001b[0;31m---------------------------------------------------------------------------\u001b[0m",
      "\u001b[0;31mUserWarning\u001b[0m                               Traceback (most recent call last)",
      "\u001b[0;32m<ipython-input-86-15bf7a32a4ae>\u001b[0m in \u001b[0;36m<module>\u001b[0;34m()\u001b[0m\n\u001b[1;32m      1\u001b[0m \u001b[0;32mwith\u001b[0m \u001b[0mwarnings\u001b[0m\u001b[0;34m.\u001b[0m\u001b[0mcatch_warnings\u001b[0m\u001b[0;34m(\u001b[0m\u001b[0;34m)\u001b[0m\u001b[0;34m:\u001b[0m\u001b[0;34m\u001b[0m\u001b[0m\n\u001b[1;32m      2\u001b[0m         \u001b[0mwarnings\u001b[0m\u001b[0;34m.\u001b[0m\u001b[0msimplefilter\u001b[0m\u001b[0;34m(\u001b[0m\u001b[0;34m'error'\u001b[0m\u001b[0;34m,\u001b[0m \u001b[0mcategory\u001b[0m\u001b[0;34m=\u001b[0m\u001b[0mWarning\u001b[0m\u001b[0;34m)\u001b[0m\u001b[0;34m\u001b[0m\u001b[0m\n\u001b[0;32m----> 3\u001b[0;31m         \u001b[0mwarnings\u001b[0m\u001b[0;34m.\u001b[0m\u001b[0mwarn\u001b[0m\u001b[0;34m(\u001b[0m\u001b[0;34m\"there is a problem!\"\u001b[0m\u001b[0;34m)\u001b[0m\u001b[0;34m\u001b[0m\u001b[0m\n\u001b[0m",
      "\u001b[0;31mUserWarning\u001b[0m: there is a problem!"
     ]
    }
   ],
   "source": [
    "with warnings.catch_warnings():\n",
    "        warnings.simplefilter('error', category=Warning)\n",
    "        warnings.warn(\"there is a problem!\")"
   ]
  },
  {
   "cell_type": "markdown",
   "metadata": {
    "slideshow": {
     "slide_type": "slide"
    }
   },
   "source": [
    "on the opposite, you might want to silence certain warnings as you know what you're doing.\n",
    "\n",
    "SPOILER: you probably should not use this code!"
   ]
  },
  {
   "cell_type": "code",
   "execution_count": 88,
   "metadata": {
    "slideshow": {
     "slide_type": "fragment"
    }
   },
   "outputs": [],
   "source": [
    "with warnings.catch_warnings():\n",
    "        warnings.simplefilter('ignore', category=Warning)\n",
    "        warnings.warn(\"there is a problem!\")"
   ]
  },
  {
   "cell_type": "markdown",
   "metadata": {
    "slideshow": {
     "slide_type": "slide"
    }
   },
   "source": [
    "## Linters\n",
    "\n",
    "Linters are programs that check your code for possible mistakes and errors before the execution.\n",
    "\n",
    "there are several of them, with various level of informations that they can gather.\n",
    "\n",
    "Most editors can be configured to run them in the background and show the resulting informations directly in the editor window."
   ]
  },
  {
   "cell_type": "markdown",
   "metadata": {
    "slideshow": {
     "slide_type": "slide"
    }
   },
   "source": [
    "examples of things that they will catch are:\n",
    "\n",
    "* variable definited but not used\n",
    "* variable used but not assigned\n",
    "* overloading of existing functions\n",
    "* syntax errors\n",
    "\n",
    "and so on.\n",
    "\n",
    "They are extremely useful when working with a dynamic language such as python, as they provide some functionalities of the traditional compilers"
   ]
  },
  {
   "cell_type": "markdown",
   "metadata": {
    "slideshow": {
     "slide_type": "slide"
    }
   },
   "source": [
    "some of these linters are:\n",
    "\n",
    "* pylint\n",
    "* pycodestyle (previously called pep8)\n",
    "* pyflakes\n",
    "* flake8"
   ]
  },
  {
   "cell_type": "markdown",
   "metadata": {
    "slideshow": {
     "slide_type": "slide"
    }
   },
   "source": [
    "Linters can perform a variety of different checks, depending on their goal.\n",
    "\n",
    "For example the `perflint` linter claims to warn the user against bad code practices that will affect python performances.\n",
    "\n",
    "[https://github.com/tonybaloney/perflint](https://github.com/tonybaloney/perflint)"
   ]
  },
  {
   "cell_type": "code",
   "execution_count": 45,
   "metadata": {
    "slideshow": {
     "slide_type": "slide"
    }
   },
   "outputs": [
    {
     "name": "stdout",
     "output_type": "stream",
     "text": [
      "Overwriting test.py\n"
     ]
    }
   ],
   "source": [
    "%%file test.py\n",
    "\n",
    "def eleva(n):\n",
    "    return n**2\n",
    "\n",
    "dati = [1, 2, 3, 4]\n",
    "\n",
    "for dato in dati:\n",
    "    print(eleva(dati[dato]))\n",
    "    \n",
    "print(data)"
   ]
  },
  {
   "cell_type": "code",
   "execution_count": 60,
   "metadata": {
    "slideshow": {
     "slide_type": "slide"
    }
   },
   "outputs": [
    {
     "name": "stdout",
     "output_type": "stream",
     "text": [
      "\u001b[38;5;238m───────┬────────────────────────────────────────────────────────────────────────\u001b[0m\r\n",
      "       \u001b[38;5;238m│ \u001b[0mFile: \u001b[1mtest.py\u001b[0m\r\n",
      "\u001b[38;5;238m───────┼────────────────────────────────────────────────────────────────────────\u001b[0m\r\n",
      "\u001b[38;5;238m   1\u001b[0m   \u001b[38;5;238m│\u001b[0m \u001b[38;2;167;29;93m␊\u001b[0m\r\n",
      "\u001b[38;5;238m   2\u001b[0m   \u001b[38;5;238m│\u001b[0m \u001b[38;2;51;51;51mdef\u001b[0m\u001b[38;2;0;134;179m•\u001b[0m\u001b[38;2;51;51;51meleva(n):\u001b[0m\u001b[38;2;167;29;93m␊\u001b[0m\r\n",
      "\u001b[38;5;238m   3\u001b[0m   \u001b[38;5;238m│\u001b[0m \u001b[38;2;0;134;179m•\u001b[0m\u001b[38;2;0;134;179m•\u001b[0m\u001b[38;2;0;134;179m•\u001b[0m\u001b[38;2;0;134;179m•\u001b[0m\u001b[38;2;51;51;51mreturn\u001b[0m\u001b[38;2;0;134;179m•\u001b[0m\u001b[38;2;51;51;51mn**2\u001b[0m\u001b[38;2;167;29;93m␊\u001b[0m\r\n",
      "\u001b[38;5;238m   4\u001b[0m   \u001b[38;5;238m│\u001b[0m \u001b[38;2;167;29;93m␊\u001b[0m\r\n",
      "\u001b[38;5;238m   5\u001b[0m   \u001b[38;5;238m│\u001b[0m \u001b[38;2;51;51;51mdati\u001b[0m\u001b[38;2;0;134;179m•\u001b[0m\u001b[38;2;51;51;51m=\u001b[0m\u001b[38;2;0;134;179m•\u001b[0m\u001b[38;2;51;51;51m[1,\u001b[0m\u001b[38;2;0;134;179m•\u001b[0m\u001b[38;2;51;51;51m2,\u001b[0m\u001b[38;2;0;134;179m•\u001b[0m\u001b[38;2;51;51;51m3,\u001b[0m\u001b[38;2;0;134;179m•\u001b[0m\u001b[38;2;51;51;51m4]\u001b[0m\u001b[38;2;167;29;93m␊\u001b[0m\r\n",
      "\u001b[38;5;238m   6\u001b[0m   \u001b[38;5;238m│\u001b[0m \u001b[38;2;167;29;93m␊\u001b[0m\r\n",
      "\u001b[38;5;238m   7\u001b[0m   \u001b[38;5;238m│\u001b[0m \u001b[38;2;51;51;51mfor\u001b[0m\u001b[38;2;0;134;179m•\u001b[0m\u001b[38;2;51;51;51mdato\u001b[0m\u001b[38;2;0;134;179m•\u001b[0m\u001b[38;2;51;51;51min\u001b[0m\u001b[38;2;0;134;179m•\u001b[0m\u001b[38;2;51;51;51mdati:\u001b[0m\u001b[38;2;167;29;93m␊\u001b[0m\r\n",
      "\u001b[38;5;238m   8\u001b[0m   \u001b[38;5;238m│\u001b[0m \u001b[38;2;0;134;179m•\u001b[0m\u001b[38;2;0;134;179m•\u001b[0m\u001b[38;2;0;134;179m•\u001b[0m\u001b[38;2;0;134;179m•\u001b[0m\u001b[38;2;51;51;51mprint(eleva(dati[dato]))\u001b[0m\u001b[38;2;167;29;93m␊\u001b[0m\r\n",
      "\u001b[38;5;238m   9\u001b[0m   \u001b[38;5;238m│\u001b[0m \u001b[38;2;0;134;179m•\u001b[0m\u001b[38;2;0;134;179m•\u001b[0m\u001b[38;2;0;134;179m•\u001b[0m\u001b[38;2;0;134;179m•\u001b[0m\u001b[38;2;167;29;93m␊\u001b[0m\r\n",
      "\u001b[38;5;238m  10\u001b[0m   \u001b[38;5;238m│\u001b[0m \u001b[38;2;51;51;51mprint(data)\u001b[0m\u001b[38;2;167;29;93m␊\u001b[0m\r\n",
      "\u001b[38;5;238m───────┴────────────────────────────────────────────────────────────────────────\u001b[0m\r\n"
     ]
    }
   ],
   "source": [
    "!batcat test.py --theme=GitHub -A"
   ]
  },
  {
   "cell_type": "code",
   "execution_count": 47,
   "metadata": {
    "slideshow": {
     "slide_type": "slide"
    }
   },
   "outputs": [
    {
     "name": "stdout",
     "output_type": "stream",
     "text": [
      "************* Module test\r\n",
      "test.py:9:0: C0303: Trailing whitespace (trailing-whitespace)\r\n",
      "test.py:1:0: C0114: Missing module docstring (missing-module-docstring)\r\n",
      "test.py:2:10: C0103: Argument name \"n\" doesn't conform to snake_case naming style (invalid-name)\r\n",
      "test.py:2:0: C0116: Missing function or method docstring (missing-function-docstring)\r\n",
      "test.py:10:6: E0602: Undefined variable 'data' (undefined-variable)\r\n",
      "\r\n",
      "--------------------------------------------------------------------\r\n",
      "Your code has been rated at -5.00/10 (previous run: -5.00/10, +0.00)\r\n",
      "\r\n",
      "\u001b[0m"
     ]
    }
   ],
   "source": [
    "!pylint test.py"
   ]
  },
  {
   "cell_type": "markdown",
   "metadata": {
    "slideshow": {
     "slide_type": "slide"
    }
   },
   "source": [
    "the warning of pylint are formatted in a way that allow for most editors to go to the offending code:\n",
    "\n",
    "`<filename>:<line number>:<character number>: <error code>: description`\n",
    "\n",
    "where the lines are numbered starting from 1, anche the characters starting from 0"
   ]
  },
  {
   "cell_type": "markdown",
   "metadata": {
    "slideshow": {
     "slide_type": "slide"
    }
   },
   "source": [
    "obviously not all suggestions are equally relevant, but they can spot several **code smells** before you run a long simulation"
   ]
  }
 ],
 "metadata": {
  "celltoolbar": "Slideshow",
  "kernelspec": {
   "display_name": "Python 3 (ipykernel)",
   "language": "python",
   "name": "python3"
  },
  "language_info": {
   "codemirror_mode": {
    "name": "ipython",
    "version": 3
   },
   "file_extension": ".py",
   "mimetype": "text/x-python",
   "name": "python",
   "nbconvert_exporter": "python",
   "pygments_lexer": "ipython3",
   "version": "3.9.12"
  }
 },
 "nbformat": 4,
 "nbformat_minor": 2
}
