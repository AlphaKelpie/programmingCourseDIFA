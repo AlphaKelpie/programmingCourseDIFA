{
 "cells": [
  {
   "cell_type": "code",
   "execution_count": 1,
   "metadata": {},
   "outputs": [],
   "source": [
    "%matplotlib inline"
   ]
  },
  {
   "cell_type": "code",
   "execution_count": 2,
   "metadata": {},
   "outputs": [
    {
     "name": "stdout",
     "output_type": "stream",
     "text": [
      "divinacommedia_cleaned.txt  divina_commedia_with_copyright_notice.txt\r\n"
     ]
    }
   ],
   "source": [
    "!ls divine_comedy"
   ]
  },
  {
   "cell_type": "code",
   "execution_count": 39,
   "metadata": {},
   "outputs": [],
   "source": [
    "text_file = \"./divine_comedy/divinacommedia_cleaned.txt\""
   ]
  },
  {
   "cell_type": "markdown",
   "metadata": {},
   "source": [
    "# Familiarize with the data"
   ]
  },
  {
   "cell_type": "code",
   "execution_count": 6,
   "metadata": {},
   "outputs": [],
   "source": [
    "# can I read the data\n",
    "with open(text_file, 'r', encoding='utf8') as infile:\n",
    "    for line in infile:\n",
    "        pass"
   ]
  },
  {
   "cell_type": "markdown",
   "metadata": {},
   "source": [
    "how many couples do I need?\n",
    "\n",
    "I have 30 characters possible (26 letters + space, newline, full stop, exclamation point)"
   ]
  },
  {
   "cell_type": "code",
   "execution_count": 7,
   "metadata": {},
   "outputs": [
    {
     "data": {
      "text/plain": [
       "900"
      ]
     },
     "execution_count": 7,
     "metadata": {},
     "output_type": "execute_result"
    }
   ],
   "source": [
    "# first order chain\n",
    "30**2"
   ]
  },
  {
   "cell_type": "code",
   "execution_count": 8,
   "metadata": {},
   "outputs": [
    {
     "data": {
      "text/plain": [
       "27000"
      ]
     },
     "execution_count": 8,
     "metadata": {},
     "output_type": "execute_result"
    }
   ],
   "source": [
    "# second order chain\n",
    "30**3"
   ]
  },
  {
   "cell_type": "code",
   "execution_count": 9,
   "metadata": {},
   "outputs": [
    {
     "data": {
      "text/plain": [
       "810000"
      ]
     },
     "execution_count": 9,
     "metadata": {},
     "output_type": "execute_result"
    }
   ],
   "source": [
    "# third order chain\n",
    "30**4"
   ]
  },
  {
   "cell_type": "markdown",
   "metadata": {},
   "source": [
    "how many letters do we have in our corpus?"
   ]
  },
  {
   "cell_type": "code",
   "execution_count": 10,
   "metadata": {},
   "outputs": [
    {
     "name": "stdout",
     "output_type": "stream",
     "text": [
      "529771\n"
     ]
    }
   ],
   "source": [
    "letters = 0\n",
    "with open(text_file, 'r', encoding='utf8') as infile:\n",
    "    for line in infile:\n",
    "        for letter in line:\n",
    "            letters += 1\n",
    "print(letters)"
   ]
  },
  {
   "cell_type": "code",
   "execution_count": 11,
   "metadata": {},
   "outputs": [],
   "source": [
    "# how many and which letters do I have in my text?\n",
    "from collections import Counter\n",
    "observed = Counter()\n",
    "\n",
    "with open(text_file, 'r', encoding='utf8') as infile:\n",
    "    for line in infile:\n",
    "        for letter in line:\n",
    "            observed[letter] += 1"
   ]
  },
  {
   "cell_type": "code",
   "execution_count": 12,
   "metadata": {},
   "outputs": [
    {
     "data": {
      "text/plain": [
       "Counter({'\\ufeff': 1,\n",
       "         'N': 258,\n",
       "         'e': 46094,\n",
       "         'l': 23087,\n",
       "         ' ': 83019,\n",
       "         'm': 11681,\n",
       "         'z': 1848,\n",
       "         'o': 37254,\n",
       "         'd': 14599,\n",
       "         'c': 20267,\n",
       "         'a': 42035,\n",
       "         'i': 39200,\n",
       "         'n': 26229,\n",
       "         's': 22188,\n",
       "         't': 22478,\n",
       "         'r': 25805,\n",
       "         'v': 7946,\n",
       "         '\\n': 19053,\n",
       "         'p': 10790,\n",
       "         'u': 13408,\n",
       "         ',': 8513,\n",
       "         'h': 7109,\n",
       "         'é': 903,\n",
       "         '.': 3275,\n",
       "         'A': 377,\n",
       "         'q': 3025,\n",
       "         'è': 925,\n",
       "         'g': 7121,\n",
       "         'f': 4947,\n",
       "         '!': 232,\n",
       "         'T': 283,\n",
       "         '’': 7623,\n",
       "         'ù': 1080,\n",
       "         ';': 1628,\n",
       "         'b': 2758,\n",
       "         'ò': 938,\n",
       "         'I': 359,\n",
       "         'M': 405,\n",
       "         'à': 855,\n",
       "         'E': 586,\n",
       "         'ì': 1383,\n",
       "         'P': 473,\n",
       "         'Q': 328,\n",
       "         '«': 1062,\n",
       "         '»': 1062,\n",
       "         'R': 117,\n",
       "         ':': 988,\n",
       "         'ï': 427,\n",
       "         'ó': 30,\n",
       "         '?': 278,\n",
       "         'O': 356,\n",
       "         'V': 222,\n",
       "         'D': 407,\n",
       "         'C': 554,\n",
       "         'L': 411,\n",
       "         'S': 443,\n",
       "         'ë': 83,\n",
       "         '“': 51,\n",
       "         'B': 223,\n",
       "         '”': 51,\n",
       "         '—': 18,\n",
       "         '‘': 109,\n",
       "         'G': 199,\n",
       "         'F': 180,\n",
       "         'Z': 7,\n",
       "         'ü': 55,\n",
       "         'U': 43,\n",
       "         'H': 2,\n",
       "         'ö': 1,\n",
       "         'ä': 8,\n",
       "         'x': 3,\n",
       "         'y': 1,\n",
       "         '(': 3,\n",
       "         ')': 3,\n",
       "         'È': 2,\n",
       "         'j': 2,\n",
       "         'Ë': 2,\n",
       "         'Ï': 1,\n",
       "         '-': 1})"
      ]
     },
     "execution_count": 12,
     "metadata": {},
     "output_type": "execute_result"
    }
   ],
   "source": [
    "observed"
   ]
  },
  {
   "cell_type": "code",
   "execution_count": 13,
   "metadata": {},
   "outputs": [],
   "source": [
    "# how many and which letters do I have in my text?\n",
    "# try with a different encoding\n",
    "from collections import Counter\n",
    "observed = Counter()\n",
    "\n",
    "with open(text_file, 'r', encoding='utf-8-sig') as infile:\n",
    "    for line in infile:\n",
    "        for letter in line:\n",
    "            observed[letter] += 1"
   ]
  },
  {
   "cell_type": "code",
   "execution_count": 14,
   "metadata": {},
   "outputs": [
    {
     "data": {
      "text/plain": [
       "Counter({'N': 258,\n",
       "         'e': 46094,\n",
       "         'l': 23087,\n",
       "         ' ': 83019,\n",
       "         'm': 11681,\n",
       "         'z': 1848,\n",
       "         'o': 37254,\n",
       "         'd': 14599,\n",
       "         'c': 20267,\n",
       "         'a': 42035,\n",
       "         'i': 39200,\n",
       "         'n': 26229,\n",
       "         's': 22188,\n",
       "         't': 22478,\n",
       "         'r': 25805,\n",
       "         'v': 7946,\n",
       "         '\\n': 19053,\n",
       "         'p': 10790,\n",
       "         'u': 13408,\n",
       "         ',': 8513,\n",
       "         'h': 7109,\n",
       "         'é': 903,\n",
       "         '.': 3275,\n",
       "         'A': 377,\n",
       "         'q': 3025,\n",
       "         'è': 925,\n",
       "         'g': 7121,\n",
       "         'f': 4947,\n",
       "         '!': 232,\n",
       "         'T': 283,\n",
       "         '’': 7623,\n",
       "         'ù': 1080,\n",
       "         ';': 1628,\n",
       "         'b': 2758,\n",
       "         'ò': 938,\n",
       "         'I': 359,\n",
       "         'M': 405,\n",
       "         'à': 855,\n",
       "         'E': 586,\n",
       "         'ì': 1383,\n",
       "         'P': 473,\n",
       "         'Q': 328,\n",
       "         '«': 1062,\n",
       "         '»': 1062,\n",
       "         'R': 117,\n",
       "         ':': 988,\n",
       "         'ï': 427,\n",
       "         'ó': 30,\n",
       "         '?': 278,\n",
       "         'O': 356,\n",
       "         'V': 222,\n",
       "         'D': 407,\n",
       "         'C': 554,\n",
       "         'L': 411,\n",
       "         'S': 443,\n",
       "         'ë': 83,\n",
       "         '“': 51,\n",
       "         'B': 223,\n",
       "         '”': 51,\n",
       "         '—': 18,\n",
       "         '‘': 109,\n",
       "         'G': 199,\n",
       "         'F': 180,\n",
       "         'Z': 7,\n",
       "         'ü': 55,\n",
       "         'U': 43,\n",
       "         'H': 2,\n",
       "         'ö': 1,\n",
       "         'ä': 8,\n",
       "         'x': 3,\n",
       "         'y': 1,\n",
       "         '(': 3,\n",
       "         ')': 3,\n",
       "         'È': 2,\n",
       "         'j': 2,\n",
       "         'Ë': 2,\n",
       "         'Ï': 1,\n",
       "         '-': 1})"
      ]
     },
     "execution_count": 14,
     "metadata": {},
     "output_type": "execute_result"
    }
   ],
   "source": [
    "observed"
   ]
  },
  {
   "cell_type": "code",
   "execution_count": 26,
   "metadata": {},
   "outputs": [],
   "source": [
    "# we decide to normalize the uncommon letters\n",
    "to_replace = {'Ë': 'E', 'Ï': 'I', \n",
    "              'ö': 'o', 'ä': 'a', \n",
    "              'ü': 'u', 'ë': 'e', \n",
    "              'ï': 'i'}\n",
    "def letter_normalization_naive(letter):\n",
    "    if letter in to_replace:\n",
    "        return to_replace[letter] \n",
    "    return letter\n",
    "\n",
    "def letter_normalization_short(letter):\n",
    "    return to_replace.get(letter, letter)"
   ]
  },
  {
   "cell_type": "code",
   "execution_count": 27,
   "metadata": {},
   "outputs": [
    {
     "data": {
      "text/plain": [
       "'E'"
      ]
     },
     "execution_count": 27,
     "metadata": {},
     "output_type": "execute_result"
    }
   ],
   "source": [
    "letter_normalization_naive('Ë')"
   ]
  },
  {
   "cell_type": "code",
   "execution_count": 28,
   "metadata": {},
   "outputs": [
    {
     "data": {
      "text/plain": [
       "'E'"
      ]
     },
     "execution_count": 28,
     "metadata": {},
     "output_type": "execute_result"
    }
   ],
   "source": [
    "letter_normalization_short('Ë')"
   ]
  },
  {
   "cell_type": "code",
   "execution_count": 29,
   "metadata": {},
   "outputs": [
    {
     "name": "stdout",
     "output_type": "stream",
     "text": [
      "116 ns ± 2.36 ns per loop (mean ± std. dev. of 7 runs, 10000000 loops each)\n"
     ]
    }
   ],
   "source": [
    "%timeit letter_normalization_naive('Ë')"
   ]
  },
  {
   "cell_type": "code",
   "execution_count": 30,
   "metadata": {},
   "outputs": [
    {
     "name": "stdout",
     "output_type": "stream",
     "text": [
      "158 ns ± 2.01 ns per loop (mean ± std. dev. of 7 runs, 10000000 loops each)\n"
     ]
    }
   ],
   "source": [
    "%timeit letter_normalization_short('Ë')"
   ]
  },
  {
   "cell_type": "code",
   "execution_count": 31,
   "metadata": {},
   "outputs": [],
   "source": [
    "letter_normalization = letter_normalization_naive"
   ]
  },
  {
   "cell_type": "code",
   "execution_count": 32,
   "metadata": {},
   "outputs": [],
   "source": [
    "from collections import Counter\n",
    "observed = Counter()\n",
    "\n",
    "with open(text_file, 'r', encoding='utf-8-sig') as infile:\n",
    "    for line in infile:\n",
    "        for letter in line:\n",
    "            modified_letter = letter_normalization(letter)\n",
    "            observed[modified_letter] += 1"
   ]
  },
  {
   "cell_type": "code",
   "execution_count": 33,
   "metadata": {},
   "outputs": [
    {
     "data": {
      "text/plain": [
       "Counter({'N': 258,\n",
       "         'e': 46177,\n",
       "         'l': 23087,\n",
       "         ' ': 83019,\n",
       "         'm': 11681,\n",
       "         'z': 1848,\n",
       "         'o': 37255,\n",
       "         'd': 14599,\n",
       "         'c': 20267,\n",
       "         'a': 42043,\n",
       "         'i': 39627,\n",
       "         'n': 26229,\n",
       "         's': 22188,\n",
       "         't': 22478,\n",
       "         'r': 25805,\n",
       "         'v': 7946,\n",
       "         '\\n': 19053,\n",
       "         'p': 10790,\n",
       "         'u': 13463,\n",
       "         ',': 8513,\n",
       "         'h': 7109,\n",
       "         'é': 903,\n",
       "         '.': 3275,\n",
       "         'A': 377,\n",
       "         'q': 3025,\n",
       "         'è': 925,\n",
       "         'g': 7121,\n",
       "         'f': 4947,\n",
       "         '!': 232,\n",
       "         'T': 283,\n",
       "         '’': 7623,\n",
       "         'ù': 1080,\n",
       "         ';': 1628,\n",
       "         'b': 2758,\n",
       "         'ò': 938,\n",
       "         'I': 360,\n",
       "         'M': 405,\n",
       "         'à': 855,\n",
       "         'E': 588,\n",
       "         'ì': 1383,\n",
       "         'P': 473,\n",
       "         'Q': 328,\n",
       "         '«': 1062,\n",
       "         '»': 1062,\n",
       "         'R': 117,\n",
       "         ':': 988,\n",
       "         'ó': 30,\n",
       "         '?': 278,\n",
       "         'O': 356,\n",
       "         'V': 222,\n",
       "         'D': 407,\n",
       "         'C': 554,\n",
       "         'L': 411,\n",
       "         'S': 443,\n",
       "         '“': 51,\n",
       "         'B': 223,\n",
       "         '”': 51,\n",
       "         '—': 18,\n",
       "         '‘': 109,\n",
       "         'G': 199,\n",
       "         'F': 180,\n",
       "         'Z': 7,\n",
       "         'U': 43,\n",
       "         'H': 2,\n",
       "         'x': 3,\n",
       "         'y': 1,\n",
       "         '(': 3,\n",
       "         ')': 3,\n",
       "         'È': 2,\n",
       "         'j': 2,\n",
       "         '-': 1})"
      ]
     },
     "execution_count": 33,
     "metadata": {},
     "output_type": "execute_result"
    }
   ],
   "source": [
    "observed"
   ]
  },
  {
   "cell_type": "code",
   "execution_count": 34,
   "metadata": {},
   "outputs": [],
   "source": [
    "from random import choices"
   ]
  },
  {
   "cell_type": "code",
   "execution_count": 41,
   "metadata": {},
   "outputs": [
    {
     "name": "stdout",
     "output_type": "stream",
     "text": [
      "a ,v\n",
      "suì trdt r i ac\n"
     ]
    }
   ],
   "source": [
    "letters = list(observed.keys())\n",
    "occurrences = list(observed.values())\n",
    "generated = choices(letters, occurrences, k=20)\n",
    "collated = \"\".join(generated)\n",
    "print(collated)"
   ]
  },
  {
   "cell_type": "markdown",
   "metadata": {},
   "source": [
    "# first order markov chains"
   ]
  },
  {
   "cell_type": "markdown",
   "metadata": {},
   "source": [
    "we need to take our letters in couples\n",
    "\n",
    "if we have a text such \"home\"\n",
    "we want to obtain the couples:\n",
    "\n",
    "(h, o)\n",
    "(o, m)\n",
    "(m, e)"
   ]
  },
  {
   "cell_type": "code",
   "execution_count": 43,
   "metadata": {},
   "outputs": [
    {
     "data": {
      "text/plain": [
       "[('a', 1), ('b', 2), ('c', 3)]"
      ]
     },
     "execution_count": 43,
     "metadata": {},
     "output_type": "execute_result"
    }
   ],
   "source": [
    "list_1 = ['a', 'b', 'c']\n",
    "list_2 = [1, 2, 3]\n",
    "list(zip(list_1, list_2))"
   ]
  },
  {
   "cell_type": "code",
   "execution_count": 44,
   "metadata": {},
   "outputs": [
    {
     "data": {
      "text/plain": [
       "[('h', 'o'), ('o', 'm'), ('m', 'e')]"
      ]
     },
     "execution_count": 44,
     "metadata": {},
     "output_type": "execute_result"
    }
   ],
   "source": [
    "text = \"home\"\n",
    "list(zip(text, text[1:]))"
   ]
  },
  {
   "cell_type": "code",
   "execution_count": 42,
   "metadata": {},
   "outputs": [
    {
     "data": {
      "text/plain": [
       "[('h', 'o'), ('o', 'm'), ('m', 'e')]"
      ]
     },
     "execution_count": 42,
     "metadata": {},
     "output_type": "execute_result"
    }
   ],
   "source": [
    "def couples_from_seq(seq):\n",
    "    \"\"\"`seq` is a list of characters\"\"\"\n",
    "    return zip(seq, seq[1:])\n",
    "\n",
    "list(couples_from_seq('home'))"
   ]
  },
  {
   "cell_type": "code",
   "execution_count": 45,
   "metadata": {},
   "outputs": [],
   "source": [
    "with open(text_file, 'r', encoding='utf-8-sig') as infile:\n",
    "    whole_text = \"\".join(line for line in infile)"
   ]
  },
  {
   "cell_type": "code",
   "execution_count": 47,
   "metadata": {},
   "outputs": [
    {
     "name": "stdout",
     "output_type": "stream",
     "text": [
      "Nel mezzo del cammin di nostra vita\n",
      "mi ritrovai per una selva oscura,\n",
      "ché la diritta via era smarrita.\n",
      "\n",
      "Ahi quanto a dir\n"
     ]
    }
   ],
   "source": [
    "print(whole_text[:120])"
   ]
  },
  {
   "cell_type": "code",
   "execution_count": 50,
   "metadata": {},
   "outputs": [],
   "source": [
    "all_couples = list(couples_from_seq(whole_text))"
   ]
  },
  {
   "cell_type": "code",
   "execution_count": 51,
   "metadata": {},
   "outputs": [
    {
     "data": {
      "text/plain": [
       "[('N', 'e'),\n",
       " ('e', 'l'),\n",
       " ('l', ' '),\n",
       " (' ', 'm'),\n",
       " ('m', 'e'),\n",
       " ('e', 'z'),\n",
       " ('z', 'z'),\n",
       " ('z', 'o'),\n",
       " ('o', ' '),\n",
       " (' ', 'd')]"
      ]
     },
     "execution_count": 51,
     "metadata": {},
     "output_type": "execute_result"
    }
   ],
   "source": [
    "all_couples[:10]"
   ]
  },
  {
   "cell_type": "code",
   "execution_count": 55,
   "metadata": {},
   "outputs": [
    {
     "data": {
      "text/plain": [
       "defaultdict(collections.Counter, {'b': Counter({'a': 1})})"
      ]
     },
     "execution_count": 55,
     "metadata": {},
     "output_type": "execute_result"
    }
   ],
   "source": [
    "from collections import defaultdict\n",
    "foo = defaultdict(Counter)\n",
    "foo['b']['a'] += 1\n",
    "foo"
   ]
  },
  {
   "cell_type": "code",
   "execution_count": 56,
   "metadata": {},
   "outputs": [
    {
     "data": {
      "text/plain": [
       "Counter({'a': 1})"
      ]
     },
     "execution_count": 56,
     "metadata": {},
     "output_type": "execute_result"
    }
   ],
   "source": [
    "foo['b']"
   ]
  },
  {
   "cell_type": "code",
   "execution_count": null,
   "metadata": {},
   "outputs": [],
   "source": [
    "# defaultdict allow me to avoid this check:\n",
    "if 'c' not in foo:\n",
    "    foo['c'] = Counter()\n",
    "# and just leave this command\n",
    "foo['c'] ['a'] += 1"
   ]
  },
  {
   "cell_type": "code",
   "execution_count": 57,
   "metadata": {},
   "outputs": [],
   "source": [
    "from collections import defaultdict\n",
    "# Counter ~= defaultdict(int)\n",
    "couples_counter = defaultdict(Counter)\n",
    "for first_letter, second_letter in all_couples:\n",
    "    counter_of_first_letter = couples_counter[first_letter]\n",
    "    counter_of_first_letter[second_letter] += 1"
   ]
  },
  {
   "cell_type": "code",
   "execution_count": 75,
   "metadata": {},
   "outputs": [],
   "source": [
    "# too big for visualization?\n",
    "# couples_counter"
   ]
  },
  {
   "cell_type": "code",
   "execution_count": 61,
   "metadata": {},
   "outputs": [
    {
     "data": {
      "text/plain": [
       "529769"
      ]
     },
     "execution_count": 61,
     "metadata": {},
     "output_type": "execute_result"
    }
   ],
   "source": [
    "sum(sum(counts.values()) for counts in couples_counter.values())"
   ]
  },
  {
   "cell_type": "code",
   "execution_count": 71,
   "metadata": {},
   "outputs": [
    {
     "data": {
      "text/plain": [
       "'o'"
      ]
     },
     "execution_count": 71,
     "metadata": {},
     "output_type": "execute_result"
    }
   ],
   "source": [
    "letter = 'N'\n",
    "letter_counts = couples_counter[letter]\n",
    "possible_letters = list(letter_counts.keys())\n",
    "counts = list(letter_counts.values())\n",
    "next_letter = choices(possible_letters, counts)[0]\n",
    "next_letter"
   ]
  },
  {
   "cell_type": "code",
   "execution_count": 74,
   "metadata": {},
   "outputs": [
    {
     "name": "stdout",
     "output_type": "stream",
     "text": [
      "No ial’i: co veterondonn sesa is’a pa norarni\n",
      "nce draiere piolì che qu fomoronte: ppe ’ fuià dè e pi,\n",
      "atiagi vi s’lli ’ cit’ ch’ fe coruto figua sso pienco v’a be ge\n",
      "Ver eropuan de,\n",
      "\n",
      "Qu qumer ce so,\n",
      "so\n"
     ]
    }
   ],
   "source": [
    "text = ['N']\n",
    "for i in range(200):\n",
    "    last_letter = text[-1]\n",
    "    letter_counts = couples_counter[last_letter]\n",
    "    possible_letters = list(letter_counts.keys())\n",
    "    counts = list(letter_counts.values())\n",
    "    next_letter = choices(possible_letters, counts)[0]  \n",
    "    text.append(next_letter)\n",
    "print(\"\".join(text))"
   ]
  },
  {
   "cell_type": "markdown",
   "metadata": {},
   "source": [
    "# exercise\n",
    "\n",
    "write a code that generates few hundred letters using arbitrary long markov chains, such as triples and quadruplets, and discuss the resulting text"
   ]
  },
  {
   "cell_type": "markdown",
   "metadata": {},
   "source": [
    "# solution to the exercise"
   ]
  },
  {
   "cell_type": "markdown",
   "metadata": {},
   "source": [
    "    text = \"hello world\"\n",
    "    \n",
    "    [('h', 'e', 'l'), ('e', 'l', 'l'), ...]"
   ]
  },
  {
   "cell_type": "code",
   "execution_count": 2,
   "metadata": {},
   "outputs": [
    {
     "data": {
      "text/plain": [
       "[('h', 'o', 'm'),\n",
       " ('o', 'm', 'e'),\n",
       " ('m', 'e', ' '),\n",
       " ('e', ' ', 's'),\n",
       " (' ', 's', 'w'),\n",
       " ('s', 'w', 'e'),\n",
       " ('w', 'e', 'e'),\n",
       " ('e', 'e', 't'),\n",
       " ('e', 't', ' '),\n",
       " ('t', ' ', 'h'),\n",
       " (' ', 'h', 'o'),\n",
       " ('h', 'o', 'm'),\n",
       " ('o', 'm', 'e')]"
      ]
     },
     "execution_count": 2,
     "metadata": {},
     "output_type": "execute_result"
    }
   ],
   "source": [
    "def groups_from_seq(seq, order=2):\n",
    "    \"\"\"`seq` is a list of characters\n",
    "    \n",
    "    horrible version number 1\n",
    "    \"\"\"\n",
    "    if order==2:\n",
    "        return zip(seq[0:], seq[1:])\n",
    "    elif order==3:\n",
    "        return zip(seq[0:], seq[1:], seq[2:])\n",
    "    elif order==4:\n",
    "        return zip(seq[0:], seq[1:], seq[2:], seq[3:])\n",
    "    else:\n",
    "        raise ValueError(\"only order 2 or 3 accepted\")\n",
    "\n",
    "list(groups_from_seq('home sweet home', 3))"
   ]
  },
  {
   "cell_type": "code",
   "execution_count": 7,
   "metadata": {},
   "outputs": [
    {
     "data": {
      "text/plain": [
       "[('h', 'o', 'm'),\n",
       " ('o', 'm', 'e'),\n",
       " ('m', 'e', ' '),\n",
       " ('e', ' ', 's'),\n",
       " (' ', 's', 'w')]"
      ]
     },
     "execution_count": 7,
     "metadata": {},
     "output_type": "execute_result"
    }
   ],
   "source": [
    "def groups_from_seq(seq, order=2):\n",
    "    \"\"\"`seq` is a list of characters\n",
    "    \n",
    "    appropriate for short sequences\n",
    "    \"\"\"\n",
    "    truncated_lists = [seq[i:] for i in range(order)]\n",
    "    return zip(*truncated_lists)\n",
    "\n",
    "list(groups_from_seq('home sw', 3))"
   ]
  },
  {
   "cell_type": "code",
   "execution_count": 14,
   "metadata": {},
   "outputs": [],
   "source": []
  },
  {
   "cell_type": "code",
   "execution_count": 15,
   "metadata": {},
   "outputs": [
    {
     "name": "stdout",
     "output_type": "stream",
     "text": [
      "['h', 'o', 'm'] e\n"
     ]
    }
   ],
   "source": [
    "*previous_letters, last_letter = \"home\"\n",
    "print(previous_letters, last_letter)"
   ]
  },
  {
   "cell_type": "code",
   "execution_count": 16,
   "metadata": {},
   "outputs": [
    {
     "name": "stdout",
     "output_type": "stream",
     "text": [
      "[] h\n"
     ]
    }
   ],
   "source": [
    "*previous_letters, last_letter = \"h\"\n",
    "print(previous_letters, last_letter)"
   ]
  },
  {
   "cell_type": "code",
   "execution_count": 25,
   "metadata": {},
   "outputs": [
    {
     "data": {
      "text/plain": [
       "defaultdict(collections.Counter,\n",
       "            {('h',): Counter({'o': 2}),\n",
       "             ('o',): Counter({'m': 2}),\n",
       "             ('m',): Counter({'e': 2}),\n",
       "             ('e',): Counter({' ': 1, 'e': 1, 't': 1}),\n",
       "             (' ',): Counter({'s': 1, 'h': 1}),\n",
       "             ('s',): Counter({'w': 1}),\n",
       "             ('w',): Counter({'e': 1}),\n",
       "             ('t',): Counter({' ': 1})})"
      ]
     },
     "execution_count": 25,
     "metadata": {},
     "output_type": "execute_result"
    }
   ],
   "source": [
    "from collections import defaultdict, Counter\n",
    "# Counter ~= defaultdict(int)\n",
    "all_groups = list(groups_from_seq('home sweet home', 2))\n",
    "\n",
    "groups_counter = defaultdict(Counter)\n",
    "for *previous_letters, last_letter in all_groups:\n",
    "    previous_letters = tuple(previous_letters)\n",
    "    counter_of_previous_letters = groups_counter[previous_letters]\n",
    "    counter_of_previous_letters[last_letter] += 1\n",
    "    \n",
    "groups_counter"
   ]
  },
  {
   "cell_type": "code",
   "execution_count": 24,
   "metadata": {},
   "outputs": [
    {
     "name": "stdout",
     "output_type": "stream",
     "text": [
      "e\n",
      "['e']\n",
      "['m', 'e']\n"
     ]
    }
   ],
   "source": [
    "text = ['N', 'e', 'l', ' ', 'm', 'e']\n",
    "print(text[-1])\n",
    "print(text[-1:])\n",
    "print(text[-2:])"
   ]
  },
  {
   "cell_type": "code",
   "execution_count": 28,
   "metadata": {},
   "outputs": [
    {
     "name": "stdout",
     "output_type": "stream",
     "text": [
      "homee homet home home home swe swee swet homet homee\n"
     ]
    }
   ],
   "source": [
    "from random import choices\n",
    "\n",
    "text = ['h', 'o']\n",
    "order = 2\n",
    "for i in range(50):\n",
    "    last_letters = tuple(text[-order+1:])\n",
    "    \n",
    "    letter_counts = groups_counter[last_letters]\n",
    "    possible_letters = list(letter_counts.keys())\n",
    "    counts = list(letter_counts.values())\n",
    "    next_letter = choices(possible_letters, counts)[0]  \n",
    "    text.append(next_letter)\n",
    "print(\"\".join(text))"
   ]
  },
  {
   "cell_type": "markdown",
   "metadata": {},
   "source": [
    "let's transform these pieces of code in functions"
   ]
  },
  {
   "cell_type": "code",
   "execution_count": 30,
   "metadata": {},
   "outputs": [],
   "source": [
    "def counts_from_groups(group_seq):\n",
    "    groups_counter = defaultdict(Counter)\n",
    "    for *previous_letters, last_letter in group_seq:\n",
    "        previous_letters = tuple(previous_letters)\n",
    "        count_of_previous_letters = groups_counter[previous_letters]\n",
    "        count_of_previous_letters[last_letter] += 1\n",
    "    return groups_counter\n",
    "    "
   ]
  },
  {
   "cell_type": "code",
   "execution_count": 43,
   "metadata": {},
   "outputs": [],
   "source": [
    "def generate_text(groups_counter, text_seed, order=2, lenght=200):\n",
    "    text = list(text_seed)\n",
    "    for i in range(lenght):\n",
    "        last_letters = tuple(text[-order+1:])\n",
    "\n",
    "        letter_counts = groups_counter[last_letters]\n",
    "        possible_letters = list(letter_counts.keys())\n",
    "        counts = list(letter_counts.values())\n",
    "        next_letter = choices(possible_letters, counts)[0]  \n",
    "        text.append(next_letter)\n",
    "    return \"\".join(text)"
   ]
  },
  {
   "cell_type": "code",
   "execution_count": 37,
   "metadata": {},
   "outputs": [
    {
     "name": "stdout",
     "output_type": "stream",
     "text": [
      "home sweet home sweet home sweet home sweet home sweet\n"
     ]
    }
   ],
   "source": [
    "source_text = \"home sweet home\"\n",
    "order = 3\n",
    "all_groups = groups_from_seq(source_text, order)\n",
    "groups_counter = counts_from_groups(all_groups)\n",
    "output_text = generate_text(groups_counter, \"home\", order=order)\n",
    "\n",
    "print(output_text)"
   ]
  },
  {
   "cell_type": "code",
   "execution_count": 47,
   "metadata": {},
   "outputs": [
    {
     "name": "stdout",
     "output_type": "stream",
     "text": [
      "Nel mezzo ’l qual era forse\n",
      "che fossa\n",
      "farai che passi aspetto in là ’ve s’interno Augusto\n",
      "perché seguire a vendue oscura cornuta ne fretta».\n",
      "\n",
      "«Né creatura\n",
      "ch’uscì de la dier suo ne rito a cotesta:\n",
      "\n",
      "esce disio \n"
     ]
    }
   ],
   "source": [
    "with open(text_file, 'r', encoding='utf-8-sig') as infile:\n",
    "    source_text = \"\".join(line for line in infile)\n",
    "order = 5\n",
    "all_groups = groups_from_seq(source_text, order)\n",
    "groups_counter = counts_from_groups(all_groups)\n",
    "seed_text = \"Nel mezzo\"\n",
    "output_text = generate_text(groups_counter, seed_text, \n",
    "                            order=order, lenght=200)\n",
    "\n",
    "print(output_text)"
   ]
  },
  {
   "cell_type": "code",
   "execution_count": null,
   "metadata": {},
   "outputs": [],
   "source": []
  }
 ],
 "metadata": {
  "kernelspec": {
   "display_name": "Python 3",
   "language": "python",
   "name": "python3"
  },
  "language_info": {
   "codemirror_mode": {
    "name": "ipython",
    "version": 3
   },
   "file_extension": ".py",
   "mimetype": "text/x-python",
   "name": "python",
   "nbconvert_exporter": "python",
   "pygments_lexer": "ipython3",
   "version": "3.6.7"
  }
 },
 "nbformat": 4,
 "nbformat_minor": 2
}
