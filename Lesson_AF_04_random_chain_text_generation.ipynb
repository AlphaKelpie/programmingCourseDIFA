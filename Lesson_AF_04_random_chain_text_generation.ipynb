{
 "cells": [
  {
   "cell_type": "code",
   "execution_count": 1,
   "metadata": {},
   "outputs": [],
   "source": [
    "%matplotlib inline"
   ]
  },
  {
   "cell_type": "code",
   "execution_count": 2,
   "metadata": {},
   "outputs": [
    {
     "name": "stdout",
     "output_type": "stream",
     "text": [
      "divinacommedia_cleaned.txt  divina_commedia_with_copyright_notice.txt\r\n"
     ]
    }
   ],
   "source": [
    "!ls divine_comedy"
   ]
  },
  {
   "cell_type": "code",
   "execution_count": 4,
   "metadata": {},
   "outputs": [],
   "source": [
    "text_file = \"./divine_comedy/divinacommedia_cleaned.txt\""
   ]
  },
  {
   "cell_type": "markdown",
   "metadata": {},
   "source": [
    "# Familiarize with the data"
   ]
  },
  {
   "cell_type": "code",
   "execution_count": 6,
   "metadata": {},
   "outputs": [],
   "source": [
    "# can I read the data\n",
    "with open(text_file, 'r', encoding='utf8') as infile:\n",
    "    for line in infile:\n",
    "        pass"
   ]
  },
  {
   "cell_type": "markdown",
   "metadata": {},
   "source": [
    "how many couples do I need?\n",
    "\n",
    "I have 30 characters possible (26 letters + space, newline, full stop, exclamation point)"
   ]
  },
  {
   "cell_type": "code",
   "execution_count": 7,
   "metadata": {},
   "outputs": [
    {
     "data": {
      "text/plain": [
       "900"
      ]
     },
     "execution_count": 7,
     "metadata": {},
     "output_type": "execute_result"
    }
   ],
   "source": [
    "# first order chain\n",
    "30**2"
   ]
  },
  {
   "cell_type": "code",
   "execution_count": 8,
   "metadata": {},
   "outputs": [
    {
     "data": {
      "text/plain": [
       "27000"
      ]
     },
     "execution_count": 8,
     "metadata": {},
     "output_type": "execute_result"
    }
   ],
   "source": [
    "# second order chain\n",
    "30**3"
   ]
  },
  {
   "cell_type": "code",
   "execution_count": 9,
   "metadata": {},
   "outputs": [
    {
     "data": {
      "text/plain": [
       "810000"
      ]
     },
     "execution_count": 9,
     "metadata": {},
     "output_type": "execute_result"
    }
   ],
   "source": [
    "# third order chain\n",
    "30**4"
   ]
  },
  {
   "cell_type": "markdown",
   "metadata": {},
   "source": [
    "how many letters do we have in our corpus?"
   ]
  },
  {
   "cell_type": "code",
   "execution_count": 10,
   "metadata": {},
   "outputs": [
    {
     "name": "stdout",
     "output_type": "stream",
     "text": [
      "529771\n"
     ]
    }
   ],
   "source": [
    "letters = 0\n",
    "with open(text_file, 'r', encoding='utf8') as infile:\n",
    "    for line in infile:\n",
    "        for letter in line:\n",
    "            letters += 1\n",
    "print(letters)"
   ]
  },
  {
   "cell_type": "code",
   "execution_count": 11,
   "metadata": {},
   "outputs": [],
   "source": [
    "# how many and which letters do I have in my text?\n",
    "from collections import Counter\n",
    "observed = Counter()\n",
    "\n",
    "with open(text_file, 'r', encoding='utf8') as infile:\n",
    "    for line in infile:\n",
    "        for letter in line:\n",
    "            observed[letter] += 1"
   ]
  },
  {
   "cell_type": "code",
   "execution_count": 12,
   "metadata": {},
   "outputs": [
    {
     "data": {
      "text/plain": [
       "Counter({'\\ufeff': 1,\n",
       "         'N': 258,\n",
       "         'e': 46094,\n",
       "         'l': 23087,\n",
       "         ' ': 83019,\n",
       "         'm': 11681,\n",
       "         'z': 1848,\n",
       "         'o': 37254,\n",
       "         'd': 14599,\n",
       "         'c': 20267,\n",
       "         'a': 42035,\n",
       "         'i': 39200,\n",
       "         'n': 26229,\n",
       "         's': 22188,\n",
       "         't': 22478,\n",
       "         'r': 25805,\n",
       "         'v': 7946,\n",
       "         '\\n': 19053,\n",
       "         'p': 10790,\n",
       "         'u': 13408,\n",
       "         ',': 8513,\n",
       "         'h': 7109,\n",
       "         'é': 903,\n",
       "         '.': 3275,\n",
       "         'A': 377,\n",
       "         'q': 3025,\n",
       "         'è': 925,\n",
       "         'g': 7121,\n",
       "         'f': 4947,\n",
       "         '!': 232,\n",
       "         'T': 283,\n",
       "         '’': 7623,\n",
       "         'ù': 1080,\n",
       "         ';': 1628,\n",
       "         'b': 2758,\n",
       "         'ò': 938,\n",
       "         'I': 359,\n",
       "         'M': 405,\n",
       "         'à': 855,\n",
       "         'E': 586,\n",
       "         'ì': 1383,\n",
       "         'P': 473,\n",
       "         'Q': 328,\n",
       "         '«': 1062,\n",
       "         '»': 1062,\n",
       "         'R': 117,\n",
       "         ':': 988,\n",
       "         'ï': 427,\n",
       "         'ó': 30,\n",
       "         '?': 278,\n",
       "         'O': 356,\n",
       "         'V': 222,\n",
       "         'D': 407,\n",
       "         'C': 554,\n",
       "         'L': 411,\n",
       "         'S': 443,\n",
       "         'ë': 83,\n",
       "         '“': 51,\n",
       "         'B': 223,\n",
       "         '”': 51,\n",
       "         '—': 18,\n",
       "         '‘': 109,\n",
       "         'G': 199,\n",
       "         'F': 180,\n",
       "         'Z': 7,\n",
       "         'ü': 55,\n",
       "         'U': 43,\n",
       "         'H': 2,\n",
       "         'ö': 1,\n",
       "         'ä': 8,\n",
       "         'x': 3,\n",
       "         'y': 1,\n",
       "         '(': 3,\n",
       "         ')': 3,\n",
       "         'È': 2,\n",
       "         'j': 2,\n",
       "         'Ë': 2,\n",
       "         'Ï': 1,\n",
       "         '-': 1})"
      ]
     },
     "execution_count": 12,
     "metadata": {},
     "output_type": "execute_result"
    }
   ],
   "source": [
    "observed"
   ]
  },
  {
   "cell_type": "code",
   "execution_count": 13,
   "metadata": {},
   "outputs": [],
   "source": [
    "# how many and which letters do I have in my text?\n",
    "# try with a different encoding\n",
    "from collections import Counter\n",
    "observed = Counter()\n",
    "\n",
    "with open(text_file, 'r', encoding='utf-8-sig') as infile:\n",
    "    for line in infile:\n",
    "        for letter in line:\n",
    "            observed[letter] += 1"
   ]
  },
  {
   "cell_type": "code",
   "execution_count": 14,
   "metadata": {},
   "outputs": [
    {
     "data": {
      "text/plain": [
       "Counter({'N': 258,\n",
       "         'e': 46094,\n",
       "         'l': 23087,\n",
       "         ' ': 83019,\n",
       "         'm': 11681,\n",
       "         'z': 1848,\n",
       "         'o': 37254,\n",
       "         'd': 14599,\n",
       "         'c': 20267,\n",
       "         'a': 42035,\n",
       "         'i': 39200,\n",
       "         'n': 26229,\n",
       "         's': 22188,\n",
       "         't': 22478,\n",
       "         'r': 25805,\n",
       "         'v': 7946,\n",
       "         '\\n': 19053,\n",
       "         'p': 10790,\n",
       "         'u': 13408,\n",
       "         ',': 8513,\n",
       "         'h': 7109,\n",
       "         'é': 903,\n",
       "         '.': 3275,\n",
       "         'A': 377,\n",
       "         'q': 3025,\n",
       "         'è': 925,\n",
       "         'g': 7121,\n",
       "         'f': 4947,\n",
       "         '!': 232,\n",
       "         'T': 283,\n",
       "         '’': 7623,\n",
       "         'ù': 1080,\n",
       "         ';': 1628,\n",
       "         'b': 2758,\n",
       "         'ò': 938,\n",
       "         'I': 359,\n",
       "         'M': 405,\n",
       "         'à': 855,\n",
       "         'E': 586,\n",
       "         'ì': 1383,\n",
       "         'P': 473,\n",
       "         'Q': 328,\n",
       "         '«': 1062,\n",
       "         '»': 1062,\n",
       "         'R': 117,\n",
       "         ':': 988,\n",
       "         'ï': 427,\n",
       "         'ó': 30,\n",
       "         '?': 278,\n",
       "         'O': 356,\n",
       "         'V': 222,\n",
       "         'D': 407,\n",
       "         'C': 554,\n",
       "         'L': 411,\n",
       "         'S': 443,\n",
       "         'ë': 83,\n",
       "         '“': 51,\n",
       "         'B': 223,\n",
       "         '”': 51,\n",
       "         '—': 18,\n",
       "         '‘': 109,\n",
       "         'G': 199,\n",
       "         'F': 180,\n",
       "         'Z': 7,\n",
       "         'ü': 55,\n",
       "         'U': 43,\n",
       "         'H': 2,\n",
       "         'ö': 1,\n",
       "         'ä': 8,\n",
       "         'x': 3,\n",
       "         'y': 1,\n",
       "         '(': 3,\n",
       "         ')': 3,\n",
       "         'È': 2,\n",
       "         'j': 2,\n",
       "         'Ë': 2,\n",
       "         'Ï': 1,\n",
       "         '-': 1})"
      ]
     },
     "execution_count": 14,
     "metadata": {},
     "output_type": "execute_result"
    }
   ],
   "source": [
    "observed"
   ]
  },
  {
   "cell_type": "code",
   "execution_count": 26,
   "metadata": {},
   "outputs": [],
   "source": [
    "# we decide to normalize the uncommon letters\n",
    "to_replace = {'Ë': 'E', 'Ï': 'I', \n",
    "              'ö': 'o', 'ä': 'a', \n",
    "              'ü': 'u', 'ë': 'e', \n",
    "              'ï': 'i'}\n",
    "def letter_normalization_naive(letter):\n",
    "    if letter in to_replace:\n",
    "        return to_replace[letter] \n",
    "    return letter\n",
    "\n",
    "def letter_normalization_short(letter):\n",
    "    return to_replace.get(letter, letter)"
   ]
  },
  {
   "cell_type": "code",
   "execution_count": 27,
   "metadata": {},
   "outputs": [
    {
     "data": {
      "text/plain": [
       "'E'"
      ]
     },
     "execution_count": 27,
     "metadata": {},
     "output_type": "execute_result"
    }
   ],
   "source": [
    "letter_normalization_naive('Ë')"
   ]
  },
  {
   "cell_type": "code",
   "execution_count": 28,
   "metadata": {},
   "outputs": [
    {
     "data": {
      "text/plain": [
       "'E'"
      ]
     },
     "execution_count": 28,
     "metadata": {},
     "output_type": "execute_result"
    }
   ],
   "source": [
    "letter_normalization_short('Ë')"
   ]
  },
  {
   "cell_type": "code",
   "execution_count": 29,
   "metadata": {},
   "outputs": [
    {
     "name": "stdout",
     "output_type": "stream",
     "text": [
      "116 ns ± 2.36 ns per loop (mean ± std. dev. of 7 runs, 10000000 loops each)\n"
     ]
    }
   ],
   "source": [
    "%timeit letter_normalization_naive('Ë')"
   ]
  },
  {
   "cell_type": "code",
   "execution_count": 30,
   "metadata": {},
   "outputs": [
    {
     "name": "stdout",
     "output_type": "stream",
     "text": [
      "158 ns ± 2.01 ns per loop (mean ± std. dev. of 7 runs, 10000000 loops each)\n"
     ]
    }
   ],
   "source": [
    "%timeit letter_normalization_short('Ë')"
   ]
  },
  {
   "cell_type": "code",
   "execution_count": 31,
   "metadata": {},
   "outputs": [],
   "source": [
    "letter_normalization = letter_normalization_naive"
   ]
  },
  {
   "cell_type": "code",
   "execution_count": 32,
   "metadata": {},
   "outputs": [],
   "source": [
    "from collections import Counter\n",
    "observed = Counter()\n",
    "\n",
    "with open(text_file, 'r', encoding='utf-8-sig') as infile:\n",
    "    for line in infile:\n",
    "        for letter in line:\n",
    "            modified_letter = letter_normalization(letter)\n",
    "            observed[modified_letter] += 1"
   ]
  },
  {
   "cell_type": "code",
   "execution_count": 33,
   "metadata": {},
   "outputs": [
    {
     "data": {
      "text/plain": [
       "Counter({'N': 258,\n",
       "         'e': 46177,\n",
       "         'l': 23087,\n",
       "         ' ': 83019,\n",
       "         'm': 11681,\n",
       "         'z': 1848,\n",
       "         'o': 37255,\n",
       "         'd': 14599,\n",
       "         'c': 20267,\n",
       "         'a': 42043,\n",
       "         'i': 39627,\n",
       "         'n': 26229,\n",
       "         's': 22188,\n",
       "         't': 22478,\n",
       "         'r': 25805,\n",
       "         'v': 7946,\n",
       "         '\\n': 19053,\n",
       "         'p': 10790,\n",
       "         'u': 13463,\n",
       "         ',': 8513,\n",
       "         'h': 7109,\n",
       "         'é': 903,\n",
       "         '.': 3275,\n",
       "         'A': 377,\n",
       "         'q': 3025,\n",
       "         'è': 925,\n",
       "         'g': 7121,\n",
       "         'f': 4947,\n",
       "         '!': 232,\n",
       "         'T': 283,\n",
       "         '’': 7623,\n",
       "         'ù': 1080,\n",
       "         ';': 1628,\n",
       "         'b': 2758,\n",
       "         'ò': 938,\n",
       "         'I': 360,\n",
       "         'M': 405,\n",
       "         'à': 855,\n",
       "         'E': 588,\n",
       "         'ì': 1383,\n",
       "         'P': 473,\n",
       "         'Q': 328,\n",
       "         '«': 1062,\n",
       "         '»': 1062,\n",
       "         'R': 117,\n",
       "         ':': 988,\n",
       "         'ó': 30,\n",
       "         '?': 278,\n",
       "         'O': 356,\n",
       "         'V': 222,\n",
       "         'D': 407,\n",
       "         'C': 554,\n",
       "         'L': 411,\n",
       "         'S': 443,\n",
       "         '“': 51,\n",
       "         'B': 223,\n",
       "         '”': 51,\n",
       "         '—': 18,\n",
       "         '‘': 109,\n",
       "         'G': 199,\n",
       "         'F': 180,\n",
       "         'Z': 7,\n",
       "         'U': 43,\n",
       "         'H': 2,\n",
       "         'x': 3,\n",
       "         'y': 1,\n",
       "         '(': 3,\n",
       "         ')': 3,\n",
       "         'È': 2,\n",
       "         'j': 2,\n",
       "         '-': 1})"
      ]
     },
     "execution_count": 33,
     "metadata": {},
     "output_type": "execute_result"
    }
   ],
   "source": [
    "observed"
   ]
  },
  {
   "cell_type": "code",
   "execution_count": 34,
   "metadata": {},
   "outputs": [],
   "source": [
    "from random import choices"
   ]
  },
  {
   "cell_type": "code",
   "execution_count": 41,
   "metadata": {},
   "outputs": [
    {
     "name": "stdout",
     "output_type": "stream",
     "text": [
      "a ,v\n",
      "suì trdt r i ac\n"
     ]
    }
   ],
   "source": [
    "letters = list(observed.keys())\n",
    "occurrences = list(observed.values())\n",
    "generated = choices(letters, occurrences, k=20)\n",
    "collated = \"\".join(generated)\n",
    "print(collated)"
   ]
  },
  {
   "cell_type": "markdown",
   "metadata": {},
   "source": [
    "# first order markov chains"
   ]
  },
  {
   "cell_type": "markdown",
   "metadata": {},
   "source": [
    "we need to take our letters in couples\n",
    "\n",
    "if we have a text such \"home\"\n",
    "we want to obtain the couples:\n",
    "\n",
    "(h, o)\n",
    "(o, m)\n",
    "(m, e)"
   ]
  },
  {
   "cell_type": "code",
   "execution_count": 43,
   "metadata": {},
   "outputs": [
    {
     "data": {
      "text/plain": [
       "[('a', 1), ('b', 2), ('c', 3)]"
      ]
     },
     "execution_count": 43,
     "metadata": {},
     "output_type": "execute_result"
    }
   ],
   "source": [
    "list_1 = ['a', 'b', 'c']\n",
    "list_2 = [1, 2, 3]\n",
    "list(zip(list_1, list_2))"
   ]
  },
  {
   "cell_type": "code",
   "execution_count": 44,
   "metadata": {},
   "outputs": [
    {
     "data": {
      "text/plain": [
       "[('h', 'o'), ('o', 'm'), ('m', 'e')]"
      ]
     },
     "execution_count": 44,
     "metadata": {},
     "output_type": "execute_result"
    }
   ],
   "source": [
    "text = \"home\"\n",
    "list(zip(text, text[1:]))"
   ]
  },
  {
   "cell_type": "code",
   "execution_count": 42,
   "metadata": {},
   "outputs": [
    {
     "data": {
      "text/plain": [
       "[('h', 'o'), ('o', 'm'), ('m', 'e')]"
      ]
     },
     "execution_count": 42,
     "metadata": {},
     "output_type": "execute_result"
    }
   ],
   "source": [
    "def couples_from_seq(seq):\n",
    "    \"\"\"`seq` is a list of characters\"\"\"\n",
    "    return zip(seq, seq[1:])\n",
    "\n",
    "list(couples_from_seq('home'))"
   ]
  },
  {
   "cell_type": "code",
   "execution_count": 45,
   "metadata": {},
   "outputs": [],
   "source": [
    "with open(text_file, 'r', encoding='utf-8-sig') as infile:\n",
    "    whole_text = \"\".join(line for line in infile)"
   ]
  },
  {
   "cell_type": "code",
   "execution_count": 47,
   "metadata": {},
   "outputs": [
    {
     "name": "stdout",
     "output_type": "stream",
     "text": [
      "Nel mezzo del cammin di nostra vita\n",
      "mi ritrovai per una selva oscura,\n",
      "ché la diritta via era smarrita.\n",
      "\n",
      "Ahi quanto a dir\n"
     ]
    }
   ],
   "source": [
    "print(whole_text[:120])"
   ]
  },
  {
   "cell_type": "code",
   "execution_count": 50,
   "metadata": {},
   "outputs": [],
   "source": [
    "all_couples = list(couples_from_seq(whole_text))"
   ]
  },
  {
   "cell_type": "code",
   "execution_count": 51,
   "metadata": {},
   "outputs": [
    {
     "data": {
      "text/plain": [
       "[('N', 'e'),\n",
       " ('e', 'l'),\n",
       " ('l', ' '),\n",
       " (' ', 'm'),\n",
       " ('m', 'e'),\n",
       " ('e', 'z'),\n",
       " ('z', 'z'),\n",
       " ('z', 'o'),\n",
       " ('o', ' '),\n",
       " (' ', 'd')]"
      ]
     },
     "execution_count": 51,
     "metadata": {},
     "output_type": "execute_result"
    }
   ],
   "source": [
    "all_couples[:10]"
   ]
  },
  {
   "cell_type": "code",
   "execution_count": 55,
   "metadata": {},
   "outputs": [
    {
     "data": {
      "text/plain": [
       "defaultdict(collections.Counter, {'b': Counter({'a': 1})})"
      ]
     },
     "execution_count": 55,
     "metadata": {},
     "output_type": "execute_result"
    }
   ],
   "source": [
    "from collections import defaultdict\n",
    "foo = defaultdict(Counter)\n",
    "foo['b']['a'] += 1\n",
    "foo"
   ]
  },
  {
   "cell_type": "code",
   "execution_count": 56,
   "metadata": {},
   "outputs": [
    {
     "data": {
      "text/plain": [
       "Counter({'a': 1})"
      ]
     },
     "execution_count": 56,
     "metadata": {},
     "output_type": "execute_result"
    }
   ],
   "source": [
    "foo['b']"
   ]
  },
  {
   "cell_type": "code",
   "execution_count": null,
   "metadata": {},
   "outputs": [],
   "source": [
    "# defaultdict allow me to avoid this check:\n",
    "if 'c' not in foo:\n",
    "    foo['c'] = Counter()\n",
    "# and just leave this command\n",
    "foo['c'] ['a'] += 1"
   ]
  },
  {
   "cell_type": "code",
   "execution_count": 57,
   "metadata": {},
   "outputs": [],
   "source": [
    "from collections import defaultdict\n",
    "# Counter ~= defaultdict(int)\n",
    "couples_counter = defaultdict(Counter)\n",
    "for first_letter, second_letter in all_couples:\n",
    "    counter_of_first_letter = couples_counter[first_letter]\n",
    "    counter_of_first_letter[second_letter] += 1"
   ]
  },
  {
   "cell_type": "code",
   "execution_count": 75,
   "metadata": {},
   "outputs": [],
   "source": [
    "# too big for visualization?\n",
    "# couples_counter"
   ]
  },
  {
   "cell_type": "code",
   "execution_count": 61,
   "metadata": {},
   "outputs": [
    {
     "data": {
      "text/plain": [
       "529769"
      ]
     },
     "execution_count": 61,
     "metadata": {},
     "output_type": "execute_result"
    }
   ],
   "source": [
    "sum(sum(counts.values()) for counts in couples_counter.values())"
   ]
  },
  {
   "cell_type": "code",
   "execution_count": 71,
   "metadata": {},
   "outputs": [
    {
     "data": {
      "text/plain": [
       "'o'"
      ]
     },
     "execution_count": 71,
     "metadata": {},
     "output_type": "execute_result"
    }
   ],
   "source": [
    "letter = 'N'\n",
    "letter_counts = couples_counter[letter]\n",
    "possible_letters = list(letter_counts.keys())\n",
    "counts = list(letter_counts.values())\n",
    "next_letter = choices(possible_letters, counts)[0]\n",
    "next_letter"
   ]
  },
  {
   "cell_type": "code",
   "execution_count": 74,
   "metadata": {},
   "outputs": [
    {
     "name": "stdout",
     "output_type": "stream",
     "text": [
      "No ial’i: co veterondonn sesa is’a pa norarni\n",
      "nce draiere piolì che qu fomoronte: ppe ’ fuià dè e pi,\n",
      "atiagi vi s’lli ’ cit’ ch’ fe coruto figua sso pienco v’a be ge\n",
      "Ver eropuan de,\n",
      "\n",
      "Qu qumer ce so,\n",
      "so\n"
     ]
    }
   ],
   "source": [
    "text = ['N']\n",
    "for i in range(200):\n",
    "    last_letter = text[-1]\n",
    "    letter_counts = couples_counter[last_letter]\n",
    "    possible_letters = list(letter_counts.keys())\n",
    "    counts = list(letter_counts.values())\n",
    "    next_letter = choices(possible_letters, counts)[0]  \n",
    "    text.append(next_letter)\n",
    "print(\"\".join(text))"
   ]
  },
  {
   "cell_type": "markdown",
   "metadata": {},
   "source": [
    "# exercise\n",
    "\n",
    "write a code that generates few hundred letters using arbitrary long markov chains, such as triples and quadruplets, and discuss the resulting text"
   ]
  },
  {
   "cell_type": "code",
   "execution_count": null,
   "metadata": {},
   "outputs": [],
   "source": []
  }
 ],
 "metadata": {
  "kernelspec": {
   "display_name": "Python 3",
   "language": "python",
   "name": "python3"
  },
  "language_info": {
   "codemirror_mode": {
    "name": "ipython",
    "version": 3
   },
   "file_extension": ".py",
   "mimetype": "text/x-python",
   "name": "python",
   "nbconvert_exporter": "python",
   "pygments_lexer": "ipython3",
   "version": "3.6.7"
  }
 },
 "nbformat": 4,
 "nbformat_minor": 2
}
