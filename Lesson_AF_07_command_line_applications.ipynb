{
 "cells": [
  {
   "cell_type": "markdown",
   "metadata": {
    "slideshow": {
     "slide_type": "slide"
    }
   },
   "source": [
    "# writing command line applications\n",
    "\n",
    "## using *plumbum*"
   ]
  },
  {
   "cell_type": "markdown",
   "metadata": {
    "slideshow": {
     "slide_type": "slide"
    }
   },
   "source": [
    "Command line applications are a generalization of the idea of script: the execution of the program is conditioned on some parameters provided by the user.\n",
    "\n",
    "This is typically done using **options**, **parameters** and **flags**, and are the typical interface used by bash programs."
   ]
  },
  {
   "cell_type": "markdown",
   "metadata": {
    "slideshow": {
     "slide_type": "slide"
    }
   },
   "source": [
    "## Why applications?\n",
    "\n",
    "functionalities implemented as CLI applications share a lot of the advantages with libraries\n",
    "\n",
    "1. Commands are repeatable\n",
    "2. Commands can be shared\n",
    "3. Commands ca be automated (and this scales well)\n",
    "4. Commands should be readable\n",
    "5. Commands can be composed together"
   ]
  },
  {
   "cell_type": "markdown",
   "metadata": {
    "slideshow": {
     "slide_type": "slide"
    }
   },
   "source": [
    "In this lesson we will (quickly) overview how to implement one of these program, leveraging a 3rd party library called **plumbum**\n",
    "\n",
    "Everything we are doing today with **plumbum** can be done in a reasonable way in basic python, but plumbum will provide us a more simple and consistent way of doing it."
   ]
  },
  {
   "cell_type": "code",
   "execution_count": 1,
   "metadata": {
    "slideshow": {
     "slide_type": "slide"
    }
   },
   "outputs": [
    {
     "name": "stdout",
     "output_type": "stream",
     "text": [
      "(1, 6, 9)\n"
     ]
    }
   ],
   "source": [
    "import plumbum\n",
    "# this script uses plumbum version 1.6.9\n",
    "print(plumbum.__version__)"
   ]
  },
  {
   "cell_type": "markdown",
   "metadata": {
    "slideshow": {
     "slide_type": "slide"
    }
   },
   "source": [
    "## CLI application good practices"
   ]
  },
  {
   "cell_type": "markdown",
   "metadata": {
    "slideshow": {
     "slide_type": "slide"
    }
   },
   "source": [
    "### Errors management\n",
    "\n",
    "\n",
    "#### clean up after yourself, especially on errors\n",
    "If something goes wrong, try to avoid leaving the system in an invalid state, and clean unnecessary files\n",
    "\n",
    "#### allow if possible to recover partial results\n",
    "This is especially important in long executions: take a hint from the snakemake approach, and try to have partial results stored as temporary files to avoid unnecessary repetition when possible"
   ]
  },
  {
   "cell_type": "markdown",
   "metadata": {
    "slideshow": {
     "slide_type": "slide"
    }
   },
   "source": [
    "#### try to be robust to bad data and configuration\n",
    "it is better to do less things, but making sure that those things are well covered and the program will not trow a fit for some input data in an awkward format.\n",
    "\n",
    "Utilities should handle arbitrarily long lines, huge files, and so on.\n",
    "It is perhaps tolerable for a utility to fail on a data set larger than it can hold in memory, but some utilities don't do this.\n",
    "for instance, sort, by using temporary files, can generally sort data sets much larger than it can hold in memory. "
   ]
  },
  {
   "cell_type": "markdown",
   "metadata": {
    "slideshow": {
     "slide_type": "slide"
    }
   },
   "source": [
    "#### Exit with different error codes\n",
    "this is the values that is returned by the **main**\n",
    "0 means success, any other number means failure\n",
    "the best solution is to code each error to a specific return value (and document it)"
   ]
  },
  {
   "cell_type": "markdown",
   "metadata": {
    "slideshow": {
     "slide_type": "slide"
    }
   },
   "source": [
    "### User interaction\n",
    "\n",
    "\n",
    "#### give feedback for task longer than a second or two (such as progress bars)\n",
    "Users might worry that something has gone wrong and just kill the process if they have to wait without any prompt that the program is doing something.\n",
    "Even better, try to use a progress bar with a time estimate (plumbum has you covered)\n",
    "\n",
    "#### let the user control the level of verbosity of the output\n",
    "include a `--verbose`, a `--terse` and a `--silent` option to allow the user to control the level of feedback they wants"
   ]
  },
  {
   "cell_type": "markdown",
   "metadata": {
    "slideshow": {
     "slide_type": "slide"
    }
   },
   "source": [
    "#### Colour code your output\n",
    "\n",
    "Ideally, your script should:\n",
    "* output white/default (it’s the foreground process), \n",
    "* child processes should output grey (usually not needed unless things screw up), \n",
    "* success should be denoted with green, \n",
    "* failure, red, and \n",
    "* warnings in yellow."
   ]
  },
  {
   "cell_type": "markdown",
   "metadata": {
    "slideshow": {
     "slide_type": "slide"
    }
   },
   "source": [
    "#### Have both short ie one letter (Eg `-h`) and long forms (eg `--help`) of the command's switches\n",
    "long format helps readability and long term maintanability, and are good for scripting and manuals\n",
    "\n",
    "short forms are useful for manual input, especially of commonly used options (don't waste the user time)"
   ]
  },
  {
   "cell_type": "markdown",
   "metadata": {
    "slideshow": {
     "slide_type": "slide"
    }
   },
   "source": [
    "#### Ask for confirmation for irreversible action\n",
    "such as deleting data, changing informations without backup, etc...\n",
    "\n",
    "there should be an option to make this automatic, but the user should be protected from involuntary changes to the system.\n",
    "\n",
    "Even better, while asking for confirmation, also suggest which is the option to turn it off"
   ]
  },
  {
   "cell_type": "markdown",
   "metadata": {
    "slideshow": {
     "slide_type": "slide"
    }
   },
   "source": [
    "### Documentation\n",
    "\n",
    "#### consider adding a `help` sub command\n",
    "alongside the `--help` flag, consider including an help command that contains information about various topics\n",
    "\n",
    "#### provide some use cases in the documentation\n",
    "Especially if the case uses are not trivial, with many interlocked features interacting with each other.\n",
    "\n",
    "And, is possible, put them nearby the start of the documentation, rather than at the end."
   ]
  },
  {
   "cell_type": "markdown",
   "metadata": {
    "slideshow": {
     "slide_type": "slide"
    }
   },
   "source": [
    "#### In case of mistakes try suggesting common correction techniques\n",
    "Git again does this perfectly: when something goes wrong, it also suggest reliable methods to correct the bad situation, without covering this information in \"output noise\"\n",
    "\n",
    "#### make common commands memorable\n",
    "Don't use weird names, inside jokes, abstract references, words referring to implementation details (unless relevant).\n",
    "\n",
    "keep it simple and easy to remember."
   ]
  },
  {
   "cell_type": "markdown",
   "metadata": {
    "slideshow": {
     "slide_type": "slide"
    }
   },
   "source": [
    "### Configuration\n",
    "\n",
    "\n",
    "#### Work independently of current working directory\n",
    "use only absolute paths (/path/to/something) and paths relative to the script (demonstrated below)\n",
    "\n",
    "#### consider using configuration files\n",
    "This allows a greater deal of automation and configurability, reducing the load on the user to write all the options by hand.\n",
    "\n",
    "on the other hand, a configuration file should never be a necessity, and everything should be used as an option"
   ]
  },
  {
   "cell_type": "markdown",
   "metadata": {
    "slideshow": {
     "slide_type": "slide"
    }
   },
   "source": [
    "#### all the options that can have a default value, should have one\n",
    "Ideally, the program should be executable without specifying any option.\n",
    "\n",
    "compulsory options are probably candidates for sub-commands"
   ]
  },
  {
   "cell_type": "markdown",
   "metadata": {
    "slideshow": {
     "slide_type": "slide"
    }
   },
   "source": [
    "### Interface\n",
    "\n",
    "#### try to be consistent with other GNU tools : \n",
    "For example see a list of options from other GNU tools and if possible try to align to them\n",
    "\n",
    "http://www.catb.org/esr/writings/taoup/html/ch10s05.html\n",
    "\n",
    "https://www.gnu.org/prep/standards/standards.html\n",
    "\n",
    "#### play well with pipes and allow input and output to files\n",
    "To play well with pipes it should read and write to stdout by default, but the user should be free to redirect to file if necessary"
   ]
  },
  {
   "cell_type": "markdown",
   "metadata": {
    "slideshow": {
     "slide_type": "slide"
    }
   },
   "source": [
    "#### If a command has a side effect provide a dry-run/whatif/no_post option.\n",
    "don't let the user jump blindly without checking what would happen.\n",
    "\n",
    "This also allows the user to find possible mistakes faster and with less risks\n",
    "\n",
    "Snakemake perfors this very well."
   ]
  },
  {
   "cell_type": "markdown",
   "metadata": {
    "slideshow": {
     "slide_type": "slide"
    }
   },
   "source": [
    "#### everything should be doable in a script, without human interaction\n",
    "To allow the program to be fully used in script and automated, it should always be possible to execute it without any input from the user.\n",
    "\n",
    "When possible, this should be the preferred behavior\n",
    "\n",
    "#### try to make it composable\n",
    "programs that play nicely with other can be used to implement even more complicated pipelines and programs."
   ]
  },
  {
   "cell_type": "markdown",
   "metadata": {
    "slideshow": {
     "slide_type": "slide"
    }
   },
   "source": [
    "#### conside adding switches to both turn on and off behaviors\n",
    "If a switch is in the long-form (for example --foo), which turns “on” some behavior (that is off by default), there should also be another switch that turns “off” the behavior.\n",
    "\n",
    "This allow the user to be more explicit and change-proof the script for future change of default behavior"
   ]
  },
  {
   "cell_type": "markdown",
   "metadata": {
    "slideshow": {
     "slide_type": "slide"
    }
   },
   "source": [
    "#### consider using a long informative name for you app\n",
    "\n",
    "the GNU convention is to use 2 or 3 letters names, but if one can avoid it, the deafult program name should be something either explicit or memorable.\n",
    "\n",
    "The user has always the option to alias it to something shorter."
   ]
  },
  {
   "cell_type": "markdown",
   "metadata": {
    "slideshow": {
     "slide_type": "slide"
    }
   },
   "source": [
    "#### if no output is necessary, avoid output unless required\n",
    "that's what the `--verbose` option is for.\n",
    "\n",
    "if the program performs an action and doesn't have to return a result in case of success (such as moving a file, changing directory, etc...), the user should see an output only in case of errors or if the verbose option is selected.\n",
    "\n",
    "This makes the program more script friendly"
   ]
  },
  {
   "cell_type": "markdown",
   "metadata": {
    "slideshow": {
     "slide_type": "slide"
    }
   },
   "source": [
    "## Preface - utilities\n",
    "\n",
    "Plumbum provides us some simple utilities to quickly improve the experience of the user when using the application we are writing"
   ]
  },
  {
   "cell_type": "markdown",
   "metadata": {
    "slideshow": {
     "slide_type": "slide"
    }
   },
   "source": [
    "### colored text output\n",
    "\n",
    "```python\n",
    "from plumbum import colors\n",
    "# this will not work in jupyter notebooks\n",
    "print(colors.green & colors.bold | \"This is green and bold.\")\n",
    "```"
   ]
  },
  {
   "cell_type": "markdown",
   "metadata": {
    "slideshow": {
     "slide_type": "slide"
    }
   },
   "source": [
    "#### note on windows terminal\n",
    "\n",
    "terminal on windows does not agree with standard color commands.\n",
    "\n",
    "If you want to have colored output you can either:\n",
    "* force the usage of color with the global flag `colors.use_color=True`\n",
    "* use a different library called **colorama**"
   ]
  },
  {
   "cell_type": "markdown",
   "metadata": {
    "slideshow": {
     "slide_type": "slide"
    }
   },
   "source": [
    "### image visualization in the terminal\n",
    "\n",
    "```python\n",
    "from PIL import Image as imreader\n",
    "from plumbum.cli.image import Image as imdisplay\n",
    "im = imreader.open(\"fractal_wrongness.png\")\n",
    "# does not work with jupyter\n",
    "imdisplay().show_pil(im)\n",
    "```"
   ]
  },
  {
   "cell_type": "markdown",
   "metadata": {
    "slideshow": {
     "slide_type": "slide"
    }
   },
   "source": [
    "### progress bars"
   ]
  },
  {
   "cell_type": "code",
   "execution_count": 196,
   "metadata": {
    "slideshow": {
     "slide_type": "-"
    }
   },
   "outputs": [
    {
     "name": "stdout",
     "output_type": "stream",
     "text": [
      "                                                                                                                                    \r"
     ]
    }
   ],
   "source": [
    "# progress bars\n",
    "from plumbum.cli.terminal import Progress\n",
    "import time\n",
    "\n",
    "for i in Progress.range(10):\n",
    "    time.sleep(0.2)"
   ]
  },
  {
   "cell_type": "markdown",
   "metadata": {
    "slideshow": {
     "slide_type": "slide"
    }
   },
   "source": [
    "### configurations files\n",
    "\n",
    "python equivalent - **ConfigParser**"
   ]
  },
  {
   "cell_type": "code",
   "execution_count": 32,
   "metadata": {
    "slideshow": {
     "slide_type": "slide"
    }
   },
   "outputs": [
    {
     "name": "stdout",
     "output_type": "stream",
     "text": [
      "Overwriting .myapp_rc\n"
     ]
    }
   ],
   "source": [
    "%%file .myapp_rc\n",
    "[DEFAULT]\n",
    "three=3\n",
    "\n",
    "[OTHER]\n",
    "a=3"
   ]
  },
  {
   "cell_type": "code",
   "execution_count": 33,
   "metadata": {
    "slideshow": {
     "slide_type": "slide"
    }
   },
   "outputs": [
    {
     "name": "stdout",
     "output_type": "stream",
     "text": [
      "3 2 3\n"
     ]
    }
   ],
   "source": [
    "from plumbum import cli\n",
    "\n",
    "with cli.ConfigINI('.myapp_rc') as conf:\n",
    "    one = conf['three']\n",
    "    two = conf.get('one', default='2')\n",
    "    three = conf.get('OTHER.a')\n",
    "    \n",
    "    # changing the configuration file\n",
    "    conf['OTHER.b'] = 4\n",
    "print(one, two, three)"
   ]
  },
  {
   "cell_type": "code",
   "execution_count": 34,
   "metadata": {
    "slideshow": {
     "slide_type": "slide"
    }
   },
   "outputs": [
    {
     "name": "stdout",
     "output_type": "stream",
     "text": [
      "[DEFAULT]\r\n",
      "three = 3\r\n",
      "one = 2\r\n",
      "\r\n",
      "[OTHER]\r\n",
      "a = 3\r\n",
      "b = 4\r\n",
      "\r\n"
     ]
    }
   ],
   "source": [
    "!cat .myapp_rc"
   ]
  },
  {
   "cell_type": "markdown",
   "metadata": {
    "slideshow": {
     "slide_type": "slide"
    }
   },
   "source": [
    "### reading user input\n",
    "\n",
    "python equivalent -- `rawinput` function"
   ]
  },
  {
   "cell_type": "code",
   "execution_count": 36,
   "metadata": {
    "slideshow": {
     "slide_type": "-"
    }
   },
   "outputs": [
    {
     "name": "stdout",
     "output_type": "stream",
     "text": [
      "favorite color?\n",
      "(1) red\n",
      "(2) green\n",
      "(3) blue\n",
      "Choice [3]: "
     ]
    },
    {
     "data": {
      "text/plain": [
       "'blue'"
      ]
     },
     "execution_count": 36,
     "metadata": {},
     "output_type": "execute_result"
    }
   ],
   "source": [
    "import plumbum.cli.terminal as terminal\n",
    "# see also ask and prompt\n",
    "terminal.choose(\"favorite color?\", ['red', 'green', 'blue'], default='blue')"
   ]
  },
  {
   "cell_type": "markdown",
   "metadata": {
    "slideshow": {
     "slide_type": "slide"
    }
   },
   "source": [
    "### the local computer\n",
    "\n",
    "python equivalent - **subprocesses**"
   ]
  },
  {
   "cell_type": "code",
   "execution_count": 43,
   "metadata": {
    "slideshow": {
     "slide_type": "fragment"
    }
   },
   "outputs": [
    {
     "name": "stdout",
     "output_type": "stream",
     "text": [
      "['Code dump.ipynb', 'Conda_Environment_instructions.txt', 'directory_structure.png', 'directory_structure.svg']\n"
     ]
    }
   ],
   "source": [
    "from plumbum import local\n",
    "ls = local[\"ls\"]\n",
    "print(ls().splitlines()[:4])"
   ]
  },
  {
   "cell_type": "markdown",
   "metadata": {
    "slideshow": {
     "slide_type": "slide"
    }
   },
   "source": [
    "the `local.cmd` dynamically loads programs from the environment.\n",
    "\n",
    "There is actually no such package, everything is created on the fly!"
   ]
  },
  {
   "cell_type": "code",
   "execution_count": 44,
   "metadata": {
    "slideshow": {
     "slide_type": "fragment"
    }
   },
   "outputs": [],
   "source": [
    "from plumbum.cmd import grep, cat"
   ]
  },
  {
   "cell_type": "markdown",
   "metadata": {
    "slideshow": {
     "slide_type": "slide"
    }
   },
   "source": [
    "Programs can be combined in pipes in the same way as one could do in the bash shell.\n",
    "\n",
    "these pipes, in the same way as the individual programs, are not run until called"
   ]
  },
  {
   "cell_type": "code",
   "execution_count": 49,
   "metadata": {
    "slideshow": {
     "slide_type": "fragment"
    }
   },
   "outputs": [
    {
     "data": {
      "text/plain": [
       "Pipeline(LocalCommand(/bin/ls), BoundCommand(LocalCommand(/bin/grep), ['.png']))"
      ]
     },
     "execution_count": 49,
     "metadata": {},
     "output_type": "execute_result"
    }
   ],
   "source": [
    "ls|grep['.png']"
   ]
  },
  {
   "cell_type": "code",
   "execution_count": 52,
   "metadata": {
    "slideshow": {
     "slide_type": "fragment"
    }
   },
   "outputs": [
    {
     "name": "stdout",
     "output_type": "stream",
     "text": [
      "directory_structure.png\n",
      "file_inode_permissions.png\n",
      "fractal_wrongness.png\n",
      "OS_structure.png\n",
      "__temp_ipython__.png\n",
      "users_and_groups.png\n",
      "\n"
     ]
    }
   ],
   "source": [
    "pipe = ls|grep['.png']\n",
    "print(pipe())"
   ]
  },
  {
   "cell_type": "markdown",
   "metadata": {
    "slideshow": {
     "slide_type": "slide"
    }
   },
   "source": [
    "### background and foreground execution\n",
    "```python\n",
    "from plumbum import FG, BG\n",
    "ls[\"-l\"] & FG\n",
    "```"
   ]
  },
  {
   "cell_type": "markdown",
   "metadata": {
    "slideshow": {
     "slide_type": "slide"
    }
   },
   "source": [
    "### input-output redirection\n",
    "```python\n",
    "import sys\n",
    "((grep[\"world\"] < sys.stdin) > \"tmp.txt\")()\n",
    "cat(\"tmp.txt\")\n",
    "```"
   ]
  },
  {
   "cell_type": "code",
   "execution_count": 56,
   "metadata": {
    "slideshow": {
     "slide_type": "fragment"
    }
   },
   "outputs": [
    {
     "data": {
      "text/plain": [
       "'foo\\n'"
      ]
     },
     "execution_count": 56,
     "metadata": {},
     "output_type": "execute_result"
    }
   ],
   "source": [
    "pipe = (cat << \"hello world\\nfoo\\nbar\\spam\" | grep[\"oo\"])\n",
    "pipe()"
   ]
  },
  {
   "cell_type": "code",
   "execution_count": 170,
   "metadata": {
    "slideshow": {
     "slide_type": "slide"
    }
   },
   "outputs": [
    {
     "name": "stdout",
     "output_type": "stream",
     "text": [
      "/home/enrico/didattica/corso_programmazione_1819/programmingCourseDIFA/myapp\n"
     ]
    }
   ],
   "source": [
    "# temporarely change the working directory\n",
    "with local.cwd(local.cwd / \"myapp\"):\n",
    "    print(local.cwd)"
   ]
  },
  {
   "cell_type": "markdown",
   "metadata": {
    "slideshow": {
     "slide_type": "slide"
    }
   },
   "source": [
    "### remote connection to other machines"
   ]
  },
  {
   "cell_type": "code",
   "execution_count": null,
   "metadata": {
    "slideshow": {
     "slide_type": "slide"
    }
   },
   "outputs": [],
   "source": [
    "from plumbum import SshMachine\n",
    "rem = SshMachine(\"hostname\", user = \"john\", keyfile = \"/path/to/idrsa\")\n",
    "rem.close()"
   ]
  },
  {
   "cell_type": "code",
   "execution_count": null,
   "metadata": {
    "slideshow": {
     "slide_type": "slide"
    }
   },
   "outputs": [],
   "source": [
    "# connect to a remote machine \n",
    "with SshMachine(\"hostname\", user = \"john\", keyfile = \"/path/to/idrsa\") as rem:\n",
    "    pass"
   ]
  },
  {
   "cell_type": "code",
   "execution_count": null,
   "metadata": {
    "slideshow": {
     "slide_type": "slide"
    }
   },
   "outputs": [],
   "source": [
    "# temporarely change the working directory in the remote server\n",
    "with rem.cwd(rem.cwd / \"Desktop\"):\n",
    "    print(rem.cwd)"
   ]
  },
  {
   "cell_type": "code",
   "execution_count": null,
   "metadata": {
    "slideshow": {
     "slide_type": "slide"
    }
   },
   "outputs": [],
   "source": [
    "# port tunneling\n",
    "with rem.tunnel(6666, 8888):\n",
    "    pass"
   ]
  },
  {
   "cell_type": "code",
   "execution_count": null,
   "metadata": {
    "slideshow": {
     "slide_type": "slide"
    }
   },
   "outputs": [],
   "source": [
    "# local grep of a remote ls\n",
    "from plumbum.cmd import grep\n",
    "r_ls = rem[\"ls\"]\n",
    "pipe = r_ls | grep[\"b\"]\n",
    "pipe()"
   ]
  },
  {
   "cell_type": "markdown",
   "metadata": {
    "slideshow": {
     "slide_type": "slide"
    }
   },
   "source": [
    "# Command line programs\n",
    "\n",
    "In python any script can be at the same time a library and a command line program. (better to keep them separate anyway, just because you can, doesn't mean that you should!)\n",
    "\n",
    "All the code in the general section of the script is executed everytime the script is imported as a library, but one can set a part of the code to be run only when the script is called as a command line program.\n",
    "\n",
    "this is achieved by testing the `__name__` parameter of the program (a special variable that the interpreter set at the start), that when executed as a program is set to the string `\"__main__\"`."
   ]
  },
  {
   "cell_type": "code",
   "execution_count": 183,
   "metadata": {
    "slideshow": {
     "slide_type": "slide"
    }
   },
   "outputs": [
    {
     "name": "stdout",
     "output_type": "stream",
     "text": [
      "Writing my_first_app.py\n"
     ]
    }
   ],
   "source": [
    "%%file my_first_app.py\n",
    "\n",
    "def mysum(a, b):\n",
    "    return a+b\n",
    "\n",
    "print(\"this will be executed everytime\")\n",
    "\n",
    "if __name__=='__main__':\n",
    "    print(\"this will be executed only on the command line\")"
   ]
  },
  {
   "cell_type": "code",
   "execution_count": 185,
   "metadata": {
    "slideshow": {
     "slide_type": "slide"
    }
   },
   "outputs": [
    {
     "name": "stdout",
     "output_type": "stream",
     "text": [
      "this will be executed everytime\r\n"
     ]
    }
   ],
   "source": [
    "# this execute a single python command and quit\n",
    "!python3 -c \"import my_first_app\""
   ]
  },
  {
   "cell_type": "code",
   "execution_count": 186,
   "metadata": {
    "slideshow": {
     "slide_type": "fragment"
    }
   },
   "outputs": [
    {
     "name": "stdout",
     "output_type": "stream",
     "text": [
      "this will be executed everytime\r\n",
      "this will be executed only on the command line\r\n"
     ]
    }
   ],
   "source": [
    "!python3 ./my_first_app.py"
   ]
  },
  {
   "cell_type": "markdown",
   "metadata": {
    "slideshow": {
     "slide_type": "slide"
    }
   },
   "source": [
    "This method could be used directly to implement very simple applications, by reading the arguments using `sys.argv`, and then parsing them by hand, but it's not very comfortable"
   ]
  },
  {
   "cell_type": "code",
   "execution_count": 189,
   "metadata": {
    "slideshow": {
     "slide_type": "fragment"
    }
   },
   "outputs": [
    {
     "name": "stdout",
     "output_type": "stream",
     "text": [
      "Overwriting my_first_app.py\n"
     ]
    }
   ],
   "source": [
    "%%file my_first_app.py\n",
    "if __name__=='__main__':\n",
    "    import sys\n",
    "    print(sys.argv)"
   ]
  },
  {
   "cell_type": "code",
   "execution_count": 190,
   "metadata": {
    "slideshow": {
     "slide_type": "fragment"
    }
   },
   "outputs": [
    {
     "name": "stdout",
     "output_type": "stream",
     "text": [
      "['./my_first_app.py', 'arg1', 'arg2']\r\n"
     ]
    }
   ],
   "source": [
    "!python3 ./my_first_app.py arg1 arg2"
   ]
  },
  {
   "cell_type": "markdown",
   "metadata": {
    "slideshow": {
     "slide_type": "slide"
    }
   },
   "source": [
    "Python comes with a module that provide automatic arguments and options parsing, and works reasonably well, called `argparse`, that can be used in situations where external libraries can't be installed.\n",
    "\n",
    "the official tutorial can be found on the [python documentation](https://docs.python.org/dev/howto/argparse.html)\n",
    "\n",
    "It works, but it creates a code that is usually hard to read and manage when the options get more complicated.\n",
    "\n",
    "it is also missing all the support classes and functions that plumbum provides and that make easier to create high quality CLI"
   ]
  },
  {
   "cell_type": "code",
   "execution_count": 193,
   "metadata": {
    "slideshow": {
     "slide_type": "slide"
    }
   },
   "outputs": [
    {
     "name": "stdout",
     "output_type": "stream",
     "text": [
      "Overwriting my_first_app.py\n"
     ]
    }
   ],
   "source": [
    "%%file my_first_app.py\n",
    "if __name__=='__main__':\n",
    "    import argparse\n",
    "    parser = argparse.ArgumentParser()\n",
    "    parser.add_argument(\"echo\", help=\"echo the string you use here\")\n",
    "    \n",
    "    args = parser.parse_args()\n",
    "    \n",
    "    print(\"the received string is: {}\".format(args.echo))"
   ]
  },
  {
   "cell_type": "code",
   "execution_count": 195,
   "metadata": {
    "slideshow": {
     "slide_type": "slide"
    }
   },
   "outputs": [
    {
     "name": "stdout",
     "output_type": "stream",
     "text": [
      "usage: my_first_app.py [-h] echo\r\n",
      "\r\n",
      "positional arguments:\r\n",
      "  echo        echo the string you use here\r\n",
      "\r\n",
      "optional arguments:\r\n",
      "  -h, --help  show this help message and exit\r\n"
     ]
    }
   ],
   "source": [
    "!python3 ./my_first_app.py --help"
   ]
  },
  {
   "cell_type": "code",
   "execution_count": 194,
   "metadata": {
    "slideshow": {
     "slide_type": "fragment"
    }
   },
   "outputs": [
    {
     "name": "stdout",
     "output_type": "stream",
     "text": [
      "the received string is: to_be_said\r\n"
     ]
    }
   ],
   "source": [
    "!python3 ./my_first_app.py to_be_said"
   ]
  },
  {
   "cell_type": "markdown",
   "metadata": {
    "slideshow": {
     "slide_type": "slide"
    }
   },
   "source": [
    "# Command line classes\n",
    "\n",
    "command line applications can be imagined as structured in a similar way to a function:\n",
    "\n",
    "There are a certain number of ordinal arguments, and a certain number of named options.\n",
    "\n",
    "*flags* are thebinary options, so they relate to named paramaters with boolean options.\n",
    "\n",
    "Tipically the arguments are the main focus of the program, while the option determines exactly how the execution is performed.\n",
    "My suggestion would be to allow to always pass values as optsion alongside as arguments, as it allows to improve the readibility of the commands in a script."
   ]
  },
  {
   "cell_type": "markdown",
   "metadata": {
    "slideshow": {
     "slide_type": "slide"
    }
   },
   "source": [
    "The design approach of plumbum is that a program is a class.\n",
    "\n",
    "Options and flags connect to methods that configure the **self** attributes\n",
    "\n",
    "Parameters are given to a **main** function that is the method that performs the program execution.\n",
    "\n",
    "The **main** function have access to the results of the configuration as the configured **self** instance."
   ]
  },
  {
   "cell_type": "code",
   "execution_count": 176,
   "metadata": {
    "slideshow": {
     "slide_type": "slide"
    }
   },
   "outputs": [
    {
     "name": "stdout",
     "output_type": "stream",
     "text": [
      "Overwriting my_app.py\n"
     ]
    }
   ],
   "source": [
    "%%file my_app.py\n",
    "from plumbum import cli\n",
    "\n",
    "class MyApp(cli.Application):\n",
    "    \"\"\"returns the square of a number\n",
    "    \"\"\"\n",
    "    PROGNAME = \"MyGloriousApp\" # these are special values that Plumbum parses\n",
    "    VERSION = \"0.1\" # these are special values that Plumbum parses\n",
    "    \n",
    "    def main(self, value: float):\n",
    "        #value = float(value)\n",
    "        print(\"result: {}\".format(value**2))\n",
    "\n",
    "if __name__ == \"__main__\":\n",
    "    MyApp()"
   ]
  },
  {
   "cell_type": "code",
   "execution_count": 177,
   "metadata": {
    "slideshow": {
     "slide_type": "slide"
    }
   },
   "outputs": [
    {
     "name": "stdout",
     "output_type": "stream",
     "text": [
      "MyGloriousApp 0.1\r\n",
      "\r\n",
      "returns the square of a number\r\n",
      "\r\n",
      "Usage:\r\n",
      "    MyGloriousApp [SWITCHES] value\r\n",
      "\r\n",
      "Meta-switches:\r\n",
      "    -h, --help         Prints this help message and quits\r\n",
      "    --help-all         Prints help messages of all sub-commands and quits\r\n",
      "    -v, --version      Prints the program's version and quits\r\n",
      "\r\n",
      "\u001b[0m"
     ]
    }
   ],
   "source": [
    "!python3 my_app.py --help"
   ]
  },
  {
   "cell_type": "code",
   "execution_count": 180,
   "metadata": {
    "slideshow": {
     "slide_type": "slide"
    }
   },
   "outputs": [
    {
     "name": "stdout",
     "output_type": "stream",
     "text": [
      "result: 9.0\r\n",
      "\u001b[0m"
     ]
    }
   ],
   "source": [
    "# type decoration is used to enforce arguments type and convert them.\n",
    "!python3 my_app.py 3"
   ]
  },
  {
   "cell_type": "code",
   "execution_count": 178,
   "metadata": {
    "slideshow": {
     "slide_type": "slide"
    }
   },
   "outputs": [
    {
     "name": "stdout",
     "output_type": "stream",
     "text": [
      "Error: Argument of value expected to be <class 'float'>, not 'a':\r\n",
      "    ValueError(\"could not convert string to float: 'a'\",)\r\n",
      "------\r\n",
      "MyGloriousApp 0.1\r\n",
      "\r\n",
      "returns the square of a number\r\n",
      "\r\n",
      "Usage:\r\n",
      "    MyGloriousApp [SWITCHES] value\r\n",
      "\r\n",
      "Meta-switches:\r\n",
      "    -h, --help         Prints this help message and quits\r\n",
      "    --help-all         Prints help messages of all sub-commands and quits\r\n",
      "    -v, --version      Prints the program's version and quits\r\n",
      "\r\n",
      "\u001b[0m"
     ]
    }
   ],
   "source": [
    "# type decoration is used to enforce arguments type and convert them.\n",
    "!python3 my_app.py a"
   ]
  },
  {
   "cell_type": "markdown",
   "metadata": {
    "slideshow": {
     "slide_type": "slide"
    }
   },
   "source": [
    "### using flags\n",
    "flags and options are separated from the main, and are either functions of attributes of the class"
   ]
  },
  {
   "cell_type": "code",
   "execution_count": 65,
   "metadata": {
    "slideshow": {
     "slide_type": "-"
    }
   },
   "outputs": [
    {
     "name": "stdout",
     "output_type": "stream",
     "text": [
      "Overwriting my_app.py\n"
     ]
    }
   ],
   "source": [
    "%%file my_app.py\n",
    "from plumbum import cli\n",
    "\n",
    "class MyApp(cli.Application):\n",
    "    PROGNAME = \"MyGloriousApp\"\n",
    "    VERSION = \"0.1\"\n",
    "    \n",
    "    verbose = cli.Flag([\"v\", \"verbose\"], help = \"If given, I will be very talkative\")\n",
    "\n",
    "    def main(self, filename):\n",
    "        print(\"I will now read {0}\".format(filename))\n",
    "        if self.verbose:\n",
    "            print(\"Yadda \" * 200)\n",
    "\n",
    "if __name__ == \"__main__\":\n",
    "    MyApp()"
   ]
  },
  {
   "cell_type": "markdown",
   "metadata": {
    "slideshow": {
     "slide_type": "slide"
    }
   },
   "source": [
    "Flags and switches can be:\n",
    "\n",
    "* compulsory\n",
    "* dependent on each other\n",
    "* mutually exclusive\n",
    "* repeatable\n",
    "* gouped together in the help description\n",
    "* bound to have specific values"
   ]
  },
  {
   "cell_type": "code",
   "execution_count": 66,
   "metadata": {
    "slideshow": {
     "slide_type": "slide"
    }
   },
   "outputs": [
    {
     "name": "stdout",
     "output_type": "stream",
     "text": [
      "MyGloriousApp 0.1\r\n",
      "\r\n",
      "Usage:\r\n",
      "    MyGloriousApp [SWITCHES] filename\r\n",
      "\r\n",
      "Meta-switches:\r\n",
      "    -h, --help         Prints this help message and quits\r\n",
      "    --help-all         Prints help messages of all sub-commands and quits\r\n",
      "    --version          Prints the program's version and quits\r\n",
      "\r\n",
      "Switches:\r\n",
      "    -v, --verbose      If given, I will be very talkative\r\n",
      "\r\n",
      "\u001b[0m"
     ]
    }
   ],
   "source": [
    "!python3 my_app.py --help"
   ]
  },
  {
   "cell_type": "code",
   "execution_count": 67,
   "metadata": {
    "slideshow": {
     "slide_type": "slide"
    }
   },
   "outputs": [
    {
     "name": "stdout",
     "output_type": "stream",
     "text": [
      "I will now read foo\r\n",
      "\u001b[0m"
     ]
    }
   ],
   "source": [
    "!python3 my_app.py foo"
   ]
  },
  {
   "cell_type": "code",
   "execution_count": 69,
   "metadata": {
    "slideshow": {
     "slide_type": "slide"
    }
   },
   "outputs": [
    {
     "name": "stdout",
     "output_type": "stream",
     "text": [
      "I will now read foo\r\n",
      "Yadda Yadda Yadda Yadda Yadda Yadda Yadda Yadda Yadda Yadda Yadda Yadda Yadda Yadda Yadda Yadda Yadda Yadda Yadda Yadda Yadda Yadda Yadda Yadda Yadda Yadda Yadda Yadda Yadda Yadda Yadda Yadda Yadda Yadda Yadda Yadda Yadda Yadda Yadda Yadda Yadda Yadda Yadda Yadda Yadda Yadda Yadda Yadda Yadda Yadda Yadda Yadda Yadda Yadda Yadda Yadda Yadda Yadda Yadda Yadda Yadda Yadda Yadda Yadda Yadda Yadda Yadda Yadda Yadda Yadda Yadda Yadda Yadda Yadda Yadda Yadda Yadda Yadda Yadda Yadda Yadda Yadda Yadda Yadda Yadda Yadda Yadda Yadda Yadda Yadda Yadda Yadda Yadda Yadda Yadda Yadda Yadda Yadda Yadda Yadda Yadda Yadda Yadda Yadda Yadda Yadda Yadda Yadda Yadda Yadda Yadda Yadda Yadda Yadda Yadda Yadda Yadda Yadda Yadda Yadda Yadda Yadda Yadda Yadda Yadda Yadda Yadda Yadda Yadda Yadda Yadda Yadda Yadda Yadda Yadda Yadda Yadda Yadda Yadda Yadda Yadda Yadda Yadda Yadda Yadda Yadda Yadda Yadda Yadda Yadda Yadda Yadda Yadda Yadda Yadda Yadda Yadda Yadda Yadda Yadda Yadda Yadda Yadda Yadda Yadda Yadda Yadda Yadda Yadda Yadda Yadda Yadda Yadda Yadda Yadda Yadda Yadda Yadda Yadda Yadda Yadda Yadda Yadda Yadda Yadda Yadda Yadda Yadda Yadda Yadda Yadda Yadda Yadda Yadda Yadda Yadda Yadda Yadda Yadda Yadda \r\n",
      "\u001b[0m"
     ]
    }
   ],
   "source": [
    "!python3 my_app.py foo --verbose"
   ]
  },
  {
   "cell_type": "code",
   "execution_count": 68,
   "metadata": {
    "slideshow": {
     "slide_type": "slide"
    }
   },
   "outputs": [
    {
     "name": "stdout",
     "output_type": "stream",
     "text": [
      "I will now read foo\r\n",
      "Yadda Yadda Yadda Yadda Yadda Yadda Yadda Yadda Yadda Yadda Yadda Yadda Yadda Yadda Yadda Yadda Yadda Yadda Yadda Yadda Yadda Yadda Yadda Yadda Yadda Yadda Yadda Yadda Yadda Yadda Yadda Yadda Yadda Yadda Yadda Yadda Yadda Yadda Yadda Yadda Yadda Yadda Yadda Yadda Yadda Yadda Yadda Yadda Yadda Yadda Yadda Yadda Yadda Yadda Yadda Yadda Yadda Yadda Yadda Yadda Yadda Yadda Yadda Yadda Yadda Yadda Yadda Yadda Yadda Yadda Yadda Yadda Yadda Yadda Yadda Yadda Yadda Yadda Yadda Yadda Yadda Yadda Yadda Yadda Yadda Yadda Yadda Yadda Yadda Yadda Yadda Yadda Yadda Yadda Yadda Yadda Yadda Yadda Yadda Yadda Yadda Yadda Yadda Yadda Yadda Yadda Yadda Yadda Yadda Yadda Yadda Yadda Yadda Yadda Yadda Yadda Yadda Yadda Yadda Yadda Yadda Yadda Yadda Yadda Yadda Yadda Yadda Yadda Yadda Yadda Yadda Yadda Yadda Yadda Yadda Yadda Yadda Yadda Yadda Yadda Yadda Yadda Yadda Yadda Yadda Yadda Yadda Yadda Yadda Yadda Yadda Yadda Yadda Yadda Yadda Yadda Yadda Yadda Yadda Yadda Yadda Yadda Yadda Yadda Yadda Yadda Yadda Yadda Yadda Yadda Yadda Yadda Yadda Yadda Yadda Yadda Yadda Yadda Yadda Yadda Yadda Yadda Yadda Yadda Yadda Yadda Yadda Yadda Yadda Yadda Yadda Yadda Yadda Yadda Yadda Yadda Yadda Yadda Yadda Yadda \r\n",
      "\u001b[0m"
     ]
    }
   ],
   "source": [
    "!python3 my_app.py foo -v"
   ]
  },
  {
   "cell_type": "code",
   "execution_count": 72,
   "metadata": {
    "slideshow": {
     "slide_type": "slide"
    }
   },
   "outputs": [
    {
     "name": "stdout",
     "output_type": "stream",
     "text": [
      "Overwriting my_app.py\n"
     ]
    }
   ],
   "source": [
    "%%file my_app.py\n",
    "from plumbum import cli\n",
    "\n",
    "class MyApp(cli.Application):\n",
    "    PROGNAME = \"MyGloriousApp\"\n",
    "    VERSION = \"0.1\"\n",
    "    _log_file = None\n",
    "    \n",
    "    @cli.switch(\"--log-to-file\", str)\n",
    "    def log_to_file(self, filename):\n",
    "        \"\"\"Sets the file into which logs will be emitted\"\"\"\n",
    "        self._log_file = filename\n",
    "\n",
    "    def main(self, filename):\n",
    "        print(\"I will now read {0}\".format(filename))\n",
    "        if self._log_file is not None:\n",
    "            with open(self._log_file, 'w') as outfile:\n",
    "                print(\"I will now read {0}\".format(filename), file=outfile)\n",
    "\n",
    "if __name__ == \"__main__\":\n",
    "    MyApp()"
   ]
  },
  {
   "cell_type": "code",
   "execution_count": 78,
   "metadata": {
    "slideshow": {
     "slide_type": "slide"
    }
   },
   "outputs": [],
   "source": [
    "!rm -f temp_log.txt"
   ]
  },
  {
   "cell_type": "code",
   "execution_count": 79,
   "metadata": {
    "slideshow": {
     "slide_type": "-"
    }
   },
   "outputs": [
    {
     "name": "stdout",
     "output_type": "stream",
     "text": [
      "I will now read foo\r\n",
      "\u001b[0m"
     ]
    }
   ],
   "source": [
    "!python3 my_app.py foo --log-to-file temp_log.txt"
   ]
  },
  {
   "cell_type": "code",
   "execution_count": 80,
   "metadata": {
    "slideshow": {
     "slide_type": "-"
    }
   },
   "outputs": [
    {
     "name": "stdout",
     "output_type": "stream",
     "text": [
      "I will now read foo\r\n"
     ]
    }
   ],
   "source": [
    "!cat temp_log.txt"
   ]
  },
  {
   "cell_type": "markdown",
   "metadata": {
    "slideshow": {
     "slide_type": "slide"
    }
   },
   "source": [
    "### sub commands\n",
    "\n",
    "sub-commands are a way to group together several related program under a single umbrella.\n",
    "\n",
    "a classical example is **git**.\n",
    "\n",
    "They are create in plumbum as classes that are linked to the original one.\n",
    "\n",
    "In argparsers they are defined as subparsers."
   ]
  },
  {
   "cell_type": "code",
   "execution_count": 127,
   "metadata": {
    "slideshow": {
     "slide_type": "slide"
    }
   },
   "outputs": [
    {
     "name": "stdout",
     "output_type": "stream",
     "text": [
      "Overwriting my_app.py\n"
     ]
    }
   ],
   "source": [
    "%%file my_app.py\n",
    "from plumbum import cli\n",
    "\n",
    "class MyApp(cli.Application):\n",
    "    \"\"\"returns the square of a number\n",
    "    \"\"\"\n",
    "    PROGNAME = \"MyGloriousApp\"\n",
    "    VERSION = \"0.1\"\n",
    "    \n",
    "    def main(self):\n",
    "        if not self.nested_command:           # will be ``None`` if no sub-command follows\n",
    "            print(\"No command given\")\n",
    "            return 1   # error exit code\n",
    "\n",
    "@MyApp.subcommand(\"pow\")\n",
    "class MyAppPow(cli.Application):\n",
    "    \"calculate the square power instead\"\n",
    "    def main(self, value, power=2):\n",
    "        value = float(value)\n",
    "        power = float(power)\n",
    "        print(\"result: {}\".format(value**power))    \n",
    "    \n",
    "@MyApp.subcommand(\"sqrt\")\n",
    "class MyAppSqrt(cli.Application):\n",
    "    \"calculate the square root instead\"\n",
    "    def main(self, value):\n",
    "        value = float(value)\n",
    "        print(\"result: {}\".format(value**0.5))\n",
    "        \n",
    "if __name__ == \"__main__\":\n",
    "    MyApp()"
   ]
  },
  {
   "cell_type": "code",
   "execution_count": 128,
   "metadata": {
    "slideshow": {
     "slide_type": "slide"
    }
   },
   "outputs": [
    {
     "name": "stdout",
     "output_type": "stream",
     "text": [
      "MyGloriousApp 0.1\r\n",
      "\r\n",
      "returns the square of a number\r\n",
      "\r\n",
      "Usage:\r\n",
      "    MyGloriousApp [SWITCHES] [SUBCOMMAND [SWITCHES]] \r\n",
      "\r\n",
      "Meta-switches:\r\n",
      "    -h, --help         Prints this help message and quits\r\n",
      "    --help-all         Prints help messages of all sub-commands and quits\r\n",
      "    -v, --version      Prints the program's version and quits\r\n",
      "\r\n",
      "Sub-commands:\r\n",
      "    pow                calculate the square power instead; see 'MyGloriousApp\r\n",
      "                       pow --help' for more info\r\n",
      "    sqrt               calculate the square root instead; see 'MyGloriousApp\r\n",
      "                       sqrt --help' for more info\r\n",
      "\u001b[0m"
     ]
    }
   ],
   "source": [
    "!python3 my_app.py --help"
   ]
  },
  {
   "cell_type": "code",
   "execution_count": 129,
   "metadata": {
    "slideshow": {
     "slide_type": "slide"
    }
   },
   "outputs": [
    {
     "name": "stdout",
     "output_type": "stream",
     "text": [
      "MyGloriousApp sqrt 0.1\r\n",
      "\r\n",
      "calculate the square root instead\r\n",
      "\r\n",
      "Usage:\r\n",
      "    MyGloriousApp sqrt [SWITCHES] value\r\n",
      "\r\n",
      "Meta-switches:\r\n",
      "    -h, --help         Prints this help message and quits\r\n",
      "    --help-all         Prints help messages of all sub-commands and quits\r\n",
      "    -v, --version      Prints the program's version and quits\r\n",
      "\r\n",
      "\u001b[0m"
     ]
    }
   ],
   "source": [
    "!python3 my_app.py sqrt --help"
   ]
  },
  {
   "cell_type": "code",
   "execution_count": 133,
   "metadata": {
    "slideshow": {
     "slide_type": "slide"
    }
   },
   "outputs": [
    {
     "name": "stdout",
     "output_type": "stream",
     "text": [
      "MyGloriousApp pow 0.1\r\n",
      "\r\n",
      "calculate the square power instead\r\n",
      "\r\n",
      "Usage:\r\n",
      "    MyGloriousApp pow [SWITCHES] value [power=2]\r\n",
      "\r\n",
      "Meta-switches:\r\n",
      "    -h, --help         Prints this help message and quits\r\n",
      "    --help-all         Prints help messages of all sub-commands and quits\r\n",
      "    -v, --version      Prints the program's version and quits\r\n",
      "\r\n",
      "\u001b[0m"
     ]
    }
   ],
   "source": [
    "!python3 my_app.py pow --help"
   ]
  },
  {
   "cell_type": "code",
   "execution_count": 130,
   "metadata": {
    "slideshow": {
     "slide_type": "slide"
    }
   },
   "outputs": [
    {
     "name": "stdout",
     "output_type": "stream",
     "text": [
      "result: 3.0\r\n",
      "\u001b[0m"
     ]
    }
   ],
   "source": [
    "!python3 my_app.py sqrt 9"
   ]
  },
  {
   "cell_type": "code",
   "execution_count": 131,
   "metadata": {
    "slideshow": {
     "slide_type": "fragment"
    }
   },
   "outputs": [
    {
     "name": "stdout",
     "output_type": "stream",
     "text": [
      "result: 9.0\r\n",
      "\u001b[0m"
     ]
    }
   ],
   "source": [
    "!python3 my_app.py pow 3"
   ]
  },
  {
   "cell_type": "code",
   "execution_count": 132,
   "metadata": {
    "slideshow": {
     "slide_type": "fragment"
    }
   },
   "outputs": [
    {
     "name": "stdout",
     "output_type": "stream",
     "text": [
      "result: 1.7320508075688772\r\n",
      "\u001b[0m"
     ]
    }
   ],
   "source": [
    "!python3 my_app.py pow 3 0.5"
   ]
  },
  {
   "cell_type": "markdown",
   "metadata": {
    "slideshow": {
     "slide_type": "slide"
    }
   },
   "source": [
    "### Subcommands in practice\n",
    "\n",
    "Try to keep the options between the subcommands coherent: if one implements `--help`, another implements `--documentation`, another implement `--explain` to accedd the help of the function, it is messy. try to maintain consistency in names and behaviors\n",
    "\n",
    "two subcommands that could probably be useful in most applications are:\n",
    "* `help` - to provide a more indept documentation of your program, divided by topics (try to type `help()` in Python)\n",
    "* `config` - to manage local and global configurations of your program\n",
    "\n",
    "remember: **easy things should be easy, hard things should be possible**.\n",
    "Designing your CLI is going to take work to obtain a good interface!"
   ]
  },
  {
   "cell_type": "markdown",
   "metadata": {
    "slideshow": {
     "slide_type": "slide"
    }
   },
   "source": [
    "# system wide installation\n",
    "\n",
    "to perform a system wide installation we will use the `setuptools` package, that allows us to interface our program with the pip installation mechanism."
   ]
  },
  {
   "cell_type": "markdown",
   "metadata": {
    "slideshow": {
     "slide_type": "slide"
    }
   },
   "source": [
    "### preparing the field\n",
    "\n",
    "The first step is to create a proper folder structure for our program.\n",
    "In this case I'm creating a CLI program called **myapp**.\n",
    "\n",
    "* **myapp** (project folder)\n",
    "    * `setupy.py`\n",
    "    * **myapp** (program folder)\n",
    "        * `__init__.py`\n",
    "        * `__main__.py`\n",
    "        "
   ]
  },
  {
   "cell_type": "markdown",
   "metadata": {
    "slideshow": {
     "slide_type": "slide"
    }
   },
   "source": [
    "the outside folder is the project folder, that will contain everything concerning my app: the app itself, its documentation, the installation procedure, and so on.\n",
    "\n",
    "Then there is an inside folder, usually with the same name of the app, that will contain the proper files to be executed."
   ]
  },
  {
   "cell_type": "markdown",
   "metadata": {
    "slideshow": {
     "slide_type": "slide"
    }
   },
   "source": [
    "Inside this folder there should be a file `__init__.py`.\n",
    "This file can be empty, but is used by python to recognize that this directory is a module that can be imported or executed.\n",
    "\n",
    "My application is going to be in the `__main__.py` file. No special reason for the name, just more consistent"
   ]
  },
  {
   "cell_type": "code",
   "execution_count": 154,
   "metadata": {
    "slideshow": {
     "slide_type": "-"
    }
   },
   "outputs": [],
   "source": [
    "!touch ./myapp/myapp/__init__.py"
   ]
  },
  {
   "cell_type": "code",
   "execution_count": 153,
   "metadata": {
    "slideshow": {
     "slide_type": "slide"
    }
   },
   "outputs": [
    {
     "name": "stdout",
     "output_type": "stream",
     "text": [
      "Overwriting ./myapp/myapp/__main__.py\n"
     ]
    }
   ],
   "source": [
    "%%file ./myapp/myapp/__main__.py\n",
    "from plumbum import cli\n",
    "\n",
    "class MyApp(cli.Application):\n",
    "    \"\"\"returns the square of a number\n",
    "    \"\"\"\n",
    "    PROGNAME = \"MyGloriousApp\"\n",
    "    VERSION = \"0.1\"\n",
    "    \n",
    "    def main(self):\n",
    "        if not self.nested_command:           # will be ``None`` if no sub-command follows\n",
    "            print(\"No command given\")\n",
    "            return 1   # error exit code\n",
    "\n",
    "@MyApp.subcommand(\"pow\")\n",
    "class MyAppPow(cli.Application):\n",
    "    \"calculate the square power instead\"\n",
    "    def main(self, value, power=2):\n",
    "        value = float(value)\n",
    "        power = float(power)\n",
    "        print(\"result: {}\".format(value**power))    \n",
    "    \n",
    "@MyApp.subcommand(\"sqrt\")\n",
    "class MyAppSqrt(cli.Application):\n",
    "    \"calculate the square root instead\"\n",
    "    def main(self, value):\n",
    "        value = float(value)\n",
    "        print(\"result: {}\".format(value**0.5))\n",
    "        \n",
    "if __name__ == \"__main__\":\n",
    "    MyApp.run()"
   ]
  },
  {
   "cell_type": "markdown",
   "metadata": {
    "slideshow": {
     "slide_type": "slide"
    }
   },
   "source": [
    "The file necessary for setuptools to work properly is the `setup.py`, where we will use the `setup` function of the `setuptools` module.\n",
    "\n",
    "This function configure many things for us, but the most important thing is the `entry_point` parameter.\n",
    "This creates the link to the scripts that we will actually execute.\n",
    "Inside this parameter we specify that two entry points are `console_scripts` that should execute the script and the function provided."
   ]
  },
  {
   "cell_type": "code",
   "execution_count": 160,
   "metadata": {
    "slideshow": {
     "slide_type": "slide"
    }
   },
   "outputs": [
    {
     "name": "stdout",
     "output_type": "stream",
     "text": [
      "Overwriting ./myapp/setup.py\n"
     ]
    }
   ],
   "source": [
    "%%file ./myapp/setup.py\n",
    "from setuptools import setup\n",
    "\n",
    "setup(\n",
    "    name = 'myapp',\n",
    "    version = '0.1.0',\n",
    "    packages = ['myapp'],\n",
    "    install_requires=[ 'plumbum', ],\n",
    "    entry_points = {\n",
    "        'console_scripts': [\n",
    "            'myapp = myapp.__main__:MyApp',\n",
    "            'myappsqrt = myapp.__main__:MyAppSqrt',\n",
    "        ]\n",
    "    })"
   ]
  },
  {
   "cell_type": "markdown",
   "metadata": {
    "slideshow": {
     "slide_type": "slide"
    }
   },
   "source": [
    "In this case we decided to let the user use the standard program (choosing the sub command to use) or to provide a shortcut to the subcommand itself.\n",
    "\n",
    "In this case the plumbum structure comes very useful: we can call directly the subcommand class to execute our subcommand.\n",
    "\n",
    "the name we put before the `=` sign is going to be the command name that we will use to call the program from the command line"
   ]
  },
  {
   "cell_type": "markdown",
   "metadata": {
    "slideshow": {
     "slide_type": "fragment"
    }
   },
   "source": [
    "Last special mention goes to the `install_requires`: this list allows to specify all the dependencies of the package.\n",
    "If they are not installed, they will automatically downloaded and installed by pip.\n",
    "In our case the only dependency that we have is for the `plumbum` package"
   ]
  },
  {
   "cell_type": "markdown",
   "metadata": {
    "slideshow": {
     "slide_type": "slide"
    }
   },
   "source": [
    "### the installation step\n",
    "\n",
    "from the folder containing the project folder, we can call the pip installation program\n",
    "\n",
    "by installing it with the `--editable` (or `-e` for short) the program will not be copied in the system, but rather linked in it.\n",
    "This means that if you edit the program, the modifications will appear live in the systems without need to reinstall"
   ]
  },
  {
   "cell_type": "code",
   "execution_count": 162,
   "metadata": {
    "slideshow": {
     "slide_type": "slide"
    }
   },
   "outputs": [
    {
     "name": "stdout",
     "output_type": "stream",
     "text": [
      "Obtaining file:///home/enrico/didattica/corso_programmazione_1819/programmingCourseDIFA/myapp\n",
      "Requirement already satisfied: plumbum in /home/enrico/miniconda3/lib/python3.6/site-packages (from myapp==0.1.0) (1.6.7)\n",
      "Installing collected packages: myapp\n",
      "  Running setup.py develop for myapp\n",
      "Successfully installed myapp\n"
     ]
    }
   ],
   "source": [
    "!pip install --editable myapp"
   ]
  },
  {
   "cell_type": "code",
   "execution_count": 157,
   "metadata": {
    "slideshow": {
     "slide_type": "slide"
    }
   },
   "outputs": [
    {
     "name": "stdout",
     "output_type": "stream",
     "text": [
      "MyGloriousApp 0.1\r\n",
      "\r\n",
      "returns the square of a number\r\n",
      "\r\n",
      "Usage:\r\n",
      "    MyGloriousApp [SWITCHES] [SUBCOMMAND [SWITCHES]] \r\n",
      "\r\n",
      "Meta-switches:\r\n",
      "    -h, --help         Prints this help message and quits\r\n",
      "    --help-all         Prints help messages of all sub-commands and quits\r\n",
      "    -v, --version      Prints the program's version and quits\r\n",
      "\r\n",
      "Sub-commands:\r\n",
      "    pow                calculate the square power instead; see 'MyGloriousApp\r\n",
      "                       pow --help' for more info\r\n",
      "    sqrt               calculate the square root instead; see 'MyGloriousApp\r\n",
      "                       sqrt --help' for more info\r\n",
      "\u001b[0m"
     ]
    }
   ],
   "source": [
    "!myapp --help"
   ]
  },
  {
   "cell_type": "markdown",
   "metadata": {
    "slideshow": {
     "slide_type": "slide"
    }
   },
   "source": [
    "We can call the base program or the specific subcommand, as we specified"
   ]
  },
  {
   "cell_type": "code",
   "execution_count": 158,
   "metadata": {
    "slideshow": {
     "slide_type": "fragment"
    }
   },
   "outputs": [
    {
     "name": "stdout",
     "output_type": "stream",
     "text": [
      "result: 3.0\r\n",
      "\u001b[0m"
     ]
    }
   ],
   "source": [
    "!myapp sqrt 9 "
   ]
  },
  {
   "cell_type": "code",
   "execution_count": 159,
   "metadata": {
    "slideshow": {
     "slide_type": "fragment"
    }
   },
   "outputs": [
    {
     "name": "stdout",
     "output_type": "stream",
     "text": [
      "result: 3.0\r\n",
      "\u001b[0m"
     ]
    }
   ],
   "source": [
    "!myappsqrt 9"
   ]
  },
  {
   "cell_type": "markdown",
   "metadata": {
    "slideshow": {
     "slide_type": "slide"
    }
   },
   "source": [
    "Lastly, we can uninstall the program from any location"
   ]
  },
  {
   "cell_type": "code",
   "execution_count": 161,
   "metadata": {
    "slideshow": {
     "slide_type": "-"
    }
   },
   "outputs": [
    {
     "name": "stdout",
     "output_type": "stream",
     "text": [
      "Uninstalling myapp-0.1.0:\n",
      "  Successfully uninstalled myapp-0.1.0\n"
     ]
    }
   ],
   "source": [
    "!pip uninstall -y myapp"
   ]
  },
  {
   "cell_type": "markdown",
   "metadata": {
    "slideshow": {
     "slide_type": "skip"
    }
   },
   "source": [
    "If one needs to shop non-code files (such as images, configuration files, etc...)\n",
    "check:\n",
    "\n",
    "https://python-packaging.readthedocs.io/en/latest/non-code-files.html"
   ]
  },
  {
   "cell_type": "markdown",
   "metadata": {
    "slideshow": {
     "slide_type": "slide"
    }
   },
   "source": [
    "given that now **myapp** is a system program, I can load it using `plumbum` as any other application!"
   ]
  },
  {
   "cell_type": "code",
   "execution_count": 168,
   "metadata": {
    "slideshow": {
     "slide_type": "-"
    }
   },
   "outputs": [
    {
     "name": "stdout",
     "output_type": "stream",
     "text": [
      "result: 3.0\n",
      "\n"
     ]
    }
   ],
   "source": [
    "myapp_hook = local['myapp']\n",
    "sqrt_hook = myapp_hook['sqrt']\n",
    "print(sqrt_hook(9))"
   ]
  },
  {
   "cell_type": "markdown",
   "metadata": {
    "slideshow": {
     "slide_type": "slide"
    }
   },
   "source": [
    "# Testing CLI\n",
    "\n",
    "there are two level of testing:\n",
    "* the internal working\n",
    "* the interface\n",
    "\n",
    "the internal work can be tested as any other standard function, so we'll focus on the interface testing.\n",
    "\n",
    "it's not an easy problem, let's be clear."
   ]
  },
  {
   "cell_type": "markdown",
   "metadata": {
    "slideshow": {
     "slide_type": "slide"
    }
   },
   "source": [
    "there are again two level of testing:\n",
    "* filesystem I/O\n",
    "* printing\n",
    "\n",
    "the printing testing refers to test the output of the program to the stdout and stderr in response to different inputs (for example testing that the `--verbose` flag turn off the printing, while something get printed without it).\n",
    "To do it, one can use the subprocess module and capture the output, while providing deterministic input\n",
    " \n",
    "Testing the filesystem I/O is more complicated, and in general one have to create fake files and check for the result in them."
   ]
  },
  {
   "cell_type": "markdown",
   "metadata": {
    "slideshow": {
     "slide_type": "slide"
    }
   },
   "source": [
    "some additional things you might want to test:\n",
    "* change the current working directory before launcing the program, and verify that it doesnt spaz out\n",
    "* check that you can really get as ipnut files in different directories from where you're working, both as input and output\n",
    "* What happens when the input file doesn’t exist?\n",
    "* Does our program exit with an error when we provide wrong arguments?\n",
    "* does the logging system work as intended?"
   ]
  },
  {
   "cell_type": "markdown",
   "metadata": {
    "slideshow": {
     "slide_type": "slide"
    }
   },
   "source": [
    "it is also important to not get wrapped in details: for example testing the formatting of the text of the help flag is not a productive activity.\n",
    "In th same way, try to avoid testing for things that might be platform dependent, such as the exact python version!\n",
    "\n",
    "being able to run the CLI programmatically means you can also test with hypothesis.\n",
    "\n",
    "also, this is not actually dependent on the fact that the program is written in python: you can use these lines to test **any** CLI!"
   ]
  },
  {
   "cell_type": "code",
   "execution_count": 21,
   "metadata": {
    "slideshow": {
     "slide_type": "slide"
    }
   },
   "outputs": [
    {
     "name": "stdout",
     "output_type": "stream",
     "text": [
      "'Python 3.7.7\\n'\n",
      "''\n",
      "0\n"
     ]
    }
   ],
   "source": [
    "# encoding was introduced in python 3.6\n",
    "# capture_output was introduced in python 3.7\n",
    "import subprocess\n",
    "from subprocess import run\n",
    "result = run([\"python\", \"--version\"], capture_output=True, encoding='utf8')\n",
    "print(repr(result.stdout))\n",
    "print(repr(result.stderr))\n",
    "print(result.returncode)"
   ]
  },
  {
   "cell_type": "code",
   "execution_count": 22,
   "metadata": {
    "slideshow": {
     "slide_type": "-"
    }
   },
   "outputs": [
    {
     "data": {
      "text/plain": [
       "CompletedProcess(args=['python', '--version'], returncode=0, stdout='Python 3.7.7\\n', stderr='')"
      ]
     },
     "execution_count": 22,
     "metadata": {},
     "output_type": "execute_result"
    }
   ],
   "source": [
    "result"
   ]
  },
  {
   "cell_type": "markdown",
   "metadata": {
    "slideshow": {
     "slide_type": "slide"
    }
   },
   "source": [
    "the option `shell=True` makes it easier to write complicated command lines where the division is not clear, but never use it to execute user provided lines, **it is a security breach!**"
   ]
  },
  {
   "cell_type": "code",
   "execution_count": 31,
   "metadata": {
    "slideshow": {
     "slide_type": "-"
    }
   },
   "outputs": [
    {
     "data": {
      "text/plain": [
       "CompletedProcess(args='python --version', returncode=0, stdout='Python 3.7.7\\n', stderr='')"
      ]
     },
     "execution_count": 31,
     "metadata": {},
     "output_type": "execute_result"
    }
   ],
   "source": [
    "result = run(\"python --version\", shell=True, capture_output=True, encoding='utf8')\n",
    "result"
   ]
  },
  {
   "cell_type": "markdown",
   "metadata": {
    "slideshow": {
     "slide_type": "slide"
    }
   },
   "source": [
    "subprocesses allow us also to pass some input to simulate pipes or the interaction with the user."
   ]
  },
  {
   "cell_type": "code",
   "execution_count": 26,
   "metadata": {
    "slideshow": {
     "slide_type": "-"
    }
   },
   "outputs": [
    {
     "name": "stdout",
     "output_type": "stream",
     "text": [
      "Overwriting temp.py\n"
     ]
    }
   ],
   "source": [
    "%%file temp.py\n",
    "name = input(\"tell me your name:\")\n",
    "print(\"hello\", name)"
   ]
  },
  {
   "cell_type": "code",
   "execution_count": 27,
   "metadata": {
    "slideshow": {
     "slide_type": "-"
    }
   },
   "outputs": [
    {
     "data": {
      "text/plain": [
       "CompletedProcess(args=['python', 'temp.py'], returncode=0, stdout='tell me your name:hello enrico\\n', stderr='')"
      ]
     },
     "execution_count": 27,
     "metadata": {},
     "output_type": "execute_result"
    }
   ],
   "source": [
    "result = run([\"python\", \"temp.py\"], input='enrico\\n', capture_output=True, encoding='utf8')\n",
    "result"
   ]
  },
  {
   "cell_type": "markdown",
   "metadata": {
    "slideshow": {
     "slide_type": "slide"
    }
   },
   "source": [
    "It also allow us to keep the process alive and to interact with it by using the PIPE object"
   ]
  },
  {
   "cell_type": "code",
   "execution_count": 28,
   "metadata": {
    "slideshow": {
     "slide_type": "-"
    }
   },
   "outputs": [
    {
     "name": "stdout",
     "output_type": "stream",
     "text": [
      "b'tell me your name:hello enrico\\r\\n'\n"
     ]
    }
   ],
   "source": [
    "process = subprocess.Popen([\"python\", \"temp.py\"],\n",
    "                           stdin=subprocess.PIPE,\n",
    "                           stdout=subprocess.PIPE)\n",
    "process.stdin.write(b\"enrico\\n\")\n",
    "print(process.communicate()[0])\n",
    "process.stdin.close()"
   ]
  },
  {
   "cell_type": "markdown",
   "metadata": {
    "slideshow": {
     "slide_type": "slide"
    }
   },
   "source": [
    "Finally, we can also simulate multiple programs feeding each other I/O to test how are program would behave in a pipeline of various programs."
   ]
  },
  {
   "cell_type": "code",
   "execution_count": null,
   "metadata": {
    "slideshow": {
     "slide_type": "-"
    }
   },
   "outputs": [],
   "source": [
    "# The example reproduces the command line:\n",
    "# $ cat index.rst | grep \".. literal\" | cut -f 3 -d:\n",
    "import subprocess as sp\n",
    "\n",
    "cat = sp.Popen(['cat', 'index.rst'], stdout=sp.PIPE,)\n",
    "grep = sp.Popen(['grep', '.. literal::'], stdin=cat.stdout, stdout=sp.PIPE,)\n",
    "cut = sp.Popen(['cut', '-f', '3', '-d:'], stdin=grep.stdout, stdout=sp.PIPE,)\n",
    "end_of_pipe = cut.stdout\n",
    "\n",
    "print('Included files:')\n",
    "for line in end_of_pipe:\n",
    "    print(line.decode('utf-8').strip())"
   ]
  },
  {
   "cell_type": "markdown",
   "metadata": {
    "slideshow": {
     "slide_type": "slide"
    }
   },
   "source": [
    "### testing filesystem I/O\n",
    "\n",
    "first we need to create unique files that will not likely conflict with existing one.\n",
    "\n",
    "To do this we can leverage the `uuid` module"
   ]
  },
  {
   "cell_type": "code",
   "execution_count": 32,
   "metadata": {
    "slideshow": {
     "slide_type": "-"
    }
   },
   "outputs": [
    {
     "name": "stdout",
     "output_type": "stream",
     "text": [
      "1e9598ca-962b-11ea-aade-94992ee33e3e\n"
     ]
    }
   ],
   "source": [
    "import uuid\n",
    "random_filename = str(uuid.uuid1())\n",
    "print(random_filename)"
   ]
  },
  {
   "cell_type": "code",
   "execution_count": 35,
   "metadata": {
    "slideshow": {
     "slide_type": "slide"
    }
   },
   "outputs": [
    {
     "data": {
      "text/plain": [
       "WindowsPath('1e9598ca-962b-11ea-aade-94992ee33e3e')"
      ]
     },
     "execution_count": 35,
     "metadata": {},
     "output_type": "execute_result"
    }
   ],
   "source": [
    "from pathlib import Path\n",
    "temp_path = Path('.')/random_filename\n",
    "assert not temp_path.exists()\n",
    "temp_path"
   ]
  },
  {
   "cell_type": "code",
   "execution_count": 38,
   "metadata": {
    "slideshow": {
     "slide_type": "slide"
    }
   },
   "outputs": [],
   "source": [
    "temp_path.touch()\n",
    "assert temp_path.exists()\n",
    "temp_path.unlink()\n",
    "assert not temp_path.exists()"
   ]
  },
  {
   "cell_type": "markdown",
   "metadata": {
    "slideshow": {
     "slide_type": "slide"
    }
   },
   "source": [
    "At this point we can test that our progrma write to the destination as intended we we pass it as an argument!"
   ]
  },
  {
   "cell_type": "code",
   "execution_count": 3,
   "metadata": {
    "slideshow": {
     "slide_type": "-"
    }
   },
   "outputs": [
    {
     "name": "stdout",
     "output_type": "stream",
     "text": [
      "Overwriting temp.py\n"
     ]
    }
   ],
   "source": [
    "%%file temp.py\n",
    "import sys\n",
    "print(\"arguments\", sys.argv)\n",
    "with open(sys.argv[1], \"w\") as outfile:\n",
    "    print(\"printed to file!\", file=outfile)"
   ]
  },
  {
   "cell_type": "code",
   "execution_count": 53,
   "metadata": {
    "slideshow": {
     "slide_type": "slide"
    }
   },
   "outputs": [
    {
     "name": "stdout",
     "output_type": "stream",
     "text": [
      "arguments ['temp.py', '1e9598ca-962b-11ea-aade-94992ee33e3e']\n",
      "\n",
      "printed in file: ['printed to file!\\n']\n"
     ]
    }
   ],
   "source": [
    "result = run([\"python\", \"temp.py\", str(temp_path)], capture_output=True, encoding='utf8')\n",
    "print(result.stdout)\n",
    "\n",
    "assert temp_path.exists()\n",
    "\n",
    "with temp_path.open() as result_file:\n",
    "    lines = result_file.readlines()\n",
    "print(\"printed in file:\", lines)\n",
    "\n",
    "temp_path.unlink()\n",
    "assert not temp_path.exists()"
   ]
  },
  {
   "cell_type": "markdown",
   "metadata": {
    "slideshow": {
     "slide_type": "slide"
    }
   },
   "source": [
    "# Input and Output of CLI programs\n",
    "\n",
    "Whenever possible parse and print one line at the time, reading from `sys.stdin` and writing to `sys.stdout`.\n",
    "\n",
    "They might be printing to screen, to file or piped to a different program, depending on the way the program is called.\n",
    "\n",
    "It is the same philosophy of the iterators!"
   ]
  },
  {
   "cell_type": "code",
   "execution_count": 188,
   "metadata": {
    "slideshow": {
     "slide_type": "slide"
    }
   },
   "outputs": [
    {
     "name": "stdout",
     "output_type": "stream",
     "text": [
      "Overwriting temp.py\n"
     ]
    }
   ],
   "source": [
    "%%file temp.py\n",
    "import sys\n",
    "\n",
    "for line in map(str.strip, sys.stdin):\n",
    "    s = '-- ' + line + ' --'\n",
    "    print(s, file=sys.stdout)"
   ]
  },
  {
   "cell_type": "code",
   "execution_count": 189,
   "metadata": {
    "slideshow": {
     "slide_type": "-"
    }
   },
   "outputs": [
    {
     "name": "stdout",
     "output_type": "stream",
     "text": [
      "-- 1 --\n"
     ]
    }
   ],
   "source": [
    "!echo 1|python temp.py"
   ]
  },
  {
   "cell_type": "markdown",
   "metadata": {
    "slideshow": {
     "slide_type": "slide"
    }
   },
   "source": [
    "### MapReduce philosophy\n",
    "\n",
    "remember that all great unix command line tools are following the filter-map-reduce design with their input and output.\n",
    "\n",
    "There is a library that actually implement them explicitely!\n",
    "https://github.com/sharkdp/shell-functools"
   ]
  },
  {
   "cell_type": "markdown",
   "metadata": {
    "slideshow": {
     "slide_type": "slide"
    }
   },
   "source": [
    "## Printing for Machines\n",
    "\n",
    "input-output on terminal in the **JSONlines** formats\n",
    "\n",
    "one of the advantages of working with JSONlines input and output is that it's easier to write structured tests: one can easily test the content of the output without doing complicated parsing!"
   ]
  },
  {
   "cell_type": "code",
   "execution_count": 176,
   "metadata": {
    "slideshow": {
     "slide_type": "slide"
    }
   },
   "outputs": [
    {
     "name": "stdout",
     "output_type": "stream",
     "text": [
      "Overwriting temp.py\n"
     ]
    }
   ],
   "source": [
    "%%file temp.py\n",
    "import sys, json, glob\n",
    "\n",
    "patterns = sys.argv[1:]\n",
    "for each_pattern in patterns:\n",
    "    filenames = glob.glob(each_pattern)\n",
    "    for each_filename in filenames:\n",
    "        data = {'filename': each_filename, \"pattern\": each_pattern}\n",
    "        # json.dumps takes a python structure and transform in a JSON string\n",
    "        json_str = json.dumps(data)\n",
    "        print(json_str, file=sys.stdout)"
   ]
  },
  {
   "cell_type": "code",
   "execution_count": 178,
   "metadata": {
    "slideshow": {
     "slide_type": "slide"
    }
   },
   "outputs": [
    {
     "name": "stdout",
     "output_type": "stream",
     "text": [
      "{\"filename\": \"temp.py\", \"pattern\": \"*.py\"}\n",
      "{\"filename\": \"test.py\", \"pattern\": \"*.py\"}\n",
      "{\"filename\": \"directory_structure.svg\", \"pattern\": \"*.svg\"}\n",
      "{\"filename\": \"file_inode_permissions.svg\", \"pattern\": \"*.svg\"}\n",
      "{\"filename\": \"OS_structure.svg\", \"pattern\": \"*.svg\"}\n",
      "{\"filename\": \"users_and_groups.svg\", \"pattern\": \"*.svg\"}\n"
     ]
    }
   ],
   "source": [
    "!python temp.py *.py *.svg"
   ]
  },
  {
   "cell_type": "code",
   "execution_count": 186,
   "metadata": {
    "slideshow": {
     "slide_type": "slide"
    }
   },
   "outputs": [
    {
     "name": "stdout",
     "output_type": "stream",
     "text": [
      "Overwriting count_by.py\n"
     ]
    }
   ],
   "source": [
    "%%file count_by.py\n",
    "import sys, json, glob\n",
    "from collections import Counter\n",
    "counts = Counter()\n",
    "pattern = sys.argv[1]\n",
    "\n",
    "for line in map(str.strip, sys.stdin):\n",
    "    # json.dumps takes a JSON string and transform in a python structure\n",
    "    data = json.loads(line)\n",
    "    value = data[pattern]\n",
    "    counts[value] += 1\n",
    "    \n",
    "json_str = json.dumps(counts)\n",
    "print(json_str, file=sys.stdout)"
   ]
  },
  {
   "cell_type": "code",
   "execution_count": 187,
   "metadata": {
    "slideshow": {
     "slide_type": "slide"
    }
   },
   "outputs": [
    {
     "name": "stdout",
     "output_type": "stream",
     "text": [
      "{\"*.py\": 3, \"*.svg\": 4}\n"
     ]
    }
   ],
   "source": [
    "!python temp.py *.py *.svg | python count_by.py pattern"
   ]
  },
  {
   "cell_type": "markdown",
   "metadata": {
    "slideshow": {
     "slide_type": "slide"
    }
   },
   "source": [
    "How to interact with programs that do not return valid JSONlines?"
   ]
  },
  {
   "cell_type": "code",
   "execution_count": 228,
   "metadata": {
    "slideshow": {
     "slide_type": "-"
    }
   },
   "outputs": [
    {
     "name": "stdout",
     "output_type": "stream",
     "text": [
      "count_by.py\n",
      "JSONifier.py\n",
      "temp.py\n",
      "test.py\n"
     ]
    }
   ],
   "source": [
    "!python -c \"from glob import glob;print(*glob('*.py'), sep='\\n')\""
   ]
  },
  {
   "cell_type": "code",
   "execution_count": 224,
   "metadata": {
    "slideshow": {
     "slide_type": "slide"
    }
   },
   "outputs": [
    {
     "name": "stdout",
     "output_type": "stream",
     "text": [
      "Overwriting JSONifier.py\n"
     ]
    }
   ],
   "source": [
    "%%file JSONifier.py\n",
    "import sys, json\n",
    "pattern = sys.argv[1]\n",
    "for line in map(str.strip, sys.stdin):\n",
    "    data = {pattern: line}\n",
    "    json_str = json.dumps(data)\n",
    "    print(json_str, file=sys.stdout)"
   ]
  },
  {
   "cell_type": "code",
   "execution_count": 225,
   "metadata": {
    "slideshow": {
     "slide_type": "-"
    }
   },
   "outputs": [
    {
     "name": "stdout",
     "output_type": "stream",
     "text": [
      "{\"filename\": \"count_by.py\"}\n",
      "{\"filename\": \"JSONifier.py\"}\n",
      "{\"filename\": \"temp.py\"}\n",
      "{\"filename\": \"test.py\"}\n"
     ]
    }
   ],
   "source": [
    "!python -c \"from glob import glob;print(*glob('*.py'), sep='\\n')\" | python JSONifier.py filename"
   ]
  },
  {
   "cell_type": "markdown",
   "metadata": {
    "slideshow": {
     "slide_type": "-"
    }
   },
   "source": [
    "This kind of output is extremely useful for logs as well, as it makes them way easier to parse with automatic tools!"
   ]
  },
  {
   "cell_type": "markdown",
   "metadata": {
    "slideshow": {
     "slide_type": "slide"
    }
   },
   "source": [
    "## Printing for Humans\n",
    "\n",
    "using the format controls"
   ]
  },
  {
   "cell_type": "code",
   "execution_count": 79,
   "metadata": {
    "slideshow": {
     "slide_type": "-"
    }
   },
   "outputs": [
    {
     "name": "stdout",
     "output_type": "stream",
     "text": [
      "3.142\n"
     ]
    }
   ],
   "source": [
    "import math\n",
    "print(\"{:.4}\".format(math.pi))"
   ]
  },
  {
   "cell_type": "code",
   "execution_count": 71,
   "metadata": {
    "slideshow": {
     "slide_type": "slide"
    }
   },
   "outputs": [
    {
     "name": "stdout",
     "output_type": "stream",
     "text": [
      "L x                    R\n",
      "L          x           R\n",
      "L                    x R\n"
     ]
    }
   ],
   "source": [
    "# Example 1\n",
    "print('L {:<20} R'.format('x'))\n",
    "# Example 2\n",
    "print('L {:^20} R'.format('x'))\n",
    "# Example 3\n",
    "print('L {:>20} R'.format('x'))"
   ]
  },
  {
   "cell_type": "code",
   "execution_count": 72,
   "metadata": {
    "slideshow": {
     "slide_type": "-"
    }
   },
   "outputs": [
    {
     "name": "stdout",
     "output_type": "stream",
     "text": [
      "hello===============\n",
      "_______hello________\n",
      "...............hello\n"
     ]
    }
   ],
   "source": [
    "print ('{:=<20}'.format('hello'))\n",
    "print ('{:_^20}'.format('hello'))\n",
    "print ('{:.>20}'.format('hello'))"
   ]
  },
  {
   "cell_type": "code",
   "execution_count": 73,
   "metadata": {
    "slideshow": {
     "slide_type": "slide"
    }
   },
   "outputs": [],
   "source": [
    "users = [[\"Alice\", 20],\n",
    "         [\"Bob\", 30],\n",
    "         [\"Carol\", 25],\n",
    "         [\"Dave\", 32],\n",
    "        ]\n",
    "columns = [\"name\", \"age\"]"
   ]
  },
  {
   "cell_type": "code",
   "execution_count": 77,
   "metadata": {
    "slideshow": {
     "slide_type": "slide"
    }
   },
   "outputs": [
    {
     "name": "stdout",
     "output_type": "stream",
     "text": [
      "name       age\n",
      "Alice       20\n",
      "Bob         30\n",
      "Carol       25\n",
      "Dave        32\n"
     ]
    }
   ],
   "source": [
    "print('{:<10s}{:>4s}'.format(*columns))\n",
    "for name, age in users:\n",
    "    print('{:<10s}{:>4d}'.format(name, age))"
   ]
  },
  {
   "cell_type": "code",
   "execution_count": 93,
   "metadata": {
    "slideshow": {
     "slide_type": "slide"
    }
   },
   "outputs": [
    {
     "name": "stdout",
     "output_type": "stream",
     "text": [
      "|name      | age|\n",
      "|----------|----|\n",
      "|Alice     |  20|\n",
      "|Bob       |  30|\n",
      "|Carol     |  25|\n",
      "|Dave      |  32|\n"
     ]
    }
   ],
   "source": [
    "# use the vertical and horizontal lines to format it according to\n",
    "# markdown syntax, so that you can have nicely formatted text\n",
    "print('|{:<10s}|{:>4s}|'.format(*columns))\n",
    "print('|{:<10s}|{:>4s}|'.format('-'*10, '-'*4))\n",
    "for name, age in users:\n",
    "    print('|{:<10s}|{:>4d}|'.format(name, age))"
   ]
  },
  {
   "cell_type": "markdown",
   "metadata": {
    "slideshow": {
     "slide_type": "slide"
    }
   },
   "source": [
    "By printing in that format you can copy and paste and obtain a nicely formatted MarkDown table!\n",
    "\n",
    "|name      | age|\n",
    "|---       | ---|\n",
    "|Alice     |  20|\n",
    "|Bob       |  30|\n",
    "|Carol     |  25|\n",
    "|Dave      |  32|"
   ]
  },
  {
   "cell_type": "code",
   "execution_count": 92,
   "metadata": {
    "slideshow": {
     "slide_type": "slide"
    }
   },
   "outputs": [
    {
     "name": "stdout",
     "output_type": "stream",
     "text": [
      "|name    | age|\n",
      "|--------|----|\n",
      "|Alice   |  20|\n",
      "|Bob     |  30|\n",
      "|Carol   |  25|\n",
      "|Dave    |  32|\n"
     ]
    }
   ],
   "source": [
    "# you can use variables to set the formatting by enclosing \n",
    "# the name in curly brackets inside the other curly brakets!\n",
    "size1, size2 = 8, 4\n",
    "print('|{:<{s1}s}|{:>{s2}s}|'.format(*columns, s1=size1, s2=size2))\n",
    "print('|{:<{s1}s}|{:>{s2}s}|'.format('-'*size1, '-'*size2, s1=size1, s2=size2))\n",
    "for name, age in users:\n",
    "    print('|{:<{s1}s}|{:>{s2}d}|'.format(name, age, s1=size1, s2=size2))"
   ]
  },
  {
   "cell_type": "markdown",
   "metadata": {
    "slideshow": {
     "slide_type": "slide"
    }
   },
   "source": [
    "#### tetwrapping - adatting to different terminal lenght\n",
    "\n",
    "the library `textwrap` allow us to flow the text inside a narrow terminal, or to clip the text if the line is too long."
   ]
  },
  {
   "cell_type": "code",
   "execution_count": 94,
   "metadata": {
    "slideshow": {
     "slide_type": "-"
    }
   },
   "outputs": [],
   "source": [
    "import textwrap"
   ]
  },
  {
   "cell_type": "code",
   "execution_count": 96,
   "metadata": {
    "slideshow": {
     "slide_type": "fragment"
    }
   },
   "outputs": [
    {
     "name": "stdout",
     "output_type": "stream",
     "text": [
      "some crazy long\n",
      "string that we\n",
      "might need to\n",
      "break on\n",
      "multiple lines\n"
     ]
    }
   ],
   "source": [
    "s = \"some crazy long string that we might need to break on multiple lines\"\n",
    "print(textwrap.fill(s, 15))"
   ]
  },
  {
   "cell_type": "code",
   "execution_count": 105,
   "metadata": {
    "slideshow": {
     "slide_type": "fragment"
    }
   },
   "outputs": [
    {
     "data": {
      "text/plain": [
       "'another craxy [...]'"
      ]
     },
     "execution_count": 105,
     "metadata": {},
     "output_type": "execute_result"
    }
   ],
   "source": [
    "s = \"another craxy string to be hidden\"\n",
    "textwrap.shorten(s, width=19, placeholder=\" [...]\")"
   ]
  },
  {
   "cell_type": "markdown",
   "metadata": {
    "slideshow": {
     "slide_type": "slide"
    }
   },
   "source": [
    "### Differentiate output if on terminal or not\n",
    "\n",
    "this is really tricky to test, but it might be useful to print something different when talking to other programs (probably JSONlines) and humans (simple english, maybe with colors and decorations).\n",
    "\n",
    "the trick is to use `sys.stdout.isatty()`, that returns true for a terminal aimed to be read by a human.\n",
    "\n",
    "The only problem is that capturing the output (such as what the notebook does) trick the program into thinking that it's talking to a machine, and so the output will be the machine-oriented one!\n",
    "This can make testing this functionality a pain..."
   ]
  },
  {
   "cell_type": "markdown",
   "metadata": {
    "slideshow": {
     "slide_type": "slide"
    }
   },
   "source": [
    "personally I prefer two different options:\n",
    "* generate human readable by default, and generate json with a `--json` flag (or vice-versa)\n",
    "* always generate json data, but also write a **prettifier**, that take the json as input and print out a nice, human, text (the solution used by the loggin library `eliot`)"
   ]
  },
  {
   "cell_type": "code",
   "execution_count": 61,
   "metadata": {
    "slideshow": {
     "slide_type": "slide"
    }
   },
   "outputs": [
    {
     "name": "stdout",
     "output_type": "stream",
     "text": [
      "Overwriting temp.py\n"
     ]
    }
   ],
   "source": [
    "%%file temp.py\n",
    "from sys import stdout\n",
    "with open(\"temp.txt\", \"w\") as outfile:\n",
    "    if stdout.isatty():\n",
    "        print('The output device is a teletype. Or something like a teletype.', file=outfile)\n",
    "    else:\n",
    "        print(\"The output device isn't like a teletype.\", file=outfile)"
   ]
  },
  {
   "cell_type": "code",
   "execution_count": 64,
   "metadata": {
    "slideshow": {
     "slide_type": "slide"
    }
   },
   "outputs": [
    {
     "name": "stdout",
     "output_type": "stream",
     "text": [
      "The output device isn't like a teletype.\n"
     ]
    }
   ],
   "source": [
    "result = run([\"python\", \"temp.py\"], input='enrico\\n', capture_output=True, encoding='utf8')\n",
    "with open(\"temp.txt\") as file:\n",
    "    for line in file:\n",
    "        print(line.strip())"
   ]
  },
  {
   "cell_type": "code",
   "execution_count": 65,
   "metadata": {
    "slideshow": {
     "slide_type": "-"
    }
   },
   "outputs": [
    {
     "name": "stdout",
     "output_type": "stream",
     "text": [
      "The output device is a teletype. Or something like a teletype.\n"
     ]
    }
   ],
   "source": [
    "result = run([\"python\", \"temp.py\"], input='enrico\\n', encoding='utf8')\n",
    "with open(\"temp.txt\") as file:\n",
    "    for line in file:\n",
    "        print(line.strip())"
   ]
  },
  {
   "cell_type": "markdown",
   "metadata": {
    "slideshow": {
     "slide_type": "slide"
    }
   },
   "source": [
    "### dot aligned numbers\n",
    "\n",
    "printing numbers aligned on their decimal point is a common useful features, but not an simple one to perform, because the actual alignment depends on **all** the numbers included, so it can't be done on a number-by-number basis without some assumption first.\n",
    "\n",
    "basically one have to split the numbers in before and after the dot, and align the two separately!\n",
    "\n",
    "I'll provide you a simple function to do the alignment on a single number.\n",
    "It's not covering all corner cases, but it provides a reasonable starting point if you want to personalize the implementation"
   ]
  },
  {
   "cell_type": "code",
   "execution_count": 127,
   "metadata": {
    "slideshow": {
     "slide_type": "slide"
    }
   },
   "outputs": [],
   "source": [
    "def dot_format(number, left_pad, right_pad, padding=''):\n",
    "    big, small = str(float(number)).split('.')\n",
    "    format_str = \"{b:>{s1}s}.{s:{pad}<{s2}s}\"\n",
    "    result = format_str.format(\n",
    "        b=big,\n",
    "        s=small,\n",
    "        pad=padding,\n",
    "        s1=left_pad,\n",
    "        s2=right_pad)\n",
    "    return result"
   ]
  },
  {
   "cell_type": "code",
   "execution_count": 128,
   "metadata": {
    "scrolled": true,
    "slideshow": {
     "slide_type": "slide"
    }
   },
   "outputs": [
    {
     "name": "stdout",
     "output_type": "stream",
     "text": [
      " 2.0  \n",
      " 3.14 \n",
      "12.1  \n"
     ]
    }
   ],
   "source": [
    "print(dot_format(2, left_pad=2, right_pad=3))\n",
    "print(dot_format(3.14, left_pad=2, right_pad=3))\n",
    "print(dot_format(12.1, left_pad=2, right_pad=3))"
   ]
  },
  {
   "cell_type": "code",
   "execution_count": 129,
   "metadata": {
    "slideshow": {
     "slide_type": "fragment"
    }
   },
   "outputs": [
    {
     "name": "stdout",
     "output_type": "stream",
     "text": [
      " 2.000\n",
      " 3.140\n",
      "12.100\n"
     ]
    }
   ],
   "source": [
    "print(dot_format(2, left_pad=2, right_pad=3, padding='0'))\n",
    "print(dot_format(3.14, left_pad=2, right_pad=3, padding='0'))\n",
    "print(dot_format(12.1, left_pad=2, right_pad=3, padding='0'))"
   ]
  },
  {
   "cell_type": "code",
   "execution_count": 130,
   "metadata": {
    "slideshow": {
     "slide_type": "fragment"
    }
   },
   "outputs": [
    {
     "name": "stdout",
     "output_type": "stream",
     "text": [
      " 2.000\n",
      " 3.140\n",
      "12.127\n"
     ]
    }
   ],
   "source": [
    "from functools import partial\n",
    "my_format = partial(dot_format, left_pad=2, right_pad=3, padding='0')\n",
    "numbers = [2, 3.14, 12.127]\n",
    "for each_number in numbers:\n",
    "    print(my_format(each_number))"
   ]
  },
  {
   "cell_type": "markdown",
   "metadata": {
    "slideshow": {
     "slide_type": "slide"
    }
   },
   "source": [
    "#### Special characters\n",
    "\n",
    "Python can print almost the full unicode spectrum, use it!\n",
    "\n",
    "Dingbats: `\"✓\"`, `\"✗\"`\n",
    "\n",
    "blocks: `\"▀▁▂▃▄▅▆▇█▉▊▋▌▍▎▏▐░▒▓▔▕▖▗▘▙▚▛▜▝▞▟\"`\n",
    "\n",
    "emoji: `\"😆\"`, `\"👍\"`\n"
   ]
  },
  {
   "cell_type": "code",
   "execution_count": 5,
   "metadata": {
    "slideshow": {
     "slide_type": "-"
    }
   },
   "outputs": [
    {
     "name": "stdout",
     "output_type": "stream",
     "text": [
      "😆\n",
      "👍\n"
     ]
    }
   ],
   "source": [
    "print('\\U0001F606') \n",
    "print(\"👍\")"
   ]
  },
  {
   "cell_type": "markdown",
   "metadata": {
    "slideshow": {
     "slide_type": "slide"
    }
   },
   "source": [
    "### inputting passwords\n",
    "\n",
    "sometimes it's encessary, and it's a good practice to hide them while we type them, to make sure that nobody can spot them.\n",
    "\n",
    "**Please be careful and never store password in your programs!**"
   ]
  },
  {
   "cell_type": "code",
   "execution_count": 166,
   "metadata": {
    "slideshow": {
     "slide_type": "fragment"
    }
   },
   "outputs": [
    {
     "name": "stdout",
     "output_type": "stream",
     "text": [
      "Password: ········\n",
      "ciao\n"
     ]
    }
   ],
   "source": [
    "import getpass\n",
    "pwd = getpass.getpass(prompt='Password: ')\n",
    "print(pwd)"
   ]
  },
  {
   "cell_type": "markdown",
   "metadata": {
    "slideshow": {
     "slide_type": "slide"
    }
   },
   "source": [
    "## final readings\n",
    "\n",
    "Eric Raymond: **The Art of Unix Programming**:\n",
    "* http://www.catb.org/~esr/writings/taoup/html/index.html\n",
    "\n",
    "Jeroen Janssens, **Data Science at the Command Line**\n",
    "* https://www.datascienceatthecommandline.com/"
   ]
  },
  {
   "cell_type": "markdown",
   "metadata": {
    "slideshow": {
     "slide_type": "slide"
    }
   },
   "source": [
    "# Exercise\n",
    "\n",
    "Write a personal knowledge database app.\n",
    "\n",
    "this app should:\n",
    "* add new notes\n",
    "* show notes\n",
    "* search notes based on words contained in them\n",
    "\n",
    "## advanced\n",
    "\n",
    "* set tags, also in previously created notes\n",
    "* filter by tags (including logic of tags to use or not)\n",
    "* filter by date"
   ]
  },
  {
   "cell_type": "markdown",
   "metadata": {
    "slideshow": {
     "slide_type": "skip"
    }
   },
   "source": [
    "https://codeburst.io/13-tips-tricks-for-writing-shell-scripts-with-awesome-ux-19a525ae05ae\n",
    "\n",
    "https://eng.localytics.com/exploring-cli-best-practices/\n",
    "\n",
    "https://amir.rachum.com/blog/2017/07/28/python-entry-points/"
   ]
  },
  {
   "cell_type": "markdown",
   "metadata": {
    "slideshow": {
     "slide_type": "slide"
    }
   },
   "source": [
    "# Extra Material"
   ]
  },
  {
   "cell_type": "markdown",
   "metadata": {
    "slideshow": {
     "slide_type": "slide"
    }
   },
   "source": [
    "### sending email from the script\n",
    "\n",
    "**DO NOT STORE PASSWORDS**\n",
    "\n",
    "**ESPECIALLY FOR YOUR UNIBO ACCOUNT!!!**\n",
    "\n",
    "Fancy emails and attachments can be sent using the email-mime package (already incuded in python)\n",
    "\n",
    "https://docs.python.org/3/library/email.mime.html"
   ]
  },
  {
   "cell_type": "code",
   "execution_count": null,
   "metadata": {
    "slideshow": {
     "slide_type": "slide"
    }
   },
   "outputs": [],
   "source": [
    "import smtplib, ssl, getpass\n",
    "\n",
    "port = 587\n",
    "smtp_server = \"smtp.office365.com\"\n",
    "user = \"enrico.giampieri@unibo.it\"\n",
    "password = getpass.getpass(prompt='Password: ')\n",
    "\n",
    "receiver = \"enrico.giampieri@unibo.it\"\n",
    "# the empty line divides the header from the body\n",
    "msg = \"\"\"Subject: Hi there\n",
    "\n",
    "This message is sent from Python.\n",
    "\"\"\" "
   ]
  },
  {
   "cell_type": "code",
   "execution_count": null,
   "metadata": {
    "slideshow": {
     "slide_type": "slide"
    }
   },
   "outputs": [],
   "source": [
    "# Create a secure SSL context\n",
    "context = ssl.create_default_context()\n",
    "with smtplib.SMTP(smtp_server, port) as server:\n",
    "    # Secure the connection\n",
    "    server.starttls(context=context) \n",
    "    server.login(user, password)\n",
    "    server.sendmail(user, receiver, msg)"
   ]
  },
  {
   "cell_type": "markdown",
   "metadata": {
    "slideshow": {
     "slide_type": "slide"
    }
   },
   "source": [
    "now, if for some reason you decide that saving the password is fundamental (for example to allow the user to login again in the future without retyping them).... please reconsider it!"
   ]
  },
  {
   "cell_type": "markdown",
   "metadata": {
    "slideshow": {
     "slide_type": "slide"
    }
   },
   "source": [
    "Now, if it is **really** necessary, then at least you need to:\n",
    "* *salt* the password (add a fixed value to it that might depend on the user name or access domain)\n",
    "* generate a random *cryptographic key* individual to the user\n",
    "* encrypt the *salted key* and save it somewhere\n",
    "* store the *cryptographic key* somewhere different\n",
    "* delete the password and *cryptographic key* from memory once you're done"
   ]
  },
  {
   "cell_type": "markdown",
   "metadata": {
    "slideshow": {
     "slide_type": "-"
    }
   },
   "source": [
    "*salting* a password means to modify it somehow (for example by prepending the username) so that the\n",
    "crypted values does not depend only on the password, making it harder to break with frequency based attacks"
   ]
  },
  {
   "cell_type": "markdown",
   "metadata": {
    "slideshow": {
     "slide_type": "slide"
    }
   },
   "source": [
    "and when you need to acces in the future:\n",
    "* load the user's *cryptographic key*\n",
    "* load the *encrypted salted key*\n",
    "* uncrypt it\n",
    "* unsalt it\n",
    "* use it\n",
    "* delete the password and *cryptographic key* from memory once you're done"
   ]
  },
  {
   "cell_type": "markdown",
   "metadata": {
    "slideshow": {
     "slide_type": "-"
    }
   },
   "source": [
    "the reason to delete it from memory afterward is to avoid that a program crash could unintentionaly display it in clear view.\n",
    "\n",
    "to implement the steps above you can use the library **cryptography**"
   ]
  },
  {
   "cell_type": "code",
   "execution_count": 207,
   "metadata": {
    "slideshow": {
     "slide_type": "slide"
    }
   },
   "outputs": [
    {
     "name": "stdout",
     "output_type": "stream",
     "text": [
      "b'gAAAAABewB2M-k1o9Eh4aBpEnWXc1YvZUncNuXe7_B1ZU6Ym7waVA0JynvRLktfL5igCekLg4ZVQrO9S33tj2lEUHT9CB5F_FfcFE-Gj8JjcSM4VeTJBTds='\n"
     ]
    }
   ],
   "source": [
    "from cryptography.fernet import Fernet\n",
    "salt = b\"myusername\" # this should depend on the username or the domain, don't always use the same\n",
    "key = Fernet.generate_key() # save this!!!\n",
    "message = b\"my_important_password\"\n",
    "\n",
    "cipher_suite = Fernet(key)\n",
    "salted_message = salt+message # this is a very trivial salting, could use something smarter\n",
    "cipher_text = cipher_suite.encrypt(salted_message)\n",
    "\n",
    "print(cipher_text)\n",
    "\n",
    "salted_text = cipher_suite.decrypt(cipher_text)\n",
    "plain_text = salted_text[len(salt):] # inverse operation of the salting\n",
    "assert plain_text == message"
   ]
  },
  {
   "cell_type": "code",
   "execution_count": 208,
   "metadata": {
    "slideshow": {
     "slide_type": "-"
    }
   },
   "outputs": [
    {
     "data": {
      "text/plain": [
       "b'r-62ZvVmkg_L1UiaeU7pK6N4uOW36y1Ybhtm9Y_okZw='"
      ]
     },
     "execution_count": 208,
     "metadata": {},
     "output_type": "execute_result"
    }
   ],
   "source": [
    "key"
   ]
  },
  {
   "cell_type": "markdown",
   "metadata": {
    "slideshow": {
     "slide_type": "slide"
    }
   },
   "source": [
    "Cryptography is a **very complicated** topic (and I'm not an expert in it), and I **strongly suggest you to not try** to do things yourself as much as possible!"
   ]
  },
  {
   "cell_type": "markdown",
   "metadata": {
    "slideshow": {
     "slide_type": "slide"
    }
   },
   "source": [
    "### Spark plots\n",
    "sometimes it is useful to create very simple graphs in the terminal to represents some data.\n",
    "To do this you can use some special characters to show your results in a sintetic way!\n",
    "\n",
    "I'll show some simple functions to represent data in the terminal (that you can combine with things like colors and so on), but if you need there are entire libraries that provide proper plotting functions in a ascii terminal! \n",
    "\n",
    "https://github.com/glamp/bashplotlib"
   ]
  },
  {
   "cell_type": "code",
   "execution_count": 131,
   "metadata": {
    "slideshow": {
     "slide_type": "slide"
    }
   },
   "outputs": [
    {
     "name": "stdout",
     "output_type": "stream",
     "text": [
      "█▂▃▅▁▁▄\n"
     ]
    }
   ],
   "source": [
    "bar = '▁▂▃▄▅▆▇█'\n",
    "barcount = len(bar)\n",
    " \n",
    "def sparkline(numbers):\n",
    "    mn, mx = min(numbers), max(numbers)\n",
    "    extent = mx - mn\n",
    "    sparkline = ''.join(bar[min([barcount - 1,\n",
    "                                 int((n - mn) / extent * barcount)])]\n",
    "                        for n in numbers)\n",
    "    return mn, mx, sparkline\n",
    "\n",
    "data = [8, 2, 3, 5, 1, 1, 4]\n",
    "mn, mx, sp = sparkline(data)\n",
    "print(sp)"
   ]
  },
  {
   "cell_type": "markdown",
   "metadata": {
    "slideshow": {
     "slide_type": "slide"
    }
   },
   "source": [
    "another commonly used option is to print an histogram by printing a number of gliphs equal to the count"
   ]
  },
  {
   "cell_type": "code",
   "execution_count": 133,
   "metadata": {
    "slideshow": {
     "slide_type": "-"
    }
   },
   "outputs": [
    {
     "name": "stdout",
     "output_type": "stream",
     "text": [
      "======== 8\n",
      "== 2\n",
      "=== 3\n",
      "===== 5\n",
      "= 1\n",
      "= 1\n",
      "==== 4\n"
     ]
    }
   ],
   "source": [
    "data = [8, 2, 3, 5, 1, 1, 4]\n",
    "for each_value in data:\n",
    "    print(\"=\"*each_value, each_value)"
   ]
  },
  {
   "cell_type": "code",
   "execution_count": 153,
   "metadata": {
    "slideshow": {
     "slide_type": "slide"
    }
   },
   "outputs": [],
   "source": [
    "blocks=  \"▀▁▂▃▄▅▆▇█▉▊▋▌▍▎▏▐░▒▓▔▕▖▗▘▙▚▛▜▝▞▟\"\n",
    "# https://en.wikipedia.org/wiki/Geometric_Shapes\n",
    "symbols_set_1 = \"■□▢▣▤▥▦▧▨▩▪▫▬▭▮▯\"\n",
    "symbols_set_2 = \"▰▱▲△▴▵▶▷▸▹►▻▼▽▾▿\"\n",
    "symbols_set_3 = \"◀◁◂◃◄◅◆◇◈◉◊○◌◍◎●\"\n",
    "symbols_set_4 = \"◐◑◒◓◔◕◖◗◘◙◚◛◜◝◞◟\"\n",
    "symbols_set_5 = \"◠◡◢◣◤◥◦◧◨◩◪◫◬◭◮◯\"\n",
    "symbols_set_6 = \"◰◱◲◳◴◵◶◷◸◹◺◻◼◽◾◿\"\n",
    "# tables and box drawing\n",
    "# https://en.wikipedia.org/wiki/Box_Drawing_(Unicode_block)\n",
    "box_borders_1_of_many = \"─━│┃┄┅┆┇┈┉┊┋┌┍┎┏\"\n",
    "# arrows and symbols\n",
    "# https://en.wikipedia.org/wiki/Miscellaneous_Symbols_and_Arrows\n",
    "arrows_1_of_many = \"⬀⬁⬂⬃⬄⬅⬆⬇⬈⬉⬊⬋⬌⬍⬎⬏\"\n",
    "#https://en.wikipedia.org/wiki/Mathematical_operators_and_symbols_in_Unicode\n",
    "math_1_of_too_many = \"∀∁∂∃∄∅∆∇∈∉∊∋∌∍∎∏\"\n",
    "superscripts = \"⁰¹²³⁴⁵⁶⁷⁸⁹\" + \"ⁱ ⁺ ⁻ ⁼ ⁽ ⁾ ⁿ\"\n",
    "underscripts = \"₀₁₂₃₄₅₆₇₈₉ ₊ ₋ ₌ ₍ ₎\" + \"ₐₑₒₓₔₕ ₖ ₗ ₘ ₙ ₚ ₛ ₜ \"\n",
    "greek_letters= \"αβγ…\" # and all the others"
   ]
  },
  {
   "cell_type": "markdown",
   "metadata": {
    "slideshow": {
     "slide_type": "slide"
    }
   },
   "source": [
    "you can use the `'\\b'` (**b**ackspace) character to delete the previous one\n",
    "\n",
    "you can use the carriage return character `'\\r'` (carriage **r**eturn) to move back on the line and the print over the old content.\n",
    "\n",
    "the character `'\\r'` **does not delete** the previous characters, just move the position of the cursor to the start of the line!"
   ]
  },
  {
   "cell_type": "code",
   "execution_count": 2,
   "metadata": {
    "slideshow": {
     "slide_type": "-"
    }
   },
   "outputs": [
    {
     "name": "stdout",
     "output_type": "stream",
     "text": [
      "a\b\n"
     ]
    }
   ],
   "source": [
    "print(\"a\\b\")"
   ]
  },
  {
   "cell_type": "code",
   "execution_count": 3,
   "metadata": {
    "slideshow": {
     "slide_type": "-"
    }
   },
   "outputs": [
    {
     "name": "stdout",
     "output_type": "stream",
     "text": [
      "a\r\n"
     ]
    }
   ],
   "source": [
    "print(\"a\\r\")"
   ]
  },
  {
   "cell_type": "code",
   "execution_count": 4,
   "metadata": {
    "slideshow": {
     "slide_type": "-"
    }
   },
   "outputs": [
    {
     "name": "stdout",
     "output_type": "stream",
     "text": [
      "aa\r",
      "b\n"
     ]
    }
   ],
   "source": [
    "print(\"aa\\rb\")"
   ]
  },
  {
   "cell_type": "code",
   "execution_count": 140,
   "metadata": {
    "slideshow": {
     "slide_type": "-"
    }
   },
   "outputs": [
    {
     "name": "stdout",
     "output_type": "stream",
     "text": [
      " "
     ]
    }
   ],
   "source": [
    "from itertools import cycle\n",
    "from time import sleep\n",
    "\n",
    "for idx, frame in enumerate(cycle(r'-\\|/-\\|/')):\n",
    "    print('\\r', frame, sep='', end='', flush=True)\n",
    "    sleep(0.2)\n",
    "    if idx>30:\n",
    "        print('\\r', ' ', sep='', end='', flush=True)\n",
    "        break\n"
   ]
  },
  {
   "cell_type": "markdown",
   "metadata": {
    "slideshow": {
     "slide_type": "slide"
    }
   },
   "source": [
    "### Notifications"
   ]
  },
  {
   "cell_type": "code",
   "execution_count": 141,
   "metadata": {
    "slideshow": {
     "slide_type": "-"
    }
   },
   "outputs": [
    {
     "name": "stdout",
     "output_type": "stream",
     "text": [
      "\u0007\n"
     ]
    }
   ],
   "source": [
    "# play a chime sound, useful to signal the end of some operation\n",
    "print('\\a')"
   ]
  },
  {
   "cell_type": "markdown",
   "metadata": {},
   "source": [
    "# Internationalization (i18n)\n",
    "\n",
    "is based on the locale module, allow to print numbers and currencies according to the user preferences (if set)\n",
    "\n",
    "you would also need to take care of timezones, and translations.\n",
    "\n",
    "They are all a massive pain, be aware!\n",
    "\n",
    "https://lokalise.com/blog/beginners-guide-to-python-i18n/\n",
    "\n",
    "https://phrase.com/blog/posts/translate-python-gnu-gettext/"
   ]
  },
  {
   "cell_type": "code",
   "execution_count": 32,
   "metadata": {
    "slideshow": {
     "slide_type": "slide"
    }
   },
   "outputs": [
    {
     "name": "stdout",
     "output_type": "stream",
     "text": [
      "\n",
      "Locale from environment: ('English_United States', '1252')\n"
     ]
    }
   ],
   "source": [
    "import locale\n",
    "import os\n",
    "# Default settings based on the user's environment.\n",
    "locale.setlocale(locale.LC_ALL, '')\n",
    "\n",
    "# What is the locale?\n",
    "print('\\nLocale from environment:', locale.getlocale())"
   ]
  },
  {
   "cell_type": "code",
   "execution_count": 28,
   "metadata": {
    "slideshow": {
     "slide_type": "slide"
    }
   },
   "outputs": [],
   "source": [
    "sample_locales = [\n",
    "    ('UK', 'en_GB'),\n",
    "    ('France', 'fr_FR'),\n",
    "    ('China', 'zh-cn'),\n",
    "    ('Italy', 'it_IT'),\n",
    "    ('Poland', 'pl_PL'),\n",
    "]"
   ]
  },
  {
   "cell_type": "code",
   "execution_count": 30,
   "metadata": {
    "slideshow": {
     "slide_type": "slide"
    }
   },
   "outputs": [
    {
     "name": "stdout",
     "output_type": "stream",
     "text": [
      "           UK:      £1234.57      £-1234.57\n",
      "       France:     1234,57 €     -1234,57 €\n",
      "        China:      ￥1234.57      ￥1234.57-\n",
      "        Italy:     1234,57 €     -1234,57 €\n",
      "       Poland:    1234,57 zł    -1234,57 zł\n"
     ]
    }
   ],
   "source": [
    "for name, loc in sample_locales:\n",
    "    locale.setlocale(locale.LC_ALL, loc)\n",
    "    print('{:>13}: {:>13}  {:>13}'.format(\n",
    "        name,\n",
    "        locale.currency(1234.5678),\n",
    "        locale.currency(-1234.5689),\n",
    "    ))"
   ]
  },
  {
   "cell_type": "code",
   "execution_count": 31,
   "metadata": {},
   "outputs": [
    {
     "name": "stdout",
     "output_type": "stream",
     "text": [
      "    Locale    Integer           Float\n",
      "        UK    123,456      123,456.78\n",
      "    France    123 456      123 456,78\n",
      "     China    123,456      123,456.78\n",
      "     Italy    123.456      123.456,78\n",
      "    Poland    123 456      123 456,78\n"
     ]
    }
   ],
   "source": [
    "print('{:>10} {:>10} {:>15}'.format('Locale', 'Integer', 'Float'))\n",
    "for name, loc in sample_locales:\n",
    "    locale.setlocale(locale.LC_ALL, loc)\n",
    "\n",
    "    print('{:>10}'.format(name), end=' ')\n",
    "    print(locale.format_string('%10d', 123456, grouping=True), end=' ')\n",
    "    print(locale.format_string('%15.2f', 123456.78, grouping=True))"
   ]
  }
 ],
 "metadata": {
  "celltoolbar": "Slideshow",
  "kernelspec": {
   "display_name": "Python 3",
   "language": "python",
   "name": "python3"
  },
  "language_info": {
   "codemirror_mode": {
    "name": "ipython",
    "version": 3
   },
   "file_extension": ".py",
   "mimetype": "text/x-python",
   "name": "python",
   "nbconvert_exporter": "python",
   "pygments_lexer": "ipython3",
   "version": "3.7.7"
  }
 },
 "nbformat": 4,
 "nbformat_minor": 2
}
