{
 "cells": [
  {
   "cell_type": "markdown",
   "metadata": {
    "slideshow": {
     "slide_type": "slide"
    }
   },
   "source": [
    "# writing command line applications\n"
   ]
  },
  {
   "cell_type": "markdown",
   "metadata": {
    "slideshow": {
     "slide_type": "slide"
    }
   },
   "source": [
    "Command line applications are a generalization of the idea of script: the execution of the program is conditioned on some parameters provided by the user.\n",
    "\n",
    "This is typically done using **options**, **parameters** and **flags**, and are the typical interface used by bash programs."
   ]
  },
  {
   "cell_type": "markdown",
   "metadata": {
    "slideshow": {
     "slide_type": "slide"
    }
   },
   "source": [
    "## Why applications?\n",
    "\n",
    "functionalities implemented as CLI applications share a lot of the advantages with libraries\n",
    "\n",
    "1. Commands are repeatable\n",
    "2. Commands can be shared\n",
    "3. Commands can be automated (and this scales well)\n",
    "4. Commands should be readable\n",
    "5. Commands can be composed together"
   ]
  },
  {
   "cell_type": "markdown",
   "metadata": {
    "slideshow": {
     "slide_type": "slide"
    }
   },
   "source": [
    "In this lesson we will present how to use the standard library of python to create CLI applications.\n",
    "\n",
    "There are a **huge** number of libraries dedicated to help you generating good CLI applications, but they might not be available on most systems and have conflicting requirements.\n",
    "\n",
    "We will see how to implement the vast majority of what we need from basic python, and you will then be free to try out other approaches."
   ]
  },
  {
   "cell_type": "markdown",
   "metadata": {
    "slideshow": {
     "slide_type": "slide"
    }
   },
   "source": [
    "Some libraries that you might want to check out to explore other approaches to CLI generation are:\n",
    "\n",
    "* plumbum\n",
    "* click"
   ]
  },
  {
   "cell_type": "markdown",
   "metadata": {
    "slideshow": {
     "slide_type": "slide"
    }
   },
   "source": [
    "## CLI application good practices"
   ]
  },
  {
   "cell_type": "markdown",
   "metadata": {
    "slideshow": {
     "slide_type": "slide"
    }
   },
   "source": [
    "### Errors management\n",
    "\n",
    "\n",
    "#### clean up after yourself, especially on errors\n",
    "If something goes wrong, try to avoid leaving the system in an invalid state, and clean unnecessary files\n",
    "\n",
    "#### allow if possible to recover partial results\n",
    "This is especially important in long executions: take a hint from the snakemake approach, and try to have partial results stored as temporary files to avoid unnecessary repetition when possible"
   ]
  },
  {
   "cell_type": "markdown",
   "metadata": {
    "slideshow": {
     "slide_type": "slide"
    }
   },
   "source": [
    "#### try to be robust to bad data and configuration\n",
    "it is better to do less things, but making sure that those things are well covered and the program will not trow a fit for some input data in an awkward format.\n",
    "\n",
    "Utilities should handle arbitrarily long lines, huge files, and so on.\n",
    "It is perhaps tolerable for a utility to fail on a data set larger than it can hold in memory, but some utilities don't do this.\n",
    "for instance, sort, by using temporary files, can generally sort data sets much larger than it can hold in memory. "
   ]
  },
  {
   "cell_type": "markdown",
   "metadata": {
    "slideshow": {
     "slide_type": "slide"
    }
   },
   "source": [
    "#### Exit with different error codes\n",
    "this is the values that is returned by the **main**\n",
    "0 means success, any other number means failure\n",
    "the best solution is to code each error to a specific return value (and document it)"
   ]
  },
  {
   "cell_type": "markdown",
   "metadata": {
    "slideshow": {
     "slide_type": "slide"
    }
   },
   "source": [
    "### User interaction\n",
    "\n",
    "\n",
    "#### give feedback for task longer than a second or two (such as progress bars)\n",
    "Users might worry that something has gone wrong and just kill the process if they have to wait without any prompt that the program is doing something.\n",
    "Even better, try to use a progress bar with a time estimate (plumbum has you covered)\n",
    "\n",
    "#### let the user control the level of verbosity of the output\n",
    "include a `--verbose`, a `--terse` and a `--silent` option to allow the user to control the level of feedback they wants"
   ]
  },
  {
   "cell_type": "markdown",
   "metadata": {
    "slideshow": {
     "slide_type": "slide"
    }
   },
   "source": [
    "#### Colour code your output\n",
    "\n",
    "Ideally, your script should:\n",
    "* output white/default (it’s the foreground process), \n",
    "* child processes should output grey (usually not needed unless things screw up), \n",
    "* success should be denoted with green, \n",
    "* failure, red, and \n",
    "* warnings in yellow."
   ]
  },
  {
   "cell_type": "markdown",
   "metadata": {
    "slideshow": {
     "slide_type": "slide"
    }
   },
   "source": [
    "#### Have both short ie one letter (Eg `-h`) and long forms (eg `--help`) of the command's switches\n",
    "long format helps readability and long term maintanability, and are good for scripting and manuals\n",
    "\n",
    "short forms are useful for manual input, especially of commonly used options (don't waste the user time)"
   ]
  },
  {
   "cell_type": "markdown",
   "metadata": {
    "slideshow": {
     "slide_type": "slide"
    }
   },
   "source": [
    "#### Ask for confirmation for irreversible action\n",
    "such as deleting data, changing informations without backup, etc...\n",
    "\n",
    "there should be an option to make this automatic, but the user should be protected from involuntary changes to the system.\n",
    "\n",
    "Even better, while asking for confirmation, also suggest which is the option to turn it off"
   ]
  },
  {
   "cell_type": "markdown",
   "metadata": {
    "slideshow": {
     "slide_type": "slide"
    }
   },
   "source": [
    "### Documentation\n",
    "\n",
    "#### consider adding a `help` sub command\n",
    "alongside the `--help` flag, consider including an help command that contains information about various topics\n",
    "\n",
    "#### provide some use cases in the documentation\n",
    "Especially if the case uses are not trivial, with many interlocked features interacting with each other.\n",
    "\n",
    "And, is possible, put them nearby the start of the documentation, rather than at the end."
   ]
  },
  {
   "cell_type": "markdown",
   "metadata": {
    "slideshow": {
     "slide_type": "slide"
    }
   },
   "source": [
    "#### In case of mistakes try suggesting common correction techniques\n",
    "Git again does this perfectly: when something goes wrong, it also suggest reliable methods to correct the bad situation, without covering this information in \"output noise\"\n",
    "\n",
    "#### make common commands memorable\n",
    "Don't use weird names, inside jokes, abstract references, words referring to implementation details (unless relevant).\n",
    "\n",
    "keep it simple and easy to remember."
   ]
  },
  {
   "cell_type": "markdown",
   "metadata": {
    "slideshow": {
     "slide_type": "slide"
    }
   },
   "source": [
    "### Configuration\n",
    "\n",
    "\n",
    "#### Work independently of current working directory\n",
    "use only absolute paths (/path/to/something) and paths relative to the script (demonstrated below)\n",
    "\n",
    "#### consider using configuration files\n",
    "This allows a greater deal of automation and configurability, reducing the load on the user to write all the options by hand.\n",
    "\n",
    "on the other hand, a configuration file should never be a necessity, and everything should be used as an option"
   ]
  },
  {
   "cell_type": "markdown",
   "metadata": {
    "slideshow": {
     "slide_type": "slide"
    }
   },
   "source": [
    "#### all the options that can have a default value, should have one\n",
    "Ideally, the program should be executable without specifying any option.\n",
    "\n",
    "compulsory options are probably candidates for sub-commands"
   ]
  },
  {
   "cell_type": "markdown",
   "metadata": {
    "slideshow": {
     "slide_type": "slide"
    }
   },
   "source": [
    "### Interface\n",
    "\n",
    "#### try to be consistent with other GNU tools : \n",
    "For example see a list of options from other GNU tools and if possible try to align to them\n",
    "\n",
    "http://www.catb.org/esr/writings/taoup/html/ch10s05.html\n",
    "\n",
    "https://www.gnu.org/prep/standards/standards.html\n",
    "\n",
    "#### play well with pipes and allow input and output to files\n",
    "To play well with pipes it should read and write to stdout by default, but the user should be free to redirect to file if necessary"
   ]
  },
  {
   "cell_type": "markdown",
   "metadata": {
    "slideshow": {
     "slide_type": "slide"
    }
   },
   "source": [
    "#### If a command has a side effect provide a dry-run/whatif/no_post option.\n",
    "don't let the user jump blindly without checking what would happen.\n",
    "\n",
    "This also allows the user to find possible mistakes faster and with less risks\n",
    "\n",
    "Snakemake perfors this very well."
   ]
  },
  {
   "cell_type": "markdown",
   "metadata": {
    "slideshow": {
     "slide_type": "slide"
    }
   },
   "source": [
    "#### everything should be doable in a script, without human interaction\n",
    "To allow the program to be fully used in script and automated, it should always be possible to execute it without any input from the user.\n",
    "\n",
    "When possible, this should be the preferred behavior\n",
    "\n",
    "#### try to make it composable\n",
    "programs that play nicely with other can be used to implement even more complicated pipelines and programs."
   ]
  },
  {
   "cell_type": "markdown",
   "metadata": {
    "slideshow": {
     "slide_type": "slide"
    }
   },
   "source": [
    "#### conside adding switches to both turn on and off behaviors\n",
    "If a switch is in the long-form (for example --foo), which turns “on” some behavior (that is off by default), there should also be another switch that turns “off” the behavior.\n",
    "\n",
    "This allow the user to be more explicit and change-proof the script for future change of default behavior"
   ]
  },
  {
   "cell_type": "markdown",
   "metadata": {
    "slideshow": {
     "slide_type": "slide"
    }
   },
   "source": [
    "#### consider using a long informative name for you app\n",
    "\n",
    "the GNU convention is to use 2 or 3 letters names, but if one can avoid it, the deafult program name should be something either explicit or memorable.\n",
    "\n",
    "The user has always the option to alias it to something shorter."
   ]
  },
  {
   "cell_type": "markdown",
   "metadata": {
    "slideshow": {
     "slide_type": "slide"
    }
   },
   "source": [
    "#### if no output is necessary, avoid output unless required\n",
    "that's what the `--verbose` option is for.\n",
    "\n",
    "if the program performs an action and doesn't have to return a result in case of success (such as moving a file, changing directory, etc...), the user should see an output only in case of errors or if the verbose option is selected.\n",
    "\n",
    "This makes the program more script friendly"
   ]
  },
  {
   "cell_type": "markdown",
   "metadata": {
    "slideshow": {
     "slide_type": "slide"
    }
   },
   "source": [
    "## Preface - utilities\n",
    "\n",
    "Here I'll show how to implement some simple utilities to quickly improve the experience of the user when using the application we are writing"
   ]
  },
  {
   "cell_type": "markdown",
   "metadata": {
    "slideshow": {
     "slide_type": "slide"
    }
   },
   "source": [
    "### colored text output\n",
    "\n",
    "On nix systems the terminals support natively colored text.\n",
    "\n",
    "to show it one needs to change the style configuration with specific strings, and reset them afterwards.\n",
    "\n",
    "to show normal red text on yellow background, the string is `\\033[2;31;43m`\n",
    "\n",
    "To reset the styles, the string is `\\033[0;0m`.\n",
    "\n",
    "the style string contains 3 terms:\n",
    "* style\n",
    "* foreground color\n",
    "* background color\n",
    "\n",
    "depending on the terminal, the choice of colors might be more or less rich.\n",
    "\n",
    "a detailed explaination of the (relatively complex) set of possible values can be seems here:\n",
    "\n",
    "* https://stackoverflow.com/a/28938235/1784138"
   ]
  },
  {
   "cell_type": "markdown",
   "metadata": {
    "slideshow": {
     "slide_type": "slide"
    }
   },
   "source": [
    "my preferred approach is to use a simple context manager to write a whole line with the same style.\n",
    "\n",
    "One could change multiple styles in the same line, but I'm not a big fan of that.\n",
    "\n",
    "It should also be noted that these characters should not be written to text or logging!\n",
    "We'll see at the end of the lesson how to distinguish if the text is being printed out or printed to text."
   ]
  },
  {
   "cell_type": "code",
   "execution_count": 5,
   "metadata": {
    "slideshow": {
     "slide_type": "slide"
    }
   },
   "outputs": [],
   "source": [
    "from contextlib import contextmanager\n",
    "\n",
    "@contextmanager\n",
    "def highlighted_text():\n",
    "    print('\\033[2;31;43m', end='')\n",
    "    try:\n",
    "        yield\n",
    "    finally:\n",
    "        print(\"\\033[0;0m\", end='')"
   ]
  },
  {
   "cell_type": "code",
   "execution_count": 6,
   "metadata": {
    "slideshow": {
     "slide_type": "fragment"
    }
   },
   "outputs": [
    {
     "name": "stdout",
     "output_type": "stream",
     "text": [
      "\u001b[2;31;43mciao\n",
      "\u001b[0;0mmondo\n"
     ]
    }
   ],
   "source": [
    "with highlighted_text():\n",
    "    print(\"ciao\")\n",
    "print(\"mondo\")"
   ]
  },
  {
   "cell_type": "markdown",
   "metadata": {
    "slideshow": {
     "slide_type": "slide"
    }
   },
   "source": [
    "#### note on windows terminal\n",
    "\n",
    "terminal on windows does not follow the same standards as nix systems on how to display colors.\n",
    "\n",
    "To colorize ouput on windows you'll need specific libraries such as **colorama**"
   ]
  },
  {
   "cell_type": "markdown",
   "metadata": {
    "slideshow": {
     "slide_type": "slide"
    }
   },
   "source": [
    "### progress bars\n",
    "\n",
    "progress bars are an extremely useful way of displaying information to the users that the program is running.\n",
    "\n",
    "There are several libraries dedicated to generate progress bars of various kinds.\n",
    "\n",
    "here I'll display a simple \"rotating\" progress bar, that can be applied to any for-loop, using braille characters\n",
    "\n",
    "(you will need to copy-paste and try yourself to see the result)"
   ]
  },
  {
   "cell_type": "code",
   "execution_count": 12,
   "metadata": {
    "slideshow": {
     "slide_type": "slide"
    }
   },
   "outputs": [],
   "source": [
    "from itertools import cycle\n",
    "\n",
    "def progress(iterator):\n",
    "    cycling = cycle(\"⡇⣆⣤⣰⢸⠹⠛⠏\")\n",
    "    for element in iterator:\n",
    "        print(next(cycling), end=\"\\r\")\n",
    "        yield element\n",
    "    print(\" \\r\", end='')"
   ]
  },
  {
   "cell_type": "code",
   "execution_count": 47,
   "metadata": {
    "slideshow": {
     "slide_type": "-"
    }
   },
   "outputs": [
    {
     "name": "stdout",
     "output_type": "stream",
     "text": [
      "finished!\n"
     ]
    }
   ],
   "source": [
    "import time\n",
    "for idx in progress(range(10)):\n",
    "    time.sleep(0.5)\n",
    "print(\"finished!\")"
   ]
  },
  {
   "cell_type": "markdown",
   "metadata": {
    "slideshow": {
     "slide_type": "slide"
    }
   },
   "source": [
    "### configurations files and defaults\n",
    "\n",
    "Being able to lead configuration from files is extremely useful, as it allows to costumize the behavior of the program.\n",
    "\n",
    "This can be perfect by being combined with reading from the environment variables and applying sensible defaults.\n",
    "\n",
    "To obtain this result we will use three default libraries:\n",
    "\n",
    "* ConfigParser (to read the config files)\n",
    "* collections.ChainMap (to manage defaults and priority in configuration)\n",
    "* os.environ (to manage the environment variables)"
   ]
  },
  {
   "cell_type": "markdown",
   "metadata": {
    "slideshow": {
     "slide_type": "slide"
    }
   },
   "source": [
    "#### configuration files\n",
    "\n",
    "they allow to define the behavior in a more or less permanent way (as long as the file exists)."
   ]
  },
  {
   "cell_type": "code",
   "execution_count": 26,
   "metadata": {
    "slideshow": {
     "slide_type": "-"
    }
   },
   "outputs": [
    {
     "name": "stdout",
     "output_type": "stream",
     "text": [
      "Overwriting .myapp_rc\n"
     ]
    }
   ],
   "source": [
    "%%file .myapp_rc\n",
    "[DEFAULT]\n",
    "three=3\n",
    "\n",
    "[OTHER]\n",
    "a=3"
   ]
  },
  {
   "cell_type": "code",
   "execution_count": 27,
   "metadata": {
    "slideshow": {
     "slide_type": "slide"
    }
   },
   "outputs": [],
   "source": [
    "import configparser"
   ]
  },
  {
   "cell_type": "code",
   "execution_count": 28,
   "metadata": {
    "slideshow": {
     "slide_type": "-"
    }
   },
   "outputs": [
    {
     "data": {
      "text/plain": [
       "['.myapp_rc']"
      ]
     },
     "execution_count": 28,
     "metadata": {},
     "output_type": "execute_result"
    }
   ],
   "source": [
    "config = configparser.ConfigParser()\n",
    "config.read('.myapp_rc')"
   ]
  },
  {
   "cell_type": "code",
   "execution_count": 33,
   "metadata": {
    "slideshow": {
     "slide_type": "slide"
    }
   },
   "outputs": [
    {
     "data": {
      "text/plain": [
       "[('a', '3'), ('three', '3')]"
      ]
     },
     "execution_count": 33,
     "metadata": {},
     "output_type": "execute_result"
    }
   ],
   "source": [
    "# it contains also the\n",
    "list(config[\"OTHER\"].items())"
   ]
  },
  {
   "cell_type": "code",
   "execution_count": 40,
   "metadata": {
    "slideshow": {
     "slide_type": "-"
    }
   },
   "outputs": [
    {
     "data": {
      "text/plain": [
       "'3'"
      ]
     },
     "execution_count": 40,
     "metadata": {},
     "output_type": "execute_result"
    }
   ],
   "source": [
    "# by default it will return lists\n",
    "config[\"OTHER\"][\"a\"]"
   ]
  },
  {
   "cell_type": "code",
   "execution_count": 42,
   "metadata": {
    "slideshow": {
     "slide_type": "-"
    }
   },
   "outputs": [
    {
     "data": {
      "text/plain": [
       "3"
      ]
     },
     "execution_count": 42,
     "metadata": {},
     "output_type": "execute_result"
    }
   ],
   "source": [
    "# we can force it to return and int (or a float, or a bool)\n",
    "config[\"OTHER\"].getint(\"a\")"
   ]
  },
  {
   "cell_type": "markdown",
   "metadata": {
    "slideshow": {
     "slide_type": "slide"
    }
   },
   "source": [
    "#### environment variables\n",
    "\n",
    "they are useful when one want to set the behavior for the whole session, but not store it long term.\n",
    "\n",
    "all the executions during the session will share the same config."
   ]
  },
  {
   "cell_type": "code",
   "execution_count": 21,
   "metadata": {
    "slideshow": {
     "slide_type": "slide"
    }
   },
   "outputs": [
    {
     "name": "stdout",
     "output_type": "stream",
     "text": [
      "1\n"
     ]
    }
   ],
   "source": [
    "%%bash\n",
    "MY_ENV_VAR=1\n",
    "echo $MY_ENV_VAR"
   ]
  },
  {
   "cell_type": "code",
   "execution_count": 24,
   "metadata": {
    "slideshow": {
     "slide_type": "-"
    }
   },
   "outputs": [
    {
     "name": "stdout",
     "output_type": "stream",
     "text": [
      "1\n",
      "1\n"
     ]
    }
   ],
   "source": [
    "%%bash\n",
    "export MY_ENV_VAR=1\n",
    "echo $MY_ENV_VAR\n",
    "python -c \"import os; print(os.environ['MY_ENV_VAR'])\""
   ]
  },
  {
   "cell_type": "markdown",
   "metadata": {
    "slideshow": {
     "slide_type": "slide"
    }
   },
   "source": [
    "#### chaining configuration\n",
    "\n",
    "The class `ChainMap` allows to combine several dictionaries in order of priority, returing the value of the first dictionary in which the key is found.\n",
    "\n",
    "This can be used to properly handle user configuration in order of logical priority:\n",
    "\n",
    "* arguments passed to the program (we'll discuss it later using argparse)\n",
    "* environment variables\n",
    "* local/user configuration files\n",
    "* global configuration files\n",
    "* fundamental program default (a simple dictionary in the program)"
   ]
  },
  {
   "cell_type": "code",
   "execution_count": 48,
   "metadata": {
    "slideshow": {
     "slide_type": "slide"
    }
   },
   "outputs": [],
   "source": [
    "from collections import ChainMap"
   ]
  },
  {
   "cell_type": "code",
   "execution_count": 49,
   "metadata": {
    "slideshow": {
     "slide_type": "fragment"
    }
   },
   "outputs": [],
   "source": [
    "import os\n",
    "default_config = dict(a='4', b='5')\n",
    "final_config = ChainMap(os.environ, config[\"OTHER\"], default_config)"
   ]
  },
  {
   "cell_type": "code",
   "execution_count": 50,
   "metadata": {
    "slideshow": {
     "slide_type": "fragment"
    }
   },
   "outputs": [
    {
     "data": {
      "text/plain": [
       "'3'"
      ]
     },
     "execution_count": 50,
     "metadata": {},
     "output_type": "execute_result"
    }
   ],
   "source": [
    "# take it from the config file\n",
    "final_config['a']"
   ]
  },
  {
   "cell_type": "code",
   "execution_count": 51,
   "metadata": {
    "slideshow": {
     "slide_type": "fragment"
    }
   },
   "outputs": [
    {
     "data": {
      "text/plain": [
       "'5'"
      ]
     },
     "execution_count": 51,
     "metadata": {},
     "output_type": "execute_result"
    }
   ],
   "source": [
    "# take it from the default configuration\n",
    "final_config['b']"
   ]
  },
  {
   "cell_type": "markdown",
   "metadata": {
    "slideshow": {
     "slide_type": "slide"
    }
   },
   "source": [
    "### reading user input\n",
    "\n",
    "There are two main functions to read user input: \n",
    "* `input` for standard text\n",
    "* `getpass.getpass` for passwords\n",
    "\n",
    "In general I strongly discourage relying on user input for managing the program, and strongly suggest to rely on configurations of various kind.\n",
    "\n",
    "If the program actually needs to be interactive (to generate a REPL), one can use the **cmd** default library (but I'm not going to cover that today)"
   ]
  },
  {
   "cell_type": "markdown",
   "metadata": {
    "slideshow": {
     "slide_type": "slide"
    }
   },
   "source": [
    "### Path objects\n",
    "\n",
    "to manipulate file and directory locations, the best (and most cross-platform) way to do it is to use the **pathlib** library, that defines a `Path` object."
   ]
  },
  {
   "cell_type": "code",
   "execution_count": 52,
   "metadata": {
    "slideshow": {
     "slide_type": "-"
    }
   },
   "outputs": [],
   "source": [
    "from pathlib import Path"
   ]
  },
  {
   "cell_type": "code",
   "execution_count": 55,
   "metadata": {
    "slideshow": {
     "slide_type": "-"
    }
   },
   "outputs": [
    {
     "data": {
      "text/plain": [
       "PosixPath('/home/enrico')"
      ]
     },
     "execution_count": 55,
     "metadata": {},
     "output_type": "execute_result"
    }
   ],
   "source": [
    "Path.home()"
   ]
  },
  {
   "cell_type": "code",
   "execution_count": 80,
   "metadata": {
    "slideshow": {
     "slide_type": "slide"
    }
   },
   "outputs": [
    {
     "data": {
      "text/plain": [
       "PosixPath('/home/enrico/didattica/programmingCourseDIFA')"
      ]
     },
     "execution_count": 80,
     "metadata": {},
     "output_type": "execute_result"
    }
   ],
   "source": [
    "p = Path.home()/\"didattica\"/\"programmingCourseDIFA\"\n",
    "p"
   ]
  },
  {
   "cell_type": "code",
   "execution_count": 81,
   "metadata": {
    "slideshow": {
     "slide_type": "-"
    }
   },
   "outputs": [
    {
     "data": {
      "text/plain": [
       "True"
      ]
     },
     "execution_count": 81,
     "metadata": {},
     "output_type": "execute_result"
    }
   ],
   "source": [
    "p.exists()"
   ]
  },
  {
   "cell_type": "code",
   "execution_count": 82,
   "metadata": {
    "slideshow": {
     "slide_type": "-"
    }
   },
   "outputs": [
    {
     "data": {
      "text/plain": [
       "True"
      ]
     },
     "execution_count": 82,
     "metadata": {},
     "output_type": "execute_result"
    }
   ],
   "source": [
    "p.is_dir()"
   ]
  },
  {
   "cell_type": "code",
   "execution_count": 83,
   "metadata": {
    "slideshow": {
     "slide_type": "-"
    }
   },
   "outputs": [
    {
     "data": {
      "text/plain": [
       "False"
      ]
     },
     "execution_count": 83,
     "metadata": {},
     "output_type": "execute_result"
    }
   ],
   "source": [
    "p.is_file()"
   ]
  },
  {
   "cell_type": "code",
   "execution_count": 85,
   "metadata": {
    "slideshow": {
     "slide_type": "slide"
    }
   },
   "outputs": [
    {
     "data": {
      "text/plain": [
       "[PosixPath('/home/enrico/didattica/programmingCourseDIFA/Lesson_08_Data_pipelines_and_Snakemake.html'),\n",
       " PosixPath('/home/enrico/didattica/programmingCourseDIFA/README.md'),\n",
       " PosixPath('/home/enrico/didattica/programmingCourseDIFA/Lesson_AF_09_random_sampling_and_statistics.slides.html')]"
      ]
     },
     "execution_count": 85,
     "metadata": {},
     "output_type": "execute_result"
    }
   ],
   "source": [
    "list(p.iterdir())[:3]"
   ]
  },
  {
   "cell_type": "code",
   "execution_count": 93,
   "metadata": {
    "slideshow": {
     "slide_type": "slide"
    }
   },
   "outputs": [
    {
     "data": {
      "text/plain": [
       "[PosixPath('/home/enrico/didattica/programmingCourseDIFA/temp.txt'),\n",
       " PosixPath('/home/enrico/didattica/programmingCourseDIFA/Conda_Environment_instructions.txt')]"
      ]
     },
     "execution_count": 93,
     "metadata": {},
     "output_type": "execute_result"
    }
   ],
   "source": [
    "# simple globbing\n",
    "list(p.glob(\"*.txt\"))[:3]"
   ]
  },
  {
   "cell_type": "code",
   "execution_count": 94,
   "metadata": {
    "slideshow": {
     "slide_type": "slide"
    }
   },
   "outputs": [
    {
     "data": {
      "text/plain": [
       "[PosixPath('/home/enrico/didattica/programmingCourseDIFA/temp.txt'),\n",
       " PosixPath('/home/enrico/didattica/programmingCourseDIFA/Conda_Environment_instructions.txt'),\n",
       " PosixPath('/home/enrico/didattica/programmingCourseDIFA/divine_comedy/divina_commedia_with_copyright_notice.txt'),\n",
       " PosixPath('/home/enrico/didattica/programmingCourseDIFA/divine_comedy/divinacommedia_cleaned.txt')]"
      ]
     },
     "execution_count": 94,
     "metadata": {},
     "output_type": "execute_result"
    }
   ],
   "source": [
    "# recursive globbing\n",
    "list(p.rglob(\"*.txt\"))"
   ]
  },
  {
   "cell_type": "code",
   "execution_count": 95,
   "metadata": {
    "slideshow": {
     "slide_type": "slide"
    }
   },
   "outputs": [
    {
     "name": "stdout",
     "output_type": "stream",
     "text": [
      ".ipynb_checkpoints\n",
      "immagini\n",
      "Lesson_01_introduction_files\n",
      "Lesson_AF_03_continuous_time_random_walks_files\n",
      ".mypy_cache\n",
      "Lesson_AF_09_random_sampling_and_statistics_files\n",
      "Lesson_09_DataFrame_and_Pandas_files\n",
      ".git\n",
      "Lesson_AF_02_Differential_Equations_analysis_files\n",
      "divine_comedy\n",
      "Lesson_06_Vectorization_files\n",
      "Lesson_10_object_oriented_programming_sklearn_files\n",
      ".snakemake\n",
      "snakemake_exercise\n",
      "Lesson_AF_01_random_generation_and_montecarlo_files\n",
      "Lesson_07_Scientific_computation_libraries_files\n"
     ]
    }
   ],
   "source": [
    "for item in p.iterdir():\n",
    "    if item.is_dir():\n",
    "        relative_item = item.relative_to(p)\n",
    "        print(relative_item)"
   ]
  },
  {
   "cell_type": "markdown",
   "metadata": {
    "slideshow": {
     "slide_type": "slide"
    }
   },
   "source": [
    "if you want to make sure that a file exists before opening, one can use `Path.touch`, that will create an empty file if none exists"
   ]
  },
  {
   "cell_type": "code",
   "execution_count": 103,
   "metadata": {
    "slideshow": {
     "slide_type": "slide"
    }
   },
   "outputs": [
    {
     "data": {
      "text/plain": [
       "PosixPath('Lesson_AF_08_Documentation_and_API.ipynb')"
      ]
     },
     "execution_count": 103,
     "metadata": {},
     "output_type": "execute_result"
    }
   ],
   "source": [
    "p = Path('Lesson_AF_08_Documentation_and_API.ipynb')\n",
    "p"
   ]
  },
  {
   "cell_type": "code",
   "execution_count": 104,
   "metadata": {
    "slideshow": {
     "slide_type": "-"
    }
   },
   "outputs": [
    {
     "data": {
      "text/plain": [
       "True"
      ]
     },
     "execution_count": 104,
     "metadata": {},
     "output_type": "execute_result"
    }
   ],
   "source": [
    "p.exists()"
   ]
  },
  {
   "cell_type": "code",
   "execution_count": 105,
   "metadata": {
    "slideshow": {
     "slide_type": "-"
    }
   },
   "outputs": [
    {
     "data": {
      "text/plain": [
       "'Lesson_AF_08_Documentation_and_API.ipynb'"
      ]
     },
     "execution_count": 105,
     "metadata": {},
     "output_type": "execute_result"
    }
   ],
   "source": [
    "p.name"
   ]
  },
  {
   "cell_type": "code",
   "execution_count": 106,
   "metadata": {
    "slideshow": {
     "slide_type": "-"
    }
   },
   "outputs": [
    {
     "data": {
      "text/plain": [
       "'Lesson_AF_08_Documentation_and_API'"
      ]
     },
     "execution_count": 106,
     "metadata": {},
     "output_type": "execute_result"
    }
   ],
   "source": [
    "p.stem"
   ]
  },
  {
   "cell_type": "code",
   "execution_count": 107,
   "metadata": {
    "slideshow": {
     "slide_type": "slide"
    }
   },
   "outputs": [
    {
     "data": {
      "text/plain": [
       "['.ipynb']"
      ]
     },
     "execution_count": 107,
     "metadata": {},
     "output_type": "execute_result"
    }
   ],
   "source": [
    "p.suffixes"
   ]
  },
  {
   "cell_type": "code",
   "execution_count": 108,
   "metadata": {
    "slideshow": {
     "slide_type": "-"
    }
   },
   "outputs": [
    {
     "data": {
      "text/plain": [
       "PosixPath('Lesson_AF_08_Documentation_and_API.py')"
      ]
     },
     "execution_count": 108,
     "metadata": {},
     "output_type": "execute_result"
    }
   ],
   "source": [
    "p.with_suffix(\".py\")"
   ]
  },
  {
   "cell_type": "code",
   "execution_count": 109,
   "metadata": {
    "slideshow": {
     "slide_type": "-"
    }
   },
   "outputs": [
    {
     "data": {
      "text/plain": [
       "PosixPath('/home/enrico/didattica/programmingCourseDIFA/Lesson_AF_08_Documentation_and_API.ipynb')"
      ]
     },
     "execution_count": 109,
     "metadata": {},
     "output_type": "execute_result"
    }
   ],
   "source": [
    "p.absolute()"
   ]
  },
  {
   "cell_type": "code",
   "execution_count": 110,
   "metadata": {
    "slideshow": {
     "slide_type": "-"
    }
   },
   "outputs": [
    {
     "data": {
      "text/plain": [
       "PosixPath('programmingCourseDIFA/Lesson_AF_08_Documentation_and_API.ipynb')"
      ]
     },
     "execution_count": 110,
     "metadata": {},
     "output_type": "execute_result"
    }
   ],
   "source": [
    "p.absolute().relative_to(Path.home()/\"didattica\")"
   ]
  },
  {
   "cell_type": "code",
   "execution_count": 111,
   "metadata": {
    "slideshow": {
     "slide_type": "slide"
    }
   },
   "outputs": [],
   "source": [
    "p = Path(\"non_existing_dir\")\n",
    "p.mkdir(exist_ok=True)\n",
    "assert p.exists()\n",
    "# before removing, the directory must be empty!\n",
    "p.rmdir()\n",
    "assert not p.exists()"
   ]
  },
  {
   "cell_type": "markdown",
   "metadata": {
    "slideshow": {
     "slide_type": "slide"
    }
   },
   "source": [
    "# Command line programs\n",
    "\n",
    "In python any script can be at the same time a library and a command line program. (better to keep them separate anyway, just because you can, doesn't mean that you should!)\n",
    "\n",
    "All the code in the general section of the script is executed everytime the script is imported as a library, but one can set a part of the code to be run only when the script is called as a command line program.\n",
    "\n",
    "this is achieved by testing the `__name__` parameter of the program (a special variable that the interpreter set at the start), that when executed as a program is set to the string `\"__main__\"`."
   ]
  },
  {
   "cell_type": "code",
   "execution_count": 13,
   "metadata": {
    "slideshow": {
     "slide_type": "slide"
    }
   },
   "outputs": [
    {
     "name": "stdout",
     "output_type": "stream",
     "text": [
      "Writing my_first_app.py\n"
     ]
    }
   ],
   "source": [
    "%%file my_first_app.py\n",
    "\n",
    "def mysum(a, b):\n",
    "    return a+b\n",
    "\n",
    "print(\"this will be executed everytime\")\n",
    "\n",
    "if __name__=='__main__':\n",
    "    print(\"this will be executed only on the command line\")"
   ]
  },
  {
   "cell_type": "code",
   "execution_count": 14,
   "metadata": {
    "slideshow": {
     "slide_type": "slide"
    }
   },
   "outputs": [
    {
     "name": "stdout",
     "output_type": "stream",
     "text": [
      "this will be executed everytime\r\n"
     ]
    }
   ],
   "source": [
    "# this execute a single python command and quit\n",
    "!python -c \"import my_first_app\""
   ]
  },
  {
   "cell_type": "code",
   "execution_count": 15,
   "metadata": {
    "slideshow": {
     "slide_type": "fragment"
    }
   },
   "outputs": [
    {
     "name": "stdout",
     "output_type": "stream",
     "text": [
      "this will be executed everytime\r\n",
      "this will be executed only on the command line\r\n"
     ]
    }
   ],
   "source": [
    "!python ./my_first_app.py"
   ]
  },
  {
   "cell_type": "markdown",
   "metadata": {
    "slideshow": {
     "slide_type": "slide"
    }
   },
   "source": [
    "This method could be used directly to implement very simple applications, by reading the arguments using `sys.argv`, and then parsing them by hand, but it's not very comfortable"
   ]
  },
  {
   "cell_type": "code",
   "execution_count": 16,
   "metadata": {
    "slideshow": {
     "slide_type": "fragment"
    }
   },
   "outputs": [
    {
     "name": "stdout",
     "output_type": "stream",
     "text": [
      "Overwriting my_first_app.py\n"
     ]
    }
   ],
   "source": [
    "%%file my_first_app.py\n",
    "if __name__=='__main__':\n",
    "    import sys\n",
    "    print(sys.argv)"
   ]
  },
  {
   "cell_type": "code",
   "execution_count": 17,
   "metadata": {
    "slideshow": {
     "slide_type": "fragment"
    }
   },
   "outputs": [
    {
     "name": "stdout",
     "output_type": "stream",
     "text": [
      "['./my_first_app.py', 'arg1', 'arg2']\r\n"
     ]
    }
   ],
   "source": [
    "!python ./my_first_app.py arg1 arg2"
   ]
  },
  {
   "cell_type": "markdown",
   "metadata": {
    "slideshow": {
     "slide_type": "slide"
    }
   },
   "source": [
    "Python comes with a module that provide automatic arguments and options parsing, and works reasonably well, called `argparse`, that can be used in situations where external libraries can't be installed.\n",
    "\n",
    "the official tutorial can be found on the [python documentation](https://docs.python.org/dev/howto/argparse.html)\n",
    "\n",
    "It works, but it creates a code that can be hard to read and manage when the options get more complicated.\n",
    "\n",
    "it is also missing all the support classes and functions that other libraries provides and that make easier to create high quality CLI.\n",
    "\n",
    "But it is also always avaiable and it is still a very powerful library, in particular when combined with the option management discussed earlier, and it is worth knowing about!"
   ]
  },
  {
   "cell_type": "code",
   "execution_count": 18,
   "metadata": {
    "slideshow": {
     "slide_type": "slide"
    }
   },
   "outputs": [
    {
     "name": "stdout",
     "output_type": "stream",
     "text": [
      "Overwriting my_first_app.py\n"
     ]
    }
   ],
   "source": [
    "%%file my_first_app.py\n",
    "if __name__=='__main__':\n",
    "    import argparse\n",
    "    parser = argparse.ArgumentParser()\n",
    "    parser.add_argument(\"echo\", help=\"echo the string you use here\")\n",
    "    \n",
    "    args = parser.parse_args()\n",
    "    \n",
    "    print(\"the received string is: {}\".format(args.echo))"
   ]
  },
  {
   "cell_type": "code",
   "execution_count": 19,
   "metadata": {
    "slideshow": {
     "slide_type": "slide"
    }
   },
   "outputs": [
    {
     "name": "stdout",
     "output_type": "stream",
     "text": [
      "usage: my_first_app.py [-h] echo\r\n",
      "\r\n",
      "positional arguments:\r\n",
      "  echo        echo the string you use here\r\n",
      "\r\n",
      "optional arguments:\r\n",
      "  -h, --help  show this help message and exit\r\n"
     ]
    }
   ],
   "source": [
    "!python ./my_first_app.py --help"
   ]
  },
  {
   "cell_type": "code",
   "execution_count": 20,
   "metadata": {
    "slideshow": {
     "slide_type": "fragment"
    }
   },
   "outputs": [
    {
     "name": "stdout",
     "output_type": "stream",
     "text": [
      "the received string is: to_be_said\r\n"
     ]
    }
   ],
   "source": [
    "!python ./my_first_app.py to_be_said"
   ]
  },
  {
   "cell_type": "markdown",
   "metadata": {
    "slideshow": {
     "slide_type": "slide"
    }
   },
   "source": [
    "the parsed arguments are structures as a simple object (a `NamedSpace`)"
   ]
  },
  {
   "cell_type": "code",
   "execution_count": 21,
   "metadata": {
    "slideshow": {
     "slide_type": "-"
    }
   },
   "outputs": [
    {
     "name": "stdout",
     "output_type": "stream",
     "text": [
      "Overwriting my_first_app.py\n"
     ]
    }
   ],
   "source": [
    "%%file my_first_app.py\n",
    "if __name__=='__main__':\n",
    "    import argparse\n",
    "    parser = argparse.ArgumentParser()\n",
    "    parser.add_argument(\"echo\", help=\"echo the string you use here\")\n",
    "    \n",
    "    args = parser.parse_args()\n",
    "    \n",
    "    print(\"the received arguments are: {}\".format(args))"
   ]
  },
  {
   "cell_type": "code",
   "execution_count": 24,
   "metadata": {
    "slideshow": {
     "slide_type": "-"
    }
   },
   "outputs": [
    {
     "name": "stdout",
     "output_type": "stream",
     "text": [
      "the received arguments are: Namespace(echo='to_be_said')\r\n"
     ]
    }
   ],
   "source": [
    "!python ./my_first_app.py to_be_said"
   ]
  },
  {
   "cell_type": "markdown",
   "metadata": {
    "slideshow": {
     "slide_type": "slide"
    }
   },
   "source": [
    "The return value of the parsing is an object and as such does not play well with the ChainMap discussed earlier.\n",
    "\n",
    "A simple solution is to transform it in a dictionary using the `vars` function"
   ]
  },
  {
   "cell_type": "code",
   "execution_count": 7,
   "metadata": {
    "slideshow": {
     "slide_type": "-"
    }
   },
   "outputs": [
    {
     "name": "stdout",
     "output_type": "stream",
     "text": [
      "Overwriting my_first_app.py\n"
     ]
    }
   ],
   "source": [
    "%%file my_first_app.py\n",
    "if __name__=='__main__':\n",
    "    import argparse\n",
    "    parser = argparse.ArgumentParser()\n",
    "    parser.add_argument(\"echo\", help=\"echo the string you use here\")\n",
    "    args = parser.parse_args()\n",
    "    args_dict = vars(args)\n",
    "    assert isinstance(args_dict, dict)\n",
    "    print(args_dict)"
   ]
  },
  {
   "cell_type": "code",
   "execution_count": 8,
   "metadata": {
    "slideshow": {
     "slide_type": "-"
    }
   },
   "outputs": [
    {
     "name": "stdout",
     "output_type": "stream",
     "text": [
      "{'echo': 'to_be_said'}\r\n"
     ]
    }
   ],
   "source": [
    "!python ./my_first_app.py to_be_said"
   ]
  },
  {
   "cell_type": "markdown",
   "metadata": {
    "slideshow": {
     "slide_type": "slide"
    }
   },
   "source": [
    "# Command line arguments structure\n",
    "\n",
    "command line applications can be imagined as structured in a similar way to a function:\n",
    "\n",
    "There are a certain number of ordinal arguments, and a certain number of named options.\n",
    "\n",
    "*flags* are the binary options, so they relate to named paramaters with boolean options.\n",
    "\n",
    "Tipically the arguments are the main focus of the program, while the option determines exactly how the execution is performed.\n",
    "\n",
    "My suggestion would be to allow to always pass values as options alongside as arguments, as it allows to improve the readibility of the commands in a script."
   ]
  },
  {
   "cell_type": "code",
   "execution_count": 27,
   "metadata": {
    "slideshow": {
     "slide_type": "slide"
    }
   },
   "outputs": [
    {
     "name": "stdout",
     "output_type": "stream",
     "text": [
      "Writing my_app.py\n"
     ]
    }
   ],
   "source": [
    "%%file my_app.py\n",
    "if __name__=='__main__':\n",
    "    import argparse\n",
    "    parser = argparse.ArgumentParser()\n",
    "    parser.add_argument(\"value\", help=\"value to be squared\", type=float)\n",
    "    \n",
    "    args = parser.parse_args()\n",
    "    \n",
    "    print(args.value**2)"
   ]
  },
  {
   "cell_type": "code",
   "execution_count": 28,
   "metadata": {
    "slideshow": {
     "slide_type": "slide"
    }
   },
   "outputs": [
    {
     "name": "stdout",
     "output_type": "stream",
     "text": [
      "usage: my_app.py [-h] value\r\n",
      "\r\n",
      "positional arguments:\r\n",
      "  value       value to be squared\r\n",
      "\r\n",
      "optional arguments:\r\n",
      "  -h, --help  show this help message and exit\r\n"
     ]
    }
   ],
   "source": [
    "!python my_app.py --help"
   ]
  },
  {
   "cell_type": "code",
   "execution_count": 29,
   "metadata": {
    "slideshow": {
     "slide_type": "slide"
    }
   },
   "outputs": [
    {
     "name": "stdout",
     "output_type": "stream",
     "text": [
      "9.0\r\n"
     ]
    }
   ],
   "source": [
    "# type is used to enforce arguments type and convert them.\n",
    "!python my_app.py 3"
   ]
  },
  {
   "cell_type": "code",
   "execution_count": 30,
   "metadata": {
    "slideshow": {
     "slide_type": "slide"
    }
   },
   "outputs": [
    {
     "name": "stdout",
     "output_type": "stream",
     "text": [
      "usage: my_app.py [-h] value\r\n",
      "my_app.py: error: argument value: invalid float value: 'a'\r\n"
     ]
    }
   ],
   "source": [
    "# type is used to enforce arguments type and convert them.\n",
    "!python my_app.py a"
   ]
  },
  {
   "cell_type": "markdown",
   "metadata": {
    "slideshow": {
     "slide_type": "slide"
    }
   },
   "source": [
    "### using flags\n",
    "flags and options are separated from the main, and are either functions of attributes of the class"
   ]
  },
  {
   "cell_type": "code",
   "execution_count": 44,
   "metadata": {
    "slideshow": {
     "slide_type": "-"
    }
   },
   "outputs": [
    {
     "name": "stdout",
     "output_type": "stream",
     "text": [
      "Overwriting my_app.py\n"
     ]
    }
   ],
   "source": [
    "%%file my_app.py\n",
    "if __name__=='__main__':\n",
    "    import argparse\n",
    "    parser = argparse.ArgumentParser()\n",
    "    # positional arguments\n",
    "    parser.add_argument(\"filename\", help=\"file to be read\")\n",
    "    # named argument, default to False, True is present\n",
    "    parser.add_argument(\"-v\", \"--verbose\", help=\"increase output verbosity\", action=\"store_true\")\n",
    "    \n",
    "    args = parser.parse_args()\n",
    "    \n",
    "    print(f'I will now read the file \"{args.filename}\"')\n",
    "    \n",
    "    if args.verbose:\n",
    "        print(\"Yadda \"*30)"
   ]
  },
  {
   "cell_type": "markdown",
   "metadata": {
    "slideshow": {
     "slide_type": "slide"
    }
   },
   "source": [
    "Flags and switches can be:\n",
    "\n",
    "* compulsory\n",
    "* dependent on each other\n",
    "* mutually exclusive\n",
    "* repeatable\n",
    "* gouped together in the help description\n",
    "* bound to have specific values"
   ]
  },
  {
   "cell_type": "code",
   "execution_count": 45,
   "metadata": {
    "slideshow": {
     "slide_type": "slide"
    }
   },
   "outputs": [
    {
     "name": "stdout",
     "output_type": "stream",
     "text": [
      "usage: my_app.py [-h] [-v] filename\r\n",
      "\r\n",
      "positional arguments:\r\n",
      "  filename       file to be read\r\n",
      "\r\n",
      "optional arguments:\r\n",
      "  -h, --help     show this help message and exit\r\n",
      "  -v, --verbose  increase output verbosity\r\n"
     ]
    }
   ],
   "source": [
    "!python my_app.py --help"
   ]
  },
  {
   "cell_type": "code",
   "execution_count": 46,
   "metadata": {
    "slideshow": {
     "slide_type": "slide"
    }
   },
   "outputs": [
    {
     "name": "stdout",
     "output_type": "stream",
     "text": [
      "I will now read the file \"foo\"\r\n"
     ]
    }
   ],
   "source": [
    "!python my_app.py foo"
   ]
  },
  {
   "cell_type": "code",
   "execution_count": 47,
   "metadata": {
    "slideshow": {
     "slide_type": "slide"
    }
   },
   "outputs": [
    {
     "name": "stdout",
     "output_type": "stream",
     "text": [
      "I will now read the file \"foo\"\r\n",
      "Yadda Yadda Yadda Yadda Yadda Yadda Yadda Yadda Yadda Yadda Yadda Yadda Yadda Yadda Yadda Yadda Yadda Yadda Yadda Yadda Yadda Yadda Yadda Yadda Yadda Yadda Yadda Yadda Yadda Yadda \r\n"
     ]
    }
   ],
   "source": [
    "!python my_app.py foo --verbose"
   ]
  },
  {
   "cell_type": "code",
   "execution_count": 48,
   "metadata": {
    "slideshow": {
     "slide_type": "slide"
    }
   },
   "outputs": [
    {
     "name": "stdout",
     "output_type": "stream",
     "text": [
      "I will now read the file \"foo\"\r\n",
      "Yadda Yadda Yadda Yadda Yadda Yadda Yadda Yadda Yadda Yadda Yadda Yadda Yadda Yadda Yadda Yadda Yadda Yadda Yadda Yadda Yadda Yadda Yadda Yadda Yadda Yadda Yadda Yadda Yadda Yadda \r\n"
     ]
    }
   ],
   "source": [
    "!python3 my_app.py foo -v"
   ]
  },
  {
   "cell_type": "code",
   "execution_count": 57,
   "metadata": {
    "slideshow": {
     "slide_type": "slide"
    }
   },
   "outputs": [
    {
     "name": "stdout",
     "output_type": "stream",
     "text": [
      "Overwriting my_app.py\n"
     ]
    }
   ],
   "source": [
    "%%file my_app.py\n",
    "if __name__=='__main__':\n",
    "    import argparse\n",
    "    parser = argparse.ArgumentParser()\n",
    "    \n",
    "    # positional arguments\n",
    "    parser.add_argument(\"filename\", help=\"file to be read\")\n",
    "    \n",
    "    # named argument, default to False, True is present\n",
    "    # has an optional short form\n",
    "    parser.add_argument(\"-v\", \"--verbose\", help=\"increase output verbosity\", action=\"store_true\")\n",
    "    \n",
    "    # named argument, takes a string as a value\n",
    "    # has no short version\n",
    "    parser.add_argument(\"--log-to-file\", help=\"Sets the file into which logs will be emitted\", type=str)\n",
    "    \n",
    "    args = parser.parse_args()\n",
    "    \n",
    "    print(f'I will now read the file \"{args.filename}\"')\n",
    "    if args.log_to_file is not None:\n",
    "        with open(args.log_to_file, 'w') as outfile:\n",
    "            print(\"I will now read {0}\".format(args.filename), file=outfile)\n",
    "    \n",
    "    if args.verbose:\n",
    "        print(\"Yadda \"*30)"
   ]
  },
  {
   "cell_type": "code",
   "execution_count": 58,
   "metadata": {
    "slideshow": {
     "slide_type": "slide"
    }
   },
   "outputs": [
    {
     "name": "stdout",
     "output_type": "stream",
     "text": [
      "I will now read the file \"foo\"\r\n"
     ]
    }
   ],
   "source": [
    "!python my_app.py foo"
   ]
  },
  {
   "cell_type": "code",
   "execution_count": 59,
   "metadata": {
    "slideshow": {
     "slide_type": "-"
    }
   },
   "outputs": [
    {
     "name": "stdout",
     "output_type": "stream",
     "text": [
      "I will now read the file \"foo\"\r\n"
     ]
    }
   ],
   "source": [
    "!python my_app.py foo --log-to-file temp_log.txt"
   ]
  },
  {
   "cell_type": "code",
   "execution_count": 60,
   "metadata": {
    "slideshow": {
     "slide_type": "-"
    }
   },
   "outputs": [
    {
     "name": "stdout",
     "output_type": "stream",
     "text": [
      "I will now read foo\r\n"
     ]
    }
   ],
   "source": [
    "!cat temp_log.txt"
   ]
  },
  {
   "cell_type": "markdown",
   "metadata": {
    "slideshow": {
     "slide_type": "slide"
    }
   },
   "source": [
    "### sub commands\n",
    "\n",
    "sub-commands are a way to group together several related program under a single umbrella.\n",
    "\n",
    "a classical example is **git**.\n",
    "\n",
    "In argparsers they are defined as subparsers."
   ]
  },
  {
   "cell_type": "code",
   "execution_count": 102,
   "metadata": {
    "slideshow": {
     "slide_type": "slide"
    }
   },
   "outputs": [
    {
     "name": "stdout",
     "output_type": "stream",
     "text": [
      "Overwriting my_app.py\n"
     ]
    }
   ],
   "source": [
    "%%file my_app.py\n",
    "if __name__=='__main__':\n",
    "    import argparse\n",
    "    parser = argparse.ArgumentParser()\n",
    "    subparsers = parser.add_subparsers(help='possible actions', dest='subparser')\n",
    "    \n",
    "    square_parser = subparsers.add_parser('pow', help='calculate the square power')\n",
    "    square_parser.add_argument(\"value\", help=\"value to be squared\", type=float)\n",
    "    # optional argument\n",
    "    square_parser.add_argument(\"power\", \n",
    "        help=\"power to raised at\", \n",
    "        type=float,\n",
    "        nargs='?', # this argument might be absent\n",
    "        default=2, # the default value it takes if it absent\n",
    "    )\n",
    "    \n",
    "    sqrt_parser = subparsers.add_parser('sqrt', help='calculate the square root')\n",
    "    sqrt_parser.add_argument(\"value\", help=\"value to be square rooted\", type=float)\n",
    "    \n",
    "    args = parser.parse_args()\n",
    "    print(args)"
   ]
  },
  {
   "cell_type": "code",
   "execution_count": 103,
   "metadata": {
    "slideshow": {
     "slide_type": "slide"
    }
   },
   "outputs": [
    {
     "name": "stdout",
     "output_type": "stream",
     "text": [
      "usage: my_app.py [-h] {pow,sqrt} ...\r\n",
      "\r\n",
      "positional arguments:\r\n",
      "  {pow,sqrt}  possible actions\r\n",
      "    pow       calculate the square power\r\n",
      "    sqrt      calculate the square root\r\n",
      "\r\n",
      "optional arguments:\r\n",
      "  -h, --help  show this help message and exit\r\n"
     ]
    }
   ],
   "source": [
    "!python my_app.py --help"
   ]
  },
  {
   "cell_type": "code",
   "execution_count": 104,
   "metadata": {
    "slideshow": {
     "slide_type": "slide"
    }
   },
   "outputs": [
    {
     "name": "stdout",
     "output_type": "stream",
     "text": [
      "usage: my_app.py pow [-h] value [power]\r\n",
      "\r\n",
      "positional arguments:\r\n",
      "  value       value to be squared\r\n",
      "  power       power to raised at\r\n",
      "\r\n",
      "optional arguments:\r\n",
      "  -h, --help  show this help message and exit\r\n"
     ]
    }
   ],
   "source": [
    "!python my_app.py pow --help"
   ]
  },
  {
   "cell_type": "code",
   "execution_count": 105,
   "metadata": {
    "slideshow": {
     "slide_type": "slide"
    }
   },
   "outputs": [
    {
     "name": "stdout",
     "output_type": "stream",
     "text": [
      "usage: my_app.py sqrt [-h] value\r\n",
      "\r\n",
      "positional arguments:\r\n",
      "  value       value to be square rooted\r\n",
      "\r\n",
      "optional arguments:\r\n",
      "  -h, --help  show this help message and exit\r\n"
     ]
    }
   ],
   "source": [
    "!python my_app.py sqrt --help"
   ]
  },
  {
   "cell_type": "code",
   "execution_count": 106,
   "metadata": {
    "slideshow": {
     "slide_type": "slide"
    }
   },
   "outputs": [
    {
     "name": "stdout",
     "output_type": "stream",
     "text": [
      "Namespace(power=2, subparser='pow', value=1.0)\r\n"
     ]
    }
   ],
   "source": [
    "!python my_app.py pow 1"
   ]
  },
  {
   "cell_type": "markdown",
   "metadata": {
    "slideshow": {
     "slide_type": "slide"
    }
   },
   "source": [
    "in general, to manage more complex programs, it is better to break apart the logic in several functions\n",
    "\n",
    "it will come back useful later when we consider installing the application!"
   ]
  },
  {
   "cell_type": "code",
   "execution_count": 117,
   "metadata": {
    "slideshow": {
     "slide_type": "slide"
    }
   },
   "outputs": [
    {
     "name": "stdout",
     "output_type": "stream",
     "text": [
      "Overwriting my_app.py\n"
     ]
    }
   ],
   "source": [
    "%%file my_app.py\n",
    "import argparse\n",
    "\n",
    "def main_square(args):\n",
    "    print(args.value**args.power)\n",
    "    \n",
    "def main_sqrt(args):\n",
    "    print(args.value**0.5)\n",
    "\n",
    "def main():\n",
    "    parser = argparse.ArgumentParser()\n",
    "    subparsers = parser.add_subparsers(help='possible actions', dest='subparser')\n",
    "    \n",
    "    square_parser = subparsers.add_parser('pow', help='calculate the square power')\n",
    "    square_parser.add_argument(\"value\", help=\"value to be squared\", type=float)\n",
    "    # optional argument\n",
    "    square_parser.add_argument(\"power\", \n",
    "        help=\"power to raised at\", \n",
    "        type=float,\n",
    "        nargs='?', # this argument might be absent\n",
    "        default=2, # the default value it takes if it absent\n",
    "    )\n",
    "    \n",
    "    sqrt_parser = subparsers.add_parser('sqrt', help='calculate the square root')\n",
    "    sqrt_parser.add_argument(\"value\", help=\"value to be square rooted\", type=float)\n",
    "    \n",
    "    args = parser.parse_args()\n",
    "    \n",
    "    if args.subparser=='pow':\n",
    "        main_square(args)\n",
    "    if args.subparser=='sqrt':\n",
    "        main_sqrt(args)\n",
    "        \n",
    "if __name__=='__main__':\n",
    "    main()"
   ]
  },
  {
   "cell_type": "code",
   "execution_count": 118,
   "metadata": {
    "slideshow": {
     "slide_type": "slide"
    }
   },
   "outputs": [
    {
     "name": "stdout",
     "output_type": "stream",
     "text": [
      "16.0\r\n"
     ]
    }
   ],
   "source": [
    "!python my_app.py pow 4"
   ]
  },
  {
   "cell_type": "code",
   "execution_count": 119,
   "metadata": {
    "slideshow": {
     "slide_type": "-"
    }
   },
   "outputs": [
    {
     "name": "stdout",
     "output_type": "stream",
     "text": [
      "8.0\r\n"
     ]
    }
   ],
   "source": [
    "!python my_app.py pow 2 3"
   ]
  },
  {
   "cell_type": "code",
   "execution_count": 120,
   "metadata": {
    "slideshow": {
     "slide_type": "-"
    }
   },
   "outputs": [
    {
     "name": "stdout",
     "output_type": "stream",
     "text": [
      "2.0\r\n"
     ]
    }
   ],
   "source": [
    "!python my_app.py sqrt 4"
   ]
  },
  {
   "cell_type": "markdown",
   "metadata": {
    "slideshow": {
     "slide_type": "slide"
    }
   },
   "source": [
    "### Subcommands in practice\n",
    "\n",
    "Try to keep the options between the subcommands coherent: if one implements `--help`, another implements `--documentation`, another implement `--explain` to access the help of the function, it is messy. try to maintain consistency in names and behaviors\n",
    "\n",
    "two subcommands that could probably be useful in most applications are:\n",
    "* `help` - to provide a more indept documentation of your program, divided by topics (try to type `help()` in Python)\n",
    "* `config` - to manage local and global configurations of your program\n",
    "\n",
    "remember: **easy things should be easy, hard things should be possible**.\n",
    "Designing your CLI is going to take work to obtain a good interface!"
   ]
  },
  {
   "cell_type": "markdown",
   "metadata": {
    "slideshow": {
     "slide_type": "slide"
    }
   },
   "source": [
    "# system wide installation\n",
    "\n",
    "to perform a system wide installation we will use the `setuptools` package, that allows us to interface our program with the pip installation mechanism."
   ]
  },
  {
   "cell_type": "markdown",
   "metadata": {
    "slideshow": {
     "slide_type": "slide"
    }
   },
   "source": [
    "### preparing the field\n",
    "\n",
    "The first step is to create a proper folder structure for our program.\n",
    "In this case I'm creating a CLI program called **myapp**.\n",
    "\n",
    "* **myapp** (project folder)\n",
    "    * `setupy.py`\n",
    "    * **myapp** (program folder)\n",
    "        * `__init__.py`\n",
    "        * `__main__.py`\n",
    "        "
   ]
  },
  {
   "cell_type": "markdown",
   "metadata": {
    "slideshow": {
     "slide_type": "slide"
    }
   },
   "source": [
    "the outside folder is the project folder, that will contain everything concerning my app: the app itself, its documentation, the installation procedure, and so on.\n",
    "\n",
    "Then there is an inside folder, usually with the same name of the app, that will contain the proper files to be executed."
   ]
  },
  {
   "cell_type": "markdown",
   "metadata": {
    "slideshow": {
     "slide_type": "slide"
    }
   },
   "source": [
    "Inside this folder there should be a file `__init__.py`.\n",
    "This file can be empty, but is used by python to recognize that this directory is a module that can be imported or executed.\n",
    "\n",
    "My application is going to be in the `__main__.py` file. No special reason for the name, just more consistent"
   ]
  },
  {
   "cell_type": "code",
   "execution_count": 111,
   "metadata": {
    "slideshow": {
     "slide_type": "-"
    }
   },
   "outputs": [],
   "source": [
    "!mkdir -p myapp/myapp/\n",
    "!touch ./myapp/myapp/__init__.py"
   ]
  },
  {
   "cell_type": "code",
   "execution_count": 121,
   "metadata": {
    "slideshow": {
     "slide_type": "slide"
    }
   },
   "outputs": [
    {
     "name": "stdout",
     "output_type": "stream",
     "text": [
      "Overwriting ./myapp/myapp/__main__.py\n"
     ]
    }
   ],
   "source": [
    "%%file ./myapp/myapp/__main__.py\n",
    "import argparse\n",
    "\n",
    "def main_square(args):\n",
    "    print(args.value**args.power)\n",
    "    \n",
    "def main_sqrt(args):\n",
    "    print(args.value**0.5)\n",
    "\n",
    "def main():\n",
    "    parser = argparse.ArgumentParser()\n",
    "    subparsers = parser.add_subparsers(help='possible actions', dest='subparser')\n",
    "    \n",
    "    square_parser = subparsers.add_parser('pow', help='calculate the square power')\n",
    "    square_parser.add_argument(\"value\", help=\"value to be squared\", type=float)\n",
    "    # optional argument\n",
    "    square_parser.add_argument(\"power\", \n",
    "        help=\"power to raised at\", \n",
    "        type=float,\n",
    "        nargs='?', # this argument might be absent\n",
    "        default=2, # the default value it takes if it absent\n",
    "    )\n",
    "    \n",
    "    sqrt_parser = subparsers.add_parser('sqrt', help='calculate the square root')\n",
    "    sqrt_parser.add_argument(\"value\", help=\"value to be square rooted\", type=float)\n",
    "    \n",
    "    args = parser.parse_args()\n",
    "    \n",
    "    if args.subparser=='pow':\n",
    "        main_square(args)\n",
    "    if args.subparser=='sqrt':\n",
    "        main_sqrt(args)\n",
    "        \n",
    "if __name__=='__main__':\n",
    "    main()\n",
    "    "
   ]
  },
  {
   "cell_type": "markdown",
   "metadata": {
    "slideshow": {
     "slide_type": "slide"
    }
   },
   "source": [
    "The file necessary for setuptools to work properly is the `setup.py`, where we will use the `setup` function of the `setuptools` module.\n",
    "\n",
    "This function configure many things for us, but the most important thing is the `entry_point` parameter.\n",
    "\n",
    "This creates the link to the scripts that we will actually execute.\n",
    "\n",
    "Inside this parameter we specify that there is an entry point atht is a `console_scripts`, that should execute the script and the function provided."
   ]
  },
  {
   "cell_type": "code",
   "execution_count": 123,
   "metadata": {
    "slideshow": {
     "slide_type": "slide"
    }
   },
   "outputs": [
    {
     "name": "stdout",
     "output_type": "stream",
     "text": [
      "Overwriting ./myapp/setup.py\n"
     ]
    }
   ],
   "source": [
    "%%file ./myapp/setup.py\n",
    "from setuptools import setup\n",
    "\n",
    "setup(\n",
    "    name = 'myapp',\n",
    "    version = '0.1.0',\n",
    "    packages = ['myapp'],\n",
    "    #install_requires = [\"required_package\", ],\n",
    "    entry_points = {\n",
    "        'console_scripts': [\n",
    "            'myapp = myapp.__main__:main',\n",
    "        ]\n",
    "    })"
   ]
  },
  {
   "cell_type": "markdown",
   "metadata": {
    "slideshow": {
     "slide_type": "slide"
    }
   },
   "source": [
    "the name we put before the `=` sign is going to be the command name that we will use to call the program from the command line"
   ]
  },
  {
   "cell_type": "markdown",
   "metadata": {
    "slideshow": {
     "slide_type": "fragment"
    }
   },
   "source": [
    "Last special mention goes to the `install_requires`: this list allows to specify all the dependencies of the package.\n",
    "If they are not installed, they will automatically downloaded and installed by pip.\n",
    "In our case we don't have dependencies so we don't need it"
   ]
  },
  {
   "cell_type": "markdown",
   "metadata": {
    "slideshow": {
     "slide_type": "slide"
    }
   },
   "source": [
    "### the installation step\n",
    "\n",
    "from the folder containing the project folder, we can call the pip installation program\n",
    "\n",
    "by installing it with the `--editable` (or `-e` for short) the program will not be copied in the system, but rather linked in it.\n",
    "This means that if you edit the program, the modifications will appear live in the systems without need to reinstall"
   ]
  },
  {
   "cell_type": "code",
   "execution_count": 124,
   "metadata": {
    "slideshow": {
     "slide_type": "slide"
    }
   },
   "outputs": [
    {
     "name": "stdout",
     "output_type": "stream",
     "text": [
      "Obtaining file:///home/enrico/didattica/programmingCourseDIFA/myapp\n",
      "Installing collected packages: myapp\n",
      "  Running setup.py develop for myapp\n",
      "Successfully installed myapp\n"
     ]
    }
   ],
   "source": [
    "!pip install --editable myapp"
   ]
  },
  {
   "cell_type": "code",
   "execution_count": 125,
   "metadata": {
    "slideshow": {
     "slide_type": "slide"
    }
   },
   "outputs": [
    {
     "name": "stdout",
     "output_type": "stream",
     "text": [
      "usage: myapp [-h] {pow,sqrt} ...\r\n",
      "\r\n",
      "positional arguments:\r\n",
      "  {pow,sqrt}  possible actions\r\n",
      "    pow       calculate the square power\r\n",
      "    sqrt      calculate the square root\r\n",
      "\r\n",
      "optional arguments:\r\n",
      "  -h, --help  show this help message and exit\r\n"
     ]
    }
   ],
   "source": [
    "!myapp --help"
   ]
  },
  {
   "cell_type": "markdown",
   "metadata": {
    "slideshow": {
     "slide_type": "slide"
    }
   },
   "source": [
    "We can call the base program or the specific subcommand, as we specified"
   ]
  },
  {
   "cell_type": "code",
   "execution_count": 126,
   "metadata": {
    "slideshow": {
     "slide_type": "fragment"
    }
   },
   "outputs": [
    {
     "name": "stdout",
     "output_type": "stream",
     "text": [
      "3.0\r\n"
     ]
    }
   ],
   "source": [
    "!myapp sqrt 9 "
   ]
  },
  {
   "cell_type": "markdown",
   "metadata": {
    "slideshow": {
     "slide_type": "slide"
    }
   },
   "source": [
    "Lastly, we can uninstall the program from any location"
   ]
  },
  {
   "cell_type": "code",
   "execution_count": 127,
   "metadata": {
    "slideshow": {
     "slide_type": "-"
    }
   },
   "outputs": [
    {
     "name": "stdout",
     "output_type": "stream",
     "text": [
      "Found existing installation: myapp 0.1.0\n",
      "Uninstalling myapp-0.1.0:\n",
      "  Successfully uninstalled myapp-0.1.0\n"
     ]
    }
   ],
   "source": [
    "!pip uninstall -y myapp"
   ]
  },
  {
   "cell_type": "markdown",
   "metadata": {
    "slideshow": {
     "slide_type": "skip"
    }
   },
   "source": [
    "If one needs to ship non-code files (such as images, configuration files, etc...)\n",
    "check:\n",
    "\n",
    "https://python-packaging.readthedocs.io/en/latest/non-code-files.html"
   ]
  },
  {
   "cell_type": "markdown",
   "metadata": {
    "slideshow": {
     "slide_type": "slide"
    }
   },
   "source": [
    "# Testing CLI\n",
    "\n",
    "there are two level of testing:\n",
    "* the internal working\n",
    "* the interface\n",
    "\n",
    "the internal work can be tested as any other standard function, so we'll focus on the interface testing.\n",
    "\n",
    "it's not an easy problem, let's be clear."
   ]
  },
  {
   "cell_type": "markdown",
   "metadata": {
    "slideshow": {
     "slide_type": "slide"
    }
   },
   "source": [
    "there are again two level of testing:\n",
    "* filesystem I/O\n",
    "* printing\n",
    "\n",
    "the printing testing refers to test the output of the program to the stdout and stderr in response to different inputs (for example testing that the `--verbose` flag turn off the printing, while something get printed without it).\n",
    "To do it, one can use the subprocess module and capture the output, while providing deterministic input\n",
    " \n",
    "Testing the filesystem I/O is more complicated, and in general one have to create fake files and check for the result in them."
   ]
  },
  {
   "cell_type": "markdown",
   "metadata": {
    "slideshow": {
     "slide_type": "slide"
    }
   },
   "source": [
    "some additional things you might want to test:\n",
    "* change the current working directory before launcing the program, and verify that it doesnt spaz out\n",
    "* check that you can really get as input files in different directories from where you're working, both as input and output\n",
    "* What happens when the input file doesn’t exist?\n",
    "* Does our program exit with an error when we provide wrong arguments?\n",
    "* does the logging system work as intended?"
   ]
  },
  {
   "cell_type": "markdown",
   "metadata": {
    "slideshow": {
     "slide_type": "slide"
    }
   },
   "source": [
    "it is also important to not get wrapped in details: for example testing the formatting of the text of the help flag is not a productive activity.\n",
    "\n",
    "In the same way, try to avoid testing for things that might be platform dependent, such as the exact python version!\n",
    "\n",
    "being able to run the CLI programmatically means you can also test with hypothesis.\n",
    "\n",
    "also, this is not actually dependent on the fact that the program is written in python: you can use these lines to test **any** CLI!"
   ]
  },
  {
   "cell_type": "markdown",
   "metadata": {
    "slideshow": {
     "slide_type": "slide"
    }
   },
   "source": [
    "### executing local programs - subprocesses\n",
    "\n",
    "running processes from python (i.e. external programs that exists in the system) can be done from the Subprocesses module.\n",
    "\n",
    "in general the program is executed in a specific, isolated shell, and the commands is not passed directly, but rather pre-processed for security reasons"
   ]
  },
  {
   "cell_type": "markdown",
   "metadata": {
    "slideshow": {
     "slide_type": "slide"
    }
   },
   "source": [
    "#### blocking execution\n",
    "\n",
    "run a program and wait until it has finished running"
   ]
  },
  {
   "cell_type": "code",
   "execution_count": 1,
   "metadata": {
    "slideshow": {
     "slide_type": "-"
    }
   },
   "outputs": [
    {
     "data": {
      "text/plain": [
       "CompletedProcess(args=['pwd'], returncode=0, stdout='/home/enrico/didattica/programmingCourseDIFA\\n', stderr='')"
      ]
     },
     "execution_count": 1,
     "metadata": {},
     "output_type": "execute_result"
    }
   ],
   "source": [
    "from subprocess import run, PIPE\n",
    "run([\"pwd\"],\n",
    "    stdout=PIPE,\n",
    "    stdin=PIPE,\n",
    "    stderr=PIPE,\n",
    "    text=True,\n",
    ")"
   ]
  },
  {
   "cell_type": "code",
   "execution_count": 128,
   "metadata": {
    "slideshow": {
     "slide_type": "slide"
    }
   },
   "outputs": [
    {
     "name": "stdout",
     "output_type": "stream",
     "text": [
      "'Python 3.8.6\\n'\n",
      "''\n",
      "0\n"
     ]
    }
   ],
   "source": [
    "# encoding was introduced in python 3.6\n",
    "# capture_output was introduced in python 3.7\n",
    "import subprocess\n",
    "from subprocess import run\n",
    "result = run([\"python\", \"--version\"], capture_output=True, encoding='utf8')\n",
    "print(repr(result.stdout))\n",
    "print(repr(result.stderr))\n",
    "print(result.returncode)"
   ]
  },
  {
   "cell_type": "markdown",
   "metadata": {
    "slideshow": {
     "slide_type": "slide"
    }
   },
   "source": [
    "#### running shell lines\n",
    "\n",
    "if one wants to run a shell command, rather than executing a program, one can use the `shell` option.\n",
    "\n",
    "beware to not use it on your machine with arbitrary user input, as it can be a massive security risk!"
   ]
  },
  {
   "cell_type": "code",
   "execution_count": 2,
   "metadata": {
    "slideshow": {
     "slide_type": "slide"
    }
   },
   "outputs": [
    {
     "data": {
      "text/plain": [
       "CompletedProcess(args=['echo ciao; echo bello'], returncode=0, stdout='ciao\\nbello\\n', stderr='')"
      ]
     },
     "execution_count": 2,
     "metadata": {},
     "output_type": "execute_result"
    }
   ],
   "source": [
    "# multiple commands\n",
    "run([\"echo ciao; echo bello\"],\n",
    "    stdout=PIPE,\n",
    "    stdin=PIPE,\n",
    "    stderr=PIPE,\n",
    "    text=True,\n",
    "    shell=True,\n",
    ")"
   ]
  },
  {
   "cell_type": "code",
   "execution_count": 3,
   "metadata": {
    "slideshow": {
     "slide_type": "slide"
    }
   },
   "outputs": [
    {
     "data": {
      "text/plain": [
       "CompletedProcess(args=['ls *.ipynb | wc -l'], returncode=0, stdout='20\\n', stderr='')"
      ]
     },
     "execution_count": 3,
     "metadata": {},
     "output_type": "execute_result"
    }
   ],
   "source": [
    "# shell piping\n",
    "run([\"ls *.ipynb | wc -l\"],\n",
    "    stdout=PIPE,\n",
    "    stdin=PIPE,\n",
    "    stderr=PIPE,\n",
    "    text=True,\n",
    "    shell=True,\n",
    ")"
   ]
  },
  {
   "cell_type": "markdown",
   "metadata": {
    "slideshow": {
     "slide_type": "slide"
    }
   },
   "source": [
    "### non-blocking execution\n",
    "\n",
    "run a program and without waiting until it has finished running.\n",
    "\n",
    "it implements a concept called a future: the first function call return an object that you can pass around and actually use only when needed (and wait if needed)."
   ]
  },
  {
   "cell_type": "code",
   "execution_count": 4,
   "metadata": {
    "slideshow": {
     "slide_type": "-"
    }
   },
   "outputs": [],
   "source": [
    "from subprocess import Popen"
   ]
  },
  {
   "cell_type": "markdown",
   "metadata": {
    "slideshow": {
     "slide_type": "slide"
    }
   },
   "source": [
    "The `Popen` object has basically the same parameters as the `run` function, but returns a promise instead of directly the results"
   ]
  },
  {
   "cell_type": "code",
   "execution_count": 5,
   "metadata": {
    "slideshow": {
     "slide_type": "-"
    }
   },
   "outputs": [],
   "source": [
    "def execute(*args):\n",
    "    return Popen(args, stdout=PIPE, stdin=PIPE, stderr=PIPE, text=True)"
   ]
  },
  {
   "cell_type": "markdown",
   "metadata": {
    "slideshow": {
     "slide_type": "slide"
    }
   },
   "source": [
    "to retrieve the content of the call, one can use the `communicate` function.\n",
    "\n",
    "it will wait until the program finishes!"
   ]
  },
  {
   "cell_type": "code",
   "execution_count": 6,
   "metadata": {
    "slideshow": {
     "slide_type": "-"
    }
   },
   "outputs": [
    {
     "data": {
      "text/plain": [
       "('ciao\\n', '')"
      ]
     },
     "execution_count": 6,
     "metadata": {},
     "output_type": "execute_result"
    }
   ],
   "source": [
    "p = execute(\"echo\", \"ciao\")\n",
    "p.communicate()"
   ]
  },
  {
   "cell_type": "code",
   "execution_count": 8,
   "metadata": {
    "slideshow": {
     "slide_type": "-"
    }
   },
   "outputs": [
    {
     "data": {
      "text/plain": [
       "0"
      ]
     },
     "execution_count": 8,
     "metadata": {},
     "output_type": "execute_result"
    }
   ],
   "source": [
    "p.returncode"
   ]
  },
  {
   "cell_type": "markdown",
   "metadata": {
    "slideshow": {
     "slide_type": "slide"
    }
   },
   "source": [
    "if we want to check if the program has finished running, we can check with the `poll` function:\n",
    "\n",
    "* if the program ended, it will return the return code\n",
    "* if it hasn't, it will return None"
   ]
  },
  {
   "cell_type": "code",
   "execution_count": 11,
   "metadata": {
    "slideshow": {
     "slide_type": "slide"
    }
   },
   "outputs": [
    {
     "name": "stdout",
     "output_type": "stream",
     "text": [
      "still sleeping\n"
     ]
    }
   ],
   "source": [
    "p = execute(\"sleep\", \"2\")\n",
    "if p.poll() is None:\n",
    "    print(\"still sleeping\")"
   ]
  },
  {
   "cell_type": "code",
   "execution_count": 12,
   "metadata": {
    "slideshow": {
     "slide_type": "-"
    }
   },
   "outputs": [
    {
     "name": "stdout",
     "output_type": "stream",
     "text": [
      "finished sleeping\n"
     ]
    }
   ],
   "source": [
    "if p.poll() is None:\n",
    "    print(\"still sleeping\")\n",
    "else:\n",
    "    print(\"finished sleeping\")"
   ]
  },
  {
   "cell_type": "markdown",
   "metadata": {
    "slideshow": {
     "slide_type": "slide"
    }
   },
   "source": [
    "subprocesses allow us also to pass some input to simulate pipes or the interaction with the user."
   ]
  },
  {
   "cell_type": "code",
   "execution_count": 131,
   "metadata": {
    "slideshow": {
     "slide_type": "-"
    }
   },
   "outputs": [
    {
     "name": "stdout",
     "output_type": "stream",
     "text": [
      "Overwriting temp.py\n"
     ]
    }
   ],
   "source": [
    "%%file temp.py\n",
    "name = input(\"tell me your name:\")\n",
    "print(\"hello\", name)"
   ]
  },
  {
   "cell_type": "code",
   "execution_count": 132,
   "metadata": {
    "slideshow": {
     "slide_type": "-"
    }
   },
   "outputs": [
    {
     "data": {
      "text/plain": [
       "CompletedProcess(args=['python', 'temp.py'], returncode=0, stdout='tell me your name:hello enrico\\n', stderr='')"
      ]
     },
     "execution_count": 132,
     "metadata": {},
     "output_type": "execute_result"
    }
   ],
   "source": [
    "result = run([\"python\", \"temp.py\"], input='enrico\\n', capture_output=True, encoding='utf8')\n",
    "result"
   ]
  },
  {
   "cell_type": "markdown",
   "metadata": {
    "slideshow": {
     "slide_type": "slide"
    }
   },
   "source": [
    "Finally, we can also simulate multiple programs feeding each other I/O to test how are program would behave in a pipeline of various programs."
   ]
  },
  {
   "cell_type": "code",
   "execution_count": null,
   "metadata": {
    "slideshow": {
     "slide_type": "-"
    }
   },
   "outputs": [],
   "source": [
    "# The example reproduces the command line:\n",
    "# $ cat index.rst | grep \".. literal\" | cut -f 3 -d:\n",
    "import subprocess as sp\n",
    "\n",
    "cat = sp.Popen(['cat', 'index.rst'], stdout=sp.PIPE,)\n",
    "grep = sp.Popen(['grep', '.. literal::'], stdin=cat.stdout, stdout=sp.PIPE,)\n",
    "cut = sp.Popen(['cut', '-f', '3', '-d:'], stdin=grep.stdout, stdout=sp.PIPE,)\n",
    "end_of_pipe = cut.stdout\n",
    "\n",
    "print('Included files:')\n",
    "for line in end_of_pipe:\n",
    "    print(line.decode('utf-8').strip())"
   ]
  },
  {
   "cell_type": "markdown",
   "metadata": {
    "slideshow": {
     "slide_type": "slide"
    }
   },
   "source": [
    "### testing filesystem I/O\n",
    "\n",
    "first we need to create unique files that will not likely conflict with existing one.\n",
    "\n",
    "To do this we can leverage the `uuid` module"
   ]
  },
  {
   "cell_type": "code",
   "execution_count": 32,
   "metadata": {
    "slideshow": {
     "slide_type": "-"
    }
   },
   "outputs": [
    {
     "name": "stdout",
     "output_type": "stream",
     "text": [
      "1e9598ca-962b-11ea-aade-94992ee33e3e\n"
     ]
    }
   ],
   "source": [
    "import uuid\n",
    "random_filename = str(uuid.uuid1())\n",
    "print(random_filename)"
   ]
  },
  {
   "cell_type": "code",
   "execution_count": 35,
   "metadata": {
    "slideshow": {
     "slide_type": "slide"
    }
   },
   "outputs": [
    {
     "data": {
      "text/plain": [
       "WindowsPath('1e9598ca-962b-11ea-aade-94992ee33e3e')"
      ]
     },
     "execution_count": 35,
     "metadata": {},
     "output_type": "execute_result"
    }
   ],
   "source": [
    "from pathlib import Path\n",
    "temp_path = Path('.')/random_filename\n",
    "assert not temp_path.exists()\n",
    "temp_path"
   ]
  },
  {
   "cell_type": "code",
   "execution_count": 38,
   "metadata": {
    "slideshow": {
     "slide_type": "slide"
    }
   },
   "outputs": [],
   "source": [
    "temp_path.touch()\n",
    "assert temp_path.exists()\n",
    "temp_path.unlink()\n",
    "assert not temp_path.exists()"
   ]
  },
  {
   "cell_type": "markdown",
   "metadata": {
    "slideshow": {
     "slide_type": "slide"
    }
   },
   "source": [
    "an alternative is the tempfile module"
   ]
  },
  {
   "cell_type": "code",
   "execution_count": 141,
   "metadata": {
    "slideshow": {
     "slide_type": "-"
    }
   },
   "outputs": [],
   "source": [
    "import tempfile"
   ]
  },
  {
   "cell_type": "code",
   "execution_count": 142,
   "metadata": {
    "slideshow": {
     "slide_type": "-"
    }
   },
   "outputs": [
    {
     "data": {
      "text/plain": [
       "'/home/enrico/didattica/programmingCourseDIFA/tmp6cyvjh6g'"
      ]
     },
     "execution_count": 142,
     "metadata": {},
     "output_type": "execute_result"
    }
   ],
   "source": [
    "tf = tempfile.NamedTemporaryFile(dir=\".\")\n",
    "tf.name"
   ]
  },
  {
   "cell_type": "markdown",
   "metadata": {
    "slideshow": {
     "slide_type": "slide"
    }
   },
   "source": [
    "At this point we can test that our program write to the destination as intended we we pass it as an argument!"
   ]
  },
  {
   "cell_type": "code",
   "execution_count": 3,
   "metadata": {
    "slideshow": {
     "slide_type": "-"
    }
   },
   "outputs": [
    {
     "name": "stdout",
     "output_type": "stream",
     "text": [
      "Overwriting temp.py\n"
     ]
    }
   ],
   "source": [
    "%%file temp.py\n",
    "import sys\n",
    "print(\"arguments\", sys.argv)\n",
    "with open(sys.argv[1], \"w\") as outfile:\n",
    "    print(\"printed to file!\", file=outfile)"
   ]
  },
  {
   "cell_type": "code",
   "execution_count": 53,
   "metadata": {
    "slideshow": {
     "slide_type": "slide"
    }
   },
   "outputs": [
    {
     "name": "stdout",
     "output_type": "stream",
     "text": [
      "arguments ['temp.py', '1e9598ca-962b-11ea-aade-94992ee33e3e']\n",
      "\n",
      "printed in file: ['printed to file!\\n']\n"
     ]
    }
   ],
   "source": [
    "result = run([\"python\", \"temp.py\", str(temp_path)], capture_output=True, encoding='utf8')\n",
    "print(result.stdout)\n",
    "\n",
    "assert temp_path.exists()\n",
    "\n",
    "with temp_path.open() as result_file:\n",
    "    lines = result_file.readlines()\n",
    "print(\"printed in file:\", lines)\n",
    "\n",
    "temp_path.unlink()\n",
    "assert not temp_path.exists()"
   ]
  },
  {
   "cell_type": "markdown",
   "metadata": {
    "slideshow": {
     "slide_type": "slide"
    }
   },
   "source": [
    "# Input and Output of CLI programs\n",
    "\n",
    "Whenever possible parse and print one line at the time, reading from `sys.stdin` and writing to `sys.stdout`.\n",
    "\n",
    "They might be printing to screen, to file or piped to a different program, depending on the way the program is called.\n",
    "\n",
    "It is the same philosophy of the iterators!"
   ]
  },
  {
   "cell_type": "code",
   "execution_count": 188,
   "metadata": {
    "slideshow": {
     "slide_type": "slide"
    }
   },
   "outputs": [
    {
     "name": "stdout",
     "output_type": "stream",
     "text": [
      "Overwriting temp.py\n"
     ]
    }
   ],
   "source": [
    "%%file temp.py\n",
    "import sys\n",
    "\n",
    "for line in map(str.strip, sys.stdin):\n",
    "    s = '-- ' + line + ' --'\n",
    "    print(s, file=sys.stdout)"
   ]
  },
  {
   "cell_type": "code",
   "execution_count": 189,
   "metadata": {
    "slideshow": {
     "slide_type": "-"
    }
   },
   "outputs": [
    {
     "name": "stdout",
     "output_type": "stream",
     "text": [
      "-- 1 --\n"
     ]
    }
   ],
   "source": [
    "!echo 1|python temp.py"
   ]
  },
  {
   "cell_type": "markdown",
   "metadata": {
    "slideshow": {
     "slide_type": "slide"
    }
   },
   "source": [
    "If you want to be able to parse from both stdin and files you can use the fileinput library\n",
    "\n",
    "This iterates over the lines of all files listed in `sys.argv[1:]`, defaulting to sys.stdin if the list is empty.\n",
    "\n",
    "If a filename is `'-'`, it is also replaced by sys.stdin and the optional arguments mode and openhook are ignored.\n",
    "\n",
    "To specify an alternative list of filenames, pass it as the first argument to input().\n",
    "\n",
    "A single file name is also allowed."
   ]
  },
  {
   "cell_type": "code",
   "execution_count": null,
   "metadata": {
    "slideshow": {
     "slide_type": "-"
    }
   },
   "outputs": [],
   "source": [
    "import fileinput\n",
    "for line in fileinput.input():\n",
    "    process(line)"
   ]
  },
  {
   "cell_type": "markdown",
   "metadata": {
    "slideshow": {
     "slide_type": "slide"
    }
   },
   "source": [
    "### MapReduce philosophy\n",
    "\n",
    "remember that all great unix command line tools are following the filter-map-reduce design with their input and output.\n",
    "\n",
    "There is a library that actually implement them explicitely!\n",
    "https://github.com/sharkdp/shell-functools"
   ]
  },
  {
   "cell_type": "markdown",
   "metadata": {
    "slideshow": {
     "slide_type": "slide"
    }
   },
   "source": [
    "## Printing for Machines\n",
    "\n",
    "input-output on terminal in the **JSONlines** formats\n",
    "\n",
    "one of the advantages of working with JSONlines input and output is that it's easier to write structured tests: one can easily test the content of the output without doing complicated parsing!"
   ]
  },
  {
   "cell_type": "code",
   "execution_count": 176,
   "metadata": {
    "slideshow": {
     "slide_type": "slide"
    }
   },
   "outputs": [
    {
     "name": "stdout",
     "output_type": "stream",
     "text": [
      "Overwriting temp.py\n"
     ]
    }
   ],
   "source": [
    "%%file temp.py\n",
    "import sys, json, glob\n",
    "\n",
    "patterns = sys.argv[1:]\n",
    "for each_pattern in patterns:\n",
    "    filenames = glob.glob(each_pattern)\n",
    "    for each_filename in filenames:\n",
    "        data = {'filename': each_filename, \"pattern\": each_pattern}\n",
    "        # json.dumps takes a python structure and transform in a JSON string\n",
    "        json_str = json.dumps(data)\n",
    "        print(json_str, file=sys.stdout)"
   ]
  },
  {
   "cell_type": "code",
   "execution_count": 178,
   "metadata": {
    "slideshow": {
     "slide_type": "slide"
    }
   },
   "outputs": [
    {
     "name": "stdout",
     "output_type": "stream",
     "text": [
      "{\"filename\": \"temp.py\", \"pattern\": \"*.py\"}\n",
      "{\"filename\": \"test.py\", \"pattern\": \"*.py\"}\n",
      "{\"filename\": \"directory_structure.svg\", \"pattern\": \"*.svg\"}\n",
      "{\"filename\": \"file_inode_permissions.svg\", \"pattern\": \"*.svg\"}\n",
      "{\"filename\": \"OS_structure.svg\", \"pattern\": \"*.svg\"}\n",
      "{\"filename\": \"users_and_groups.svg\", \"pattern\": \"*.svg\"}\n"
     ]
    }
   ],
   "source": [
    "!python temp.py *.py *.svg"
   ]
  },
  {
   "cell_type": "code",
   "execution_count": 186,
   "metadata": {
    "slideshow": {
     "slide_type": "slide"
    }
   },
   "outputs": [
    {
     "name": "stdout",
     "output_type": "stream",
     "text": [
      "Overwriting count_by.py\n"
     ]
    }
   ],
   "source": [
    "%%file count_by.py\n",
    "import sys, json, glob\n",
    "from collections import Counter\n",
    "counts = Counter()\n",
    "pattern = sys.argv[1]\n",
    "\n",
    "for line in map(str.strip, sys.stdin):\n",
    "    # json.dumps takes a JSON string and transform in a python structure\n",
    "    data = json.loads(line)\n",
    "    value = data[pattern]\n",
    "    counts[value] += 1\n",
    "    \n",
    "json_str = json.dumps(counts)\n",
    "print(json_str, file=sys.stdout)"
   ]
  },
  {
   "cell_type": "code",
   "execution_count": 187,
   "metadata": {
    "slideshow": {
     "slide_type": "slide"
    }
   },
   "outputs": [
    {
     "name": "stdout",
     "output_type": "stream",
     "text": [
      "{\"*.py\": 3, \"*.svg\": 4}\n"
     ]
    }
   ],
   "source": [
    "!python temp.py *.py *.svg | python count_by.py pattern"
   ]
  },
  {
   "cell_type": "markdown",
   "metadata": {
    "slideshow": {
     "slide_type": "slide"
    }
   },
   "source": [
    "How to interact with programs that do not return valid JSONlines?"
   ]
  },
  {
   "cell_type": "code",
   "execution_count": 228,
   "metadata": {
    "slideshow": {
     "slide_type": "-"
    }
   },
   "outputs": [
    {
     "name": "stdout",
     "output_type": "stream",
     "text": [
      "count_by.py\n",
      "JSONifier.py\n",
      "temp.py\n",
      "test.py\n"
     ]
    }
   ],
   "source": [
    "!python -c \"from glob import glob;print(*glob('*.py'), sep='\\n')\""
   ]
  },
  {
   "cell_type": "code",
   "execution_count": 224,
   "metadata": {
    "slideshow": {
     "slide_type": "slide"
    }
   },
   "outputs": [
    {
     "name": "stdout",
     "output_type": "stream",
     "text": [
      "Overwriting JSONifier.py\n"
     ]
    }
   ],
   "source": [
    "%%file JSONifier.py\n",
    "import sys, json\n",
    "pattern = sys.argv[1]\n",
    "for line in map(str.strip, sys.stdin):\n",
    "    data = {pattern: line}\n",
    "    json_str = json.dumps(data)\n",
    "    print(json_str, file=sys.stdout)"
   ]
  },
  {
   "cell_type": "code",
   "execution_count": 225,
   "metadata": {
    "slideshow": {
     "slide_type": "-"
    }
   },
   "outputs": [
    {
     "name": "stdout",
     "output_type": "stream",
     "text": [
      "{\"filename\": \"count_by.py\"}\n",
      "{\"filename\": \"JSONifier.py\"}\n",
      "{\"filename\": \"temp.py\"}\n",
      "{\"filename\": \"test.py\"}\n"
     ]
    }
   ],
   "source": [
    "!python -c \"from glob import glob;print(*glob('*.py'), sep='\\n')\" | python JSONifier.py filename"
   ]
  },
  {
   "cell_type": "markdown",
   "metadata": {
    "slideshow": {
     "slide_type": "-"
    }
   },
   "source": [
    "This kind of output is extremely useful for logs as well, as it makes them way easier to parse with automatic tools!"
   ]
  },
  {
   "cell_type": "markdown",
   "metadata": {
    "slideshow": {
     "slide_type": "slide"
    }
   },
   "source": [
    "## Printing for Humans\n",
    "\n",
    "using the format controls"
   ]
  },
  {
   "cell_type": "code",
   "execution_count": 79,
   "metadata": {
    "slideshow": {
     "slide_type": "-"
    }
   },
   "outputs": [
    {
     "name": "stdout",
     "output_type": "stream",
     "text": [
      "3.142\n"
     ]
    }
   ],
   "source": [
    "import math\n",
    "print(\"{:.4}\".format(math.pi))"
   ]
  },
  {
   "cell_type": "code",
   "execution_count": 71,
   "metadata": {
    "slideshow": {
     "slide_type": "slide"
    }
   },
   "outputs": [
    {
     "name": "stdout",
     "output_type": "stream",
     "text": [
      "L x                    R\n",
      "L          x           R\n",
      "L                    x R\n"
     ]
    }
   ],
   "source": [
    "# Example 1\n",
    "print('L {:<20} R'.format('x'))\n",
    "# Example 2\n",
    "print('L {:^20} R'.format('x'))\n",
    "# Example 3\n",
    "print('L {:>20} R'.format('x'))"
   ]
  },
  {
   "cell_type": "code",
   "execution_count": 72,
   "metadata": {
    "slideshow": {
     "slide_type": "-"
    }
   },
   "outputs": [
    {
     "name": "stdout",
     "output_type": "stream",
     "text": [
      "hello===============\n",
      "_______hello________\n",
      "...............hello\n"
     ]
    }
   ],
   "source": [
    "print ('{:=<20}'.format('hello'))\n",
    "print ('{:_^20}'.format('hello'))\n",
    "print ('{:.>20}'.format('hello'))"
   ]
  },
  {
   "cell_type": "code",
   "execution_count": 73,
   "metadata": {
    "slideshow": {
     "slide_type": "slide"
    }
   },
   "outputs": [],
   "source": [
    "users = [[\"Alice\", 20],\n",
    "         [\"Bob\", 30],\n",
    "         [\"Carol\", 25],\n",
    "         [\"Dave\", 32],\n",
    "        ]\n",
    "columns = [\"name\", \"age\"]"
   ]
  },
  {
   "cell_type": "code",
   "execution_count": 77,
   "metadata": {
    "slideshow": {
     "slide_type": "slide"
    }
   },
   "outputs": [
    {
     "name": "stdout",
     "output_type": "stream",
     "text": [
      "name       age\n",
      "Alice       20\n",
      "Bob         30\n",
      "Carol       25\n",
      "Dave        32\n"
     ]
    }
   ],
   "source": [
    "print('{:<10s}{:>4s}'.format(*columns))\n",
    "for name, age in users:\n",
    "    print('{:<10s}{:>4d}'.format(name, age))"
   ]
  },
  {
   "cell_type": "code",
   "execution_count": 93,
   "metadata": {
    "slideshow": {
     "slide_type": "slide"
    }
   },
   "outputs": [
    {
     "name": "stdout",
     "output_type": "stream",
     "text": [
      "|name      | age|\n",
      "|----------|----|\n",
      "|Alice     |  20|\n",
      "|Bob       |  30|\n",
      "|Carol     |  25|\n",
      "|Dave      |  32|\n"
     ]
    }
   ],
   "source": [
    "# use the vertical and horizontal lines to format it according to\n",
    "# markdown syntax, so that you can have nicely formatted text\n",
    "print('|{:<10s}|{:>4s}|'.format(*columns))\n",
    "print('|{:<10s}|{:>4s}|'.format('-'*10, '-'*4))\n",
    "for name, age in users:\n",
    "    print('|{:<10s}|{:>4d}|'.format(name, age))"
   ]
  },
  {
   "cell_type": "markdown",
   "metadata": {
    "slideshow": {
     "slide_type": "slide"
    }
   },
   "source": [
    "By printing in that format you can copy and paste and obtain a nicely formatted MarkDown table!\n",
    "\n",
    "|name      | age|\n",
    "|---       | ---|\n",
    "|Alice     |  20|\n",
    "|Bob       |  30|\n",
    "|Carol     |  25|\n",
    "|Dave      |  32|"
   ]
  },
  {
   "cell_type": "code",
   "execution_count": 92,
   "metadata": {
    "slideshow": {
     "slide_type": "slide"
    }
   },
   "outputs": [
    {
     "name": "stdout",
     "output_type": "stream",
     "text": [
      "|name    | age|\n",
      "|--------|----|\n",
      "|Alice   |  20|\n",
      "|Bob     |  30|\n",
      "|Carol   |  25|\n",
      "|Dave    |  32|\n"
     ]
    }
   ],
   "source": [
    "# you can use variables to set the formatting by enclosing \n",
    "# the name in curly brackets inside the other curly brakets!\n",
    "size1, size2 = 8, 4\n",
    "print('|{:<{s1}s}|{:>{s2}s}|'.format(*columns, s1=size1, s2=size2))\n",
    "print('|{:<{s1}s}|{:>{s2}s}|'.format('-'*size1, '-'*size2, s1=size1, s2=size2))\n",
    "for name, age in users:\n",
    "    print('|{:<{s1}s}|{:>{s2}d}|'.format(name, age, s1=size1, s2=size2))"
   ]
  },
  {
   "cell_type": "markdown",
   "metadata": {
    "slideshow": {
     "slide_type": "slide"
    }
   },
   "source": [
    "#### tetwrapping - adatting to different terminal lenght\n",
    "\n",
    "the library `textwrap` allow us to flow the text inside a narrow terminal, or to clip the text if the line is too long."
   ]
  },
  {
   "cell_type": "code",
   "execution_count": 94,
   "metadata": {
    "slideshow": {
     "slide_type": "-"
    }
   },
   "outputs": [],
   "source": [
    "import textwrap"
   ]
  },
  {
   "cell_type": "code",
   "execution_count": 96,
   "metadata": {
    "slideshow": {
     "slide_type": "fragment"
    }
   },
   "outputs": [
    {
     "name": "stdout",
     "output_type": "stream",
     "text": [
      "some crazy long\n",
      "string that we\n",
      "might need to\n",
      "break on\n",
      "multiple lines\n"
     ]
    }
   ],
   "source": [
    "s = \"some crazy long string that we might need to break on multiple lines\"\n",
    "print(textwrap.fill(s, 15))"
   ]
  },
  {
   "cell_type": "code",
   "execution_count": 105,
   "metadata": {
    "slideshow": {
     "slide_type": "fragment"
    }
   },
   "outputs": [
    {
     "data": {
      "text/plain": [
       "'another craxy [...]'"
      ]
     },
     "execution_count": 105,
     "metadata": {},
     "output_type": "execute_result"
    }
   ],
   "source": [
    "s = \"another craxy string to be hidden\"\n",
    "textwrap.shorten(s, width=19, placeholder=\" [...]\")"
   ]
  },
  {
   "cell_type": "markdown",
   "metadata": {
    "slideshow": {
     "slide_type": "slide"
    }
   },
   "source": [
    "### Differentiate output if on terminal or not\n",
    "\n",
    "this is really tricky to test, but it might be useful to print something different when talking to other programs (probably JSONlines) and humans (simple english, maybe with colors and decorations).\n",
    "\n",
    "the trick is to use `sys.stdout.isatty()`, that returns true for a terminal aimed to be read by a human.\n",
    "\n",
    "The only problem is that capturing the output (such as what the notebook does) trick the program into thinking that it's talking to a machine, and so the output will be the machine-oriented one!\n",
    "This can make testing this functionality a pain..."
   ]
  },
  {
   "cell_type": "markdown",
   "metadata": {
    "slideshow": {
     "slide_type": "slide"
    }
   },
   "source": [
    "personally I prefer two different options:\n",
    "* generate human readable by default, and generate json with a `--json` flag (or vice-versa)\n",
    "* always generate json data, but also write a **prettifier**, that take the json as input and print out a nice, human, text (the solution used by the loggin library `eliot`)"
   ]
  },
  {
   "cell_type": "code",
   "execution_count": 61,
   "metadata": {
    "slideshow": {
     "slide_type": "slide"
    }
   },
   "outputs": [
    {
     "name": "stdout",
     "output_type": "stream",
     "text": [
      "Overwriting temp.py\n"
     ]
    }
   ],
   "source": [
    "%%file temp.py\n",
    "from sys import stdout\n",
    "with open(\"temp.txt\", \"w\") as outfile:\n",
    "    if stdout.isatty():\n",
    "        print('The output device is a teletype. Or something like a teletype.', file=outfile)\n",
    "    else:\n",
    "        print(\"The output device isn't like a teletype.\", file=outfile)"
   ]
  },
  {
   "cell_type": "code",
   "execution_count": 64,
   "metadata": {
    "slideshow": {
     "slide_type": "slide"
    }
   },
   "outputs": [
    {
     "name": "stdout",
     "output_type": "stream",
     "text": [
      "The output device isn't like a teletype.\n"
     ]
    }
   ],
   "source": [
    "result = run([\"python\", \"temp.py\"], input='enrico\\n', capture_output=True, encoding='utf8')\n",
    "with open(\"temp.txt\") as file:\n",
    "    for line in file:\n",
    "        print(line.strip())"
   ]
  },
  {
   "cell_type": "code",
   "execution_count": 65,
   "metadata": {
    "slideshow": {
     "slide_type": "-"
    }
   },
   "outputs": [
    {
     "name": "stdout",
     "output_type": "stream",
     "text": [
      "The output device is a teletype. Or something like a teletype.\n"
     ]
    }
   ],
   "source": [
    "result = run([\"python\", \"temp.py\"], input='enrico\\n', encoding='utf8')\n",
    "with open(\"temp.txt\") as file:\n",
    "    for line in file:\n",
    "        print(line.strip())"
   ]
  },
  {
   "cell_type": "markdown",
   "metadata": {
    "slideshow": {
     "slide_type": "slide"
    }
   },
   "source": [
    "### dot aligned numbers\n",
    "\n",
    "printing numbers aligned on their decimal point is a common useful features, but not an simple one to perform, because the actual alignment depends on **all** the numbers included, so it can't be done on a number-by-number basis without some assumption first.\n",
    "\n",
    "basically one have to split the numbers in before and after the dot, and align the two separately!\n",
    "\n",
    "I'll provide you a simple function to do the alignment on a single number.\n",
    "It's not covering all corner cases, but it provides a reasonable starting point if you want to personalize the implementation"
   ]
  },
  {
   "cell_type": "code",
   "execution_count": 127,
   "metadata": {
    "slideshow": {
     "slide_type": "slide"
    }
   },
   "outputs": [],
   "source": [
    "def dot_format(number, left_pad, right_pad, padding=''):\n",
    "    big, small = str(float(number)).split('.')\n",
    "    format_str = \"{b:>{s1}s}.{s:{pad}<{s2}s}\"\n",
    "    result = format_str.format(\n",
    "        b=big,\n",
    "        s=small,\n",
    "        pad=padding,\n",
    "        s1=left_pad,\n",
    "        s2=right_pad)\n",
    "    return result"
   ]
  },
  {
   "cell_type": "code",
   "execution_count": 128,
   "metadata": {
    "scrolled": true,
    "slideshow": {
     "slide_type": "slide"
    }
   },
   "outputs": [
    {
     "name": "stdout",
     "output_type": "stream",
     "text": [
      " 2.0  \n",
      " 3.14 \n",
      "12.1  \n"
     ]
    }
   ],
   "source": [
    "print(dot_format(2, left_pad=2, right_pad=3))\n",
    "print(dot_format(3.14, left_pad=2, right_pad=3))\n",
    "print(dot_format(12.1, left_pad=2, right_pad=3))"
   ]
  },
  {
   "cell_type": "code",
   "execution_count": 129,
   "metadata": {
    "slideshow": {
     "slide_type": "fragment"
    }
   },
   "outputs": [
    {
     "name": "stdout",
     "output_type": "stream",
     "text": [
      " 2.000\n",
      " 3.140\n",
      "12.100\n"
     ]
    }
   ],
   "source": [
    "print(dot_format(2, left_pad=2, right_pad=3, padding='0'))\n",
    "print(dot_format(3.14, left_pad=2, right_pad=3, padding='0'))\n",
    "print(dot_format(12.1, left_pad=2, right_pad=3, padding='0'))"
   ]
  },
  {
   "cell_type": "code",
   "execution_count": 130,
   "metadata": {
    "slideshow": {
     "slide_type": "fragment"
    }
   },
   "outputs": [
    {
     "name": "stdout",
     "output_type": "stream",
     "text": [
      " 2.000\n",
      " 3.140\n",
      "12.127\n"
     ]
    }
   ],
   "source": [
    "from functools import partial\n",
    "my_format = partial(dot_format, left_pad=2, right_pad=3, padding='0')\n",
    "numbers = [2, 3.14, 12.127]\n",
    "for each_number in numbers:\n",
    "    print(my_format(each_number))"
   ]
  },
  {
   "cell_type": "markdown",
   "metadata": {
    "slideshow": {
     "slide_type": "slide"
    }
   },
   "source": [
    "#### Special characters\n",
    "\n",
    "Python can print almost the full unicode spectrum, use it!\n",
    "\n",
    "Dingbats: `\"✓\"`, `\"✗\"`\n",
    "\n",
    "blocks: `\"▀▁▂▃▄▅▆▇█▉▊▋▌▍▎▏▐░▒▓▔▕▖▗▘▙▚▛▜▝▞▟\"`\n",
    "\n",
    "emoji: `\"😆\"`, `\"👍\"`\n"
   ]
  },
  {
   "cell_type": "code",
   "execution_count": 5,
   "metadata": {
    "slideshow": {
     "slide_type": "-"
    }
   },
   "outputs": [
    {
     "name": "stdout",
     "output_type": "stream",
     "text": [
      "😆\n",
      "👍\n"
     ]
    }
   ],
   "source": [
    "print('\\U0001F606') \n",
    "print(\"👍\")"
   ]
  },
  {
   "cell_type": "markdown",
   "metadata": {
    "slideshow": {
     "slide_type": "slide"
    }
   },
   "source": [
    "### inputting passwords\n",
    "\n",
    "sometimes it's encessary, and it's a good practice to hide them while we type them, to make sure that nobody can spot them.\n",
    "\n",
    "**Please be careful and never store password in your programs!**"
   ]
  },
  {
   "cell_type": "code",
   "execution_count": 166,
   "metadata": {
    "slideshow": {
     "slide_type": "fragment"
    }
   },
   "outputs": [
    {
     "name": "stdout",
     "output_type": "stream",
     "text": [
      "Password: ········\n",
      "ciao\n"
     ]
    }
   ],
   "source": [
    "import getpass\n",
    "pwd = getpass.getpass(prompt='Password: ')\n",
    "print(pwd)"
   ]
  },
  {
   "cell_type": "markdown",
   "metadata": {
    "slideshow": {
     "slide_type": "slide"
    }
   },
   "source": [
    "## final readings\n",
    "\n",
    "Eric Raymond: **The Art of Unix Programming**:\n",
    "* http://www.catb.org/~esr/writings/taoup/html/index.html\n",
    "\n",
    "Jeroen Janssens, **Data Science at the Command Line**\n",
    "* https://www.datascienceatthecommandline.com/"
   ]
  },
  {
   "cell_type": "markdown",
   "metadata": {
    "slideshow": {
     "slide_type": "slide"
    }
   },
   "source": [
    "# Exercise\n",
    "\n",
    "Write a personal knowledge database app.\n",
    "\n",
    "this app should:\n",
    "* add new notes\n",
    "* show notes\n",
    "* search notes based on words contained in them\n",
    "\n",
    "## advanced\n",
    "\n",
    "* set tags, also in previously created notes\n",
    "* filter by tags (including logic of tags to use or not)\n",
    "* filter by date"
   ]
  },
  {
   "cell_type": "markdown",
   "metadata": {
    "slideshow": {
     "slide_type": "skip"
    }
   },
   "source": [
    "https://codeburst.io/13-tips-tricks-for-writing-shell-scripts-with-awesome-ux-19a525ae05ae\n",
    "\n",
    "https://eng.localytics.com/exploring-cli-best-practices/\n",
    "\n",
    "https://amir.rachum.com/blog/2017/07/28/python-entry-points/"
   ]
  },
  {
   "cell_type": "markdown",
   "metadata": {
    "slideshow": {
     "slide_type": "slide"
    }
   },
   "source": [
    "# Extra Material"
   ]
  },
  {
   "cell_type": "markdown",
   "metadata": {
    "slideshow": {
     "slide_type": "slide"
    }
   },
   "source": [
    "### sending email from the script\n",
    "\n",
    "**DO NOT STORE PASSWORDS**\n",
    "\n",
    "**ESPECIALLY FOR YOUR UNIBO ACCOUNT!!!**\n",
    "\n",
    "Fancy emails and attachments can be sent using the email-mime package (already incuded in python)\n",
    "\n",
    "https://docs.python.org/3/library/email.mime.html"
   ]
  },
  {
   "cell_type": "code",
   "execution_count": null,
   "metadata": {
    "slideshow": {
     "slide_type": "slide"
    }
   },
   "outputs": [],
   "source": [
    "import smtplib, ssl, getpass\n",
    "\n",
    "port = 587\n",
    "smtp_server = \"smtp.office365.com\"\n",
    "user = \"enrico.giampieri@unibo.it\"\n",
    "password = getpass.getpass(prompt='Password: ')\n",
    "\n",
    "receiver = \"enrico.giampieri@unibo.it\"\n",
    "# the empty line divides the header from the body\n",
    "msg = \"\"\"Subject: Hi there\n",
    "\n",
    "This message is sent from Python.\n",
    "\"\"\" "
   ]
  },
  {
   "cell_type": "code",
   "execution_count": null,
   "metadata": {
    "slideshow": {
     "slide_type": "slide"
    }
   },
   "outputs": [],
   "source": [
    "# Create a secure SSL context\n",
    "context = ssl.create_default_context()\n",
    "with smtplib.SMTP(smtp_server, port) as server:\n",
    "    # Secure the connection\n",
    "    server.starttls(context=context) \n",
    "    server.login(user, password)\n",
    "    server.sendmail(user, receiver, msg)"
   ]
  },
  {
   "cell_type": "markdown",
   "metadata": {
    "slideshow": {
     "slide_type": "slide"
    }
   },
   "source": [
    "now, if for some reason you decide that saving the password is fundamental (for example to allow the user to login again in the future without retyping them).... please reconsider it!"
   ]
  },
  {
   "cell_type": "markdown",
   "metadata": {
    "slideshow": {
     "slide_type": "slide"
    }
   },
   "source": [
    "Now, if it is **really** necessary, then at least you need to:\n",
    "* *salt* the password (add a fixed value to it that might depend on the user name or access domain)\n",
    "* generate a random *cryptographic key* individual to the user\n",
    "* encrypt the *salted key* and save it somewhere\n",
    "* store the *cryptographic key* somewhere different\n",
    "* delete the password and *cryptographic key* from memory once you're done"
   ]
  },
  {
   "cell_type": "markdown",
   "metadata": {
    "slideshow": {
     "slide_type": "-"
    }
   },
   "source": [
    "*salting* a password means to modify it somehow (for example by prepending the username) so that the\n",
    "crypted values does not depend only on the password, making it harder to break with frequency based attacks"
   ]
  },
  {
   "cell_type": "markdown",
   "metadata": {
    "slideshow": {
     "slide_type": "slide"
    }
   },
   "source": [
    "and when you need to acces in the future:\n",
    "* load the user's *cryptographic key*\n",
    "* load the *encrypted salted key*\n",
    "* uncrypt it\n",
    "* unsalt it\n",
    "* use it\n",
    "* delete the password and *cryptographic key* from memory once you're done"
   ]
  },
  {
   "cell_type": "markdown",
   "metadata": {
    "slideshow": {
     "slide_type": "-"
    }
   },
   "source": [
    "the reason to delete it from memory afterward is to avoid that a program crash could unintentionaly display it in clear view.\n",
    "\n",
    "to implement the steps above you can use the library **cryptography**"
   ]
  },
  {
   "cell_type": "code",
   "execution_count": 207,
   "metadata": {
    "slideshow": {
     "slide_type": "slide"
    }
   },
   "outputs": [
    {
     "name": "stdout",
     "output_type": "stream",
     "text": [
      "b'gAAAAABewB2M-k1o9Eh4aBpEnWXc1YvZUncNuXe7_B1ZU6Ym7waVA0JynvRLktfL5igCekLg4ZVQrO9S33tj2lEUHT9CB5F_FfcFE-Gj8JjcSM4VeTJBTds='\n"
     ]
    }
   ],
   "source": [
    "from cryptography.fernet import Fernet\n",
    "salt = b\"myusername\" # this should depend on the username or the domain, don't always use the same\n",
    "key = Fernet.generate_key() # save this!!!\n",
    "message = b\"my_important_password\"\n",
    "\n",
    "cipher_suite = Fernet(key)\n",
    "salted_message = salt+message # this is a very trivial salting, could use something smarter\n",
    "cipher_text = cipher_suite.encrypt(salted_message)\n",
    "\n",
    "print(cipher_text)\n",
    "\n",
    "salted_text = cipher_suite.decrypt(cipher_text)\n",
    "plain_text = salted_text[len(salt):] # inverse operation of the salting\n",
    "assert plain_text == message"
   ]
  },
  {
   "cell_type": "code",
   "execution_count": 208,
   "metadata": {
    "slideshow": {
     "slide_type": "-"
    }
   },
   "outputs": [
    {
     "data": {
      "text/plain": [
       "b'r-62ZvVmkg_L1UiaeU7pK6N4uOW36y1Ybhtm9Y_okZw='"
      ]
     },
     "execution_count": 208,
     "metadata": {},
     "output_type": "execute_result"
    }
   ],
   "source": [
    "key"
   ]
  },
  {
   "cell_type": "markdown",
   "metadata": {
    "slideshow": {
     "slide_type": "slide"
    }
   },
   "source": [
    "Cryptography is a **very complicated** topic (and I'm not an expert in it), and I **strongly suggest you to not try** to do things yourself as much as possible!"
   ]
  },
  {
   "cell_type": "markdown",
   "metadata": {
    "slideshow": {
     "slide_type": "slide"
    }
   },
   "source": [
    "### Spark plots\n",
    "sometimes it is useful to create very simple graphs in the terminal to represents some data.\n",
    "To do this you can use some special characters to show your results in a sintetic way!\n",
    "\n",
    "I'll show some simple functions to represent data in the terminal (that you can combine with things like colors and so on), but if you need there are entire libraries that provide proper plotting functions in a ascii terminal! \n",
    "\n",
    "https://github.com/glamp/bashplotlib"
   ]
  },
  {
   "cell_type": "code",
   "execution_count": 131,
   "metadata": {
    "slideshow": {
     "slide_type": "slide"
    }
   },
   "outputs": [
    {
     "name": "stdout",
     "output_type": "stream",
     "text": [
      "█▂▃▅▁▁▄\n"
     ]
    }
   ],
   "source": [
    "bar = '▁▂▃▄▅▆▇█'\n",
    "barcount = len(bar)\n",
    " \n",
    "def sparkline(numbers):\n",
    "    mn, mx = min(numbers), max(numbers)\n",
    "    extent = mx - mn\n",
    "    sparkline = ''.join(bar[min([barcount - 1,\n",
    "                                 int((n - mn) / extent * barcount)])]\n",
    "                        for n in numbers)\n",
    "    return mn, mx, sparkline\n",
    "\n",
    "data = [8, 2, 3, 5, 1, 1, 4]\n",
    "mn, mx, sp = sparkline(data)\n",
    "print(sp)"
   ]
  },
  {
   "cell_type": "markdown",
   "metadata": {
    "slideshow": {
     "slide_type": "slide"
    }
   },
   "source": [
    "another commonly used option is to print an histogram by printing a number of gliphs equal to the count"
   ]
  },
  {
   "cell_type": "code",
   "execution_count": 133,
   "metadata": {
    "slideshow": {
     "slide_type": "-"
    }
   },
   "outputs": [
    {
     "name": "stdout",
     "output_type": "stream",
     "text": [
      "======== 8\n",
      "== 2\n",
      "=== 3\n",
      "===== 5\n",
      "= 1\n",
      "= 1\n",
      "==== 4\n"
     ]
    }
   ],
   "source": [
    "data = [8, 2, 3, 5, 1, 1, 4]\n",
    "for each_value in data:\n",
    "    print(\"=\"*each_value, each_value)"
   ]
  },
  {
   "cell_type": "code",
   "execution_count": 153,
   "metadata": {
    "slideshow": {
     "slide_type": "slide"
    }
   },
   "outputs": [],
   "source": [
    "blocks=  \"▀▁▂▃▄▅▆▇█▉▊▋▌▍▎▏▐░▒▓▔▕▖▗▘▙▚▛▜▝▞▟\"\n",
    "# https://en.wikipedia.org/wiki/Geometric_Shapes\n",
    "symbols_set_1 = \"■□▢▣▤▥▦▧▨▩▪▫▬▭▮▯\"\n",
    "symbols_set_2 = \"▰▱▲△▴▵▶▷▸▹►▻▼▽▾▿\"\n",
    "symbols_set_3 = \"◀◁◂◃◄◅◆◇◈◉◊○◌◍◎●\"\n",
    "symbols_set_4 = \"◐◑◒◓◔◕◖◗◘◙◚◛◜◝◞◟\"\n",
    "symbols_set_5 = \"◠◡◢◣◤◥◦◧◨◩◪◫◬◭◮◯\"\n",
    "symbols_set_6 = \"◰◱◲◳◴◵◶◷◸◹◺◻◼◽◾◿\"\n",
    "# tables and box drawing\n",
    "# https://en.wikipedia.org/wiki/Box_Drawing_(Unicode_block)\n",
    "box_borders_1_of_many = \"─━│┃┄┅┆┇┈┉┊┋┌┍┎┏\"\n",
    "# arrows and symbols\n",
    "# https://en.wikipedia.org/wiki/Miscellaneous_Symbols_and_Arrows\n",
    "arrows_1_of_many = \"⬀⬁⬂⬃⬄⬅⬆⬇⬈⬉⬊⬋⬌⬍⬎⬏\"\n",
    "#https://en.wikipedia.org/wiki/Mathematical_operators_and_symbols_in_Unicode\n",
    "math_1_of_too_many = \"∀∁∂∃∄∅∆∇∈∉∊∋∌∍∎∏\"\n",
    "superscripts = \"⁰¹²³⁴⁵⁶⁷⁸⁹\" + \"ⁱ ⁺ ⁻ ⁼ ⁽ ⁾ ⁿ\"\n",
    "underscripts = \"₀₁₂₃₄₅₆₇₈₉ ₊ ₋ ₌ ₍ ₎\" + \"ₐₑₒₓₔₕ ₖ ₗ ₘ ₙ ₚ ₛ ₜ \"\n",
    "greek_letters= \"αβγ…\" # and all the others"
   ]
  },
  {
   "cell_type": "markdown",
   "metadata": {
    "slideshow": {
     "slide_type": "slide"
    }
   },
   "source": [
    "you can use the `'\\b'` (**b**ackspace) character to delete the previous one\n",
    "\n",
    "you can use the carriage return character `'\\r'` (carriage **r**eturn) to move back on the line and the print over the old content.\n",
    "\n",
    "the character `'\\r'` **does not delete** the previous characters, just move the position of the cursor to the start of the line!"
   ]
  },
  {
   "cell_type": "code",
   "execution_count": 2,
   "metadata": {
    "slideshow": {
     "slide_type": "-"
    }
   },
   "outputs": [
    {
     "name": "stdout",
     "output_type": "stream",
     "text": [
      "a\b\n"
     ]
    }
   ],
   "source": [
    "print(\"a\\b\")"
   ]
  },
  {
   "cell_type": "code",
   "execution_count": 3,
   "metadata": {
    "slideshow": {
     "slide_type": "-"
    }
   },
   "outputs": [
    {
     "name": "stdout",
     "output_type": "stream",
     "text": [
      "a\r\n"
     ]
    }
   ],
   "source": [
    "print(\"a\\r\")"
   ]
  },
  {
   "cell_type": "code",
   "execution_count": 4,
   "metadata": {
    "slideshow": {
     "slide_type": "-"
    }
   },
   "outputs": [
    {
     "name": "stdout",
     "output_type": "stream",
     "text": [
      "aa\r",
      "b\n"
     ]
    }
   ],
   "source": [
    "print(\"aa\\rb\")"
   ]
  },
  {
   "cell_type": "code",
   "execution_count": 140,
   "metadata": {
    "slideshow": {
     "slide_type": "-"
    }
   },
   "outputs": [
    {
     "name": "stdout",
     "output_type": "stream",
     "text": [
      " "
     ]
    }
   ],
   "source": [
    "from itertools import cycle\n",
    "from time import sleep\n",
    "\n",
    "for idx, frame in enumerate(cycle(r'-\\|/-\\|/')):\n",
    "    print('\\r', frame, sep='', end='', flush=True)\n",
    "    sleep(0.2)\n",
    "    if idx>30:\n",
    "        print('\\r', ' ', sep='', end='', flush=True)\n",
    "        break\n"
   ]
  },
  {
   "cell_type": "markdown",
   "metadata": {
    "slideshow": {
     "slide_type": "slide"
    }
   },
   "source": [
    "### Notifications"
   ]
  },
  {
   "cell_type": "code",
   "execution_count": 141,
   "metadata": {
    "slideshow": {
     "slide_type": "-"
    }
   },
   "outputs": [
    {
     "name": "stdout",
     "output_type": "stream",
     "text": [
      "\u0007\n"
     ]
    }
   ],
   "source": [
    "# play a chime sound, useful to signal the end of some operation\n",
    "print('\\a')"
   ]
  },
  {
   "cell_type": "markdown",
   "metadata": {},
   "source": [
    "# Internationalization (i18n)\n",
    "\n",
    "is based on the locale module, allow to print numbers and currencies according to the user preferences (if set)\n",
    "\n",
    "you would also need to take care of timezones, and translations.\n",
    "\n",
    "They are all a massive pain, be aware!\n",
    "\n",
    "https://lokalise.com/blog/beginners-guide-to-python-i18n/\n",
    "\n",
    "https://phrase.com/blog/posts/translate-python-gnu-gettext/"
   ]
  },
  {
   "cell_type": "code",
   "execution_count": 32,
   "metadata": {
    "slideshow": {
     "slide_type": "slide"
    }
   },
   "outputs": [
    {
     "name": "stdout",
     "output_type": "stream",
     "text": [
      "\n",
      "Locale from environment: ('English_United States', '1252')\n"
     ]
    }
   ],
   "source": [
    "import locale\n",
    "import os\n",
    "# Default settings based on the user's environment.\n",
    "locale.setlocale(locale.LC_ALL, '')\n",
    "\n",
    "# What is the locale?\n",
    "print('\\nLocale from environment:', locale.getlocale())"
   ]
  },
  {
   "cell_type": "code",
   "execution_count": 28,
   "metadata": {
    "slideshow": {
     "slide_type": "slide"
    }
   },
   "outputs": [],
   "source": [
    "sample_locales = [\n",
    "    ('UK', 'en_GB'),\n",
    "    ('France', 'fr_FR'),\n",
    "    ('China', 'zh-cn'),\n",
    "    ('Italy', 'it_IT'),\n",
    "    ('Poland', 'pl_PL'),\n",
    "]"
   ]
  },
  {
   "cell_type": "code",
   "execution_count": 30,
   "metadata": {
    "slideshow": {
     "slide_type": "slide"
    }
   },
   "outputs": [
    {
     "name": "stdout",
     "output_type": "stream",
     "text": [
      "           UK:      £1234.57      £-1234.57\n",
      "       France:     1234,57 €     -1234,57 €\n",
      "        China:      ￥1234.57      ￥1234.57-\n",
      "        Italy:     1234,57 €     -1234,57 €\n",
      "       Poland:    1234,57 zł    -1234,57 zł\n"
     ]
    }
   ],
   "source": [
    "for name, loc in sample_locales:\n",
    "    locale.setlocale(locale.LC_ALL, loc)\n",
    "    print('{:>13}: {:>13}  {:>13}'.format(\n",
    "        name,\n",
    "        locale.currency(1234.5678),\n",
    "        locale.currency(-1234.5689),\n",
    "    ))"
   ]
  },
  {
   "cell_type": "code",
   "execution_count": 31,
   "metadata": {},
   "outputs": [
    {
     "name": "stdout",
     "output_type": "stream",
     "text": [
      "    Locale    Integer           Float\n",
      "        UK    123,456      123,456.78\n",
      "    France    123 456      123 456,78\n",
      "     China    123,456      123,456.78\n",
      "     Italy    123.456      123.456,78\n",
      "    Poland    123 456      123 456,78\n"
     ]
    }
   ],
   "source": [
    "print('{:>10} {:>10} {:>15}'.format('Locale', 'Integer', 'Float'))\n",
    "for name, loc in sample_locales:\n",
    "    locale.setlocale(locale.LC_ALL, loc)\n",
    "\n",
    "    print('{:>10}'.format(name), end=' ')\n",
    "    print(locale.format_string('%10d', 123456, grouping=True), end=' ')\n",
    "    print(locale.format_string('%15.2f', 123456.78, grouping=True))"
   ]
  },
  {
   "cell_type": "code",
   "execution_count": null,
   "metadata": {
    "slideshow": {
     "slide_type": "skip"
    }
   },
   "outputs": [],
   "source": [
    "import argparse\n",
    "parser = argparse.ArgumentParser()\n",
    "parser.add_argument(\"--debug\")\n",
    "args = parser.parse_args()\n",
    "cli_args = {key: value for key, value in vars(args).items() if value}\n"
   ]
  },
  {
   "cell_type": "code",
   "execution_count": null,
   "metadata": {
    "slideshow": {
     "slide_type": "skip"
    }
   },
   "outputs": [],
   "source": [
    "def execute(*args):\n",
    "    return Popen(args, stdout=PIPE, stdin=PIPE, stderr=PIPE, text=True)\n",
    "\n",
    "p = execute(\"echo\", \"ciao\")\n",
    "p.communicate()\n",
    "p = execute(\"sleep\", \"10\")\n",
    "p.poll()\n",
    "# None if running\n",
    "# retcode if ended\n",
    "\n",
    "run([\"echo ciao; echo bello\"], stdout=PIPE, stdin=PIPE, stderr=PIPE, text=True, shell=True)\n",
    "run([\"ssh bio8 pwd\"], stdout=PIPE, stdin=PIPE, stderr=PIPE, text=True, shell=True)\n",
    "\n",
    "\n",
    "import fileinput\n",
    "for line in fileinput.input():\n",
    "    process(line)\n",
    "\n",
    "# This iterates over the lines of all files listed in sys.argv[1:], defaulting to sys.stdin if the list is empty.\n",
    "# If a filename is '-', it is also replaced by sys.stdin and the optional arguments mode and openhook are ignored.\n",
    "# To specify an alternative list of filenames, pass it as the first argument to input().\n",
    "# A single file name is also allowed.\n"
   ]
  }
 ],
 "metadata": {
  "celltoolbar": "Slideshow",
  "kernelspec": {
   "display_name": "Python 3",
   "language": "python",
   "name": "python3"
  },
  "language_info": {
   "codemirror_mode": {
    "name": "ipython",
    "version": 3
   },
   "file_extension": ".py",
   "mimetype": "text/x-python",
   "name": "python",
   "nbconvert_exporter": "python",
   "pygments_lexer": "ipython3",
   "version": "3.8.6"
  }
 },
 "nbformat": 4,
 "nbformat_minor": 2
}
