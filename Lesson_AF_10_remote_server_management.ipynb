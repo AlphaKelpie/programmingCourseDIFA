{
 "cells": [
  {
   "cell_type": "markdown",
   "id": "37b66a94",
   "metadata": {
    "slideshow": {
     "slide_type": "skip"
    }
   },
   "source": [
    "* connettersi con ssh ad un server\n",
    "* port-forward ed jupyter notebooks\n",
    "* configurazione semplificata di ssh\n",
    "* eseguire comandi one-line con ssh\n",
    "* sshfs - filesystem remoto"
   ]
  },
  {
   "cell_type": "markdown",
   "id": "1be9c059",
   "metadata": {
    "slideshow": {
     "slide_type": "slide"
    }
   },
   "source": [
    "# Remote Server Management\n",
    "\n",
    "## connecting and getting the most out of a remote server"
   ]
  },
  {
   "cell_type": "markdown",
   "id": "4e9a919b",
   "metadata": {
    "slideshow": {
     "slide_type": "slide"
    }
   },
   "source": [
    "## TMUX - terminal multiplexing\n",
    "\n",
    "https://leanpub.com/the-tao-of-tmux/read\n",
    "\n",
    "TMUX is a \"window manager\" for the terminal.\n",
    "\n",
    "It is extremely useful to manage working sessions, especially on remote servers"
   ]
  },
  {
   "cell_type": "markdown",
   "id": "94401b03",
   "metadata": {
    "slideshow": {
     "slide_type": "slide"
    }
   },
   "source": [
    "### advantages\n",
    "\n",
    "* allow to have multiple terminal opens, with rich split screen\n",
    "* sessions persists between connections (can hold long running programs like a jupyter kernel)\n",
    "* allow for multiuser collaboration"
   ]
  },
  {
   "cell_type": "markdown",
   "id": "fc7a4061",
   "metadata": {
    "slideshow": {
     "slide_type": "slide"
    }
   },
   "source": [
    "### the design - 1 \n",
    "\n",
    "whenever you launch `tmux` it creates a session to which you can connect (*attach*) and disconnect (*detach*).\n",
    "\n",
    "The manager will keep running until you explicitely kill it.\n",
    "\n",
    "you can have multiple tmux sessions running at the same time.\n",
    "\n",
    "I usually start a new tmux session for every project that I start.\n",
    "\n",
    "There are also several ways to configure tmux to have pre-configured sessions (**tmuxinator**, **tmux-resurrect**, etc...)"
   ]
  },
  {
   "cell_type": "markdown",
   "id": "be412c04",
   "metadata": {
    "slideshow": {
     "slide_type": "slide"
    }
   },
   "source": [
    "All the controls given to tmux will be provided using a **leader key**.\n",
    "\n",
    "By default is set to `Ctrl-b`, but you can change it by editing the `~/.tmux.conf` file with:\n",
    "\n",
    "```\n",
    "set -g prefix C-Space\n",
    "```\n",
    "\n",
    "I prefere using `Ctrl-space` or `Ctrl-a` (when `CAPSLOCK` is remapped to `Ctrl`)\n",
    "\n",
    "after using the **leader** one can provide another keybinding for a command or type `:` and spell it out\n",
    "\n",
    "at any point you can use `leader-?` to see all keybinding or `leader-:list-commands` to see all the available commands (goes back to the session pressing `q` or `Return`)"
   ]
  },
  {
   "cell_type": "markdown",
   "id": "ecde5ae8",
   "metadata": {
    "slideshow": {
     "slide_type": "slide"
    }
   },
   "source": [
    "![](./tmux_layout.png)"
   ]
  },
  {
   "cell_type": "markdown",
   "id": "b1b8c5c3",
   "metadata": {
    "slideshow": {
     "slide_type": "slide"
    }
   },
   "source": [
    "### session management - the basics\n",
    "\n",
    "sessions contains your project, such as system administration or development of a program\n",
    "\n",
    "* `tmux new -s <sessionname>` to create and attach to a new session with the provided name\n",
    "* (from inside) `leader-d` or `leader-:detach` to detach from the session\n",
    "* `tmux ls` to list all the active sessions\n",
    "* `tmux attach -t <sessionname>` to reconnect to a running session\n",
    "\n",
    "all the shells that you will create during this sessions will start from the root directory from which you created it"
   ]
  },
  {
   "cell_type": "markdown",
   "id": "05024a55",
   "metadata": {
    "slideshow": {
     "slide_type": "slide"
    }
   },
   "source": [
    "![](./tmux_session.png)"
   ]
  },
  {
   "cell_type": "markdown",
   "id": "27eba3bc",
   "metadata": {
    "slideshow": {
     "slide_type": "slide"
    }
   },
   "source": [
    "### session management - killing a session\n",
    "\n",
    "* (from inside) close all the terminals one by one (`exit` ot `Ctrl-d`)\n",
    "* (from inside) `leader-:kill-session`\n",
    "* `tmux kill-session -t <sessionname>`"
   ]
  },
  {
   "cell_type": "markdown",
   "id": "d3a93b34",
   "metadata": {
    "slideshow": {
     "slide_type": "slide"
    }
   },
   "source": [
    "### session management - quickly switch session from inside tmux\n",
    "\n",
    "* `leader-w` or `leader-:choose-tree` to select a specific pane in a session, and goes to the selected one with `Return`\n",
    "* `leader-s` or `leader-:choose-session` to simply show all sessions, and goes to the selected one with `Return`\n",
    "\n",
    "### session management - renaming a session\n",
    "\n",
    "* `leader-$` will prompt to change the name\n",
    "* `leader-:rename-session <newname>` renames the current session\n",
    "* `tmux rename-session -t <targetsession> <newname>`\n"
   ]
  },
  {
   "cell_type": "markdown",
   "id": "2eaf789e",
   "metadata": {
    "slideshow": {
     "slide_type": "slide"
    }
   },
   "source": [
    "### windows management - the basics\n",
    "\n",
    "windows collect a series of related programs, for example a server and a view of its logs\n",
    "\n",
    "* `leader-c` or `leader-:new-window` creates a new window and goes to it\n",
    "* `leader-:list-windows` gets a list of all the current windows, and goes to the selected one with `Return`\n",
    "* `leader-,` (comma) or `leader-:rename-window <newname>` renames the current window\n",
    "* `leader-&` or `leader-:kill-window` kill the current windows and all its panes (will ask confirmation)\n",
    "* `leader-<N>` (with N as 0, 1, 2, ...) goes to the windows number N\n",
    "* `leader-p` and `leader-n` goes to the previous and next window in the list"
   ]
  },
  {
   "cell_type": "markdown",
   "id": "b6b00537",
   "metadata": {
    "slideshow": {
     "slide_type": "slide"
    }
   },
   "source": [
    "### panels management - the basics\n",
    "\n",
    "panels are where your program lives.\n",
    "\n",
    "They can be used to split a windows in many ways, and there are a lot of controls to arrange them as you like.\n",
    "\n",
    "* `leader-%` vertical split\n",
    "* `leader-\"` (double quotes) \thorizontal split\n",
    "* `leader-x` kill pane\n",
    "* `leader-o` go to next pane (like `Alt-Tab` for normal windows)\n",
    "* `leader-z` toggle full-screen mode for current pane"
   ]
  },
  {
   "cell_type": "markdown",
   "id": "9435d941",
   "metadata": {
    "slideshow": {
     "slide_type": "slide"
    }
   },
   "source": [
    "### mouse input\n",
    "\n",
    "Mouse input is turned off by default, as it can interfere with the terminal management.\n",
    "\n",
    "to turn it on or off you can use `:set mouse on` and `set mouse off`.\n",
    "\n",
    "while the mouse is active the copy and paste don't work as usual, but have to press `Shift` to to a selection.\n",
    "\n",
    "if the mouse is turned on you will be able to scroll the history, but it will send you in **copy mode** by default (see later)"
   ]
  },
  {
   "cell_type": "markdown",
   "id": "c43042be",
   "metadata": {
    "slideshow": {
     "slide_type": "slide"
    }
   },
   "source": [
    "### panels management side note - layout management - 1\n",
    "\n",
    "rearranging the panels can be useful if you are working with a lot of panels per windows (can be useful if you have a big screen) and the sessions persists for long time (for example on a server)\n",
    "\n",
    "* `leader-[hjkl]` go to next pane in vim-style ( `h` left, `j` down, `k` up, `l` right)\n",
    "* `leader-q` show pane-numbers\n",
    "* `leader-}` swap with the next pane\n",
    "* `leader-{` swap with the previous\n",
    "* `leabder-:swap-pane -s 3 -t 1` \tswap pane `1` with pane `3`\n",
    "* `leader-[←→↑↓]` resize the pane\n",
    "* `leader-!` (exclamation mark) break the pane out of the window into a new one"
   ]
  },
  {
   "cell_type": "markdown",
   "id": "939d6631",
   "metadata": {
    "slideshow": {
     "slide_type": "slide"
    }
   },
   "source": [
    "### panels management side note - layout management - 2\n",
    "* `leader-Ctrl-o`        rotate window ‘up’ (i.e. move all panes)\n",
    "* `leader-Alt-o`        rotate window ‘down’\n",
    "* `leader-Alt-1`        switch to even-horizontal layout\n",
    "* `leader-Alt-2`        switch to even-vertical layout\n",
    "* `leader-Alt-3`        switch to main-horizontal layout\n",
    "* `leader-Alt-4`        switch to main-vertical layout\n",
    "* `leader-Alt-5`        switch to tiled layout\n",
    "* `leader-space`      switch to the next layout"
   ]
  },
  {
   "cell_type": "markdown",
   "id": "719892c5",
   "metadata": {
    "slideshow": {
     "slide_type": "slide"
    }
   },
   "source": [
    "### copy mode\n",
    "\n",
    "tmux is designed to allow you to work completely mouseless, so it includes a powerful copy mode to allow you to copy and paste text from the output of the command line programs.\n",
    "\n",
    "the workflow of copy mode is the following:\n",
    "\n",
    "* `leader-[` to start the copy\n",
    "* move around and copy the text you are interested about. while you are moving around you don't need the `leader` key\n",
    "* `leader-]` to paste the text where you need it\n",
    "\n",
    "the only limitation is that the copied text is only available inside tmux\n",
    "\n",
    "there are ways to move that text to the host system clipboard, but it's fidgety.\n",
    "On a remote servers it's even worse.\n",
    "\n",
    "my suggestion? just use a mouse to extract that text"
   ]
  },
  {
   "cell_type": "markdown",
   "id": "fcc676fa",
   "metadata": {
    "slideshow": {
     "slide_type": "slide"
    }
   },
   "source": [
    "### copying the text\n",
    "\n",
    "in copy mode you can move the cursor around in various ways.\n",
    "The simplest one is using the arrow keys.\n",
    "\n",
    "Once you press `Space` it will start selecting the text.\n",
    "Now when you move the cursors it will select the text.\n",
    "\n",
    "If you like the result, presso `Enter` to copy, or `Esc` to stop the selection and go back to the cursor movement.\n",
    "\n",
    "\n",
    "to exit without copying you can also press `q`"
   ]
  },
  {
   "cell_type": "markdown",
   "id": "88793040",
   "metadata": {
    "slideshow": {
     "slide_type": "slide"
    }
   },
   "source": [
    "### moving the cursor\n",
    "\n",
    "tmux uses a mix of vi and readline keybinding.\n",
    "\n",
    "the best way to see them all is to use `:list-keys`, but some very simple ones, aside of the arrow keys:\n",
    "\n",
    "* `e` goes to the end of the current word\n",
    "* `b` goes back to the beginning of the current word\n",
    "* `v` select the whole line\n",
    "* `3e` goes to the end of third word from here\n",
    "* `3b` goes back to the beginning of third word from here\n",
    "* `5j` to 5 lines down\n",
    "* `5k` to 5 lines up\n",
    "* `0` to the start of the line\n",
    "* `$` to the end of the line"
   ]
  },
  {
   "cell_type": "markdown",
   "id": "985b7348",
   "metadata": {
    "slideshow": {
     "slide_type": "slide"
    }
   },
   "source": [
    "### pair programming\n",
    "\n",
    "tmux allow you to have two users access the same sessions, windows and so on.\n",
    "\n",
    "It can be done in many ways, depending on what you need.\n",
    "\n",
    "I suggest reading this explanation for more details if you are interested\n",
    "\n",
    "https://www.hamvocke.com/blog/remote-pair-programming-with-tmux/"
   ]
  },
  {
   "cell_type": "markdown",
   "id": "33cec23e",
   "metadata": {},
   "source": []
  },
  {
   "cell_type": "markdown",
   "id": "c4a8c9e2",
   "metadata": {},
   "source": []
  },
  {
   "cell_type": "markdown",
   "id": "7115f149",
   "metadata": {},
   "source": []
  },
  {
   "cell_type": "markdown",
   "id": "e1780f58",
   "metadata": {},
   "source": []
  },
  {
   "cell_type": "markdown",
   "id": "7f320b1b",
   "metadata": {},
   "source": [
    "`.ssh/config`\n",
    "\n",
    "```\n",
    "Host workstation\n",
    "     HostName <hostname>\n",
    "     User <username>\n",
    "     Port <port>\n",
    "     LocalForward 8888 localhost:8888\n",
    "     LocalForward 6006 localhost:6006\n",
    "```\n"
   ]
  }
 ],
 "metadata": {
  "celltoolbar": "Slideshow",
  "kernelspec": {
   "display_name": "Python 3",
   "language": "python",
   "name": "python3"
  },
  "language_info": {
   "codemirror_mode": {
    "name": "ipython",
    "version": 3
   },
   "file_extension": ".py",
   "mimetype": "text/x-python",
   "name": "python",
   "nbconvert_exporter": "python",
   "pygments_lexer": "ipython3",
   "version": "3.8.6"
  }
 },
 "nbformat": 4,
 "nbformat_minor": 5
}
