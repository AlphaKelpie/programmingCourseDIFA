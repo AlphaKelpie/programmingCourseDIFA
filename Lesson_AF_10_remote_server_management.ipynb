{
 "cells": [
  {
   "cell_type": "markdown",
   "id": "1be9c059",
   "metadata": {
    "slideshow": {
     "slide_type": "slide"
    }
   },
   "source": [
    "# Remote Server Management\n",
    "\n",
    "## connecting and getting the most out of a remote server"
   ]
  },
  {
   "cell_type": "markdown",
   "id": "4e9a919b",
   "metadata": {
    "slideshow": {
     "slide_type": "slide"
    }
   },
   "source": [
    "## TMUX - terminal multiplexing\n",
    "\n",
    "https://leanpub.com/the-tao-of-tmux/read\n",
    "\n",
    "TMUX is a \"window manager\" for the terminal.\n",
    "\n",
    "It is extremely useful to manage working sessions, especially on remote servers"
   ]
  },
  {
   "cell_type": "markdown",
   "id": "ec5933db",
   "metadata": {
    "slideshow": {
     "slide_type": "slide"
    }
   },
   "source": [
    "### advantages\n",
    "\n",
    "* allow to have multiple terminal opens, with rich split screen\n",
    "* sessions persists between connections (can hold long running programs like a jupyter kernel)\n",
    "* allow for multiuser collaboration"
   ]
  },
  {
   "cell_type": "markdown",
   "id": "9cf3f7d0",
   "metadata": {
    "slideshow": {
     "slide_type": "slide"
    }
   },
   "source": [
    "### the design - 1 \n",
    "\n",
    "whenever you launch `tmux` it creates a session to which you can connect (*attach*) and disconnect (*detach*).\n",
    "\n",
    "The manager will keep running until you explicitely kill it.\n",
    "\n",
    "you can have multiple tmux sessions running at the same time.\n",
    "\n",
    "I usually start a new tmux session for every project that I start.\n",
    "\n",
    "There are also several ways to configure tmux to have pre-configured sessions (**tmuxinator**, **tmux-resurrect**, etc...)"
   ]
  },
  {
   "cell_type": "markdown",
   "id": "39df7fec",
   "metadata": {
    "slideshow": {
     "slide_type": "slide"
    }
   },
   "source": [
    "All the controls given to tmux will be provided using a **leader key**.\n",
    "\n",
    "By default is set to `Ctrl-b`, but you can change it by editing the `~/.tmux.conf` file with:\n",
    "\n",
    "```\n",
    "set -g prefix C-Space\n",
    "```\n",
    "\n",
    "I prefere using `Ctrl-space` or `Ctrl-a` (when `CAPSLOCK` is remapped to `Ctrl`)\n",
    "\n",
    "after using the **leader** one can provide another keybinding for a command or type `:` and spell it out\n",
    "\n",
    "at any point you can use `leader-?` to see all keybinding or `leader-:list-commands` to see all the available commands (goes back to the session pressing `q` or `Return`)"
   ]
  },
  {
   "cell_type": "markdown",
   "id": "30e77e91",
   "metadata": {
    "slideshow": {
     "slide_type": "slide"
    }
   },
   "source": [
    "![](./tmux_layout.png)"
   ]
  },
  {
   "cell_type": "markdown",
   "id": "70c2f2d0",
   "metadata": {
    "slideshow": {
     "slide_type": "slide"
    }
   },
   "source": [
    "### session management - the basics\n",
    "\n",
    "sessions contains your project, such as system administration or development of a program\n",
    "\n",
    "* `tmux new -s <sessionname>` to create and attach to a new session with the provided name\n",
    "* (from inside) `leader-d` or `leader-:detach` to detach from the session\n",
    "* `tmux ls` to list all the active sessions\n",
    "* `tmux attach -t <sessionname>` to reconnect to a running session\n",
    "\n",
    "all the shells that you will create during this sessions will start from the root directory from which you created it"
   ]
  },
  {
   "cell_type": "markdown",
   "id": "ef360931",
   "metadata": {
    "slideshow": {
     "slide_type": "slide"
    }
   },
   "source": [
    "![](./tmux_session.png)"
   ]
  },
  {
   "cell_type": "markdown",
   "id": "fbc1ab1e",
   "metadata": {
    "slideshow": {
     "slide_type": "slide"
    }
   },
   "source": [
    "### session management - killing a session\n",
    "\n",
    "* (from inside) close all the terminals one by one (`exit` ot `Ctrl-d`)\n",
    "* (from inside) `leader-:kill-session`\n",
    "* `tmux kill-session -t <sessionname>`"
   ]
  },
  {
   "cell_type": "markdown",
   "id": "81e54f31",
   "metadata": {
    "slideshow": {
     "slide_type": "slide"
    }
   },
   "source": [
    "### session management - quickly switch session from inside tmux\n",
    "\n",
    "* `leader-w` or `leader-:choose-tree` to select a specific pane in a session, and goes to the selected one with `Return`\n",
    "* `leader-s` or `leader-:choose-session` to simply show all sessions, and goes to the selected one with `Return`\n",
    "\n",
    "### session management - renaming a session\n",
    "\n",
    "* `leader-$` will prompt to change the name\n",
    "* `leader-:rename-session <newname>` renames the current session\n",
    "* `tmux rename-session -t <targetsession> <newname>`\n"
   ]
  },
  {
   "cell_type": "markdown",
   "id": "02172ca3",
   "metadata": {
    "slideshow": {
     "slide_type": "slide"
    }
   },
   "source": [
    "### windows management - the basics\n",
    "\n",
    "windows collect a series of related programs, for example a server and a view of its logs\n",
    "\n",
    "* `leader-c` or `leader-:new-window` creates a new window and goes to it\n",
    "* `leader-:list-windows` gets a list of all the current windows, and goes to the selected one with `Return`\n",
    "* `leader-,` (comma) or `leader-:rename-window <newname>` renames the current window\n",
    "* `leader-&` or `leader-:kill-window` kill the current windows and all its panes (will ask confirmation)\n",
    "* `leader-<N>` (with N as 0, 1, 2, ...) goes to the windows number N\n",
    "* `leader-p` and `leader-n` goes to the previous and next window in the list"
   ]
  },
  {
   "cell_type": "markdown",
   "id": "4ac5a04f",
   "metadata": {
    "slideshow": {
     "slide_type": "slide"
    }
   },
   "source": [
    "### panels management - the basics\n",
    "\n",
    "panels are where your program lives.\n",
    "\n",
    "They can be used to split a windows in many ways, and there are a lot of controls to arrange them as you like.\n",
    "\n",
    "* `leader-%` vertical split\n",
    "* `leader-\"` (double quotes) \thorizontal split\n",
    "* `leader-x` kill pane\n",
    "* `leader-o` go to next pane (like `Alt-Tab` for normal windows)\n",
    "* `leader-z` toggle full-screen mode for current pane"
   ]
  },
  {
   "cell_type": "markdown",
   "id": "3a798f92",
   "metadata": {
    "slideshow": {
     "slide_type": "slide"
    }
   },
   "source": [
    "### mouse input\n",
    "\n",
    "Mouse input is turned off by default, as it can interfere with the terminal management.\n",
    "\n",
    "to turn it on or off you can use `:set mouse on` and `:set mouse off`.\n",
    "\n",
    "while the mouse is active the copy and paste don't work as usual:\n",
    "\n",
    "1. normal selection from the mouse will drop to **copy mode**, and will copy the text  inside tmux\n",
    "2. if you press `Shift` you can pass the mouse control to the terminal emulator as normal\n",
    "\n",
    "if the mouse is turned on you will be able to scroll the history, but it will send you in **copy mode** by default (see later)"
   ]
  },
  {
   "cell_type": "markdown",
   "id": "ba2cd61b",
   "metadata": {
    "slideshow": {
     "slide_type": "slide"
    }
   },
   "source": [
    "### panels management side note - layout management - 1\n",
    "\n",
    "rearranging the panels can be useful if you are working with a lot of panels per windows (can be useful if you have a big screen) and the sessions persists for long time (for example on a server)\n",
    "\n",
    "* `leader-[hjkl]` go to next pane in vim-style ( `h` left, `j` down, `k` up, `l` right)\n",
    "* `leader-q` show pane-numbers\n",
    "* `leader-}` swap with the next pane\n",
    "* `leader-{` swap with the previous\n",
    "* `leabder-:swap-pane -s 3 -t 1` \tswap pane `1` with pane `3`\n",
    "* `leader-[←→↑↓]` resize the pane\n",
    "* `leader-!` (exclamation mark) break the pane out of the window into a new one"
   ]
  },
  {
   "cell_type": "markdown",
   "id": "d08592ca",
   "metadata": {
    "slideshow": {
     "slide_type": "slide"
    }
   },
   "source": [
    "### panels management side note - layout management - 2\n",
    "* `leader-Ctrl-o`        rotate window ‘up’ (i.e. move all panes)\n",
    "* `leader-Alt-o`        rotate window ‘down’\n",
    "* `leader-Alt-1`        switch to even-horizontal layout\n",
    "* `leader-Alt-2`        switch to even-vertical layout\n",
    "* `leader-Alt-3`        switch to main-horizontal layout\n",
    "* `leader-Alt-4`        switch to main-vertical layout\n",
    "* `leader-Alt-5`        switch to tiled layout\n",
    "* `leader-space`      switch to the next layout"
   ]
  },
  {
   "cell_type": "markdown",
   "id": "719892c5",
   "metadata": {
    "slideshow": {
     "slide_type": "slide"
    }
   },
   "source": [
    "### copy mode\n",
    "\n",
    "tmux is designed to allow you to work completely mouseless, so it includes a powerful copy mode to allow you to copy and paste text from the output of the command line programs.\n",
    "\n",
    "the workflow of copy mode is the following:\n",
    "\n",
    "* `leader-[` to start the copy\n",
    "* move around and copy the text you are interested about. while you are moving around you don't need the `leader` key\n",
    "* `leader-]` to paste the text where you need it\n",
    "\n",
    "the only limitation is that the copied text is only available inside tmux\n",
    "\n",
    "there are ways to move that text to the host system clipboard, but it's fidgety.\n",
    "On a remote servers it's even worse.\n",
    "\n",
    "my suggestion? just use a mouse to extract that text"
   ]
  },
  {
   "cell_type": "markdown",
   "id": "140507b0",
   "metadata": {
    "slideshow": {
     "slide_type": "slide"
    }
   },
   "source": [
    "### copying the text\n",
    "\n",
    "in copy mode you can move the cursor around in various ways.\n",
    "The simplest one is using the arrow keys.\n",
    "\n",
    "Once you press `Space` it will start selecting the text.\n",
    "Now when you move the cursors it will select the text.\n",
    "\n",
    "If you like the result, presso `Enter` to copy, or `Esc` to stop the selection and go back to the cursor movement.\n",
    "\n",
    "\n",
    "to exit without copying you can also press `q`"
   ]
  },
  {
   "cell_type": "markdown",
   "id": "7f1e0907",
   "metadata": {
    "slideshow": {
     "slide_type": "slide"
    }
   },
   "source": [
    "### moving the cursor\n",
    "\n",
    "tmux uses a mix of vi and readline keybinding.\n",
    "\n",
    "the best way to see them all is to use `:list-keys`, but some very simple ones, aside of the arrow keys:\n",
    "\n",
    "* `e` goes to the end of the current word\n",
    "* `b` goes back to the beginning of the current word\n",
    "* `v` select the whole line\n",
    "* `3e` goes to the end of third word from here\n",
    "* `3b` goes back to the beginning of third word from here\n",
    "* `5j` to 5 lines down\n",
    "* `5k` to 5 lines up\n",
    "* `0` to the start of the line\n",
    "* `$` to the end of the line"
   ]
  },
  {
   "cell_type": "markdown",
   "id": "985b7348",
   "metadata": {
    "slideshow": {
     "slide_type": "slide"
    }
   },
   "source": [
    "### pair programming\n",
    "\n",
    "tmux allow you to have two users access the same sessions, windows and so on.\n",
    "\n",
    "It can be done in many ways, depending on what you need.\n",
    "\n",
    "I suggest reading this explanation for more details if you are interested\n",
    "\n",
    "https://www.hamvocke.com/blog/remote-pair-programming-with-tmux/"
   ]
  },
  {
   "cell_type": "markdown",
   "id": "33cec23e",
   "metadata": {
    "slideshow": {
     "slide_type": "slide"
    }
   },
   "source": [
    "# SSH - connecting to a remote server\n",
    "\n",
    "ssh is the default way to connect to a remote server.\n",
    "\n",
    "for today's lesson we will use the remote server provided by **overthewire.org**.\n",
    "\n",
    "please be good citizens and don't mess around too much in their machine!"
   ]
  },
  {
   "cell_type": "markdown",
   "id": "c4a8c9e2",
   "metadata": {
    "slideshow": {
     "slide_type": "slide"
    }
   },
   "source": [
    "once you connect with a machine using **ssh** it will open a new shell.\n",
    "\n",
    "this shell will be killed once the connection is closed... and with it all the programs that might be running on it!\n",
    "\n",
    "if you want to have persistent program, you need to use **tmux** as we discussed before!\n",
    "\n",
    "a very common use is to launch a jupyter notebook on a remote server, and use it from your local computer"
   ]
  },
  {
   "cell_type": "markdown",
   "id": "42ed4c4c",
   "metadata": {
    "slideshow": {
     "slide_type": "slide"
    }
   },
   "source": [
    "## connecting to a remote server - basic\n",
    "\n",
    "to connect to a server and open a new shell there, you can write:\n",
    "\n",
    "`ssh <remote username>@<server name or ip> -p <connection port>`\n",
    "\n",
    "for example, the **overthewire.org** server allows a connection with the username `bandit0` (password `bandit0`)\n",
    "\n",
    "`ssh bandit0@bandit.labs.overthewire.org -p 2220`"
   ]
  },
  {
   "cell_type": "markdown",
   "id": "7115f149",
   "metadata": {
    "slideshow": {
     "slide_type": "slide"
    }
   },
   "source": [
    "## configuration\n",
    "\n",
    "ssh is a powerful program and can be configured in many ways;\n",
    "This can lead to hard to write command lines.\n",
    "\n",
    "To make your life easier you can use the file `~/.ssh/config`\n",
    "\n",
    "in there you can put server specific configuration to simplify your life\n",
    "\n",
    "```\n",
    "Host myserver\n",
    "    Hostname 127.0.0.1\n",
    "    User enrico.giampieri\n",
    "    LocalForward    8883 localhost:8883\n",
    "    ServerAliveInterval 240\n",
    "```\n",
    "\n",
    "this allow me to simply use `ssh myserver`"
   ]
  },
  {
   "cell_type": "markdown",
   "id": "4dbb8573",
   "metadata": {
    "slideshow": {
     "slide_type": "slide"
    }
   },
   "source": [
    "## remote command execution\n",
    "\n",
    "one powerful function of ssh (one of the many) is the ability to send directly commands to the server without having to login to the shell.\n",
    "\n",
    "this can be done with:\n",
    "\n",
    "`ssh <user>@<server> \"arbitrary shell commands\"`\n",
    "\n",
    "for example, to read the content of all the txt files in the home of a remote server (for which we can use the short version of the ssh command) we could use:\n",
    "\n",
    "`ssh myserver \"ls *.txt | xargs cat\"`"
   ]
  },
  {
   "cell_type": "markdown",
   "id": "94c64cc6",
   "metadata": {
    "slideshow": {
     "slide_type": "slide"
    }
   },
   "source": [
    "### piping locally\n",
    "\n",
    "the pipe (`|`) binds more strongly than the command, so if you want to pipe **on the server** you have to put the command in the double quotes.\n",
    "\n",
    "if you want to pipe the result to a local program, you can just pipe it (or redicrect it) as normal.\n",
    "\n",
    "for example to save the output of the previous command to a local `temp` file, we could use:\n",
    "\n",
    "`ssh myserver \"ls *.txt | xargs cat\" > temp`"
   ]
  },
  {
   "cell_type": "markdown",
   "id": "35af691e",
   "metadata": {
    "slideshow": {
     "slide_type": "slide"
    }
   },
   "source": [
    "### remote command persistency\n",
    "\n",
    "note that the commands will create a new shell, execute and destroy the shell, so you can't for example change directory with one call and then run something there with the next call.\n",
    "\n",
    "You can, on the other end, change directory and do somthing in the same call.\n",
    "\n",
    "in general it is better to just save a script remotely if the command you want to perform is non trivial.\n",
    "\n",
    "1. save the script on the server\n",
    "2. put it in the home directory\n",
    "3. make it executable with `chmod +x myscript`\n",
    "4. execute with `ssh myserver \"./myscript\"`"
   ]
  },
  {
   "cell_type": "markdown",
   "id": "428ce186",
   "metadata": {
    "slideshow": {
     "slide_type": "slide"
    }
   },
   "source": [
    "### streaming local scripts\n",
    "\n",
    "if you have a simple scripts with some commands, you can also directly send it to the server without actually copying it.\n",
    "\n",
    "for example, if you have a python script `my_script.py` you can run it as:\n",
    "\n",
    "`ssh <user>@<server> python < ./my_script.py`"
   ]
  },
  {
   "cell_type": "markdown",
   "id": "0a19a056",
   "metadata": {
    "slideshow": {
     "slide_type": "slide"
    }
   },
   "source": [
    "## port forwarding\n",
    "\n",
    "port forwarding is an incredible ability of ssh, that allows to run remote server as if they were local to your pc.\n",
    "\n",
    "the typical use case for us would be to have something like a jupyter kernel running in the server and interacting with it from your local browser.\n",
    "\n",
    "the command line can be quite a mouthful, so I would suggest to configure it in your `~/.ssh/config`"
   ]
  },
  {
   "cell_type": "markdown",
   "id": "bd54f694",
   "metadata": {
    "slideshow": {
     "slide_type": "slide"
    }
   },
   "source": [
    "### local to remote localhost\n",
    "\n",
    "in this case your port `123` is connected to the server, and if there is a service that is running on `localhost:456` you would be able to see it on your computer at the URL `localhost:123`\n",
    "\n",
    "![](ssh_port_forward_local_1.png)"
   ]
  },
  {
   "cell_type": "markdown",
   "id": "3dd105e3",
   "metadata": {
    "slideshow": {
     "slide_type": "slide"
    }
   },
   "source": [
    "### remote port to the localhost of your pc\n",
    "\n",
    "in this case there is a server running on your machine and you want to have the remote machine connect to it as if it was in their localhost.\n",
    "\n",
    "it is the same thing as before, but set up from the other side.\n",
    "\n",
    "![](ssh_port_forward_remote_1.png)"
   ]
  },
  {
   "cell_type": "markdown",
   "id": "dd7722b3",
   "metadata": {
    "slideshow": {
     "slide_type": "slide"
    }
   },
   "source": [
    "### local to a server that can be reached by the remote server\n",
    "\n",
    "this time the service we want to connect to is not reacheable by our computer directly, but is running somewhere that is accessible by the remote server.\n",
    "\n",
    "In this case we are basically connecting to the far away server \"as if\" we were the remote server, and mappping that in our `localhost:123` port.\n",
    "\n",
    "![](ssh_port_forward_local_2.png)"
   ]
  },
  {
   "cell_type": "markdown",
   "id": "5f454f97",
   "metadata": {
    "slideshow": {
     "slide_type": "slide"
    }
   },
   "source": [
    "### remote port to a server that can be reached by your local pc\n",
    "\n",
    "as before, this the exact same situation as before, but set up from the other side\n",
    "\n",
    "![](ssh_port_forward_remote_2.png)"
   ]
  },
  {
   "cell_type": "markdown",
   "id": "32dcc7a6",
   "metadata": {
    "slideshow": {
     "slide_type": "slide"
    }
   },
   "source": [
    "## access without password\n",
    "\n",
    "by default ssh asks for the password of your remote user everytime you try to access.. that gets old pretty quickly.\n",
    "\n",
    "You can easily set it up to allow you to have passwordless login:\n",
    "\n",
    "\n",
    "1. `ssh-keygen -t rsa` creates a pair of cryptographic keys, by default in your `.ssh` folder. you can use the defaults without any issues. **keep these files secure, they allow to access your user without any other control!!**\n",
    "2. `ssh-copy-id <username>@<server_ip>` to copy the identity on the server.\n",
    "3. now you should be able to login without any password being asked to you"
   ]
  },
  {
   "cell_type": "markdown",
   "id": "98d3e8d2",
   "metadata": {
    "slideshow": {
     "slide_type": "slide"
    }
   },
   "source": [
    "## scp - secure copy\n",
    "\n",
    "a common operation you might need is to copy files from and to a server.\n",
    "\n",
    "to do so, from your computer you can use the **scp** program.\n",
    "\n",
    "it works like the **cp** program, but needs to specify also the server from which to copy.\n",
    "\n",
    "it relies on ssh, so if it is configured you can use avoid specifying the user and the full address, and to access without having to enter your password everytime."
   ]
  },
  {
   "cell_type": "markdown",
   "id": "364497ea",
   "metadata": {
    "slideshow": {
     "slide_type": "slide"
    }
   },
   "source": [
    "#### from local to remote\n",
    "\n",
    "`scp <file location> <user>@<server>:<file destination>`\n",
    "\n",
    "#### from remote to local\n",
    "\n",
    "`scp <user>@<server>:<file location> <file destination>`\n",
    "\n",
    "#### between two server through the local machine\n",
    "\n",
    "`scp <user_pc1>@<pc1>:<origin> <user_pc2>@<pc2>:<destination>`"
   ]
  },
  {
   "cell_type": "markdown",
   "id": "09e3410d",
   "metadata": {
    "slideshow": {
     "slide_type": "slide"
    }
   },
   "source": [
    "## remote filesystems with `sshfs`\n",
    "\n",
    "if you have to constantly edit files on a server one possibility is to create a **virtual** folder that the linux OS will see as a real one, but in reality is reading and writing directly from the remote server.\n",
    "\n",
    "First we need to create the local folder where we want to **mount** the remote directoty\n",
    "\n",
    "    mkdir ./remote_dir\n",
    "\n",
    "now we just need to tell `sshfs` to connect the local directory with the remote one.\n",
    "They will be connected as long as I don't **unmount** my directory.\n",
    "\n",
    "    sshfs <username>@<server>:<directory absolute path> ./remote_dir\n",
    "\n",
    "be careful to use the absolute path of the folder, it will not expand the `~` (home character)\n",
    "\n",
    "once I'm done and I want to disconnect the directory, I can use the **unmount** command\n",
    "\n",
    "    umount ./remote_dir\n"
   ]
  }
 ],
 "metadata": {
  "celltoolbar": "Slideshow",
  "kernelspec": {
   "display_name": "Python 3",
   "language": "python",
   "name": "python3"
  },
  "language_info": {
   "codemirror_mode": {
    "name": "ipython",
    "version": 3
   },
   "file_extension": ".py",
   "mimetype": "text/x-python",
   "name": "python",
   "nbconvert_exporter": "python",
   "pygments_lexer": "ipython3",
   "version": "3.8.6"
  }
 },
 "nbformat": 4,
 "nbformat_minor": 5
}
