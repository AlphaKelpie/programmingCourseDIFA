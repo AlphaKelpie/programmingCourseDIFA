{
 "cells": [
  {
   "cell_type": "code",
   "execution_count": 10,
   "metadata": {
    "slideshow": {
     "slide_type": "skip"
    }
   },
   "outputs": [],
   "source": [
    "%matplotlib inline"
   ]
  },
  {
   "cell_type": "markdown",
   "metadata": {
    "slideshow": {
     "slide_type": "slide"
    }
   },
   "source": [
    "# SOFTWARE AND COMPUTING FOR APPLIED PHYSICS\n",
    "\n",
    "### Enrico Giampieri, PhD (enrico.giampieri@unibo.it)\n",
    "\n",
    "### https://github.com/UniboDIFABiophysics/programmingCourseDIFA"
   ]
  },
  {
   "cell_type": "markdown",
   "metadata": {
    "slideshow": {
     "slide_type": "slide"
    }
   },
   "source": [
    "## about the course\n",
    "\n",
    "This course is designed to refresh general concept of programming, leveraging high level, dinamic programming.\n",
    "\n",
    "We will employ Python as a model language, but all these concepts will be applicable in general"
   ]
  },
  {
   "cell_type": "markdown",
   "metadata": {
    "slideshow": {
     "slide_type": "slide"
    }
   },
   "source": [
    "## program\n",
    "\n",
    "### module 1 topics (more or less 2 hours each)\n",
    "\n",
    "1. introduction to the bash command line\n",
    "1. introduction to python\n",
    "1. version control\n",
    "1. testing\n",
    "1. documentation and collaborative working\n",
    "1. object oriented programming\n",
    "1. functional programming\n",
    "\n",
    "..."
   ]
  },
  {
   "cell_type": "markdown",
   "metadata": {
    "slideshow": {
     "slide_type": "slide"
    }
   },
   "source": [
    "8. numerical calculus and vectorization\n",
    "1. scientific libraries and symbolic algebra\n",
    "1. visualization\n",
    "1. databases and dataframes\n",
    "1. data pipeline and data formats\n",
    "1. introduction to machine learning"
   ]
  },
  {
   "cell_type": "markdown",
   "metadata": {
    "slideshow": {
     "slide_type": "slide"
    }
   },
   "source": [
    "## The exam\n",
    "\n",
    "* You will be evaluated on a programming project;\n",
    "* this project needs to be hosted on a public repository;\n",
    "* you are free to choose the programming language of the project;\n",
    "* accepted control version systems are git and fossil;\n",
    "* there will be a list of suggested projects, or you can propose your own;\n",
    "* projects in combination for other exams are welcome."
   ]
  },
  {
   "cell_type": "markdown",
   "metadata": {
    "slideshow": {
     "slide_type": "slide"
    }
   },
   "source": [
    "The evaluation method is the following:\n",
    "\n",
    "* clarity of the repository commit history (6 point)\n",
    "* clarity and completeness of the documentation and source code (12 point)\n",
    "* presence and executability of test routines (12 point)"
   ]
  },
  {
   "cell_type": "markdown",
   "metadata": {
    "slideshow": {
     "slide_type": "fragment"
    }
   },
   "source": [
    "Optionally, the evaluation will be improved on the basis of the following topics:\n",
    "\n",
    "* Usage of innovative technologies and libraries (up to 3 points)\n",
    "* Contribution to open source projects (up to 6 points)"
   ]
  },
  {
   "cell_type": "markdown",
   "metadata": {
    "slideshow": {
     "slide_type": "slide"
    }
   },
   "source": [
    "## The rationale\n",
    "\n",
    "You have received some basic programming.\n",
    "\n",
    "Most of you haven't used it since, as it seemed like a very difficult task for little gain.\n",
    "\n",
    "The main goal of this course is to show you that this is not the case, and to give the instruments to learn yourself how to be proficient with programming."
   ]
  },
  {
   "cell_type": "markdown",
   "metadata": {
    "slideshow": {
     "slide_type": "slide"
    }
   },
   "source": [
    "## Is it useful?"
   ]
  },
  {
   "cell_type": "code",
   "execution_count": 11,
   "metadata": {
    "slideshow": {
     "slide_type": "slide"
    }
   },
   "outputs": [
    {
     "data": {
      "text/plain": [
       "[4, 16, 36, 64]"
      ]
     },
     "execution_count": 11,
     "metadata": {},
     "output_type": "execute_result"
    }
   ],
   "source": [
    "data = [1, 2, 3, 4, 5, 6, 7, 8, 9]\n",
    "[x**2 for x in data if x%2==0]"
   ]
  },
  {
   "cell_type": "code",
   "execution_count": 12,
   "metadata": {
    "slideshow": {
     "slide_type": "slide"
    }
   },
   "outputs": [
    {
     "data": {
      "text/plain": [
       "[4, 16, 36, 64]"
      ]
     },
     "execution_count": 12,
     "metadata": {},
     "output_type": "execute_result"
    }
   ],
   "source": [
    "data = [1, 2, 3, 4, 5, 6, 7, 8, 9]\n",
    "\n",
    "def is_even(number):\n",
    "    return number%2==0\n",
    "\n",
    "[x**2 for x in data if is_even(x)]"
   ]
  },
  {
   "cell_type": "code",
   "execution_count": 13,
   "metadata": {
    "slideshow": {
     "slide_type": "slide"
    }
   },
   "outputs": [
    {
     "data": {
      "text/plain": [
       "2*x"
      ]
     },
     "execution_count": 13,
     "metadata": {},
     "output_type": "execute_result"
    }
   ],
   "source": [
    "from sympy.abc import x, y, z\n",
    "\n",
    "f = x**2 + y**2\n",
    "f.diff(x)"
   ]
  },
  {
   "cell_type": "code",
   "execution_count": 14,
   "metadata": {
    "slideshow": {
     "slide_type": "slide"
    }
   },
   "outputs": [
    {
     "data": {
      "text/plain": [
       "[0, 1]"
      ]
     },
     "execution_count": 14,
     "metadata": {},
     "output_type": "execute_result"
    }
   ],
   "source": [
    "from sympy import solve\n",
    "\n",
    "f = x**2 -x\n",
    "solve(f, x)"
   ]
  },
  {
   "cell_type": "code",
   "execution_count": 15,
   "metadata": {
    "slideshow": {
     "slide_type": "slide"
    }
   },
   "outputs": [
    {
     "name": "stdout",
     "output_type": "stream",
     "text": [
      "1.50+/-0.09\n"
     ]
    }
   ],
   "source": [
    "from uncertainties import ufloat\n",
    "\n",
    "x = ufloat(1, 0.1)  # x = 1+/-0.1\n",
    "y = ufloat(2, 0.3)\n",
    "\n",
    "print( (x+y)/y )"
   ]
  },
  {
   "cell_type": "code",
   "execution_count": 16,
   "metadata": {
    "slideshow": {
     "slide_type": "slide"
    }
   },
   "outputs": [
    {
     "name": "stdout",
     "output_type": "stream",
     "text": [
      "3.0 meter / second\n"
     ]
    }
   ],
   "source": [
    "from pint import UnitRegistry\n",
    "ureg = UnitRegistry()\n",
    "\n",
    "distance = 24.0 * ureg.meter\n",
    "time = 8.0 * ureg.second\n",
    "speed = distance / time\n",
    "print(speed)"
   ]
  },
  {
   "cell_type": "code",
   "execution_count": 17,
   "metadata": {
    "slideshow": {
     "slide_type": "slide"
    }
   },
   "outputs": [
    {
     "name": "stdout",
     "output_type": "stream",
     "text": [
      "0.50+/-0.06 meter / second\n"
     ]
    }
   ],
   "source": [
    "position = ureg.Quantity(ufloat(1, 0.1), 'meter')\n",
    "time = ureg.Quantity(ufloat(2, 0.1), 'second')\n",
    "print(position/time)"
   ]
  },
  {
   "cell_type": "code",
   "execution_count": 18,
   "metadata": {
    "slideshow": {
     "slide_type": "slide"
    }
   },
   "outputs": [
    {
     "data": {
      "text/plain": [
       "<matplotlib.legend.Legend at 0x7fbf78a83898>"
      ]
     },
     "execution_count": 18,
     "metadata": {},
     "output_type": "execute_result"
    },
    {
     "data": {
      "image/png": "[encoded data removed]",
      "text/plain": [
       "<Figure size 432x288 with 1 Axes>"
      ]
     },
     "metadata": {},
     "output_type": "display_data"
    }
   ],
   "source": [
    "from scipy.integrate import odeint\n",
    "\n",
    "def harmonic(state, t):\n",
    "    position, speed = state\n",
    "    return (speed, -position)\n",
    "\n",
    "time = plt.linspace(0, 10, 100)\n",
    "y0 = [0, 1]\n",
    "\n",
    "result = odeint(harmonic, y0=y0, t=time)\n",
    "\n",
    "# -----------------------------------------\n",
    "\n",
    "import pylab as plt\n",
    "lines = plt.plot(time, result)\n",
    "plt.legend(lines, ['position', 'velocity'])"
   ]
  },
  {
   "cell_type": "code",
   "execution_count": 5,
   "metadata": {
    "slideshow": {
     "slide_type": "slide"
    }
   },
   "outputs": [
    {
     "name": "stdout",
     "output_type": "stream",
     "text": [
      "2**3\n"
     ]
    },
    {
     "data": {
      "text/plain": [
       "8"
      ]
     },
     "execution_count": 5,
     "metadata": {},
     "output_type": "execute_result"
    }
   ],
   "source": [
    "import PySimpleGUI as sg\n",
    "\n",
    "text = sg.PopupGetText('Enter a command:')\n",
    "print(text)\n",
    "eval(text)"
   ]
  },
  {
   "cell_type": "code",
   "execution_count": 21,
   "metadata": {
    "slideshow": {
     "slide_type": "slide"
    }
   },
   "outputs": [],
   "source": [
    "import os\n",
    "from glob import glob as list_file\n",
    "\n",
    "for old_name in list_file('*.jpeg'):\n",
    "    new_name = old_name.replace('jpeg', 'jpg')\n",
    "    os.rename(old_name, new_name)"
   ]
  },
  {
   "cell_type": "code",
   "execution_count": 22,
   "metadata": {
    "slideshow": {
     "slide_type": "slide"
    }
   },
   "outputs": [
    {
     "data": {
      "text/plain": [
       "('Abe',)"
      ]
     },
     "execution_count": 22,
     "metadata": {},
     "output_type": "execute_result"
    }
   ],
   "source": [
    "from kanren import Relation, facts, var, run\n",
    "parent = Relation()\n",
    "facts(parent, (\"Homer\", \"Bart\"),\n",
    "              (\"Marge\", \"Bart\"),\n",
    "              (\"Homer\", \"Lisa\"),\n",
    "              (\"Marge\", \"Lisa\"),\n",
    "              (\"Homer\", \"Maggie\"),\n",
    "              (\"Marge\", \"Maggie\"),\n",
    "              (\"Abe\",  \"Homer\"))\n",
    "\n",
    "y = var()\n",
    "x = var()\n",
    "run(0, x, parent(x, y), parent(y, 'Bart'))"
   ]
  },
  {
   "cell_type": "code",
   "execution_count": 23,
   "metadata": {
    "slideshow": {
     "slide_type": "slide"
    }
   },
   "outputs": [
    {
     "name": "stdout",
     "output_type": "stream",
     "text": [
      "hours_play = 10.0\n",
      "hours_work = 6.0\n"
     ]
    }
   ],
   "source": [
    "from pulp import LpProblem, LpMaximize, LpVariable\n",
    "\n",
    "prob = LpProblem(\"work-life balance\", LpMaximize)\n",
    "\n",
    "x1 = LpVariable(\"hours_work\", lowBound=0, upBound=12)\n",
    "x2 = LpVariable(\"hours_play\", lowBound=0)\n",
    "\n",
    "# The objective function is added to 'prob' first\n",
    "prob += x2\n",
    "\n",
    "# The constraints are entered\n",
    "prob += 10*x1 - 5*x2 -10 >=0, \"Balance cost of life\"\n",
    "prob += x1 + x2 <= 16, \"There is only so much time\"\n",
    "\n",
    "prob.solve()\n",
    "\n",
    "for v in prob.variables():\n",
    "    print(v.name, \"=\", v.varValue)"
   ]
  },
  {
   "cell_type": "code",
   "execution_count": 24,
   "metadata": {
    "slideshow": {
     "slide_type": "slide"
    }
   },
   "outputs": [
    {
     "data": {
      "text/plain": [
       "['R', 'Claudia', 'Python', 'Nico', 'C++']"
      ]
     },
     "execution_count": 24,
     "metadata": {},
     "output_type": "execute_result"
    }
   ],
   "source": [
    "import networkx as nx\n",
    "G = nx.Graph()\n",
    "\n",
    "G.add_edge(\"Enrico\", \"Python\")\n",
    "G.add_edge(\"Claudia\", \"Python\")\n",
    "G.add_edge(\"Claudia\", \"R\")\n",
    "G.add_edge(\"Nico\", \"Python\")\n",
    "G.add_edge(\"Nico\", \"C++\")\n",
    "G.add_edge(\"Daniel\", \"Matlab\")\n",
    "G.add_edge(\"Daniel\", \"C++\")\n",
    "G.add_edge(\"Alessandra\", \"Matlab\")\n",
    "G.add_edge(\"Alessandra\", \"Python\")\n",
    "\n",
    "nx.shortest_path(G, \"R\", \"C++\")"
   ]
  },
  {
   "cell_type": "code",
   "execution_count": 25,
   "metadata": {
    "slideshow": {
     "slide_type": "slide"
    }
   },
   "outputs": [
    {
     "data": {
      "text/plain": [
       "<matplotlib.image.AxesImage at 0x7fbf74f9f048>"
      ]
     },
     "execution_count": 25,
     "metadata": {},
     "output_type": "execute_result"
    },
    {
     "data": {
      "image/png": "[encoded data removed]",
      "text/plain": [
       "<Figure size 432x288 with 1 Axes>"
      ]
     },
     "metadata": {},
     "output_type": "display_data"
    }
   ],
   "source": [
    "import vapory as vp\n",
    "\n",
    "camera = vp.Camera( 'location', [0, 2, -3], 'look_at', [0, 1, 2] )\n",
    "light = vp.LightSource( [2, 4, -3], 'color', [1, 1, 1] )\n",
    "sphere = vp.Sphere( [0, 1, 2], 2, vp.Texture( vp.Pigment( 'color', [1, 0, 1] )))\n",
    "\n",
    "scene = vp.Scene( camera, objects= [light, sphere] )\n",
    "\n",
    "image = scene.render(width=700, height=500)\n",
    "\n",
    "# -----------------------------------------\n",
    "\n",
    "import pylab as plt\n",
    "plt.imshow(image)"
   ]
  },
  {
   "cell_type": "code",
   "execution_count": 6,
   "metadata": {
    "slideshow": {
     "slide_type": "slide"
    }
   },
   "outputs": [
    {
     "name": "stderr",
     "output_type": "stream",
     "text": [
      " * Running on http://localhost:5000/ (Press CTRL+C to quit)\n",
      "127.0.0.1 - - [28/Feb/2019 14:34:53] \"\u001b[37mGET / HTTP/1.1\u001b[0m\" 200 -\n",
      "127.0.0.1 - - [28/Feb/2019 14:35:07] \"\u001b[37mGET /png HTTP/1.1\u001b[0m\" 200 -\n",
      "127.0.0.1 - - [28/Feb/2019 14:35:15] \"\u001b[37mGET /svg HTTP/1.1\u001b[0m\" 200 -\n"
     ]
    }
   ],
   "source": [
    "#%%file hello.py\n",
    "\n",
    "from flask import Flask\n",
    "app = Flask(__name__)\n",
    "\n",
    "@app.route(\"/\")\n",
    "def list_files():\n",
    "    import os\n",
    "    filenames = os.listdir()\n",
    "    text = \" <BR> \".join(filenames)\n",
    "    return text\n",
    "\n",
    "@app.route('/<extension>')\n",
    "def show_user_profile(extension):\n",
    "    from glob import glob\n",
    "    filenames = glob(f\"*.{extension}\")\n",
    "    text = \" <BR> \".join(filenames)\n",
    "    return text\n",
    "\n",
    "\n",
    "from werkzeug.serving import run_simple\n",
    "run_simple('localhost', 5000, app)"
   ]
  },
  {
   "cell_type": "code",
   "execution_count": 7,
   "metadata": {
    "slideshow": {
     "slide_type": "slide"
    }
   },
   "outputs": [
    {
     "ename": "KeyboardInterrupt",
     "evalue": "",
     "output_type": "error",
     "traceback": [
      "\u001b[0;31m---------------------------------------------------------------------------\u001b[0m",
      "\u001b[0;31mKeyboardInterrupt\u001b[0m                         Traceback (most recent call last)",
      "\u001b[0;32m<ipython-input-7-b0dd127a8d30>\u001b[0m in \u001b[0;36m<module>\u001b[0;34m\u001b[0m\n\u001b[1;32m      8\u001b[0m \u001b[0mpag\u001b[0m\u001b[0;34m.\u001b[0m\u001b[0mmoveTo\u001b[0m\u001b[0;34m(\u001b[0m\u001b[0;34m*\u001b[0m\u001b[0msearch_bar\u001b[0m\u001b[0;34m,\u001b[0m \u001b[0mduration\u001b[0m\u001b[0;34m=\u001b[0m\u001b[0;36m2\u001b[0m\u001b[0;34m)\u001b[0m\u001b[0;34m\u001b[0m\u001b[0;34m\u001b[0m\u001b[0m\n\u001b[1;32m      9\u001b[0m \u001b[0mpag\u001b[0m\u001b[0;34m.\u001b[0m\u001b[0mclick\u001b[0m\u001b[0;34m(\u001b[0m\u001b[0;34m)\u001b[0m\u001b[0;34m\u001b[0m\u001b[0;34m\u001b[0m\u001b[0m\n\u001b[0;32m---> 10\u001b[0;31m \u001b[0mpag\u001b[0m\u001b[0;34m.\u001b[0m\u001b[0mtypewrite\u001b[0m\u001b[0;34m(\u001b[0m\u001b[0;34m\"let me google that for you\\n\"\u001b[0m\u001b[0;34m,\u001b[0m \u001b[0minterval\u001b[0m\u001b[0;34m=\u001b[0m\u001b[0;36m0.1\u001b[0m\u001b[0;34m)\u001b[0m\u001b[0;34m\u001b[0m\u001b[0;34m\u001b[0m\u001b[0m\n\u001b[0m",
      "\u001b[0;32m~/miniconda3/lib/python3.6/site-packages/pyautogui/__init__.py\u001b[0m in \u001b[0;36mtypewrite\u001b[0;34m(message, interval, pause, _pause)\u001b[0m\n\u001b[1;32m    983\u001b[0m             \u001b[0mc\u001b[0m \u001b[0;34m=\u001b[0m \u001b[0mc\u001b[0m\u001b[0;34m.\u001b[0m\u001b[0mlower\u001b[0m\u001b[0;34m(\u001b[0m\u001b[0;34m)\u001b[0m\u001b[0;34m\u001b[0m\u001b[0;34m\u001b[0m\u001b[0m\n\u001b[1;32m    984\u001b[0m         \u001b[0mpress\u001b[0m\u001b[0;34m(\u001b[0m\u001b[0mc\u001b[0m\u001b[0;34m,\u001b[0m \u001b[0m_pause\u001b[0m\u001b[0;34m=\u001b[0m\u001b[0;32mFalse\u001b[0m\u001b[0;34m)\u001b[0m\u001b[0;34m\u001b[0m\u001b[0;34m\u001b[0m\u001b[0m\n\u001b[0;32m--> 985\u001b[0;31m         \u001b[0mtime\u001b[0m\u001b[0;34m.\u001b[0m\u001b[0msleep\u001b[0m\u001b[0;34m(\u001b[0m\u001b[0minterval\u001b[0m\u001b[0;34m)\u001b[0m\u001b[0;34m\u001b[0m\u001b[0;34m\u001b[0m\u001b[0m\n\u001b[0m\u001b[1;32m    986\u001b[0m         \u001b[0m_failSafeCheck\u001b[0m\u001b[0;34m(\u001b[0m\u001b[0;34m)\u001b[0m\u001b[0;34m\u001b[0m\u001b[0;34m\u001b[0m\u001b[0m\n\u001b[1;32m    987\u001b[0m \u001b[0;34m\u001b[0m\u001b[0m\n",
      "\u001b[0;31mKeyboardInterrupt\u001b[0m: "
     ]
    }
   ],
   "source": [
    "import pyautogui as pag\n",
    "\n",
    "new_tab = (1876, 41)\n",
    "search_bar = (768, 83)\n",
    "\n",
    "pag.moveTo(*new_tab, duration=2) \n",
    "pag.click() \n",
    "pag.moveTo(*search_bar, duration=2) \n",
    "pag.click() \n",
    "pag.typewrite(\"let me google that for you\\n\", interval=0.1)"
   ]
  },
  {
   "cell_type": "code",
   "execution_count": 12,
   "metadata": {
    "slideshow": {
     "slide_type": "slide"
    }
   },
   "outputs": [
    {
     "data": {
      "text/html": [
       "<h1>Good boy!<br /><img src=\"https://upload.wikimedia.org/wikipedia/commons/thumb/3/34/Cub_with_trophy.jpg/220px-Cub_with_trophy.jpg\" /></h1>"
      ],
      "text/plain": [
       "<IPython.core.display.HTML object>"
      ]
     },
     "execution_count": 12,
     "metadata": {},
     "output_type": "execute_result"
    }
   ],
   "source": [
    "from yattag import Doc\n",
    "\n",
    "doc, tag, text = Doc().tagtext()\n",
    "\n",
    "img_loc = 'https://upload.wikimedia.org/wikipedia/commons/thumb/3/34/Cub_with_trophy.jpg/220px-Cub_with_trophy.jpg'\n",
    "\n",
    "with tag('h1'):\n",
    "    text('Good boy!')\n",
    "    doc.stag('br')\n",
    "    doc.stag('img', src=img_loc)\n",
    "\n",
    "# *******************************\n",
    "from IPython.display import HTML\n",
    "HTML(doc.getvalue())"
   ]
  },
  {
   "cell_type": "code",
   "execution_count": 28,
   "metadata": {
    "slideshow": {
     "slide_type": "slide"
    }
   },
   "outputs": [
    {
     "name": "stdout",
     "output_type": "stream",
     "text": [
      "./fractal_wrongness.png PNG 595x496 RGB\n"
     ]
    },
    {
     "data": {
      "image/png": "[encoded data removed]",
      "text/plain": [
       "<PIL.Image.Image image mode=RGB size=128x128 at 0x7FDD842ED828>"
      ]
     },
     "metadata": {},
     "output_type": "display_data"
    },
    {
     "data": {
      "image/png": "[encoded data removed]",
      "text/plain": [
       "<PIL.Image.Image image mode=RGB size=128x128 at 0x7FDD842ED940>"
      ]
     },
     "metadata": {},
     "output_type": "display_data"
    }
   ],
   "source": [
    "from PIL import Image\n",
    "from IPython.display import display\n",
    "filename = \"./fractal_wrongness.png\"\n",
    "\n",
    "with Image.open(filename) as im:\n",
    "    print(filename, im.format, \"%dx%d\" % im.size, im.mode)\n",
    "    resized = im.resize((128, 128))\n",
    "    display(resized)\n",
    "    \n",
    "    display(resized.rotate(45))"
   ]
  },
  {
   "cell_type": "code",
   "execution_count": 92,
   "metadata": {
    "slideshow": {
     "slide_type": "slide"
    }
   },
   "outputs": [
    {
     "name": "stdout",
     "output_type": "stream",
     "text": [
      "fractal_wrongness.png    370765\n",
      "__temp_ipython__.png      28246\n"
     ]
    }
   ],
   "source": [
    "from plumbum import local\n",
    "\n",
    "for file in local.cwd//'*.png':\n",
    "    size = file.stat().st_size\n",
    "    print(f\"{file.name.ljust(21)}{str(size).rjust(10)}\")\n",
    "    "
   ]
  },
  {
   "cell_type": "code",
   "execution_count": 10,
   "metadata": {
    "slideshow": {
     "slide_type": "slide"
    }
   },
   "outputs": [
    {
     "data": {
      "text/plain": [
       "{'hsa04014': 'Ras signaling pathway',\n",
       " 'hsa04064': 'NF-kappa B signaling pathway',\n",
       " 'hsa04650': 'Natural killer cell mediated cytotoxicity',\n",
       " 'hsa04658': 'Th1 and Th2 cell differentiation',\n",
       " 'hsa04659': 'Th17 cell differentiation',\n",
       " 'hsa04660': 'T cell receptor signaling pathway',\n",
       " 'hsa05340': 'Primary immunodeficiency'}"
      ]
     },
     "execution_count": 10,
     "metadata": {},
     "output_type": "execute_result"
    }
   ],
   "source": [
    "from bioservices import KEGG\n",
    "k = KEGG(verbose=False)\n",
    "k.get_pathway_by_gene(\"7535\", \"hsa\")"
   ]
  },
  {
   "cell_type": "markdown",
   "metadata": {
    "slideshow": {
     "slide_type": "slide"
    }
   },
   "source": [
    "## Introduction to the UNIX shell\n",
    "\n",
    "the most commonly used shell is called **bash**, and we will refer to that one as the standard implementation.\n",
    "\n",
    "A very similar shell is present in OSX, and is possible to install it under window activating the `Windows Subsystem for Linux` option in the control panel."
   ]
  },
  {
   "cell_type": "markdown",
   "metadata": {
    "slideshow": {
     "slide_type": "slide"
    }
   },
   "source": [
    "## Why learning the bash shell\n",
    "\n",
    "Graphical User Interfaces (GUI) are useful, but they are no always available in all the systems.\n",
    "\n",
    "Serves, for example, are often only manageable.\n",
    "\n",
    "Also, once you are used to it, it gives you a faster, more reliable way to perform your tasks: you are trading memory for speed (we will come back to this)\n",
    "\n",
    "bash and similar shells are sometimes referred as Command Line Interfaces (CLI)"
   ]
  },
  {
   "cell_type": "markdown",
   "metadata": {
    "slideshow": {
     "slide_type": "slide"
    }
   },
   "source": [
    "## Structure of a shell\n",
    "\n",
    "The bash is a type of shell.\n",
    "**shells** are interactive systems that take user input in the form of text commands and perform actions based on them\n",
    "\n",
    "most systems in a computer provide a shell interface:\n",
    "\n",
    "* bash: a shell of the operating system\n",
    "* IPython: a shell to interface to a python engine\n",
    "* most databases will provide one\n",
    "* etc ..."
   ]
  },
  {
   "cell_type": "markdown",
   "metadata": {
    "slideshow": {
     "slide_type": "slide"
    }
   },
   "source": [
    "The commands can be given **interactively**, by actually typing each command, or using a **script**, where the commands are pre-written and get executed one command at the time.\n",
    "\n",
    "For all intent and purposes, bash scripts can be used a program.\n",
    "\n",
    "As a matter of fact, big chuncks of unix systems are just a collection of bash scripts.\n",
    "\n",
    "They can also be used to glue together various programs that provide a CLI.\n",
    "Most programs provide one, even if you might not know about it, such as:\n",
    "* firefox\n",
    "* openoffice\n",
    "* vlc\n"
   ]
  },
  {
   "cell_type": "markdown",
   "metadata": {
    "slideshow": {
     "slide_type": "slide"
    }
   },
   "source": [
    "## CLI\n",
    "\n",
    "Command line interfaces of programs allows automation of work.\n",
    "One does not need to remember and perform the exact sequence of action each time they want to perform the same task, but might save the relevant command on a small bash script and execute it directly.\n",
    "\n",
    "This also allows **batch execution**, i.e. repeat the same task on a (potentially huge) number of files all at the same time.\n",
    "\n",
    "For example, this converts all the JPG images in the current directory into GIF thumbnails in a \"thumbs\" sub-directory\n",
    "\n",
    "    mogrify -format gif -path thumbs -thumbnail 100x100 *.jpg"
   ]
  },
  {
   "cell_type": "markdown",
   "metadata": {
    "slideshow": {
     "slide_type": "slide"
    }
   },
   "source": [
    "the same process with GUI tools?\n",
    "\n",
    "1. open the GUI of your program\n",
    "2. open image #1\n",
    "3. resize it to thumbnail size\n",
    "4. save it as gif in the right folder\n",
    "5. close the image\n",
    "6. repeat step 2-5 as many time as needed\n",
    "7. close the GUI"
   ]
  },
  {
   "cell_type": "markdown",
   "metadata": {
    "slideshow": {
     "slide_type": "slide"
    }
   },
   "source": [
    "## file system, disks and partitions\n",
    "\n",
    "The file system is the way that the operating system uses to organize the files in your disk.\n",
    "\n",
    "It traditionally organize the files in various directories\n",
    "\n",
    "It can merge the content of various local disks (and remote ones) in a transparent way\n",
    "\n",
    "The location of a file (or a directory) is represented with a string, where the `/` is used to separate between directories.\n",
    "Most programming languages (including Python) follow this convention\n",
    "**note** windows use `\\` to separate directory, just to make things easier for all of us.\n",
    "Get used to this, we will see it often..."
   ]
  },
  {
   "cell_type": "markdown",
   "metadata": {
    "slideshow": {
     "slide_type": "slide"
    }
   },
   "source": [
    "![](https://imgs.xkcd.com/comics/standards.png)"
   ]
  },
  {
   "cell_type": "markdown",
   "metadata": {
    "slideshow": {
     "slide_type": "slide"
    }
   },
   "source": [
    "![](./directory_structure.png)"
   ]
  },
  {
   "cell_type": "markdown",
   "metadata": {
    "slideshow": {
     "slide_type": "slide"
    }
   },
   "source": [
    "![](./OS_structure.png)"
   ]
  },
  {
   "cell_type": "markdown",
   "metadata": {
    "slideshow": {
     "slide_type": "slide"
    }
   },
   "source": [
    "## File ownership and permissions\n",
    "\n",
    "each file is owned by a user, and a group (of which the owner usually is part of, but not necessarely).\n",
    "\n",
    "every time a user want to interact with the file, the permissions are given based on:\n",
    "\n",
    "* is it the owner?\n",
    "* if not, does it belong to the group?\n",
    "* anybody else\n",
    "\n",
    "The permission are related to:\n",
    "\n",
    "* **reading**\n",
    "* **writing**\n",
    "* **executing** (or **entering** for directories)"
   ]
  },
  {
   "cell_type": "markdown",
   "metadata": {
    "slideshow": {
     "slide_type": "slide"
    }
   },
   "source": [
    "![](./users_and_groups.png)"
   ]
  },
  {
   "cell_type": "markdown",
   "metadata": {
    "slideshow": {
     "slide_type": "slide"
    }
   },
   "source": [
    "![](./file_inode_permissions.png)"
   ]
  },
  {
   "cell_type": "markdown",
   "metadata": {
    "slideshow": {
     "slide_type": "slide"
    }
   },
   "source": [
    "#### file name and extension\n",
    "\n",
    "by tradition, file names ends with a full stop and 3 (or more) letters, that are used to quickly identify what kind of file it is.\n",
    "\n",
    "Some common extensions are:\n",
    "* `.exe` windows executable\n",
    "* `.sh` bash script\n",
    "* `.txt` raw text files\n",
    "* `.doc`, `.docx` Office Word files\n",
    "* `gif`, `png`, `jpg` image files\n",
    "\n",
    "The reality is that there is no rule linking the content of a file to its extension: you could rename a `jpg` image as a `txt` file, but the content would still just be the previous image.\n"
   ]
  },
  {
   "cell_type": "markdown",
   "metadata": {
    "slideshow": {
     "slide_type": "slide"
    }
   },
   "source": [
    "### Some basic bash commands\n",
    "\n",
    "Bash comes with a long list of pre-installed programs that provide several utilities.\n",
    "\n",
    "The ones that are (for our purpose) most important are the ones that allow you to move around and manipulate the file system and the files inside it."
   ]
  },
  {
   "cell_type": "markdown",
   "metadata": {
    "slideshow": {
     "slide_type": "slide"
    }
   },
   "source": [
    "#### `ls` --- list content of a directory\n",
    "* `ls` list all the files in the currect directory\n",
    "* `ls <directory_name>` list all the file in the given directory\n",
    "* `ls -l` list the files, including some metadata about them\n",
    "* `ls -l -h` show file sizes in human readable format\n",
    "* `ls -l -h -S` sort them by size (greatest to smallest)\n",
    "* `ls -l -h -S -r` invert the order of sorting\n",
    "* `ls -lhSr` short form of the previous one\n",
    "* `ls -l -t` sort them by the time of last edit (most recent to oldest)\n",
    "* `ls -l -R` show them recursively (this directory and all the subdirectory)\n"
   ]
  },
  {
   "cell_type": "markdown",
   "metadata": {
    "slideshow": {
     "slide_type": "slide"
    }
   },
   "source": [
    "#### file name expansion\n",
    "\n",
    "see: https://www.gnu.org/software/bash/manual/html_node/Pattern-Matching.html\n",
    "\n",
    "* `*` \tany number (including none) of characters of any kind\n",
    "* `?` \ta single (one and only one) character of any kind\n",
    "* `[characters]` a single (one and only one) character included in the list of characters specified\n",
    "* `[[:classname:]]` a single (one and only one) character belonging to a specific character class. For example, if you use `[[:alnum:]]`, bash will match a character only if it is alphanumeric. Supported character classes include: `alnum`, `alpha`, `ascii`, `blank`, `cntrl`, `digit`, `graph`, `lower`, `print`, `punct`, `space`, `upper`, `word`, `xdigit`\n",
    "\n",
    "----\n",
    "\n",
    "* `ls *.txt` list all the text file\n",
    "* `ls document.*` list all the file whose name is `document` and have any kinf of extension\n"
   ]
  },
  {
   "cell_type": "markdown",
   "metadata": {
    "slideshow": {
     "slide_type": "slide"
    }
   },
   "source": [
    "#### `cd` --- change directory\n",
    "\n",
    "* `cd <directory_name>` goes to that directory\n",
    "* `cd ~` goes back to the home directory\n",
    "* `cd -` goes back to the previous folder\n",
    "* `cd ..` goes the directory above the current one"
   ]
  },
  {
   "cell_type": "markdown",
   "metadata": {
    "slideshow": {
     "slide_type": "slide"
    }
   },
   "source": [
    "#### mv --- move and rename files and directories\n",
    "\n",
    "* `mv <base_file> <new_location>` change position (and rename) a single file\n",
    "* `mv <file1> <file2> <file3> <destination_directory>` move several files to a directory\n",
    "* `mv -i <origin> <destination>` ask for confirmation before moving if it's going to override\n",
    "* `mv -u <origin> <destination>` move only if the origin is newer than the destination\n"
   ]
  },
  {
   "cell_type": "markdown",
   "metadata": {
    "slideshow": {
     "slide_type": "slide"
    }
   },
   "source": [
    "#### rm --- remove a file\n",
    "\n",
    "* `rm <filename>`\n",
    "* `rm -r <>` recursive elimination (remove inside directories that are not empty)\n",
    "* `rm -i <>` ask authorization before all removal\n",
    "* `rm -f <>` remove files without asking permission \n"
   ]
  },
  {
   "cell_type": "markdown",
   "metadata": {
    "slideshow": {
     "slide_type": "slide"
    }
   },
   "source": [
    "#### cp --- copy a file\n",
    "\n",
    "* `cp <base_file> <new_location>`"
   ]
  },
  {
   "cell_type": "markdown",
   "metadata": {
    "slideshow": {
     "slide_type": "slide"
    }
   },
   "source": [
    "#### mkdir --- create directories\n",
    "\n",
    "* `mkdir <directory_name>` create the directory inside the current one (gives error if it does already exists)\n",
    "* `mkdir -p <directory_name>` same as before, but create it only if it does not exists\n",
    "* `mkdir <dir/subdirectory>` create both the directory and the subdirectory directly (any number of levels)"
   ]
  },
  {
   "cell_type": "markdown",
   "metadata": {
    "slideshow": {
     "slide_type": "slide"
    }
   },
   "source": [
    "#### `chown` and `chmod` change file ownership and permissions\n",
    "\n",
    "**chown** allows to change either the user or the group (or both) that owns a file.\n",
    "\n",
    "**chmod** allows to change the permission of the file"
   ]
  },
  {
   "cell_type": "markdown",
   "metadata": {
    "slideshow": {
     "slide_type": "slide"
    }
   },
   "source": [
    "#### `ssh` and `scp` --- secure remote server access and file copy\n",
    "\n",
    "**ssh** open a system shell (typically bash on a unix server) on a remote server, and allow to interact with it as if it was a local shell, but using remote resources\n",
    "\n",
    "**scp** allows to exchange files between the local machine and a remote server, with a syntax similar to the cp command."
   ]
  },
  {
   "cell_type": "markdown",
   "metadata": {
    "slideshow": {
     "slide_type": "slide"
    }
   },
   "source": [
    "#### random commands\n",
    "\n",
    "* `man <command>` give the complete help on the command\n",
    "* `pwd` print the current working directory\n",
    "* `top`/`htop` display informations about the system\n",
    "* `nano`/`vim` edit text files\n",
    "* `touch <filename>` create and empty file, or refresh the last modify date of an existing one"
   ]
  },
  {
   "cell_type": "markdown",
   "metadata": {
    "slideshow": {
     "slide_type": "slide"
    }
   },
   "source": [
    "## Pipes\n",
    "\n",
    "**Pipes** are a methods of the bash shell that allow to manage the flow of the data inside and outside of a program, and between programs."
   ]
  },
  {
   "cell_type": "markdown",
   "metadata": {
    "slideshow": {
     "slide_type": "fragment"
    }
   },
   "source": [
    "Any program have various \"streams\":\n",
    "\n",
    "\n",
    "* STDIN (0) - Standard input (data fed into the program)\n",
    "* STDOUT (1) - Standard output (data printed by the program, defaults to the terminal)\n",
    "* STDERR (2) - Standard error (for error messages, also defaults to the terminal)\n",
    "\n",
    "each one of these can be redirected to other places.\n",
    "The basic redirection is done with the `>` and `<` operators."
   ]
  },
  {
   "cell_type": "markdown",
   "metadata": {
    "slideshow": {
     "slide_type": "slide"
    }
   },
   "source": [
    "### input redirection\n",
    "\n",
    "a program that takes parameters as text input from the user can be automated by passing it a file containing the input.\n",
    "\n",
    "    myprogram < input_file.txt"
   ]
  },
  {
   "cell_type": "markdown",
   "metadata": {
    "slideshow": {
     "slide_type": "slide"
    }
   },
   "source": [
    "### output redirection\n",
    "\n",
    "create (or overwrite) a file with all the output of the program\n",
    "\n",
    "    myprogram > all_output_file.txt\n",
    "    \n",
    "append (do not replace) the existing file with the output (good for logging)\n",
    "    \n",
    "    myprogram >> all_output_file.txt\n",
    "\n",
    "redirecting separately standard output and standard error streams\n",
    "\n",
    "    myprogram 1> regular_output_file.txt   2> error_output_file.txt      \n"
   ]
  },
  {
   "cell_type": "markdown",
   "metadata": {
    "slideshow": {
     "slide_type": "slide"
    }
   },
   "source": [
    "### piping to other programs\n",
    "\n",
    "the `|` (pipe) allows to take the output of a program and use it directly as the input of another, without creating intermediate files.\n",
    "\n",
    "* `ls *.txt | head -3` list all the `.txt` files, shows only the first 3"
   ]
  },
  {
   "cell_type": "code",
   "execution_count": null,
   "metadata": {
    "slideshow": {
     "slide_type": "skip"
    }
   },
   "outputs": [],
   "source": []
  },
  {
   "cell_type": "code",
   "execution_count": null,
   "metadata": {
    "slideshow": {
     "slide_type": "skip"
    }
   },
   "outputs": [],
   "source": []
  },
  {
   "cell_type": "markdown",
   "metadata": {
    "slideshow": {
     "slide_type": "skip"
    }
   },
   "source": [
    "# IPython\n",
    "\n",
    "the main way we will use to interact with python will be the ipython shell."
   ]
  },
  {
   "cell_type": "markdown",
   "metadata": {
    "slideshow": {
     "slide_type": "skip"
    }
   },
   "source": [
    "#### ipython special pre-commands\n",
    "\n",
    "* `%<magic function>` use magic functions\n",
    "* `%%<cell magic>` use cell magic mode\n",
    "* `!<function>` call system programs (non interactive)\n",
    "* `/<function>` activate autocalling\n",
    "\n",
    "\n",
    "    /print \"a\"\n",
    "\n",
    "\n",
    "* `,<function>` (comma) activate autocalling and autoquoting (divide by whitespace)\n",
    "* `;<function>` (comma) activate autocalling and autoquoting (ignore whitespaces)\n",
    "\n",
    "\n",
    "    ,my_function a b c    # becomes my_function(\"a\",\"b\",\"c\")\n",
    "    ;my_function a b c    # becomes my_function(\"a b c\")\n",
    "    \n",
    "all of thse should be used as the first letter, the only exception being `!`, that can follow the `=` assignment\n",
    "\n",
    "* `?` general help\n",
    "* `<object>?` help of an object\n",
    "* `pattern?` return all the variables in the namespace that follow the pattern"
   ]
  },
  {
   "cell_type": "code",
   "execution_count": 66,
   "metadata": {
    "slideshow": {
     "slide_type": "skip"
    }
   },
   "outputs": [
    {
     "name": "stdout",
     "output_type": "stream",
     "text": [
      "Variable   Type        Data/Info\n",
      "--------------------------------\n",
      "a          list        n=2\n",
      "attach     function    <function attach at 0x7f638c121378>\n",
      "b          int         2\n",
      "data       dict        n=2\n",
      "info       SList       ['Filesystem     1K-block<...>584   1% /run/user/1000']\n",
      "l          SList       ['Lesson 1 - introduction<...>ME.md', 'Untitled.ipynb']\n",
      "l1         SList       ['/bin/bash: !ls: command not found']\n",
      "l2         SList       ['Lesson 1 - introduction<...>ME.md', 'Untitled.ipynb']\n",
      "lal        int         1\n",
      "lel        int         3\n",
      "lol        int         2\n"
     ]
    }
   ],
   "source": [
    "%whos"
   ]
  },
  {
   "cell_type": "code",
   "execution_count": 67,
   "metadata": {
    "slideshow": {
     "slide_type": "skip"
    }
   },
   "outputs": [
    {
     "data": {
      "text/plain": [
       "['b', 'lal', 'lel', 'lol']"
      ]
     },
     "execution_count": 67,
     "metadata": {},
     "output_type": "execute_result"
    }
   ],
   "source": [
    "%who_ls int"
   ]
  },
  {
   "cell_type": "code",
   "execution_count": 78,
   "metadata": {
    "slideshow": {
     "slide_type": "skip"
    }
   },
   "outputs": [
    {
     "name": "stdout",
     "output_type": "stream",
     "text": [
      "Variable   Type    Data/Info\n",
      "----------------------------\n",
      "a          list    n=2\n"
     ]
    }
   ],
   "source": [
    "%whos list"
   ]
  },
  {
   "cell_type": "code",
   "execution_count": 218,
   "metadata": {
    "slideshow": {
     "slide_type": "skip"
    }
   },
   "outputs": [],
   "source": [
    "import numpy as np\n",
    "\n",
    "def myfun(n=1000, k=10):\n",
    "    a = 1\n",
    "    a = np.random.randn(1, n)\n",
    "    for i in range(k):\n",
    "        a = np.random.randn(n, n)\n",
    "    a = np.random.randn(n, 1)\n",
    "    a = np.random.randn(n).reshape(n, 1)\n",
    "    return None"
   ]
  },
  {
   "cell_type": "code",
   "execution_count": 219,
   "metadata": {
    "slideshow": {
     "slide_type": "skip"
    }
   },
   "outputs": [
    {
     "name": "stdout",
     "output_type": "stream",
     "text": [
      " \n",
      "*** Profile printout saved to text file 'out.txt'. \n"
     ]
    }
   ],
   "source": [
    "%prun -T out.txt myfun()"
   ]
  },
  {
   "cell_type": "code",
   "execution_count": 220,
   "metadata": {
    "slideshow": {
     "slide_type": "skip"
    }
   },
   "outputs": [
    {
     "name": "stdout",
     "output_type": "stream",
     "text": [
      "         18 function calls in 0.382 seconds\r\n",
      "\r\n",
      "   Ordered by: internal time\r\n",
      "\r\n",
      "   ncalls  tottime  percall  cumtime  percall filename:lineno(function)\r\n",
      "       13    0.381    0.029    0.381    0.029 {method 'randn' of 'mtrand.RandomState' objects}\r\n",
      "        1    0.001    0.001    0.382    0.382 <ipython-input-218-7ec54cd088a8>:3(myfun)\r\n",
      "        1    0.000    0.000    0.382    0.382 {built-in method builtins.exec}\r\n",
      "        1    0.000    0.000    0.000    0.000 {method 'reshape' of 'numpy.ndarray' objects}\r\n",
      "        1    0.000    0.000    0.382    0.382 <string>:1(<module>)\r\n",
      "        1    0.000    0.000    0.000    0.000 {method 'disable' of '_lsprof.Profiler' objects}"
     ]
    }
   ],
   "source": [
    "!cat out.txt"
   ]
  },
  {
   "cell_type": "code",
   "execution_count": 221,
   "metadata": {
    "slideshow": {
     "slide_type": "skip"
    }
   },
   "outputs": [
    {
     "name": "stdout",
     "output_type": "stream",
     "text": [
      "peak memory: 176.84 MiB, increment: 30.29 MiB\n"
     ]
    }
   ],
   "source": [
    "%memit myfun()"
   ]
  },
  {
   "cell_type": "code",
   "execution_count": 222,
   "metadata": {
    "slideshow": {
     "slide_type": "skip"
    }
   },
   "outputs": [
    {
     "name": "stdout",
     "output_type": "stream",
     "text": [
      "371 ms ± 2.65 ms per loop (mean ± std. dev. of 7 runs, 1 loop each)\n"
     ]
    }
   ],
   "source": [
    "%timeit myfun()"
   ]
  },
  {
   "cell_type": "code",
   "execution_count": 223,
   "metadata": {
    "slideshow": {
     "slide_type": "skip"
    }
   },
   "outputs": [
    {
     "name": "stdout",
     "output_type": "stream",
     "text": [
      "\n",
      "*** Profile printout saved to text file 'out.txt'. \n"
     ]
    }
   ],
   "source": [
    "#%load_ext line_profiler\n",
    "%lprun -T out.txt -f myfun myfun()"
   ]
  },
  {
   "cell_type": "code",
   "execution_count": 224,
   "metadata": {
    "scrolled": false,
    "slideshow": {
     "slide_type": "skip"
    }
   },
   "outputs": [
    {
     "name": "stdout",
     "output_type": "stream",
     "text": [
      "Timer unit: 1e-06 s\r\n",
      "\r\n",
      "Total time: 0.373999 s\r\n",
      "File: <ipython-input-218-7ec54cd088a8>\r\n",
      "Function: myfun at line 3\r\n",
      "\r\n",
      "Line #      Hits         Time  Per Hit   % Time  Line Contents\r\n",
      "==============================================================\r\n",
      "     3                                           def myfun(n=1000, k=10):\r\n",
      "     4         1          1.0      1.0      0.0      a = 1\r\n",
      "     5         1         83.0     83.0      0.0      a = np.random.randn(1, n)\r\n",
      "     6        11         24.0      2.2      0.0      for i in range(k):\r\n",
      "     7        10     372958.0  37295.8     99.7          a = np.random.randn(n, n)\r\n",
      "     8         1        885.0    885.0      0.2      a = np.random.randn(n, 1)\r\n",
      "     9         1         47.0     47.0      0.0      a = np.random.randn(n).reshape(n, 1)\r\n",
      "    10         1          1.0      1.0      0.0      return None"
     ]
    }
   ],
   "source": [
    "!cat out.txt"
   ]
  },
  {
   "cell_type": "code",
   "execution_count": 10,
   "metadata": {
    "slideshow": {
     "slide_type": "skip"
    }
   },
   "outputs": [
    {
     "data": {
      "text/plain": [
       "['Name: ZMQbg/1', 'Umask: 0002', 'State: S', 'Tgid: 22797', 'Ngid: 0']"
      ]
     },
     "execution_count": 10,
     "metadata": {},
     "output_type": "execute_result"
    }
   ],
   "source": [
    "import os\n",
    "ret = !cat /proc/{os.getpid()}/status\n",
    "ret.fields(0, 1)[:5]"
   ]
  },
  {
   "cell_type": "code",
   "execution_count": 10,
   "metadata": {
    "slideshow": {
     "slide_type": "skip"
    }
   },
   "outputs": [
    {
     "name": "stdout",
     "output_type": "stream",
     "text": [
      "b'ciao'\n",
      "b'ciao'\n",
      "b'ciao'\n",
      "----------\n",
      "b'cia\\xe8'\n",
      "b'cia\\xc3\\xa8'\n",
      "----------\n",
      "b'123'\n",
      "b'123'\n"
     ]
    }
   ],
   "source": [
    "s = \"ciao\"\n",
    "print(bytes(s, encoding='ascii'))\n",
    "print(bytes(s, encoding='utf8'))\n",
    "print(bytes(s, encoding='latin1'))\n",
    "\n",
    "print('-'*10)\n",
    "s = \"ciaè\"\n",
    "print(bytes(s, encoding='latin1'))\n",
    "print(bytes(s, encoding='utf8'))"
   ]
  },
  {
   "cell_type": "code",
   "execution_count": 17,
   "metadata": {
    "slideshow": {
     "slide_type": "skip"
    }
   },
   "outputs": [
    {
     "data": {
      "text/plain": [
       "232"
      ]
     },
     "execution_count": 17,
     "metadata": {},
     "output_type": "execute_result"
    }
   ],
   "source": [
    "ord('\\xe8')"
   ]
  },
  {
   "cell_type": "code",
   "execution_count": 18,
   "metadata": {
    "slideshow": {
     "slide_type": "skip"
    }
   },
   "outputs": [
    {
     "data": {
      "text/plain": [
       "'è'"
      ]
     },
     "execution_count": 18,
     "metadata": {},
     "output_type": "execute_result"
    }
   ],
   "source": [
    "chr(232)"
   ]
  },
  {
   "cell_type": "code",
   "execution_count": 28,
   "metadata": {
    "slideshow": {
     "slide_type": "skip"
    }
   },
   "outputs": [
    {
     "name": "stdout",
     "output_type": "stream",
     "text": [
      "default language: 'it_IT'\n",
      "default encoding: 'UTF-8'\n",
      "default language: 'it_IT'\n",
      "default encoding: 'UTF-8'\n"
     ]
    }
   ],
   "source": [
    "import locale\n",
    "language, encoding = locale.getdefaultlocale()\n",
    "print(f\"default language: '{language}'\")\n",
    "print(f\"default encoding: '{encoding}'\")\n",
    "language, encoding = locale.getlocale()\n",
    "print(f\"default language: '{language}'\")\n",
    "print(f\"default encoding: '{encoding}'\")"
   ]
  },
  {
   "cell_type": "code",
   "execution_count": 34,
   "metadata": {
    "slideshow": {
     "slide_type": "skip"
    }
   },
   "outputs": [
    {
     "data": {
      "text/plain": [
       "'ciao·mondo·!'"
      ]
     },
     "execution_count": 34,
     "metadata": {},
     "output_type": "execute_result"
    }
   ],
   "source": [
    "import re\n",
    "regex = re.compile('[ ]+')\n",
    "re.sub(pattern=regex, string=\"ciao     mondo    !\", repl='·') "
   ]
  }
 ],
 "metadata": {
  "celltoolbar": "Slideshow",
  "kernelspec": {
   "display_name": "Python 3 (ipykernel)",
   "language": "python",
   "name": "python3"
  },
  "language_info": {
   "codemirror_mode": {
    "name": "ipython",
    "version": 3
   },
   "file_extension": ".py",
   "mimetype": "text/x-python",
   "name": "python",
   "nbconvert_exporter": "python",
   "pygments_lexer": "ipython3",
   "version": "3.9.10"
  }
 },
 "nbformat": 4,
 "nbformat_minor": 2
}
