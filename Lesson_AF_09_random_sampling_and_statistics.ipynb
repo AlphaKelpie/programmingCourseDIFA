{
 "cells": [
  {
   "cell_type": "markdown",
   "id": "right-superintendent",
   "metadata": {
    "slideshow": {
     "slide_type": "slide"
    }
   },
   "source": [
    "# Random Sampling and distance-based Statistics"
   ]
  },
  {
   "cell_type": "markdown",
   "id": "1d473c90",
   "metadata": {
    "slideshow": {
     "slide_type": "slide"
    }
   },
   "source": [
    "# Resampling\n",
    "\n",
    "estimating statistics using random samples."
   ]
  },
  {
   "cell_type": "markdown",
   "id": "8c21f829",
   "metadata": {
    "slideshow": {
     "slide_type": "slide"
    }
   },
   "source": [
    "let's consider the idea of p-value:\n",
    "\n",
    "given a test statistics from the observed data and a null hypothesis (a generation process), what are the chances of osberving a value greater than the one obtained on the data if the data was generated from the null hypothesis?"
   ]
  },
  {
   "cell_type": "markdown",
   "id": "47722572",
   "metadata": {
    "slideshow": {
     "slide_type": "slide"
    }
   },
   "source": [
    "## the t-test statistics\n",
    "\n",
    "the simplest example is the one-sample t-test:\n",
    " is the observed mean of a sample compatible with 0?"
   ]
  },
  {
   "cell_type": "code",
   "execution_count": 1,
   "id": "senior-cement",
   "metadata": {
    "slideshow": {
     "slide_type": "slide"
    }
   },
   "outputs": [],
   "source": [
    "import numpy as np\n",
    "import pylab as plt\n",
    "import scipy.stats as st\n",
    "import seaborn as sns"
   ]
  },
  {
   "cell_type": "code",
   "execution_count": 37,
   "id": "de3654c5",
   "metadata": {
    "slideshow": {
     "slide_type": "-"
    }
   },
   "outputs": [
    {
     "data": {
      "text/plain": [
       "Ttest_1sampResult(statistic=0.5656372970687832, pvalue=0.6018616929196308)"
      ]
     },
     "execution_count": 37,
     "metadata": {},
     "output_type": "execute_result"
    }
   ],
   "source": [
    "data_1 = np.array([1.35, 1.01, 0.25, 0.39, -1.57])\n",
    "st.ttest_1samp(data_1, 0)"
   ]
  },
  {
   "cell_type": "markdown",
   "id": "c299e936",
   "metadata": {
    "slideshow": {
     "slide_type": "slide"
    }
   },
   "source": [
    "in this case the statistic is defined as the mean divided the standard deviation of the mean:\n",
    "\n",
    "$$t = \\frac{Z}{s} = \\frac{\\bar{X} – \\mu}{\\frac{\\hat{\\sigma}}{\\sqrt{n}}}$$"
   ]
  },
  {
   "cell_type": "code",
   "execution_count": 42,
   "id": "1250b927",
   "metadata": {
    "slideshow": {
     "slide_type": "-"
    }
   },
   "outputs": [
    {
     "name": "stdout",
     "output_type": "stream",
     "text": [
      "0.2860000000000001 1.130610454577526 0.5656372970687832\n"
     ]
    }
   ],
   "source": [
    "mean_1 = np.mean(data_1)\n",
    "std_1 = np.std(data_1, ddof=1)\n",
    "print(mean_1, std_1, mean_1/(std_1/np.sqrt(len(data_1))))"
   ]
  },
  {
   "cell_type": "code",
   "execution_count": 44,
   "id": "37725885",
   "metadata": {
    "slideshow": {
     "slide_type": "slide"
    }
   },
   "outputs": [
    {
     "data": {
      "text/plain": [
       "0.5656372970687832"
      ]
     },
     "execution_count": 44,
     "metadata": {},
     "output_type": "execute_result"
    }
   ],
   "source": [
    "np.mean(data_1)/st.sem(data_1)"
   ]
  },
  {
   "cell_type": "code",
   "execution_count": 45,
   "id": "f32671b9",
   "metadata": {
    "slideshow": {
     "slide_type": "slide"
    }
   },
   "outputs": [],
   "source": [
    "def t_stat(data):\n",
    "    return np.mean(data)/st.sem(data)"
   ]
  },
  {
   "cell_type": "code",
   "execution_count": 47,
   "id": "07dee17c",
   "metadata": {
    "slideshow": {
     "slide_type": "-"
    }
   },
   "outputs": [
    {
     "data": {
      "text/plain": [
       "0.11223874999398128"
      ]
     },
     "execution_count": 47,
     "metadata": {},
     "output_type": "execute_result"
    }
   ],
   "source": [
    "n_data = len(data_1)\n",
    "data_fake_1 = plt.randn(n_data)\n",
    "t_stat(data_fake_1)"
   ]
  },
  {
   "cell_type": "code",
   "execution_count": null,
   "id": "3731c0e0",
   "metadata": {
    "slideshow": {
     "slide_type": "slide"
    }
   },
   "outputs": [],
   "source": [
    "distribution = [t_stat(plt.randn(n_data)) for i in range(100_000)]"
   ]
  },
  {
   "cell_type": "code",
   "execution_count": 57,
   "id": "6da84f5b",
   "metadata": {
    "slideshow": {
     "slide_type": "-"
    }
   },
   "outputs": [
    {
     "data": {
      "text/plain": [
       "(-5.0, 5.0)"
      ]
     },
     "execution_count": 57,
     "metadata": {},
     "output_type": "execute_result"
    },
    {
     "data": {
      "image/png": "[encoded data removed]",
      "text/plain": [
       "<Figure size 432x288 with 1 Axes>"
      ]
     },
     "metadata": {
      "needs_background": "light"
     },
     "output_type": "display_data"
    }
   ],
   "source": [
    "fig, ax = plt.subplots()\n",
    "ax.hist(distribution, bins=50, alpha=0.5, color='teal')\n",
    "ax.axvline(t_stat(data_1), color='coral')\n",
    "ax.set_xlim(-5, 5)"
   ]
  },
  {
   "cell_type": "code",
   "execution_count": 58,
   "id": "7d4c2590",
   "metadata": {
    "slideshow": {
     "slide_type": "slide"
    }
   },
   "outputs": [
    {
     "name": "stdout",
     "output_type": "stream",
     "text": [
      "0.6023\n"
     ]
    }
   ],
   "source": [
    "greater = np.abs(np.array(distribution))>abs(t_stat(data_1))\n",
    "p_value = sum(greater)/len(greater)\n",
    "print(p_value)"
   ]
  },
  {
   "cell_type": "code",
   "execution_count": 59,
   "id": "dcb5f41d",
   "metadata": {
    "slideshow": {
     "slide_type": "-"
    }
   },
   "outputs": [
    {
     "data": {
      "text/plain": [
       "Ttest_1sampResult(statistic=0.5656372970687832, pvalue=0.6018616929196308)"
      ]
     },
     "execution_count": 59,
     "metadata": {},
     "output_type": "execute_result"
    }
   ],
   "source": [
    "st.ttest_1samp(data_1, 0)"
   ]
  },
  {
   "cell_type": "markdown",
   "id": "1125f538",
   "metadata": {
    "slideshow": {
     "slide_type": "slide"
    }
   },
   "source": [
    "this can be applied in a more general sense: given any statistical generative procedure, what is the chance of observing values more extreme than the given ones?"
   ]
  },
  {
   "cell_type": "markdown",
   "id": "04aecac0",
   "metadata": {
    "slideshow": {
     "slide_type": "slide"
    }
   },
   "source": [
    "## correcting for the \"real\" process\n",
    "\n",
    "for example, in this case we should have included the truncation procedure in out data! (we only have two decimal digits)."
   ]
  },
  {
   "cell_type": "code",
   "execution_count": 60,
   "id": "5a2c51c3",
   "metadata": {
    "slideshow": {
     "slide_type": "slide"
    }
   },
   "outputs": [
    {
     "data": {
      "text/plain": [
       "array([-0.33,  0.52, -0.65, -1.32, -0.38])"
      ]
     },
     "execution_count": 60,
     "metadata": {},
     "output_type": "execute_result"
    }
   ],
   "source": [
    "def gen_fake(n):\n",
    "    fake_data = plt.randn(n)\n",
    "    return fake_data.round(2)\n",
    "gen_fake(5)"
   ]
  },
  {
   "cell_type": "code",
   "execution_count": 65,
   "id": "4e301be5",
   "metadata": {
    "slideshow": {
     "slide_type": "slide"
    }
   },
   "outputs": [],
   "source": [
    "distribution = [t_stat(gen_fake(n_data)) for i in range(100_000)]"
   ]
  },
  {
   "cell_type": "code",
   "execution_count": 66,
   "id": "77195ae4",
   "metadata": {
    "slideshow": {
     "slide_type": "-"
    }
   },
   "outputs": [
    {
     "name": "stdout",
     "output_type": "stream",
     "text": [
      "0.59904\n"
     ]
    }
   ],
   "source": [
    "greater = np.abs(np.array(distribution))>abs(t_stat(data_1))\n",
    "p_value = sum(greater)/len(greater)\n",
    "print(p_value)"
   ]
  },
  {
   "cell_type": "markdown",
   "id": "d97810f9",
   "metadata": {
    "slideshow": {
     "slide_type": "slide"
    }
   },
   "source": [
    "of course, we could also perform several generation to have an estimate of our uncertainty in the p-value"
   ]
  },
  {
   "cell_type": "code",
   "execution_count": 67,
   "id": "d259a079",
   "metadata": {
    "slideshow": {
     "slide_type": "-"
    }
   },
   "outputs": [
    {
     "name": "stdout",
     "output_type": "stream",
     "text": [
      "0.591\n",
      "0.605\n",
      "0.614\n",
      "0.604\n",
      "0.599\n",
      "0.609\n",
      "0.631\n",
      "0.609\n"
     ]
    }
   ],
   "source": [
    "for i in range(8):\n",
    "    distribution = [t_stat(gen_fake(n_data)) for i in range(1_000)]\n",
    "    greater = np.abs(np.array(distribution))>abs(t_stat(data_1))\n",
    "    p_value = sum(greater)/len(greater)\n",
    "    print(p_value)"
   ]
  },
  {
   "cell_type": "markdown",
   "id": "heated-hazard",
   "metadata": {
    "slideshow": {
     "slide_type": "slide"
    }
   },
   "source": [
    "# Perfect Sampling (Bayesian statistics)\n",
    "\n",
    "http://www.sumsar.net/blog/2014/10/tiny-data-and-the-socks-of-karl-broman/"
   ]
  },
  {
   "cell_type": "markdown",
   "id": "4dd9b586",
   "metadata": {
    "slideshow": {
     "slide_type": "slide"
    }
   },
   "source": [
    "a similar procedure can the used to perform bayesian inference, in particular for simple models:\n",
    "\n",
    "1. extract from the prior distribution of the parameters\n",
    "2. generate some random data with those parameters\n",
    "3. if the data are similar enough to the observed data (or equal) keep those parameters\n",
    "4. repeat until enough parameters are observed"
   ]
  },
  {
   "cell_type": "markdown",
   "id": "839b2498",
   "metadata": {
    "slideshow": {
     "slide_type": "slide"
    }
   },
   "source": [
    "This class of methods allow us to answer more complex questions naturally!"
   ]
  },
  {
   "cell_type": "markdown",
   "id": "95eee63b",
   "metadata": {
    "slideshow": {
     "slide_type": "-"
    }
   },
   "source": [
    "NOTE: as far as I know, there is no particular advantage is using low discrepancy sequences here, the randomness compound too much"
   ]
  },
  {
   "cell_type": "markdown",
   "id": "4796258f",
   "metadata": {
    "slideshow": {
     "slide_type": "slide"
    }
   },
   "source": [
    "**experiment**:\n",
    "\n",
    "we observe a biased coin with 7 heads and 3 tails.\n",
    "\n",
    "what is the probability of the coin coming out with tail the next toss?"
   ]
  },
  {
   "cell_type": "markdown",
   "id": "hispanic-birthday",
   "metadata": {
    "slideshow": {
     "slide_type": "slide"
    }
   },
   "source": [
    "from formal analysis, we can derive the distribution as ${Beta}(7+\\alpha, 3+\\beta)$\n",
    "\n",
    "where $\\alpha$ and $\\beta$ are the prior parameters (already known information)"
   ]
  },
  {
   "cell_type": "code",
   "execution_count": 2,
   "id": "sealed-cholesterol",
   "metadata": {
    "slideshow": {
     "slide_type": "slide"
    }
   },
   "outputs": [],
   "source": [
    "def plot_beta(dist, ax=None, base=np.linspace(0, 1, 10_000), **kwargs):\n",
    "    if ax is None:\n",
    "        ax=plt.gca()\n",
    "    pdf = dist.pdf(base)\n",
    "    kwargs.setdefault(\"alpha\", 0.5)\n",
    "    ax.fill_between(base, pdf, 0, **kwargs)"
   ]
  },
  {
   "cell_type": "code",
   "execution_count": 3,
   "id": "agricultural-lambda",
   "metadata": {
    "slideshow": {
     "slide_type": "slide"
    }
   },
   "outputs": [
    {
     "data": {
      "image/png": "[encoded data removed]",
      "text/plain": [
       "<Figure size 432x288 with 1 Axes>"
      ]
     },
     "metadata": {
      "needs_background": "light"
     },
     "output_type": "display_data"
    }
   ],
   "source": [
    "α, β = 1, 1\n",
    "prior = st.beta(α, β)\n",
    "plot_beta(prior)"
   ]
  },
  {
   "cell_type": "code",
   "execution_count": 21,
   "id": "animal-maple",
   "metadata": {
    "slideshow": {
     "slide_type": "slide"
    }
   },
   "outputs": [
    {
     "data": {
      "image/png": "[encoded data removed]",
      "text/plain": [
       "<Figure size 432x288 with 1 Axes>"
      ]
     },
     "metadata": {
      "needs_background": "light"
     },
     "output_type": "display_data"
    }
   ],
   "source": [
    "α, β = 1, 1\n",
    "true_posterior = st.beta(7+α, 3+β)\n",
    "plot_beta(true_posterior)"
   ]
  },
  {
   "cell_type": "code",
   "execution_count": 73,
   "id": "proud-volume",
   "metadata": {
    "slideshow": {
     "slide_type": "slide"
    }
   },
   "outputs": [
    {
     "name": "stdout",
     "output_type": "stream",
     "text": [
      "[0.52232255 0.49999941 0.5272587  0.46421572 0.57900808 0.45226229\n",
      " 0.55805831 0.47652842 0.48880595 0.53794006]\n"
     ]
    }
   ],
   "source": [
    "np.random.seed(42)\n",
    "N_samples = 10\n",
    "sampled_prior = prior.rvs(N_samples)\n",
    "print(sampled_prior)"
   ]
  },
  {
   "cell_type": "code",
   "execution_count": 74,
   "id": "asian-cancer",
   "metadata": {
    "slideshow": {
     "slide_type": "fragment"
    }
   },
   "outputs": [
    {
     "data": {
      "text/plain": [
       "array([6, 6, 6, 5, 6, 3, 3, 6, 7, 3])"
      ]
     },
     "execution_count": 74,
     "metadata": {},
     "output_type": "execute_result"
    }
   ],
   "source": [
    "st.binom.rvs(n=10, p=sampled_prior)"
   ]
  },
  {
   "cell_type": "code",
   "execution_count": 75,
   "id": "metric-correspondence",
   "metadata": {
    "slideshow": {
     "slide_type": "slide"
    }
   },
   "outputs": [],
   "source": [
    "fake_observations = st.binom.rvs(n=10, p=sampled_prior)"
   ]
  },
  {
   "cell_type": "code",
   "execution_count": 76,
   "id": "naughty-overview",
   "metadata": {
    "slideshow": {
     "slide_type": "-"
    }
   },
   "outputs": [
    {
     "name": "stdout",
     "output_type": "stream",
     "text": [
      "2\n"
     ]
    }
   ],
   "source": [
    "observed = 7\n",
    "coherent = (fake_observations==7)\n",
    "selected_prior = sampled_prior[coherent]\n",
    "print(len(selected_prior))"
   ]
  },
  {
   "cell_type": "code",
   "execution_count": 77,
   "id": "prompt-display",
   "metadata": {
    "slideshow": {
     "slide_type": "slide"
    }
   },
   "outputs": [
    {
     "name": "stdout",
     "output_type": "stream",
     "text": [
      "12\n"
     ]
    }
   ],
   "source": [
    "observed = 7\n",
    "N_samples = 100\n",
    "sampled_prior = prior.rvs(N_samples)\n",
    "fake_observations = st.binom.rvs(n=10, p=sampled_prior)\n",
    "coherent = (fake_observations==7)\n",
    "selected_prior = sampled_prior[coherent]\n",
    "print(len(selected_prior))"
   ]
  },
  {
   "cell_type": "code",
   "execution_count": 80,
   "id": "scientific-accommodation",
   "metadata": {
    "slideshow": {
     "slide_type": "-"
    }
   },
   "outputs": [
    {
     "data": {
      "image/png": "[encoded data removed]",
      "text/plain": [
       "<Figure size 432x288 with 1 Axes>"
      ]
     },
     "metadata": {
      "needs_background": "light"
     },
     "output_type": "display_data"
    }
   ],
   "source": [
    "plt.hist(selected_prior, bins=50, density=True, alpha=0.5, color=\"coral\");\n",
    "plot_beta(true_posterior, color='teal')"
   ]
  },
  {
   "cell_type": "code",
   "execution_count": 81,
   "id": "enhanced-contractor",
   "metadata": {
    "slideshow": {
     "slide_type": "slide"
    }
   },
   "outputs": [
    {
     "name": "stdout",
     "output_type": "stream",
     "text": [
      "accepted samples: 12234\n",
      "acceptance fraction: 12.234%\n",
      "-----\n",
      "CPU times: user 55.5 ms, sys: 0 ns, total: 55.5 ms\n",
      "Wall time: 56.1 ms\n"
     ]
    }
   ],
   "source": [
    "%%time\n",
    "observed = 7\n",
    "N_samples = 100_000\n",
    "sampled_prior = prior.rvs(N_samples)\n",
    "fake_observations = st.binom.rvs(n=10, p=sampled_prior)\n",
    "coherent = (fake_observations==observed)\n",
    "selected_prior = sampled_prior[coherent]\n",
    "n_accepted = len(selected_prior)\n",
    "s = \"accepted samples: {}\\nacceptance fraction: {}%\\n-----\"\n",
    "print(s.format(n_accepted, 100*n_accepted/N_samples))"
   ]
  },
  {
   "cell_type": "code",
   "execution_count": 82,
   "id": "handed-vanilla",
   "metadata": {
    "slideshow": {
     "slide_type": "slide"
    }
   },
   "outputs": [
    {
     "data": {
      "image/png": "[encoded data removed]",
      "text/plain": [
       "<Figure size 432x288 with 1 Axes>"
      ]
     },
     "metadata": {
      "needs_background": "light"
     },
     "output_type": "display_data"
    }
   ],
   "source": [
    "plt.hist(selected_prior, bins=50, density=True, alpha=0.5, color=\"coral\");\n",
    "plot_beta(true_posterior, color='teal')"
   ]
  },
  {
   "cell_type": "markdown",
   "id": "mathematical-belfast",
   "metadata": {
    "slideshow": {
     "slide_type": "slide"
    }
   },
   "source": [
    "# how do different priors affect me?\n",
    "\n",
    "with this approach I can model how the belief on the possible values of the parameters could affect my final result"
   ]
  },
  {
   "cell_type": "code",
   "execution_count": 15,
   "id": "suspected-personality",
   "metadata": {
    "slideshow": {
     "slide_type": "slide"
    }
   },
   "outputs": [],
   "source": [
    "def fit_probability(successes=7, failures=3, α=1, β=1, N_samples=100_000):\n",
    "    prior = st.beta(α, β)\n",
    "    true_posterior = st.beta(successes+α, failures+β)\n",
    "    sampled_prior = prior.rvs(N_samples)\n",
    "    n_observations = successes+failures\n",
    "    fake_observations = st.binom.rvs(n=n_observations, p=sampled_prior)\n",
    "    coherent = (fake_observations==successes)\n",
    "    selected_prior = sampled_prior[coherent]\n",
    "    return prior, true_posterior, selected_prior"
   ]
  },
  {
   "cell_type": "code",
   "execution_count": 30,
   "id": "about-skating",
   "metadata": {
    "slideshow": {
     "slide_type": "slide"
    }
   },
   "outputs": [
    {
     "name": "stdout",
     "output_type": "stream",
     "text": [
      "accepted samples: 6661\n",
      "acceptance fraction: 6.661%\n",
      "-----\n"
     ]
    },
    {
     "data": {
      "image/png": "[encoded data removed]",
      "text/plain": [
       "<Figure size 432x288 with 1 Axes>"
      ]
     },
     "metadata": {
      "needs_background": "light"
     },
     "output_type": "display_data"
    }
   ],
   "source": [
    "result = fit_probability(successes=7, failures=3, α=0.5, β=0.5, N_samples=100_000)\n",
    "prior, true_posterior, selected_prior = result\n",
    "n_accepted = len(selected_prior)\n",
    "s = \"accepted samples: {}\\nacceptance fraction: {}%\\n-----\"\n",
    "print(s.format(n_accepted, 100*n_accepted/N_samples))\n",
    "plt.hist(selected_prior, bins=50, density=True, alpha=0.5, color=\"coral\");\n",
    "plot_beta(true_posterior, color='teal')\n",
    "plot_beta(prior, color='violet')\n",
    "plot_beta(st.beta(1+7, 1+3), color='orange', alpha=0.25)"
   ]
  },
  {
   "cell_type": "code",
   "execution_count": 31,
   "id": "polyphonic-second",
   "metadata": {
    "slideshow": {
     "slide_type": "slide"
    }
   },
   "outputs": [
    {
     "name": "stdout",
     "output_type": "stream",
     "text": [
      "accepted samples: 9084\n",
      "acceptance fraction: 9.084%\n",
      "-----\n"
     ]
    },
    {
     "data": {
      "image/png": "[encoded data removed]",
      "text/plain": [
       "<Figure size 432x288 with 1 Axes>"
      ]
     },
     "metadata": {
      "needs_background": "light"
     },
     "output_type": "display_data"
    }
   ],
   "source": [
    "result = fit_probability(successes=7, failures=3, α=1, β=1, N_samples=100_000)\n",
    "prior, true_posterior, selected_prior = result\n",
    "n_accepted = len(selected_prior)\n",
    "s = \"accepted samples: {}\\nacceptance fraction: {}%\\n-----\"\n",
    "print(s.format(n_accepted, 100*n_accepted/N_samples))\n",
    "plt.hist(selected_prior, bins=50, density=True, alpha=0.5, color=\"coral\");\n",
    "plot_beta(true_posterior, color='teal')\n",
    "plot_beta(prior, color='violet')\n",
    "plot_beta(st.beta(1+7, 1+3), color='orange', alpha=0.25)"
   ]
  },
  {
   "cell_type": "code",
   "execution_count": 32,
   "id": "social-brook",
   "metadata": {
    "slideshow": {
     "slide_type": "slide"
    }
   },
   "outputs": [
    {
     "name": "stdout",
     "output_type": "stream",
     "text": [
      "accepted samples: 12391\n",
      "acceptance fraction: 12.391%\n",
      "-----\n"
     ]
    },
    {
     "data": {
      "image/png": "[encoded data removed]",
      "text/plain": [
       "<Figure size 432x288 with 1 Axes>"
      ]
     },
     "metadata": {
      "needs_background": "light"
     },
     "output_type": "display_data"
    }
   ],
   "source": [
    "result = fit_probability(successes=7, failures=3, α=5, β=5, N_samples=100_000)\n",
    "prior, true_posterior, selected_prior = result\n",
    "n_accepted = len(selected_prior)\n",
    "s = \"accepted samples: {}\\nacceptance fraction: {}%\\n-----\"\n",
    "print(s.format(n_accepted, 100*n_accepted/N_samples))\n",
    "plt.hist(selected_prior, bins=50, density=True, alpha=0.5, color=\"coral\");\n",
    "plot_beta(true_posterior, color='teal')\n",
    "plot_beta(prior, color='violet')\n",
    "plot_beta(st.beta(1+7, 1+3), color='orange', alpha=0.25)"
   ]
  },
  {
   "cell_type": "code",
   "execution_count": 33,
   "id": "fundamental-induction",
   "metadata": {
    "slideshow": {
     "slide_type": "slide"
    }
   },
   "outputs": [
    {
     "name": "stdout",
     "output_type": "stream",
     "text": [
      "accepted samples: 11882\n",
      "acceptance fraction: 11.882%\n",
      "-----\n"
     ]
    },
    {
     "data": {
      "image/png": "[encoded data removed]",
      "text/plain": [
       "<Figure size 432x288 with 1 Axes>"
      ]
     },
     "metadata": {
      "needs_background": "light"
     },
     "output_type": "display_data"
    }
   ],
   "source": [
    "result = fit_probability(successes=7, failures=3, α=50, β=50, N_samples=100_000)\n",
    "prior, true_posterior, selected_prior = result\n",
    "n_accepted = len(selected_prior)\n",
    "s = \"accepted samples: {}\\nacceptance fraction: {}%\\n-----\"\n",
    "print(s.format(n_accepted, 100*n_accepted/N_samples))\n",
    "plt.hist(selected_prior, bins=50, density=True, alpha=0.5, color=\"coral\");\n",
    "plot_beta(true_posterior, color='teal')\n",
    "plot_beta(prior, color='violet')\n",
    "plot_beta(st.beta(1+7, 1+3), color='orange', alpha=0.25)"
   ]
  },
  {
   "cell_type": "markdown",
   "id": "designed-period",
   "metadata": {
    "slideshow": {
     "slide_type": "slide"
    }
   },
   "source": [
    "# discontinuous model\n",
    "\n",
    "we could try to decide if the coin is biased or not, rather than estimating a probability\n",
    "\n",
    "to do this, we need hyperparameters describing the set of models"
   ]
  },
  {
   "cell_type": "code",
   "execution_count": 95,
   "id": "humanitarian-colorado",
   "metadata": {
    "slideshow": {
     "slide_type": "slide"
    }
   },
   "outputs": [
    {
     "name": "stdout",
     "output_type": "stream",
     "text": [
      "971\n",
      "890\n",
      "0.9165808444902163\n"
     ]
    }
   ],
   "source": [
    "α_of_bias, β_of_bias = 1, 1\n",
    "belief_coin_biased = 0.1\n",
    "\n",
    "n_observations = 10\n",
    "successes = 10\n",
    "\n",
    "N_samples = 100_000\n",
    "\n",
    "coin_is_biased_prior = st.binom(n=1, p=belief_coin_biased)\n",
    "coin_is_biased_prior_samples = coin_is_biased_prior.rvs(N_samples).astype(bool)\n",
    "\n",
    "p_coin_if_biased_prior = st.beta(α_of_bias, β_of_bias)\n",
    "p_coin_if_biased_prior_samples = p_coin_if_biased_prior.rvs(N_samples)\n",
    "\n",
    "p_coin_effective = np.where(coin_is_biased_prior_samples, p_coin_if_biased_prior_samples, 0.5)\n",
    "\n",
    "fake_observations = st.binom.rvs(n=n_observations, p=p_coin_effective)\n",
    "coherent = (fake_observations==successes)\n",
    "p_coin_posterior = p_coin_effective[coherent]\n",
    "p_coin_posterior_if_biased = p_coin_effective[coherent&coin_is_biased_prior_samples]\n",
    "p_coin_is_biased_posterior = (coin_is_biased_prior_samples&coherent).sum()/coherent.sum()\n",
    "\n",
    "print(coherent.sum())\n",
    "print(len(p_coin_posterior_if_biased))\n",
    "print(p_coin_is_biased_posterior)"
   ]
  },
  {
   "cell_type": "code",
   "execution_count": 90,
   "id": "diagnostic-warrior",
   "metadata": {
    "slideshow": {
     "slide_type": "slide"
    }
   },
   "outputs": [
    {
     "data": {
      "image/png": "[encoded data removed]",
      "text/plain": [
       "<Figure size 432x288 with 1 Axes>"
      ]
     },
     "metadata": {
      "needs_background": "light"
     },
     "output_type": "display_data"
    }
   ],
   "source": [
    "plt.hist(p_coin_posterior_if_biased, bins=50);"
   ]
  },
  {
   "cell_type": "markdown",
   "id": "developed-corruption",
   "metadata": {
    "slideshow": {
     "slide_type": "slide"
    }
   },
   "source": [
    "# What happens if we have multiple coins?"
   ]
  },
  {
   "cell_type": "code",
   "execution_count": 128,
   "id": "fundamental-document",
   "metadata": {
    "slideshow": {
     "slide_type": "slide"
    }
   },
   "outputs": [],
   "source": [
    "np.random.seed(2)\n",
    "observed = np.array([7, 8, 9])\n",
    "n_trials = len(observed)\n",
    "\n",
    "N_samples = 6\n",
    "prior = st.beta(1, 1)\n",
    "sampled_prior = prior.rvs(N_samples)\n",
    "fake_observations = st.binom.rvs(n=10, p=sampled_prior, size=(n_trials, N_samples))"
   ]
  },
  {
   "cell_type": "code",
   "execution_count": 129,
   "id": "leading-apparel",
   "metadata": {
    "slideshow": {
     "slide_type": "slide"
    }
   },
   "outputs": [
    {
     "data": {
      "text/plain": [
       "array([[10,  4,  4,  2,  4,  0],\n",
       "       [10,  8,  6,  1,  7,  2],\n",
       "       [10,  8,  7,  2,  5,  1]])"
      ]
     },
     "execution_count": 129,
     "metadata": {},
     "output_type": "execute_result"
    }
   ],
   "source": [
    "fake_observations"
   ]
  },
  {
   "cell_type": "code",
   "execution_count": 130,
   "id": "consolidated-construction",
   "metadata": {
    "slideshow": {
     "slide_type": "-"
    }
   },
   "outputs": [
    {
     "data": {
      "text/plain": [
       "array([[False, False, False, False, False, False],\n",
       "       [False,  True, False, False, False, False],\n",
       "       [False, False, False, False, False, False]])"
      ]
     },
     "execution_count": 130,
     "metadata": {},
     "output_type": "execute_result"
    }
   ],
   "source": [
    "fake_observations==observed.reshape(-1, 1)"
   ]
  },
  {
   "cell_type": "code",
   "execution_count": 131,
   "id": "quiet-tournament",
   "metadata": {
    "slideshow": {
     "slide_type": "-"
    }
   },
   "outputs": [
    {
     "data": {
      "text/plain": [
       "array([False, False, False, False, False, False])"
      ]
     },
     "execution_count": 131,
     "metadata": {},
     "output_type": "execute_result"
    }
   ],
   "source": [
    "(fake_observations==observed.reshape(-1, 1)).all(axis=0)"
   ]
  },
  {
   "cell_type": "code",
   "execution_count": 138,
   "id": "graphic-anderson",
   "metadata": {
    "slideshow": {
     "slide_type": "slide"
    }
   },
   "outputs": [
    {
     "data": {
      "text/plain": [
       "2972"
      ]
     },
     "execution_count": 138,
     "metadata": {},
     "output_type": "execute_result"
    }
   ],
   "source": [
    "np.random.seed(2)\n",
    "observed = np.array([7, 8, 9])\n",
    "n_trials = len(observed)\n",
    "\n",
    "N_samples = 1_000_000\n",
    "prior = st.beta(1, 1)\n",
    "sampled_prior = prior.rvs(N_samples)\n",
    "fake_observations = st.binom.rvs(n=10, p=sampled_prior, size=(n_trials, N_samples))\n",
    "(fake_observations==observed.reshape(-1, 1)).all(axis=0).sum()"
   ]
  },
  {
   "cell_type": "markdown",
   "id": "suspected-increase",
   "metadata": {
    "slideshow": {
     "slide_type": "slide"
    }
   },
   "source": [
    "very low acceptance stops us from finding results\n",
    "\n",
    "but we're being too bad with ourselves: we don't care about the ordering of the data, as it is completely arbitrary!\n",
    "\n",
    "we might test the **sorted** data!"
   ]
  },
  {
   "cell_type": "code",
   "execution_count": 133,
   "id": "spiritual-credits",
   "metadata": {
    "slideshow": {
     "slide_type": "slide"
    }
   },
   "outputs": [],
   "source": [
    "np.random.seed(2)\n",
    "observed = np.array([7, 8, 9])\n",
    "n_trials = len(observed)\n",
    "\n",
    "N_samples = 6\n",
    "prior = st.beta(1, 1)\n",
    "sampled_prior = prior.rvs(N_samples)\n",
    "fake_observations = st.binom.rvs(n=10, p=sampled_prior, size=(n_trials, N_samples))"
   ]
  },
  {
   "cell_type": "code",
   "execution_count": 134,
   "id": "structural-service",
   "metadata": {
    "slideshow": {
     "slide_type": "slide"
    }
   },
   "outputs": [
    {
     "data": {
      "text/plain": [
       "array([[10,  4,  4,  2,  4,  0],\n",
       "       [10,  8,  6,  1,  7,  2],\n",
       "       [10,  8,  7,  2,  5,  1]])"
      ]
     },
     "execution_count": 134,
     "metadata": {},
     "output_type": "execute_result"
    }
   ],
   "source": [
    "fake_observations"
   ]
  },
  {
   "cell_type": "code",
   "execution_count": 135,
   "id": "loose-affairs",
   "metadata": {
    "slideshow": {
     "slide_type": "-"
    }
   },
   "outputs": [
    {
     "data": {
      "text/plain": [
       "array([[10,  4,  4,  1,  4,  0],\n",
       "       [10,  8,  6,  2,  5,  1],\n",
       "       [10,  8,  7,  2,  7,  2]])"
      ]
     },
     "execution_count": 135,
     "metadata": {},
     "output_type": "execute_result"
    }
   ],
   "source": [
    "np.sort(fake_observations, axis=0)"
   ]
  },
  {
   "cell_type": "code",
   "execution_count": 139,
   "id": "consistent-graphic",
   "metadata": {
    "slideshow": {
     "slide_type": "slide"
    }
   },
   "outputs": [
    {
     "data": {
      "text/plain": [
       "17555"
      ]
     },
     "execution_count": 139,
     "metadata": {},
     "output_type": "execute_result"
    }
   ],
   "source": [
    "np.random.seed(2)\n",
    "observed = np.array([7, 8, 9]).reshape(-1, 1)\n",
    "n_trials = len(observed)\n",
    "\n",
    "N_samples = 1_000_000\n",
    "prior = st.beta(1, 1)\n",
    "sampled_prior = prior.rvs(N_samples)\n",
    "fake_observations = st.binom.rvs(n=10, p=sampled_prior, size=(n_trials, N_samples))\n",
    "\n",
    "fake_observations = np.sort(fake_observations, axis=0)\n",
    "observed = np.sort(observed, axis=0)\n",
    "\n",
    "(fake_observations==observed).all(axis=0).sum()"
   ]
  },
  {
   "cell_type": "code",
   "execution_count": 140,
   "id": "intelligent-magnet",
   "metadata": {
    "slideshow": {
     "slide_type": "slide"
    }
   },
   "outputs": [
    {
     "data": {
      "text/plain": [
       "5.906796769851952"
      ]
     },
     "execution_count": 140,
     "metadata": {},
     "output_type": "execute_result"
    }
   ],
   "source": [
    "17555/2972"
   ]
  },
  {
   "cell_type": "markdown",
   "id": "protecting-thanksgiving",
   "metadata": {
    "slideshow": {
     "slide_type": "-"
    }
   },
   "source": [
    "we captured 6 times more cases!"
   ]
  },
  {
   "cell_type": "markdown",
   "id": "258e9ef8",
   "metadata": {
    "slideshow": {
     "slide_type": "-"
    }
   },
   "source": [
    "this approach is extremely useful when there is some invariant in my data (for example permutations)"
   ]
  },
  {
   "cell_type": "markdown",
   "id": "d64930ee",
   "metadata": {
    "slideshow": {
     "slide_type": "slide"
    }
   },
   "source": [
    "## sampling requirement limitations\n",
    "\n",
    "a common problem of this approach is that increasing the number of data and the dimensionality (in particular if the prior is strongly different from the posterior), the number of sampling required is incredibly high.\n",
    "\n",
    "on the upside, we can easily parallelize the computation, but it is often not enough.\n",
    "\n",
    "in the extreme case of real valued parameters, the probability of exact sampling is exactly zero!"
   ]
  },
  {
   "cell_type": "markdown",
   "id": "d1ad662f",
   "metadata": {
    "slideshow": {
     "slide_type": "slide"
    }
   },
   "source": [
    "NOTE: for continuous values it is still formally possible to perform perfect sampling on real data, considering that the measurement procedure involves always a rounding/truncation procedure... \n",
    "\n",
    "formally the probabily is not 0 anymore, but it's still incredibly low unless the rounding is very strong"
   ]
  },
  {
   "cell_type": "markdown",
   "id": "41ffb27f",
   "metadata": {
    "slideshow": {
     "slide_type": "slide"
    }
   },
   "source": [
    "## distance based approach\n",
    "\n",
    "to increase the sampling rate, with a (non trivial) reduction in the quality of the fit, one possibility is to use\n",
    "\n",
    "#### Approximated Bayesian Computation\n",
    "\n",
    "the idea is that we accept any data that is close enough, where \"close\" is defined over a set of measurements instead of the whole dataset.\n",
    "\n",
    "examples could be: mean, standard deviation, rate, etc...\n",
    "\n",
    "**IMPORTANT**: the result depends also on the chosen threshold!"
   ]
  },
  {
   "cell_type": "markdown",
   "id": "df5536f6",
   "metadata": {
    "slideshow": {
     "slide_type": "fragment"
    }
   },
   "source": [
    "if we are working in the exponential distribution family and use the natural parametrization, the result should be unbiased"
   ]
  },
  {
   "cell_type": "markdown",
   "id": "669e40f9",
   "metadata": {
    "slideshow": {
     "slide_type": "slide"
    }
   },
   "source": [
    "## non likelihood-based approaches\n",
    "\n",
    "One of the bis advantages of this approach is that one doesn't need to be able to define a likelihood function: if the data can be simulated in any way from the priors, we don't need anything else.\n",
    "\n",
    "likelihood based models are exremely more efficient computation wise, but often are suffer from a **\"specification problem\"**: I can only model what I can represent with composition of simple distributions"
   ]
  },
  {
   "cell_type": "markdown",
   "id": "13d86e7c",
   "metadata": {
    "slideshow": {
     "slide_type": "fragment"
    }
   },
   "source": [
    "one simple example can be shown with ODE.\n",
    "They are not random, but it can still be used to perform a fit!"
   ]
  },
  {
   "cell_type": "code",
   "execution_count": 90,
   "id": "c02a8c92",
   "metadata": {
    "slideshow": {
     "slide_type": "slide"
    }
   },
   "outputs": [
    {
     "data": {
      "text/plain": [
       "array([1.        , 1.84983933, 3.16770552, 4.86411522, 6.59242029,\n",
       "       7.98058516, 8.89779416, 9.42825654])"
      ]
     },
     "execution_count": 90,
     "metadata": {},
     "output_type": "execute_result"
    }
   ],
   "source": [
    "from scipy.optimize import curve_fit\n",
    "from scipy.integrate import odeint\n",
    "\n",
    "# derivative\n",
    "def logistic(state, time, α, β):\n",
    "    N = state\n",
    "    δN = α*N*(1-N/β)\n",
    "    return δN\n",
    "\n",
    "def logistic_predict(N0, α, β, time):\n",
    "    res = odeint(logistic, y0=N0, t=time, args=(α, β))\n",
    "    return res.ravel()\n",
    "\n",
    "time = np.linspace(0, 5, 2**3)\n",
    "N0, α, β = 1, 1, 10\n",
    "original = logistic_predict(N0, α, β, time)\n",
    "original"
   ]
  },
  {
   "cell_type": "markdown",
   "id": "6a50368f",
   "metadata": {
    "slideshow": {
     "slide_type": "slide"
    }
   },
   "source": [
    "we could use as a distance the sum of the square of the differences"
   ]
  },
  {
   "cell_type": "code",
   "execution_count": 91,
   "id": "ffab9a88",
   "metadata": {
    "slideshow": {
     "slide_type": "-"
    }
   },
   "outputs": [
    {
     "data": {
      "text/plain": [
       "array([1.1       , 2.13070378, 3.7190289 , 5.63292789, 7.35909333,\n",
       "       8.55384672, 9.23739986, 9.58657484])"
      ]
     },
     "execution_count": 91,
     "metadata": {},
     "output_type": "execute_result"
    }
   ],
   "source": [
    "N0_hat, α_hat, β_hat = 1.1, 1.1,9.9\n",
    "sampled = logistic_predict(N0_hat, α_hat, β_hat, time)\n",
    "sampled"
   ]
  },
  {
   "cell_type": "code",
   "execution_count": 92,
   "id": "ace540b8",
   "metadata": {
    "slideshow": {
     "slide_type": "-"
    }
   },
   "outputs": [
    {
     "data": {
      "text/plain": [
       "1.4285406231844497"
      ]
     },
     "execution_count": 92,
     "metadata": {},
     "output_type": "execute_result"
    }
   ],
   "source": [
    "def dist(samp1, samp2):\n",
    "    return np.sqrt(np.sum((samp1-samp2)**2))\n",
    "\n",
    "dist(original, sampled)"
   ]
  },
  {
   "cell_type": "markdown",
   "id": "3f77cf80",
   "metadata": {
    "slideshow": {
     "slide_type": "slide"
    }
   },
   "source": [
    "let's try a threshold of one, with some simple priors"
   ]
  },
  {
   "cell_type": "code",
   "execution_count": 94,
   "id": "3b33765b",
   "metadata": {
    "slideshow": {
     "slide_type": "slide"
    }
   },
   "outputs": [],
   "source": [
    "def plot_dist(dist, ax=None, base=np.linspace(0, 20, 10_000), **kwargs):\n",
    "    if ax is None:\n",
    "        ax=plt.gca()\n",
    "    pdf = dist.pdf(base)\n",
    "    kwargs.setdefault(\"alpha\", 0.5)\n",
    "    ax.fill_between(base, pdf, 0, **kwargs)"
   ]
  },
  {
   "cell_type": "code",
   "execution_count": 98,
   "id": "51d4a2dd",
   "metadata": {
    "slideshow": {
     "slide_type": "slide"
    }
   },
   "outputs": [],
   "source": [
    "N0_prior = st.gamma(1, scale=1, loc=0)\n",
    "α_prior = st.gamma(1, scale=1, loc=0)\n",
    "β_prior = st.gamma(1, scale=10, loc=0)"
   ]
  },
  {
   "cell_type": "code",
   "execution_count": 99,
   "id": "2c151345",
   "metadata": {
    "slideshow": {
     "slide_type": "-"
    }
   },
   "outputs": [
    {
     "data": {
      "image/png": "[encoded data removed]",
      "text/plain": [
       "<Figure size 432x288 with 1 Axes>"
      ]
     },
     "metadata": {
      "needs_background": "light"
     },
     "output_type": "display_data"
    }
   ],
   "source": [
    "plot_dist(α_prior)\n",
    "plot_dist(β_prior)\n",
    "plot_dist(N0_prior)"
   ]
  },
  {
   "cell_type": "code",
   "execution_count": 100,
   "id": "9feafd3d",
   "metadata": {
    "slideshow": {
     "slide_type": "slide"
    }
   },
   "outputs": [
    {
     "name": "stdout",
     "output_type": "stream",
     "text": [
      "[2.33472184] [1.02405695] [8.98527664]\n",
      "[2.33472184 3.79010012 5.41414216 6.8204747  7.79476544 8.37011585\n",
      " 8.67835905 8.83492298]\n",
      "4.051848820347763\n"
     ]
    }
   ],
   "source": [
    "N0_hat = N0_prior.rvs(1)\n",
    "α_hat = α_prior.rvs(1)\n",
    "β_hat = β_prior.rvs(1)\n",
    "print(N0_hat, α_hat, β_hat)\n",
    "sampled = logistic_predict(N0_hat, α_hat, β_hat, time)\n",
    "print(sampled)\n",
    "d = dist(original, sampled)\n",
    "print(d)"
   ]
  },
  {
   "cell_type": "code",
   "execution_count": 106,
   "id": "b59ef887",
   "metadata": {
    "slideshow": {
     "slide_type": "slide"
    }
   },
   "outputs": [
    {
     "name": "stdout",
     "output_type": "stream",
     "text": [
      "CPU times: user 3min 37s, sys: 1.94 s, total: 3min 39s\n",
      "Wall time: 3min 35s\n"
     ]
    },
    {
     "data": {
      "text/plain": [
       "116"
      ]
     },
     "execution_count": 106,
     "metadata": {},
     "output_type": "execute_result"
    }
   ],
   "source": [
    "%%time\n",
    "accepted = []\n",
    "for i in range(100_000):\n",
    "    N0_hat = N0_prior.rvs(1)\n",
    "    α_hat = α_prior.rvs(1)\n",
    "    β_hat = β_prior.rvs(1)\n",
    "    sampled = logistic_predict(N0_hat, α_hat, β_hat, time)\n",
    "    d = dist(original, sampled)\n",
    "    if d<1:\n",
    "        accepted.append([N0_hat, α_hat, β_hat])\n",
    "accepted = np.array(accepted)\n",
    "len(accepted)"
   ]
  },
  {
   "cell_type": "code",
   "execution_count": 113,
   "id": "ebbdeccf",
   "metadata": {
    "slideshow": {
     "slide_type": "slide"
    }
   },
   "outputs": [
    {
     "data": {
      "image/png": "[encoded data removed]",
      "text/plain": [
       "<Figure size 864x288 with 3 Axes>"
      ]
     },
     "metadata": {
      "needs_background": "light"
     },
     "output_type": "display_data"
    }
   ],
   "source": [
    "fig, axes = plt.subplots(1, 3, figsize=(12, 4))\n",
    "axes[0].hist(accepted[:, 0], density=True)\n",
    "axes[1].hist(accepted[:, 1], density=True)\n",
    "axes[2].hist(accepted[:, 2], density=True)\n",
    "plot_dist(α_prior, ax=axes[1])\n",
    "plot_dist(β_prior, ax=axes[2])\n",
    "plot_dist(N0_prior, ax=axes[0])\n",
    "axes[0].set_title(\"$N_0$ posterior\")\n",
    "axes[1].set_title(\"α posterior\")\n",
    "axes[2].set_title(\"β posterior\")\n",
    "fig.tight_layout()"
   ]
  },
  {
   "cell_type": "code",
   "execution_count": null,
   "id": "d4169c7d",
   "metadata": {},
   "outputs": [],
   "source": []
  }
 ],
 "metadata": {
  "celltoolbar": "Slideshow",
  "kernelspec": {
   "display_name": "Python 3",
   "language": "python",
   "name": "python3"
  },
  "language_info": {
   "codemirror_mode": {
    "name": "ipython",
    "version": 3
   },
   "file_extension": ".py",
   "mimetype": "text/x-python",
   "name": "python",
   "nbconvert_exporter": "python",
   "pygments_lexer": "ipython3",
   "version": "3.8.6"
  }
 },
 "nbformat": 4,
 "nbformat_minor": 5
}
