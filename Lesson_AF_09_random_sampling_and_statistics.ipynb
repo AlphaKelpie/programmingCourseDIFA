{
 "cells": [
  {
   "cell_type": "markdown",
   "id": "right-superintendent",
   "metadata": {},
   "source": [
    "# Random Sampling and distance-based Statistics"
   ]
  },
  {
   "cell_type": "code",
   "execution_count": 1,
   "id": "senior-cement",
   "metadata": {},
   "outputs": [],
   "source": [
    "import numpy as np\n",
    "import pylab as plt\n",
    "import scipy.stats as st\n",
    "import seaborn as sns"
   ]
  },
  {
   "cell_type": "markdown",
   "id": "continuous-spotlight",
   "metadata": {},
   "source": [
    "a very useful notion in statistics is the idea of (pseudo-)distance between samples.\n",
    "\n",
    "given two observation, we can compute "
   ]
  },
  {
   "cell_type": "markdown",
   "id": "heated-hazard",
   "metadata": {},
   "source": [
    "# Perfect Sampling (Bayesian statistics)\n",
    "\n",
    "http://www.sumsar.net/blog/2014/10/tiny-data-and-the-socks-of-karl-broman/"
   ]
  },
  {
   "cell_type": "markdown",
   "id": "hispanic-birthday",
   "metadata": {},
   "source": [
    "we observe a biased coin with 7 heads and 3 tails.\n",
    "\n",
    "from formal analysis, we can derive the distribution as ${Beta}(7+\\alpha, 3+\\beta)$\n",
    "\n",
    "for these analysis there is no significant advantage in using the low-divergence sequences, so we'll work with standard random numbers."
   ]
  },
  {
   "cell_type": "code",
   "execution_count": 2,
   "id": "sealed-cholesterol",
   "metadata": {},
   "outputs": [],
   "source": [
    "def plot_beta(dist, ax=None, base=np.linspace(0, 1, 10_000), **kwargs):\n",
    "    if ax is None:\n",
    "        ax=plt.gca()\n",
    "    pdf = dist.pdf(base)\n",
    "    kwargs.setdefault(\"alpha\", 0.5)\n",
    "    ax.fill_between(base, pdf, 0, **kwargs)"
   ]
  },
  {
   "cell_type": "code",
   "execution_count": 3,
   "id": "animal-maple",
   "metadata": {},
   "outputs": [
    {
     "data": {
      "image/png": "[encoded data removed]",
      "text/plain": [
       "<Figure size 432x288 with 1 Axes>"
      ]
     },
     "metadata": {
      "needs_background": "light"
     },
     "output_type": "display_data"
    }
   ],
   "source": [
    "α, β = 1, 1\n",
    "true_posterior = st.beta(7+α, 3+β)\n",
    "plot_beta(true_posterior)"
   ]
  },
  {
   "cell_type": "code",
   "execution_count": 4,
   "id": "agricultural-lambda",
   "metadata": {},
   "outputs": [
    {
     "data": {
      "image/png": "[encoded data removed]",
      "text/plain": [
       "<Figure size 432x288 with 1 Axes>"
      ]
     },
     "metadata": {
      "needs_background": "light"
     },
     "output_type": "display_data"
    }
   ],
   "source": [
    "α, β = 1, 1\n",
    "prior = st.beta(α, β)\n",
    "plot_beta(prior)"
   ]
  },
  {
   "cell_type": "code",
   "execution_count": 5,
   "id": "proud-volume",
   "metadata": {},
   "outputs": [],
   "source": [
    "N_samples = 1_0\n",
    "sampled_prior = prior.rvs(N_samples)"
   ]
  },
  {
   "cell_type": "code",
   "execution_count": 6,
   "id": "asian-cancer",
   "metadata": {},
   "outputs": [
    {
     "data": {
      "text/plain": [
       "array([ 0,  3,  4,  6,  8, 10,  6,  8,  7, 10])"
      ]
     },
     "execution_count": 6,
     "metadata": {},
     "output_type": "execute_result"
    }
   ],
   "source": [
    "st.binom.rvs(n=10, p=sampled_prior)"
   ]
  },
  {
   "cell_type": "code",
   "execution_count": 7,
   "id": "metric-correspondence",
   "metadata": {},
   "outputs": [],
   "source": [
    "fake_observations = st.binom.rvs(n=10, p=sampled_prior)"
   ]
  },
  {
   "cell_type": "code",
   "execution_count": 8,
   "id": "naughty-overview",
   "metadata": {},
   "outputs": [
    {
     "name": "stdout",
     "output_type": "stream",
     "text": [
      "1\n"
     ]
    }
   ],
   "source": [
    "observed = 7\n",
    "coherent = (fake_observations==7)\n",
    "selected_prior = sampled_prior[coherent]\n",
    "print(len(selected_prior))"
   ]
  },
  {
   "cell_type": "code",
   "execution_count": 14,
   "id": "prompt-display",
   "metadata": {},
   "outputs": [
    {
     "name": "stdout",
     "output_type": "stream",
     "text": [
      "12\n"
     ]
    }
   ],
   "source": [
    "observed = 7\n",
    "N_samples = 100\n",
    "sampled_prior = prior.rvs(N_samples)\n",
    "fake_observations = st.binom.rvs(n=10, p=sampled_prior)\n",
    "coherent = (fake_observations==7)\n",
    "selected_prior = sampled_prior[coherent]\n",
    "print(len(selected_prior))"
   ]
  },
  {
   "cell_type": "code",
   "execution_count": 15,
   "id": "filled-minute",
   "metadata": {},
   "outputs": [
    {
     "data": {
      "image/png": "[encoded data removed]",
      "text/plain": [
       "<Figure size 432x288 with 1 Axes>"
      ]
     },
     "metadata": {
      "needs_background": "light"
     },
     "output_type": "display_data"
    }
   ],
   "source": [
    "plt.hist(st.norm.isf(plt.rand(2000)), bins=50);"
   ]
  },
  {
   "cell_type": "code",
   "execution_count": 16,
   "id": "stopped-hamburg",
   "metadata": {},
   "outputs": [
    {
     "data": {
      "text/plain": [
       "array([ 1.,  0.,  2.,  0.,  7.,  2.,  0., 10.,  2.,  2.,  1.,  2.,  5.,\n",
       "        5.,  9.,  0.,  3., 10.,  0.,  2.,  5.,  9.,  2.,  2.,  0., 10.,\n",
       "        5.,  5.,  8.,  1.,  1.,  8.,  5.,  5.,  1., 10.,  2.,  2.,  2.,\n",
       "        1.,  2.,  0.,  6.,  6.,  0.,  6.,  4.,  4.,  1.,  0.,  9.,  8.,\n",
       "        2.,  1.,  5.,  4.,  7.,  1.,  4.,  2.,  8.,  7.,  3.,  3.,  2.,\n",
       "        4.,  5.,  0.,  2.,  6.,  2.,  5.,  2.,  7.,  6., 10.,  8.,  0.,\n",
       "        4.,  9.,  3.,  6.,  9.,  3.,  2.,  6.,  7.,  0.,  9.,  3.,  5.,\n",
       "        2.,  7.,  1.,  8.,  6.,  2.,  6., 10.,  8.])"
      ]
     },
     "execution_count": 16,
     "metadata": {},
     "output_type": "execute_result"
    }
   ],
   "source": [
    "st.binom(n=10, p=sampled_prior).isf(plt.rand(len(sampled_prior)))"
   ]
  },
  {
   "cell_type": "code",
   "execution_count": 17,
   "id": "scientific-accommodation",
   "metadata": {},
   "outputs": [
    {
     "data": {
      "image/png": "[encoded data removed]",
      "text/plain": [
       "<Figure size 432x288 with 1 Axes>"
      ]
     },
     "metadata": {
      "needs_background": "light"
     },
     "output_type": "display_data"
    }
   ],
   "source": [
    "plt.hist(selected_prior, bins=50, density=True, alpha=0.5, color=\"coral\");\n",
    "plot_beta(true_posterior, color='teal')"
   ]
  },
  {
   "cell_type": "code",
   "execution_count": 28,
   "id": "enhanced-contractor",
   "metadata": {},
   "outputs": [
    {
     "name": "stdout",
     "output_type": "stream",
     "text": [
      "accepted samples: 9080\n",
      "acceptance fraction: 9.08%\n",
      "-----\n",
      "CPU times: user 56.6 ms, sys: 3.26 ms, total: 59.9 ms\n",
      "Wall time: 58.1 ms\n"
     ]
    }
   ],
   "source": [
    "%%time\n",
    "observed = 7\n",
    "N_samples = 100_000\n",
    "sampled_prior = prior.rvs(N_samples)\n",
    "fake_observations = st.binom.rvs(n=10, p=sampled_prior)\n",
    "coherent = (fake_observations==7)\n",
    "selected_prior = sampled_prior[coherent]\n",
    "n_accepted = len(selected_prior)\n",
    "s = \"accepted samples: {}\\nacceptance fraction: {}%\\n-----\"\n",
    "print(s.format(n_accepted, 100*n_accepted/N_samples))"
   ]
  },
  {
   "cell_type": "code",
   "execution_count": 21,
   "id": "handed-vanilla",
   "metadata": {},
   "outputs": [
    {
     "data": {
      "image/png": "[encoded data removed]",
      "text/plain": [
       "<Figure size 432x288 with 1 Axes>"
      ]
     },
     "metadata": {
      "needs_background": "light"
     },
     "output_type": "display_data"
    }
   ],
   "source": [
    "plt.hist(selected_prior, bins=50, density=True, alpha=0.5, color=\"coral\");\n",
    "plot_beta(true_posterior, color='teal')"
   ]
  },
  {
   "cell_type": "markdown",
   "id": "mathematical-belfast",
   "metadata": {},
   "source": [
    "# how do different priors affect me?"
   ]
  },
  {
   "cell_type": "code",
   "execution_count": 35,
   "id": "suspected-personality",
   "metadata": {},
   "outputs": [],
   "source": [
    "def fit_probability(successes=7, failures=3, α=1, β=1, N_samples=100_000):\n",
    "    prior = st.beta(α, β)\n",
    "    true_posterior = st.beta(successes+α, failures+β)\n",
    "    sampled_prior = prior.rvs(N_samples)\n",
    "    n_observations = successes+failures\n",
    "    fake_observations = st.binom.rvs(n=n_observations, p=sampled_prior)\n",
    "    coherent = (fake_observations==successes)\n",
    "    selected_prior = sampled_prior[coherent]\n",
    "    return prior, true_posterior, selected_prior"
   ]
  },
  {
   "cell_type": "code",
   "execution_count": 38,
   "id": "about-skating",
   "metadata": {},
   "outputs": [
    {
     "name": "stdout",
     "output_type": "stream",
     "text": [
      "accepted samples: 6628\n",
      "acceptance fraction: 6.628%\n",
      "-----\n"
     ]
    },
    {
     "data": {
      "image/png": "[encoded data removed]",
      "text/plain": [
       "<Figure size 432x288 with 1 Axes>"
      ]
     },
     "metadata": {
      "needs_background": "light"
     },
     "output_type": "display_data"
    }
   ],
   "source": [
    "result = fit_probability(successes=7, failures=3, α=0.5, β=0.5, N_samples=100_000)\n",
    "prior, true_posterior, selected_prior = result\n",
    "n_accepted = len(selected_prior)\n",
    "s = \"accepted samples: {}\\nacceptance fraction: {}%\\n-----\"\n",
    "print(s.format(n_accepted, 100*n_accepted/N_samples))\n",
    "plt.hist(selected_prior, bins=50, density=True, alpha=0.5, color=\"coral\");\n",
    "plot_beta(true_posterior, color='teal')\n",
    "plot_beta(prior, color='violet')"
   ]
  },
  {
   "cell_type": "code",
   "execution_count": 37,
   "id": "polyphonic-second",
   "metadata": {},
   "outputs": [
    {
     "name": "stdout",
     "output_type": "stream",
     "text": [
      "accepted samples: 9069\n",
      "acceptance fraction: 9.069%\n",
      "-----\n"
     ]
    },
    {
     "data": {
      "image/png": "[encoded data removed]",
      "text/plain": [
       "<Figure size 432x288 with 1 Axes>"
      ]
     },
     "metadata": {
      "needs_background": "light"
     },
     "output_type": "display_data"
    }
   ],
   "source": [
    "result = fit_probability(successes=7, failures=3, α=1, β=1, N_samples=100_000)\n",
    "prior, true_posterior, selected_prior = result\n",
    "n_accepted = len(selected_prior)\n",
    "s = \"accepted samples: {}\\nacceptance fraction: {}%\\n-----\"\n",
    "print(s.format(n_accepted, 100*n_accepted/N_samples))\n",
    "plt.hist(selected_prior, bins=50, density=True, alpha=0.5, color=\"coral\");\n",
    "plot_beta(true_posterior, color='teal')\n",
    "plot_beta(prior, color='violet')"
   ]
  },
  {
   "cell_type": "code",
   "execution_count": 33,
   "id": "continent-approach",
   "metadata": {},
   "outputs": [
    {
     "name": "stdout",
     "output_type": "stream",
     "text": [
      "accepted samples: 11192\n",
      "acceptance fraction: 11.192%\n",
      "-----\n"
     ]
    },
    {
     "data": {
      "image/png": "[encoded data removed]",
      "text/plain": [
       "<Figure size 432x288 with 1 Axes>"
      ]
     },
     "metadata": {
      "needs_background": "light"
     },
     "output_type": "display_data"
    }
   ],
   "source": [
    "result = fit_probability(successes=7, failures=3, α=1, β=1, N_samples=100_000)\n",
    "prior, true_posterior, selected_prior = result\n",
    "n_accepted = len(selected_prior)\n",
    "s = \"accepted samples: {}\\nacceptance fraction: {}%\\n-----\"\n",
    "print(s.format(n_accepted, 100*n_accepted/N_samples))\n",
    "plt.hist(selected_prior, bins=50, density=True, alpha=0.5, color=\"coral\");\n",
    "plot_beta(true_posterior, color='teal')\n",
    "plot_beta(prior, color='violet')"
   ]
  },
  {
   "cell_type": "code",
   "execution_count": 39,
   "id": "social-brook",
   "metadata": {},
   "outputs": [
    {
     "name": "stdout",
     "output_type": "stream",
     "text": [
      "accepted samples: 12536\n",
      "acceptance fraction: 12.536%\n",
      "-----\n"
     ]
    },
    {
     "data": {
      "image/png": "[encoded data removed]",
      "text/plain": [
       "<Figure size 432x288 with 1 Axes>"
      ]
     },
     "metadata": {
      "needs_background": "light"
     },
     "output_type": "display_data"
    }
   ],
   "source": [
    "result = fit_probability(successes=7, failures=3, α=5, β=5, N_samples=100_000)\n",
    "prior, true_posterior, selected_prior = result\n",
    "n_accepted = len(selected_prior)\n",
    "s = \"accepted samples: {}\\nacceptance fraction: {}%\\n-----\"\n",
    "print(s.format(n_accepted, 100*n_accepted/N_samples))\n",
    "plt.hist(selected_prior, bins=50, density=True, alpha=0.5, color=\"coral\");\n",
    "plot_beta(true_posterior, color='teal')\n",
    "plot_beta(prior, color='violet')"
   ]
  },
  {
   "cell_type": "code",
   "execution_count": 40,
   "id": "fundamental-induction",
   "metadata": {},
   "outputs": [
    {
     "name": "stdout",
     "output_type": "stream",
     "text": [
      "accepted samples: 11987\n",
      "acceptance fraction: 11.987%\n",
      "-----\n"
     ]
    },
    {
     "data": {
      "image/png": "[encoded data removed]",
      "text/plain": [
       "<Figure size 432x288 with 1 Axes>"
      ]
     },
     "metadata": {
      "needs_background": "light"
     },
     "output_type": "display_data"
    }
   ],
   "source": [
    "result = fit_probability(successes=7, failures=3, α=50, β=50, N_samples=100_000)\n",
    "prior, true_posterior, selected_prior = result\n",
    "n_accepted = len(selected_prior)\n",
    "s = \"accepted samples: {}\\nacceptance fraction: {}%\\n-----\"\n",
    "print(s.format(n_accepted, 100*n_accepted/N_samples))\n",
    "plt.hist(selected_prior, bins=50, density=True, alpha=0.5, color=\"coral\");\n",
    "plot_beta(true_posterior, color='teal')\n",
    "plot_beta(prior, color='violet')"
   ]
  },
  {
   "cell_type": "markdown",
   "id": "designed-period",
   "metadata": {},
   "source": [
    "# discontinuous model\n",
    "\n",
    "we could try to decide if the coin is biased or not, rather than estimating a probability\n",
    "\n",
    "to do this, we need hyperparameters describing the set of models"
   ]
  },
  {
   "cell_type": "code",
   "execution_count": 95,
   "id": "humanitarian-colorado",
   "metadata": {},
   "outputs": [
    {
     "name": "stdout",
     "output_type": "stream",
     "text": [
      "971\n",
      "890\n",
      "0.9165808444902163\n"
     ]
    }
   ],
   "source": [
    "α_of_bias, β_of_bias = 1, 1\n",
    "belief_coin_biased = 0.1\n",
    "\n",
    "n_observations = 10\n",
    "successes = 10\n",
    "\n",
    "N_samples = 100_000\n",
    "\n",
    "coin_is_biased_prior = st.binom(n=1, p=belief_coin_biased)\n",
    "coin_is_biased_prior_samples = coin_is_biased_prior.rvs(N_samples).astype(bool)\n",
    "\n",
    "p_coin_if_biased_prior = st.beta(α_of_bias, β_of_bias)\n",
    "p_coin_if_biased_prior_samples = p_coin_if_biased_prior.rvs(N_samples)\n",
    "\n",
    "p_coin_effective = np.where(coin_is_biased_prior_samples, p_coin_if_biased_prior_samples, 0.5)\n",
    "\n",
    "fake_observations = st.binom.rvs(n=n_observations, p=p_coin_effective)\n",
    "coherent = (fake_observations==successes)\n",
    "p_coin_posterior = p_coin_effective[coherent]\n",
    "p_coin_posterior_if_biased = p_coin_effective[coherent&coin_is_biased_prior_samples]\n",
    "p_coin_is_biased_posterior = (coin_is_biased_prior_samples&coherent).sum()/coherent.sum()\n",
    "\n",
    "print(coherent.sum())\n",
    "print(len(p_coin_posterior_if_biased))\n",
    "print(p_coin_is_biased_posterior)"
   ]
  },
  {
   "cell_type": "code",
   "execution_count": 90,
   "id": "diagnostic-warrior",
   "metadata": {},
   "outputs": [
    {
     "data": {
      "image/png": "[encoded data removed]",
      "text/plain": [
       "<Figure size 432x288 with 1 Axes>"
      ]
     },
     "metadata": {
      "needs_background": "light"
     },
     "output_type": "display_data"
    }
   ],
   "source": [
    "plt.hist(p_coin_posterior_if_biased, bins=50);"
   ]
  },
  {
   "cell_type": "code",
   "execution_count": 99,
   "id": "european-filling",
   "metadata": {},
   "outputs": [
    {
     "data": {
      "text/plain": [
       "array([[ 2,  7],\n",
       "       [ 2,  9],\n",
       "       [ 1, 10],\n",
       "       [ 1,  8]])"
      ]
     },
     "execution_count": 99,
     "metadata": {},
     "output_type": "execute_result"
    }
   ],
   "source": [
    "st.binom.rvs(n=10, p=[0.1, 0.9], size=(4, 2))"
   ]
  },
  {
   "cell_type": "markdown",
   "id": "developed-corruption",
   "metadata": {},
   "source": [
    "# What happens if we have multiple coins?"
   ]
  },
  {
   "cell_type": "code",
   "execution_count": 128,
   "id": "fundamental-document",
   "metadata": {},
   "outputs": [],
   "source": [
    "np.random.seed(2)\n",
    "observed = np.array([7, 8, 9])\n",
    "n_trials = len(observed)\n",
    "\n",
    "N_samples = 6\n",
    "prior = st.beta(1, 1)\n",
    "sampled_prior = prior.rvs(N_samples)\n",
    "fake_observations = st.binom.rvs(n=10, p=sampled_prior, size=(n_trials, N_samples))"
   ]
  },
  {
   "cell_type": "code",
   "execution_count": 129,
   "id": "leading-apparel",
   "metadata": {},
   "outputs": [
    {
     "data": {
      "text/plain": [
       "array([[10,  4,  4,  2,  4,  0],\n",
       "       [10,  8,  6,  1,  7,  2],\n",
       "       [10,  8,  7,  2,  5,  1]])"
      ]
     },
     "execution_count": 129,
     "metadata": {},
     "output_type": "execute_result"
    }
   ],
   "source": [
    "fake_observations"
   ]
  },
  {
   "cell_type": "code",
   "execution_count": 130,
   "id": "consolidated-construction",
   "metadata": {},
   "outputs": [
    {
     "data": {
      "text/plain": [
       "array([[False, False, False, False, False, False],\n",
       "       [False,  True, False, False, False, False],\n",
       "       [False, False, False, False, False, False]])"
      ]
     },
     "execution_count": 130,
     "metadata": {},
     "output_type": "execute_result"
    }
   ],
   "source": [
    "fake_observations==observed.reshape(-1, 1)"
   ]
  },
  {
   "cell_type": "code",
   "execution_count": 131,
   "id": "quiet-tournament",
   "metadata": {},
   "outputs": [
    {
     "data": {
      "text/plain": [
       "array([False, False, False, False, False, False])"
      ]
     },
     "execution_count": 131,
     "metadata": {},
     "output_type": "execute_result"
    }
   ],
   "source": [
    "(fake_observations==observed.reshape(-1, 1)).all(axis=0)"
   ]
  },
  {
   "cell_type": "code",
   "execution_count": 138,
   "id": "graphic-anderson",
   "metadata": {},
   "outputs": [
    {
     "data": {
      "text/plain": [
       "2972"
      ]
     },
     "execution_count": 138,
     "metadata": {},
     "output_type": "execute_result"
    }
   ],
   "source": [
    "np.random.seed(2)\n",
    "observed = np.array([7, 8, 9])\n",
    "n_trials = len(observed)\n",
    "\n",
    "N_samples = 1_000_000\n",
    "prior = st.beta(1, 1)\n",
    "sampled_prior = prior.rvs(N_samples)\n",
    "fake_observations = st.binom.rvs(n=10, p=sampled_prior, size=(n_trials, N_samples))\n",
    "(fake_observations==observed.reshape(-1, 1)).all(axis=0).sum()"
   ]
  },
  {
   "cell_type": "markdown",
   "id": "suspected-increase",
   "metadata": {},
   "source": [
    "very low acceptance stops us from finding results\n",
    "\n",
    "but we're being too bad with ourselves: we don't care about the ordering of the data, as it is completely arbitrary!\n",
    "\n",
    "we might test the **sorted** data!"
   ]
  },
  {
   "cell_type": "code",
   "execution_count": 133,
   "id": "spiritual-credits",
   "metadata": {},
   "outputs": [],
   "source": [
    "np.random.seed(2)\n",
    "observed = np.array([7, 8, 9])\n",
    "n_trials = len(observed)\n",
    "\n",
    "N_samples = 6\n",
    "prior = st.beta(1, 1)\n",
    "sampled_prior = prior.rvs(N_samples)\n",
    "fake_observations = st.binom.rvs(n=10, p=sampled_prior, size=(n_trials, N_samples))"
   ]
  },
  {
   "cell_type": "code",
   "execution_count": 134,
   "id": "structural-service",
   "metadata": {},
   "outputs": [
    {
     "data": {
      "text/plain": [
       "array([[10,  4,  4,  2,  4,  0],\n",
       "       [10,  8,  6,  1,  7,  2],\n",
       "       [10,  8,  7,  2,  5,  1]])"
      ]
     },
     "execution_count": 134,
     "metadata": {},
     "output_type": "execute_result"
    }
   ],
   "source": [
    "fake_observations"
   ]
  },
  {
   "cell_type": "code",
   "execution_count": 135,
   "id": "loose-affairs",
   "metadata": {},
   "outputs": [
    {
     "data": {
      "text/plain": [
       "array([[10,  4,  4,  1,  4,  0],\n",
       "       [10,  8,  6,  2,  5,  1],\n",
       "       [10,  8,  7,  2,  7,  2]])"
      ]
     },
     "execution_count": 135,
     "metadata": {},
     "output_type": "execute_result"
    }
   ],
   "source": [
    "np.sort(fake_observations, axis=0)"
   ]
  },
  {
   "cell_type": "code",
   "execution_count": 139,
   "id": "consistent-graphic",
   "metadata": {},
   "outputs": [
    {
     "data": {
      "text/plain": [
       "17555"
      ]
     },
     "execution_count": 139,
     "metadata": {},
     "output_type": "execute_result"
    }
   ],
   "source": [
    "np.random.seed(2)\n",
    "observed = np.array([7, 8, 9]).reshape(-1, 1)\n",
    "n_trials = len(observed)\n",
    "\n",
    "N_samples = 1_000_000\n",
    "prior = st.beta(1, 1)\n",
    "sampled_prior = prior.rvs(N_samples)\n",
    "fake_observations = st.binom.rvs(n=10, p=sampled_prior, size=(n_trials, N_samples))\n",
    "\n",
    "fake_observations = np.sort(fake_observations, axis=0)\n",
    "observed = np.sort(observed, axis=0)\n",
    "\n",
    "(fake_observations==observed).all(axis=0).sum()"
   ]
  },
  {
   "cell_type": "code",
   "execution_count": 140,
   "id": "intelligent-magnet",
   "metadata": {},
   "outputs": [
    {
     "data": {
      "text/plain": [
       "5.906796769851952"
      ]
     },
     "execution_count": 140,
     "metadata": {},
     "output_type": "execute_result"
    }
   ],
   "source": [
    "17555/2972"
   ]
  },
  {
   "cell_type": "markdown",
   "id": "protecting-thanksgiving",
   "metadata": {},
   "source": [
    "we captured 6 times more cases!"
   ]
  },
  {
   "cell_type": "code",
   "execution_count": null,
   "id": "living-comfort",
   "metadata": {},
   "outputs": [],
   "source": []
  }
 ],
 "metadata": {
  "kernelspec": {
   "display_name": "Python 3",
   "language": "python",
   "name": "python3"
  },
  "language_info": {
   "codemirror_mode": {
    "name": "ipython",
    "version": 3
   },
   "file_extension": ".py",
   "mimetype": "text/x-python",
   "name": "python",
   "nbconvert_exporter": "python",
   "pygments_lexer": "ipython3",
   "version": "3.8.6"
  }
 },
 "nbformat": 4,
 "nbformat_minor": 5
}
