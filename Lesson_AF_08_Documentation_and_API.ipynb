{
 "cells": [
  {
   "cell_type": "markdown",
   "metadata": {
    "slideshow": {
     "slide_type": "slide"
    }
   },
   "source": [
    "# Documentation guidelines\n",
    "\n",
    "let the user understand your work"
   ]
  },
  {
   "cell_type": "markdown",
   "metadata": {
    "slideshow": {
     "slide_type": "slide"
    }
   },
   "source": [
    "Documentation is one of the big points on which you need to focus to allow your work to be usable by others.\n",
    "\n",
    "In the course we mostly focused on the quality of the code:\n",
    "* writing good quality code\n",
    "* testing it to make sure it works properly\n",
    "* create a good quality API\n",
    "\n",
    "None of these actually allow the user to use your code: you need to explain them how!"
   ]
  },
  {
   "cell_type": "markdown",
   "metadata": {
    "slideshow": {
     "slide_type": "slide"
    }
   },
   "source": [
    "Documentation is often a forgotten topic because it feels like a \"chore\": you already wrote the program, it works, your job is done!\n",
    "\n",
    "Nothing further from the truth!\n",
    "In a similar way to the tests, documentation should be part of the fundations of what you perceive your work to be when programming, and done alongside the code as for the tests."
   ]
  },
  {
   "cell_type": "markdown",
   "metadata": {
    "slideshow": {
     "slide_type": "slide"
    }
   },
   "source": [
    "### Target users\n",
    "\n",
    "there are three different kind of user for which to write documentation:\n",
    "* users of the program/library\n",
    "* developers/contributors\n",
    "* reviewers\n",
    "\n",
    "they have very different needs, and you should have clear which one is your target when you are writing a piece of documentation"
   ]
  },
  {
   "cell_type": "markdown",
   "metadata": {
    "slideshow": {
     "slide_type": "slide"
    }
   },
   "source": [
    "The first rule for documentation is that it should be **usable** and **available**"
   ]
  },
  {
   "cell_type": "markdown",
   "metadata": {
    "slideshow": {
     "slide_type": "slide"
    }
   },
   "source": [
    "### Usability\n",
    "\n",
    "The user should be able to understand it and explore it.\n",
    "* no abstruse sentence\n",
    "* properly written\n",
    "* available in commonly spoken languages\n",
    "* in a data format that can easly be accessed"
   ]
  },
  {
   "cell_type": "markdown",
   "metadata": {
    "slideshow": {
     "slide_type": "slide"
    }
   },
   "source": [
    "About the data format, I strongly suggest to have all the following:\n",
    "\n",
    "* inside the program itself (help menu)\n",
    "* as structured text (Markdown or RestructuredText)\n",
    "* html pages\n",
    "\n",
    "given that it is easy to generate HTML from structured text, I would reccomend to get comfortable using them.\n",
    "\n",
    "For GitHub the default is MarkDown, while for python documentation is usually RestructuredText.\n",
    "\n",
    "I personally prefer RestructuredText as a language, but Markdown is simpler and more commonly used, so it is a better starting point. (https://github.com/adam-p/markdown-here/wiki/Markdown-Cheatsheet)"
   ]
  },
  {
   "cell_type": "markdown",
   "metadata": {
    "slideshow": {
     "slide_type": "slide"
    }
   },
   "source": [
    "### Availability\n",
    "\n",
    "**Available** means that the user should be able to find it."
   ]
  },
  {
   "cell_type": "markdown",
   "metadata": {
    "slideshow": {
     "slide_type": "fragment"
    }
   },
   "source": [
    "#### inside the program\n",
    "\n",
    "inside the program means that it is always available\n",
    "\n",
    "Particular value is the contextual help if the user is having trouble figuring out the procedures\n",
    "\n",
    "it should also link to the online material for more extensive documentation!\n",
    "\n",
    "it might not be available, as one might not be able to run the program!"
   ]
  },
  {
   "cell_type": "markdown",
   "metadata": {
    "slideshow": {
     "slide_type": "slide"
    }
   },
   "source": [
    "#### online documentation\n",
    "\n",
    "should be comprehensive of everything!\n",
    "\n",
    "from every page there shuld be a way of navigating links to reach any other\n",
    "\n",
    "Give multiple path to reach the information!"
   ]
  },
  {
   "cell_type": "markdown",
   "metadata": {
    "slideshow": {
     "slide_type": "slide"
    }
   },
   "source": [
    "### Documentations types"
   ]
  },
  {
   "cell_type": "markdown",
   "metadata": {
    "slideshow": {
     "slide_type": "slide"
    }
   },
   "source": [
    "Theory of documentation for users brought forward by Daniele Procida (https://www.divio.com/blog/documentation/)\n",
    "\n",
    "it divides the documentation in 4 distinct kind of documents, each one with its own goal:\n",
    "* **tutorials**: guided learning of the basics\n",
    "* **how-to guides**: assume complete knowledge, show how to best solve a problem\n",
    "* **reference**: details about the API, functions names, parameters, etc...\n",
    "* **explanation**: the theoretical background and design decisions"
   ]
  },
  {
   "cell_type": "markdown",
   "metadata": {
    "slideshow": {
     "slide_type": "slide"
    }
   },
   "source": [
    "![the layout of the 4 types of documentation](https://documentation.divio.com/_images/overview.png)"
   ]
  },
  {
   "cell_type": "markdown",
   "metadata": {
    "slideshow": {
     "slide_type": "slide"
    }
   },
   "source": [
    "Each of the quadrants is similar to its two neighbours:\n",
    "\n",
    "* tutorials and how-to guides are both concerned with describing practical steps\n",
    "* how-to guides and technical reference are both what we need when we are at work, coding\n",
    "* reference guides and explanation are both concerned with theoretical knowledge\n",
    "* tutorials and explanation are both most useful when we are studying, rather than actually working"
   ]
  },
  {
   "cell_type": "markdown",
   "metadata": {
    "slideshow": {
     "slide_type": "slide"
    }
   },
   "source": [
    "### Jupyter notebooks\n",
    "\n",
    "Jupyter notebooks are great tools for writing documentations, in particular tutorials (such as the slides of this course), as they allow to intermix code and markdown-formatted text.\n",
    "\n",
    "Personally I don't like as development tool, but I find them amazing as a **teaching tool** (for your users)."
   ]
  },
  {
   "cell_type": "markdown",
   "metadata": {
    "slideshow": {
     "slide_type": "slide"
    }
   },
   "source": [
    "It is easy to generate html or markdown files for your documentation from the notebooks, and I suggest you consider doing it!\n",
    "\n",
    "    jupyter nbconvert --to html MyCoolNotebook.ipynb\n",
    "    \n",
    "    jupyter nbconvert --to markdown MyCoolNotebook.ipynb\n",
    "    \n",
    "    jupyter nbconvert --to slides MyCoolNotebook.ipynb"
   ]
  },
  {
   "cell_type": "markdown",
   "metadata": {
    "slideshow": {
     "slide_type": "slide"
    }
   },
   "source": [
    "### Pandoc\n",
    "\n",
    "`pandoc` is a program that can be installed using pip and that allow to easily convert between different file types, such as markdown and docx, or latex and pdf.\n",
    "\n",
    "     pandoc --from=markdown --to=docx --output=test.docx .\\Lesson_AF_08_Documentation_and_API.md\n",
    "     "
   ]
  },
  {
   "cell_type": "markdown",
   "metadata": {
    "slideshow": {
     "slide_type": "slide"
    }
   },
   "source": [
    "## Documenting Code\n",
    "\n",
    "this kind of documentation is necessary for anybody that have to understand and take care of the code in the future.\n",
    "\n",
    "might be other researcher, random people on the internet, or yourself few months from now!\n",
    "\n",
    "for python, the most important ones are:\n",
    "\n",
    "* docstrings\n",
    "* typing\n",
    "* comments\n",
    "* the code itself"
   ]
  },
  {
   "cell_type": "markdown",
   "metadata": {
    "slideshow": {
     "slide_type": "slide"
    }
   },
   "source": [
    "### docstrings\n",
    "\n",
    "IDE like spyder already can create a suggestion of the simplest informations that one needs to put \n",
    "\n",
    "need to have:\n",
    "* short one sentence description of the function\n",
    "* long function explaination\n",
    "* input and output, expected types and meaning\n",
    "* potential exception raised in the code"
   ]
  },
  {
   "cell_type": "markdown",
   "metadata": {
    "slideshow": {
     "slide_type": "slide"
    }
   },
   "source": [
    "good to have:\n",
    "* example of usage of the function\n",
    "* relationships with other functions\n",
    "* explaination of the theory\n",
    "* references for the theory"
   ]
  },
  {
   "cell_type": "markdown",
   "metadata": {
    "slideshow": {
     "slide_type": "slide"
    }
   },
   "source": [
    "#### numpy docstring standard:\n",
    "https://numpydoc.readthedocs.io/en/latest/format.html#docstring-standard"
   ]
  },
  {
   "cell_type": "markdown",
   "metadata": {
    "slideshow": {
     "slide_type": "slide"
    }
   },
   "source": [
    "### typing\n",
    "\n",
    "now that python include a semi-decent typing system, leverage it!\n",
    "\n",
    "just remember to keep types as general as possible:\n",
    "* sequences instead of list, unless you use a list specific function\n",
    "* mapping instead of dictionaries\n",
    "* numbers instead of ints and floats"
   ]
  },
  {
   "cell_type": "markdown",
   "metadata": {
    "slideshow": {
     "slide_type": "slide"
    }
   },
   "source": [
    "describe types of input and output, it allows you to:\n",
    "* inform the user of what you can take, removing the need for explicit checks\n",
    "* allow to use automatic code checking tools\n",
    "* keep track during development of what every object should be\n",
    "* modern IDE can do type inference and provide autocomplete and suggestions"
   ]
  },
  {
   "cell_type": "markdown",
   "metadata": {
    "slideshow": {
     "slide_type": "slide"
    }
   },
   "source": [
    "I would suggest also to leverage the user-defined types to future proof your code, and make it more explicit in its intentions\n",
    "\n",
    "```python\n",
    "from typing import NewType\n",
    "\n",
    "UserId = NewType('UserId', int) # declare a variant of ints used to user IDs\n",
    "some_id = UserId(524313) # it is still an int!\n",
    "```"
   ]
  },
  {
   "cell_type": "markdown",
   "metadata": {
    "slideshow": {
     "slide_type": "slide"
    }
   },
   "source": [
    "leverage generics to express general relationships when working with containers.\n",
    "Also, when possible always specify the type contained inside the containers!\n",
    "\n",
    "```python\n",
    "from typing import Sequence, TypeVar\n",
    "\n",
    "T = TypeVar('T')      # Declare generic type variable\n",
    "\n",
    "def first(l: Sequence[T]) -> T:   # Generic function\n",
    "    return l[0]\n",
    "```"
   ]
  },
  {
   "cell_type": "markdown",
   "metadata": {
    "slideshow": {
     "slide_type": "slide"
    }
   },
   "source": [
    "if you find that writing the type declaration of a function is too complicated, probably you should break the function into smaller chunks!"
   ]
  },
  {
   "cell_type": "markdown",
   "metadata": {
    "slideshow": {
     "slide_type": "slide"
    }
   },
   "source": [
    "to test your typing you can use the `mypy` application:\n",
    "    \n",
    "    mypy my_file.py"
   ]
  },
  {
   "cell_type": "markdown",
   "metadata": {
    "slideshow": {
     "slide_type": "slide"
    }
   },
   "source": [
    "### comments\n",
    "\n",
    "comments can be seens as a form of documentations as any other, but with the developer in mind instead of the user.\n",
    "\n",
    "the following is my personal opinion:\n",
    "* try to be conservative with the number of comments you write\n",
    "* focus on \"why\" and not on what"
   ]
  },
  {
   "cell_type": "markdown",
   "metadata": {
    "slideshow": {
     "slide_type": "slide"
    }
   },
   "source": [
    "#### comments with markup\n",
    "\n",
    "most IDE recognize comments that contains specific markups, and they are very useful to keep track of the state of code.\n",
    "\n",
    "some commonly recognized ones are:\n",
    "* **TODO** - there is some code that should be put here\n",
    "* **FIXME** - there is a known error case, but not implemented yet\n",
    "* **HACK** - solve an issue, but is a sloppy way, improve if possible\n",
    "* **BUG** - there is a problem in this point in the code, but the solution is not clear\n",
    "* **NOTE** - some information about the following code\n"
   ]
  },
  {
   "cell_type": "markdown",
   "metadata": {
    "slideshow": {
     "slide_type": "slide"
    }
   },
   "source": [
    "for example a reference can be found in the (rejected) PEP 350:\n",
    "* https://www.python.org/dev/peps/pep-0350/"
   ]
  },
  {
   "cell_type": "markdown",
   "metadata": {
    "slideshow": {
     "slide_type": "slide"
    }
   },
   "source": [
    "many systems are able to render also the markdown in these comments, so feel free to leverage them!\n",
    "\n",
    "```markdown\n",
    "- [x] SLA\n",
    "- [ ] Contact Info\n",
    "```\n",
    "\n",
    "- [x] SLA\n",
    "- [ ] Contact Info"
   ]
  },
  {
   "cell_type": "markdown",
   "metadata": {
    "slideshow": {
     "slide_type": "slide"
    }
   },
   "source": [
    "### self documenting code\n",
    "\n",
    "This is the hardest level to reach, but also one you shold strive for:\n",
    "\n",
    "**writing code with clear name and relationships, that allow to understand what is happening by just reading it**\n",
    "\n",
    "* Everybody wants to do it (because it sounds less effort than writing documentation...)\n",
    "* most think they manage to\n",
    "* almost everybody fails.\n",
    "\n",
    "One should still aim to reach this state, and it is always good to refactor to get closer to this state\n"
   ]
  },
  {
   "cell_type": "markdown",
   "metadata": {
    "slideshow": {
     "slide_type": "slide"
    }
   },
   "source": [
    "## Documenting Changes\n",
    "\n",
    "This is for developers and users alike: if you change your library/program, explain what has been changed.\n",
    "\n",
    "your goal is to improve your code over time, but also to allow your users to keep using it proficently\n",
    "\n",
    "* semantic versioning\n",
    "* changelogs"
   ]
  },
  {
   "cell_type": "markdown",
   "metadata": {
    "slideshow": {
     "slide_type": "slide"
    }
   },
   "source": [
    "### semantic versioning (https://semver.org/)\n",
    "\n",
    "The program version is a number or a string that is used to indicate the successive releases of the software.\n",
    "\n",
    "I will explain here the so-called semantic vesioning, a widely used standard to convey informations about the compatibility of software over time"
   ]
  },
  {
   "cell_type": "markdown",
   "metadata": {
    "slideshow": {
     "slide_type": "slide"
    }
   },
   "source": [
    "#### basic structure\n",
    "\n",
    "    major.minor.patch\n",
    "    \n",
    "**patch** are simple changes that correct bugs in the code and don't change the API\n",
    "\n",
    "**minors** are changes that are backward compatible (at least with the previous minor), don't change the general structure of the code, usually add features and expand the API\n",
    "\n",
    "**majors** are changes that definitely breaks backward compatibility and possibily the structure and logic of the API"
   ]
  },
  {
   "cell_type": "markdown",
   "metadata": {
    "slideshow": {
     "slide_type": "slide"
    }
   },
   "source": [
    "### changelog\n",
    "\n",
    "changelogs are documents describing the changes between versions.\n",
    "\n",
    "Usually it's a document that is constantly updated, with the last realeases **on the top** of the page.\n",
    "\n",
    "It's better to keep it updated while you write code, otherwise they will be overwhelming to write.\n",
    "\n",
    "as a good practice, it is often a good idea to update the changelog with what you're planning to do before even doing, to help yourself to not stray off path and getting distracted"
   ]
  },
  {
   "cell_type": "markdown",
   "metadata": {
    "slideshow": {
     "slide_type": "slide"
    }
   },
   "source": [
    "Usually they contains the following informations:\n",
    "\n",
    "* bug corrected (possibly with reference to the the issue of the bug)\n",
    "* code improvement (performances)\n",
    "* new functionalities\n",
    "* extension of old API\n",
    "* future deprecations\n",
    "* deprecations\n",
    "\n",
    "for the features that break old code, show example on how to convert it to the new version!"
   ]
  },
  {
   "cell_type": "markdown",
   "metadata": {
    "slideshow": {
     "slide_type": "slide"
    }
   },
   "source": [
    "Useful reads: \n",
    "* https://jaxenter.com/dos-donts-keeping-changelog-147373.html\n",
    "* https://keepachangelog.com/en/1.0.0/"
   ]
  },
  {
   "cell_type": "markdown",
   "metadata": {
    "slideshow": {
     "slide_type": "slide"
    }
   },
   "source": [
    "#### api evolution notes\n",
    "\n",
    "* if you want to deprecate a features, always put a warning for at least one minor version to give time to your users\n",
    "* small functions with small signatures are easier to evolve over time"
   ]
  },
  {
   "cell_type": "markdown",
   "metadata": {
    "slideshow": {
     "slide_type": "slide"
    }
   },
   "source": [
    "\n",
    "suggested reading:\n",
    "* https://emptysqua.re/blog/api-evolution-the-right-way/\n"
   ]
  }
 ],
 "metadata": {
  "celltoolbar": "Slideshow",
  "kernelspec": {
   "display_name": "Python 3",
   "language": "python",
   "name": "python3"
  },
  "language_info": {
   "codemirror_mode": {
    "name": "ipython",
    "version": 3
   },
   "file_extension": ".py",
   "mimetype": "text/x-python",
   "name": "python",
   "nbconvert_exporter": "python",
   "pygments_lexer": "ipython3",
   "version": "3.8.6"
  }
 },
 "nbformat": 4,
 "nbformat_minor": 4
}
