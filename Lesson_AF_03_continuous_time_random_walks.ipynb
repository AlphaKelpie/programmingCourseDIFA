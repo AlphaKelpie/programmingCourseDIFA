{
 "cells": [
  {
   "cell_type": "markdown",
   "metadata": {},
   "source": [
    "# Montecarlo Simulations"
   ]
  },
  {
   "cell_type": "markdown",
   "metadata": {
    "slideshow": {
     "slide_type": "slide"
    }
   },
   "source": [
    "evolve the state of a system given a probability of transition from each state\n",
    "\n",
    "The master equation example: I have a system where I want to keep track of the number of molecules in an environment.\n",
    "\n",
    "the number of molecules can change due to two different processes:\n",
    "* a particle from the outside can come in with a probability that is constant (or can be approximated as such)\n",
    "* a particle can escape the system, with a probability that is constant for each particle (so the total probability is proportional to the number of particles)"
   ]
  },
  {
   "cell_type": "code",
   "execution_count": 14,
   "metadata": {
    "slideshow": {
     "slide_type": "slide"
    }
   },
   "outputs": [],
   "source": [
    "import numpy as np\n",
    "import pylab as plt\n",
    "import random as rn"
   ]
  },
  {
   "cell_type": "code",
   "execution_count": 1,
   "metadata": {
    "slideshow": {
     "slide_type": "slide"
    }
   },
   "outputs": [],
   "source": [
    "def removal(state):\n",
    "    return state*0.1\n",
    "\n",
    "def increase(state):\n",
    "    return 1\n",
    "\n",
    "transitions = [removal, increase]\n",
    "transitions_names = ['removal', 'increase']"
   ]
  },
  {
   "cell_type": "code",
   "execution_count": 2,
   "metadata": {
    "slideshow": {
     "slide_type": "slide"
    }
   },
   "outputs": [],
   "source": [
    "state = 5"
   ]
  },
  {
   "cell_type": "code",
   "execution_count": 3,
   "metadata": {
    "slideshow": {
     "slide_type": "slide"
    }
   },
   "outputs": [
    {
     "data": {
      "text/plain": [
       "[0.5, 1]"
      ]
     },
     "execution_count": 3,
     "metadata": {},
     "output_type": "execute_result"
    }
   ],
   "source": [
    "rates = [f(state) for f in transitions]\n",
    "rates"
   ]
  },
  {
   "cell_type": "markdown",
   "metadata": {
    "slideshow": {
     "slide_type": "slide"
    }
   },
   "source": [
    "### the Stochastic Simulation Algorithm\n",
    "\n",
    "the total rate $\\lambda_{tot}$ is the sum of the rates\n",
    "\n",
    "the chance of each one happening is the proportion compared to the total rate\n",
    "\n",
    "the time for which the system keeps being in the same state is distributed with an exponential time $\\tau = \\lambda_{tot}^{-1}$"
   ]
  },
  {
   "cell_type": "code",
   "execution_count": 4,
   "metadata": {
    "slideshow": {
     "slide_type": "slide"
    }
   },
   "outputs": [
    {
     "data": {
      "text/plain": [
       "1.5"
      ]
     },
     "execution_count": 4,
     "metadata": {},
     "output_type": "execute_result"
    }
   ],
   "source": [
    "total_rate = sum(rates)\n",
    "total_rate"
   ]
  },
  {
   "cell_type": "code",
   "execution_count": 6,
   "metadata": {
    "slideshow": {
     "slide_type": "slide"
    }
   },
   "outputs": [
    {
     "data": {
      "text/plain": [
       "0.40834186657790317"
      ]
     },
     "execution_count": 6,
     "metadata": {},
     "output_type": "execute_result"
    }
   ],
   "source": [
    "time = np.random.exponential(1/total_rate)\n",
    "time"
   ]
  },
  {
   "cell_type": "markdown",
   "metadata": {
    "slideshow": {
     "slide_type": "slide"
    }
   },
   "source": [
    "### choosing the transition\n",
    "\n",
    "we can use the same sampling method as before!"
   ]
  },
  {
   "cell_type": "code",
   "execution_count": 7,
   "metadata": {
    "slideshow": {
     "slide_type": "slide"
    }
   },
   "outputs": [
    {
     "data": {
      "text/plain": [
       "array([0.33333333, 1.        ])"
      ]
     },
     "execution_count": 7,
     "metadata": {},
     "output_type": "execute_result"
    }
   ],
   "source": [
    "normalized_rates = np.cumsum(rates)\n",
    "normalized_rates /= normalized_rates[-1]\n",
    "normalized_rates"
   ]
  },
  {
   "cell_type": "code",
   "execution_count": 11,
   "metadata": {
    "slideshow": {
     "slide_type": "slide"
    }
   },
   "outputs": [
    {
     "data": {
      "text/plain": [
       "0"
      ]
     },
     "execution_count": 11,
     "metadata": {},
     "output_type": "execute_result"
    }
   ],
   "source": [
    "p = np.random.rand()\n",
    "idx = np.searchsorted(normalized_rates, p)\n",
    "idx"
   ]
  },
  {
   "cell_type": "code",
   "execution_count": 12,
   "metadata": {
    "slideshow": {
     "slide_type": "slide"
    }
   },
   "outputs": [
    {
     "data": {
      "text/plain": [
       "'removal'"
      ]
     },
     "execution_count": 12,
     "metadata": {},
     "output_type": "execute_result"
    }
   ],
   "source": [
    "event = transitions_names[idx]\n",
    "event"
   ]
  },
  {
   "cell_type": "markdown",
   "metadata": {
    "slideshow": {
     "slide_type": "slide"
    }
   },
   "source": [
    "With python 3.6 onward, we can actually replace this with a simple call to `random.choices`, that handles weighted extractions"
   ]
  },
  {
   "cell_type": "code",
   "execution_count": 15,
   "metadata": {
    "slideshow": {
     "slide_type": "slide"
    }
   },
   "outputs": [
    {
     "data": {
      "text/plain": [
       "['increase']"
      ]
     },
     "execution_count": 15,
     "metadata": {},
     "output_type": "execute_result"
    }
   ],
   "source": [
    "rn.choices(transitions_names, weights=rates)"
   ]
  },
  {
   "cell_type": "code",
   "execution_count": 16,
   "metadata": {
    "slideshow": {
     "slide_type": "slide"
    }
   },
   "outputs": [
    {
     "name": "stdout",
     "output_type": "stream",
     "text": [
      "increase\n"
     ]
    }
   ],
   "source": [
    "event = rn.choices(transitions_names, weights=rates)[0]\n",
    "print(event)"
   ]
  },
  {
   "cell_type": "markdown",
   "metadata": {
    "slideshow": {
     "slide_type": "slide"
    }
   },
   "source": [
    "#### updating the status\n",
    "given the chosen event we can update the current status and then start all over"
   ]
  },
  {
   "cell_type": "code",
   "execution_count": 17,
   "metadata": {
    "slideshow": {
     "slide_type": "slide"
    }
   },
   "outputs": [],
   "source": [
    "if event == 'increase':\n",
    "    state += 1\n",
    "elif event == 'removal':\n",
    "    state -= 1\n",
    "else:\n",
    "    raise ValueError(\"transition not recognized\")"
   ]
  },
  {
   "cell_type": "markdown",
   "metadata": {
    "slideshow": {
     "slide_type": "slide"
    }
   },
   "source": [
    "### the complete cycle\n",
    "\n",
    "the complete simulation requires to keep track of which transition happened, how much time the system has spent in each status and so on.\n",
    "\n",
    "one other thing we might want to keep track of is the total time ellapsed in the simulation."
   ]
  },
  {
   "cell_type": "markdown",
   "metadata": {
    "slideshow": {
     "slide_type": "slide"
    }
   },
   "source": [
    "When should we stop our simulation?\n",
    "\n",
    "ideally weshould stop after a certain amount of \"simulated time\" has passed"
   ]
  },
  {
   "cell_type": "code",
   "execution_count": 21,
   "metadata": {
    "slideshow": {
     "slide_type": "slide"
    }
   },
   "outputs": [],
   "source": [
    "import typing\n",
    "from enum import Enum"
   ]
  },
  {
   "cell_type": "code",
   "execution_count": 73,
   "metadata": {
    "slideshow": {
     "slide_type": "slide"
    }
   },
   "outputs": [],
   "source": [
    "class Transition(Enum):\n",
    "    INCREASE = 'increase'\n",
    "    DECREASE = 'removal'\n",
    "\n",
    "class Observation(typing.NamedTuple):\n",
    "    state: typing.Any\n",
    "    time_of_observation: float\n",
    "    time_of_residency: float\n",
    "    transition: Transition"
   ]
  },
  {
   "cell_type": "code",
   "execution_count": 74,
   "metadata": {
    "slideshow": {
     "slide_type": "slide"
    }
   },
   "outputs": [],
   "source": [
    "transitions = [removal, increase]\n",
    "transitions_names = [Transition.DECREASE, Transition.INCREASE]"
   ]
  },
  {
   "cell_type": "code",
   "execution_count": 75,
   "metadata": {
    "slideshow": {
     "slide_type": "slide"
    }
   },
   "outputs": [
    {
     "name": "stdout",
     "output_type": "stream",
     "text": [
      "Observation(state=5, time_of_observation=0.0, time_of_residency=1.1576834668798934, transition=<Transition.INCREASE: 'increase'>)\n",
      "Observation(state=6, time_of_observation=1.1576834668798934, time_of_residency=0.6575216742677585, transition=<Transition.INCREASE: 'increase'>)\n",
      "Observation(state=7, time_of_observation=1.815205141147652, time_of_residency=0.6123168602033375, transition=<Transition.INCREASE: 'increase'>)\n",
      "Observation(state=8, time_of_observation=2.4275220013509893, time_of_residency=0.1612205808542916, transition=<Transition.DECREASE: 'removal'>)\n",
      "Observation(state=7, time_of_observation=2.5887425822052808, time_of_residency=0.013946159842939045, transition=<Transition.INCREASE: 'increase'>)\n",
      "Observation(state=8, time_of_observation=2.60268874204822, time_of_residency=0.15962782794158548, transition=<Transition.INCREASE: 'increase'>)\n",
      "Observation(state=9, time_of_observation=2.7623165699898053, time_of_residency=1.007165858764632, transition=<Transition.INCREASE: 'increase'>)\n",
      "Observation(state=10, time_of_observation=3.7694824287544373, time_of_residency=0.8173308828193094, transition=<Transition.DECREASE: 'removal'>)\n",
      "Observation(state=9, time_of_observation=4.586813311573747, time_of_residency=0.5193548150583941, transition=<Transition.INCREASE: 'increase'>)\n"
     ]
    }
   ],
   "source": [
    "observed_states = []\n",
    "state = 5\n",
    "total_time = 0.0\n",
    "time_limit = 5.0\n",
    "\n",
    "while total_time < time_limit:\n",
    "    rates = [f(state) for f in transitions]\n",
    "    total_rate = sum(rates)\n",
    "    time = np.random.exponential(1/total_rate)\n",
    "    event = rn.choices(transitions_names, weights=rates)[0]\n",
    "    \n",
    "    observation = Observation(state, total_time, time, event)\n",
    "    print(observation)\n",
    "    observed_states.append(observation)\n",
    "    \n",
    "    total_time += time\n",
    "    \n",
    "    if event == Transition.INCREASE:\n",
    "        state += 1\n",
    "    elif event == Transition.DECREASE:\n",
    "        state -= 1\n",
    "    else:\n",
    "        raise ValueError(\"transition not recognized\")"
   ]
  },
  {
   "cell_type": "markdown",
   "metadata": {
    "slideshow": {
     "slide_type": "slide"
    }
   },
   "source": [
    "let's make it a function so we have a more general way of managing it"
   ]
  },
  {
   "cell_type": "code",
   "execution_count": 33,
   "metadata": {
    "slideshow": {
     "slide_type": "slide"
    }
   },
   "outputs": [],
   "source": [
    "def simulation(starting_state, time_limit):\n",
    "    observed_states = []\n",
    "    state = starting_state\n",
    "    total_time = 0.0\n",
    "\n",
    "    while total_time < time_limit:\n",
    "        rates = [f(state) for f in transitions]\n",
    "        total_rate = sum(rates)\n",
    "        time = np.random.exponential(1/total_rate)\n",
    "        event = rn.choices(transitions_names, weights=rates)[0]\n",
    "\n",
    "        observation = Observation(state, total_time, time, event)\n",
    "        observed_states.append(observation)\n",
    "\n",
    "        total_time += time\n",
    "\n",
    "        if event == Transition.INCREASE:\n",
    "            state += 1\n",
    "        elif event == Transition.DECREASE:\n",
    "            state -= 1\n",
    "        else:\n",
    "            raise ValueError(\"transition not recognized\")\n",
    "    return observed_states"
   ]
  },
  {
   "cell_type": "code",
   "execution_count": 44,
   "metadata": {
    "slideshow": {
     "slide_type": "slide"
    }
   },
   "outputs": [],
   "source": [
    "time_limit = 100\n",
    "result = simulation(starting_state=5, time_limit=time_limit)"
   ]
  },
  {
   "cell_type": "code",
   "execution_count": 45,
   "metadata": {
    "slideshow": {
     "slide_type": "slide"
    }
   },
   "outputs": [
    {
     "data": {
      "text/plain": [
       "183"
      ]
     },
     "execution_count": 45,
     "metadata": {},
     "output_type": "execute_result"
    }
   ],
   "source": [
    "len(result)"
   ]
  },
  {
   "cell_type": "code",
   "execution_count": 46,
   "metadata": {
    "slideshow": {
     "slide_type": "slide"
    }
   },
   "outputs": [
    {
     "name": "stdout",
     "output_type": "stream",
     "text": [
      "Observation(state=11, time_of_observation=97.69823788896771, time_of_residency=0.5379031506382671, transition='increase')\n",
      "Observation(state=12, time_of_observation=98.23614103960598, time_of_residency=0.03383685380927434, transition='increase')\n",
      "Observation(state=13, time_of_observation=98.26997789341526, time_of_residency=0.2043946593745321, transition='removal')\n",
      "Observation(state=12, time_of_observation=98.47437255278979, time_of_residency=0.18525206620652507, transition='increase')\n",
      "Observation(state=13, time_of_observation=98.65962461899632, time_of_residency=2.093541777733141, transition='increase')\n"
     ]
    }
   ],
   "source": [
    "for res in result[-5:]:\n",
    "    print(res)"
   ]
  },
  {
   "cell_type": "markdown",
   "metadata": {
    "slideshow": {
     "slide_type": "slide"
    }
   },
   "source": [
    "One thing we can observe is that the last state overshoot the time limit a bit for any simulation we could do.\n",
    "\n",
    "The solution to this is to trim the time the system stays in the state so that the final overall time is exactly equal to the given limit.\n",
    "\n",
    "Being processes with constant probability in time this does not deform the probabilities.\n",
    "\n",
    "for now we can ignore it, but will come back later to this, because it is also related to problem of absorbing states and fixed time events."
   ]
  },
  {
   "cell_type": "markdown",
   "metadata": {
    "slideshow": {
     "slide_type": "slide"
    }
   },
   "source": [
    "### final probability distribution\n",
    "\n",
    "to estimate the probability of observing our system in a given state, we have to sum up the time the system has spent in each state.\n",
    "\n",
    "**BEWARE**: the probability depends on the time of residency, not on the number of times that state has appeared!\n",
    "\n",
    "the expected distribution for this process is a poisson distribution with average 10"
   ]
  },
  {
   "cell_type": "code",
   "execution_count": 37,
   "metadata": {
    "slideshow": {
     "slide_type": "slide"
    }
   },
   "outputs": [],
   "source": [
    "from collections import Counter"
   ]
  },
  {
   "cell_type": "code",
   "execution_count": 47,
   "metadata": {
    "slideshow": {
     "slide_type": "slide"
    }
   },
   "outputs": [
    {
     "name": "stdout",
     "output_type": "stream",
     "text": [
      "Counter({6: 0.1810825649905063, 7: 0.17773802892093074, 10: 0.12009298554010898, 8: 0.11701780242644835, 5: 0.1045594131140146, 9: 0.10012776036136828, 4: 0.06683411623399652, 2: 0.04075748196621793, 11: 0.03384832466978104, 3: 0.027854327063525638, 13: 0.023978642908255007, 12: 0.008570114931658088, 1: 0.0050701008404824156})\n"
     ]
    }
   ],
   "source": [
    "distribution = Counter()\n",
    "for observation in result:\n",
    "    state = observation.state\n",
    "    residency_time = observation.time_of_residency\n",
    "    distribution[state] += residency_time/time_limit\n",
    "print(distribution)"
   ]
  },
  {
   "cell_type": "code",
   "execution_count": 48,
   "metadata": {
    "slideshow": {
     "slide_type": "slide"
    }
   },
   "outputs": [],
   "source": [
    "import scipy.stats as st"
   ]
  },
  {
   "cell_type": "code",
   "execution_count": 49,
   "metadata": {
    "slideshow": {
     "slide_type": "slide"
    }
   },
   "outputs": [
    {
     "data": {
      "text/plain": [
       "<BarContainer object of 20 artists>"
      ]
     },
     "execution_count": 49,
     "metadata": {},
     "output_type": "execute_result"
    },
    {
     "data": {
      "image/png": "[encoded data removed]",
      "text/plain": [
       "<Figure size 432x288 with 1 Axes>"
      ]
     },
     "metadata": {
      "needs_background": "light"
     },
     "output_type": "display_data"
    }
   ],
   "source": [
    "fig, ax = plt.subplots()\n",
    "ax.bar(distribution.keys(), distribution.values())\n",
    "\n",
    "values = np.arange(20)\n",
    "pmf = st.poisson(10).pmf(values)\n",
    "ax.bar(values, pmf, alpha=0.5)"
   ]
  },
  {
   "cell_type": "markdown",
   "metadata": {
    "slideshow": {
     "slide_type": "slide"
    }
   },
   "source": [
    "let's make it run for longer..."
   ]
  },
  {
   "cell_type": "code",
   "execution_count": 59,
   "metadata": {
    "slideshow": {
     "slide_type": "slide"
    }
   },
   "outputs": [],
   "source": [
    "def generate_distribution(observation_sequence):\n",
    "    distribution = Counter()\n",
    "    for observation in observation_sequence:\n",
    "        state = observation.state\n",
    "        residency_time = observation.time_of_residency\n",
    "        distribution[state] += residency_time/time_limit\n",
    "    return distribution"
   ]
  },
  {
   "cell_type": "code",
   "execution_count": 60,
   "metadata": {
    "slideshow": {
     "slide_type": "slide"
    }
   },
   "outputs": [],
   "source": [
    "time_limit = 1_000\n",
    "result = simulation(starting_state=5, time_limit=time_limit)\n",
    "distribution = generate_distribution(result)\n"
   ]
  },
  {
   "cell_type": "code",
   "execution_count": 61,
   "metadata": {
    "slideshow": {
     "slide_type": "slide"
    }
   },
   "outputs": [
    {
     "data": {
      "text/plain": [
       "<BarContainer object of 20 artists>"
      ]
     },
     "execution_count": 61,
     "metadata": {},
     "output_type": "execute_result"
    },
    {
     "data": {
      "image/png": "[encoded data removed]",
      "text/plain": [
       "<Figure size 432x288 with 1 Axes>"
      ]
     },
     "metadata": {
      "needs_background": "light"
     },
     "output_type": "display_data"
    }
   ],
   "source": [
    "fig, ax = plt.subplots()\n",
    "ax.bar(distribution.keys(), distribution.values())\n",
    "\n",
    "values = np.arange(20)\n",
    "pmf = st.poisson(10).pmf(values)\n",
    "ax.bar(values, pmf, alpha=0.5)"
   ]
  },
  {
   "cell_type": "markdown",
   "metadata": {
    "slideshow": {
     "slide_type": "slide"
    }
   },
   "source": [
    "### warn-in period\n",
    "\n",
    "for monodimensional systems it's relatively easy to converge to the right distribution, but the starting point can have a substancial effect!"
   ]
  },
  {
   "cell_type": "code",
   "execution_count": 62,
   "metadata": {
    "slideshow": {
     "slide_type": "slide"
    }
   },
   "outputs": [],
   "source": [
    "time_limit = 1_000\n",
    "result = simulation(starting_state=50, time_limit=time_limit)\n",
    "distribution = generate_distribution(result)\n"
   ]
  },
  {
   "cell_type": "code",
   "execution_count": 63,
   "metadata": {
    "slideshow": {
     "slide_type": "slide"
    }
   },
   "outputs": [
    {
     "data": {
      "text/plain": [
       "<BarContainer object of 20 artists>"
      ]
     },
     "execution_count": 63,
     "metadata": {},
     "output_type": "execute_result"
    },
    {
     "data": {
      "image/png": "[encoded data removed]",
      "text/plain": [
       "<Figure size 432x288 with 1 Axes>"
      ]
     },
     "metadata": {
      "needs_background": "light"
     },
     "output_type": "display_data"
    }
   ],
   "source": [
    "fig, ax = plt.subplots()\n",
    "ax.bar(distribution.keys(), distribution.values())\n",
    "\n",
    "values = np.arange(20)\n",
    "pmf = st.poisson(10).pmf(values)\n",
    "ax.bar(values, pmf, alpha=0.5)"
   ]
  },
  {
   "cell_type": "markdown",
   "metadata": {
    "slideshow": {
     "slide_type": "slide"
    }
   },
   "source": [
    "usually for these kind of simulations the first period of time gets removed to avoid problem of convergence"
   ]
  },
  {
   "cell_type": "markdown",
   "metadata": {
    "slideshow": {
     "slide_type": "slide"
    }
   },
   "source": [
    "### multiple simulations\n",
    "\n",
    "Estimating the convergence to the final distribution can be quite hard with a single simulation, so a good rule of thumb is to run at least 3 or 4 identical simulations to assess how much the convergence has been reached"
   ]
  },
  {
   "cell_type": "code",
   "execution_count": 64,
   "metadata": {
    "slideshow": {
     "slide_type": "slide"
    }
   },
   "outputs": [],
   "source": [
    "time_limit = 1_000\n",
    "result_1 = simulation(starting_state=50, time_limit=time_limit)\n",
    "result_2 = simulation(starting_state=50, time_limit=time_limit)\n",
    "result_3 = simulation(starting_state=50, time_limit=time_limit)"
   ]
  },
  {
   "cell_type": "code",
   "execution_count": 65,
   "metadata": {
    "slideshow": {
     "slide_type": "slide"
    }
   },
   "outputs": [],
   "source": [
    "def plot_observations(observation_sequence, ax=None):\n",
    "    if ax is None:\n",
    "        ax = plt.gca()\n",
    "    values = [obs.state for obs in observation_sequence]\n",
    "    times = [obs.time_of_observation for obs in observation_sequence]\n",
    "    ax.plot(times, values, linestyle='steps-post')"
   ]
  },
  {
   "cell_type": "code",
   "execution_count": 67,
   "metadata": {
    "slideshow": {
     "slide_type": "slide"
    }
   },
   "outputs": [
    {
     "data": {
      "image/png": "[encoded data removed]",
      "text/plain": [
       "<Figure size 432x288 with 1 Axes>"
      ]
     },
     "metadata": {
      "needs_background": "light"
     },
     "output_type": "display_data"
    }
   ],
   "source": [
    "fig, ax = plt.subplots()\n",
    "plot_observations(result_1)\n",
    "plot_observations(result_2)\n",
    "plot_observations(result_3)"
   ]
  },
  {
   "cell_type": "markdown",
   "metadata": {
    "slideshow": {
     "slide_type": "slide"
    }
   },
   "source": [
    "## Absorbing states\n",
    "\n",
    "an absorbing state is one where the transition rates for all the possible transitions is equal to zero.\n",
    "\n",
    "When this happens, the expected residency time becomes infinite (the system is stuck there)\n",
    "\n",
    "let's rewrite our functions so that 0 is an absorbing state"
   ]
  },
  {
   "cell_type": "code",
   "execution_count": 94,
   "metadata": {
    "slideshow": {
     "slide_type": "slide"
    }
   },
   "outputs": [],
   "source": [
    "class Transition(Enum):\n",
    "    INCREASE = 'increase'\n",
    "    DECREASE = 'removal'\n",
    "    ABSORPION = 'absorbed'"
   ]
  },
  {
   "cell_type": "code",
   "execution_count": 95,
   "metadata": {
    "slideshow": {
     "slide_type": "slide"
    }
   },
   "outputs": [],
   "source": [
    "def removal_absorbing(state):\n",
    "    return state*0.5\n",
    "\n",
    "def increase_absorbing(state):\n",
    "    return 1 if state>0 else 0\n",
    "\n",
    "transitions = [removal_absorbing, increase_absorbing]\n",
    "transitions_names = [Transition.DECREASE, Transition.INCREASE]"
   ]
  },
  {
   "cell_type": "code",
   "execution_count": 96,
   "metadata": {
    "slideshow": {
     "slide_type": "slide"
    }
   },
   "outputs": [],
   "source": [
    "state = 0"
   ]
  },
  {
   "cell_type": "code",
   "execution_count": 97,
   "metadata": {
    "slideshow": {
     "slide_type": "slide"
    }
   },
   "outputs": [
    {
     "data": {
      "text/plain": [
       "[0.0, 0]"
      ]
     },
     "execution_count": 97,
     "metadata": {},
     "output_type": "execute_result"
    }
   ],
   "source": [
    "rates = [f(state) for f in transitions]\n",
    "rates"
   ]
  },
  {
   "cell_type": "code",
   "execution_count": 98,
   "metadata": {
    "slideshow": {
     "slide_type": "slide"
    }
   },
   "outputs": [
    {
     "data": {
      "text/plain": [
       "0.0"
      ]
     },
     "execution_count": 98,
     "metadata": {},
     "output_type": "execute_result"
    }
   ],
   "source": [
    "total_rate = sum(rates)\n",
    "total_rate"
   ]
  },
  {
   "cell_type": "code",
   "execution_count": 99,
   "metadata": {
    "slideshow": {
     "slide_type": "slide"
    }
   },
   "outputs": [
    {
     "ename": "ZeroDivisionError",
     "evalue": "float division by zero",
     "output_type": "error",
     "traceback": [
      "\u001b[0;31m---------------------------------------------------------------------------\u001b[0m",
      "\u001b[0;31mZeroDivisionError\u001b[0m                         Traceback (most recent call last)",
      "\u001b[0;32m<ipython-input-99-f1dc34eada48>\u001b[0m in \u001b[0;36m<module>\u001b[0;34m\u001b[0m\n\u001b[0;32m----> 1\u001b[0;31m \u001b[0mtime\u001b[0m \u001b[0;34m=\u001b[0m \u001b[0mnp\u001b[0m\u001b[0;34m.\u001b[0m\u001b[0mrandom\u001b[0m\u001b[0;34m.\u001b[0m\u001b[0mexponential\u001b[0m\u001b[0;34m(\u001b[0m\u001b[0;36m1\u001b[0m\u001b[0;34m/\u001b[0m\u001b[0mtotal_rate\u001b[0m\u001b[0;34m)\u001b[0m\u001b[0;34m\u001b[0m\u001b[0;34m\u001b[0m\u001b[0m\n\u001b[0m\u001b[1;32m      2\u001b[0m \u001b[0mtime\u001b[0m\u001b[0;34m\u001b[0m\u001b[0;34m\u001b[0m\u001b[0m\n",
      "\u001b[0;31mZeroDivisionError\u001b[0m: float division by zero"
     ]
    }
   ],
   "source": [
    "time = np.random.exponential(1/total_rate)\n",
    "time"
   ]
  },
  {
   "cell_type": "code",
   "execution_count": 100,
   "metadata": {
    "slideshow": {
     "slide_type": "slide"
    }
   },
   "outputs": [
    {
     "data": {
      "text/plain": [
       "inf"
      ]
     },
     "execution_count": 100,
     "metadata": {},
     "output_type": "execute_result"
    }
   ],
   "source": [
    "if total_rate>0:\n",
    "    time = np.random.exponential(1/total_rate)\n",
    "else:\n",
    "    time = np.inf\n",
    "time"
   ]
  },
  {
   "cell_type": "markdown",
   "metadata": {
    "slideshow": {
     "slide_type": "slide"
    }
   },
   "source": [
    "at this point we should not be advancing anymore!"
   ]
  },
  {
   "cell_type": "code",
   "execution_count": 104,
   "metadata": {
    "slideshow": {
     "slide_type": "slide"
    }
   },
   "outputs": [],
   "source": [
    "def simulation(starting_state, time_limit, transitions, transitions_names):\n",
    "    observed_states = []\n",
    "    state = starting_state\n",
    "    total_time = 0.0\n",
    "\n",
    "    while total_time < time_limit:\n",
    "        rates = [f(state) for f in transitions]\n",
    "        total_rate = sum(rates)\n",
    "        if total_rate>0:\n",
    "            time = np.random.exponential(1/total_rate)\n",
    "            event = rn.choices(transitions_names, weights=rates)[0]\n",
    "        else:\n",
    "            time = np.inf\n",
    "            event = Transition.ABSORPION\n",
    "            \n",
    "        observation = Observation(state, total_time, time, event)\n",
    "        observed_states.append(observation)\n",
    "\n",
    "        total_time += time\n",
    "\n",
    "        if event == Transition.INCREASE:\n",
    "            state += 1\n",
    "        elif event == Transition.DECREASE:\n",
    "            state -= 1\n",
    "        elif event == Transition.ABSORPION:\n",
    "            pass\n",
    "        else:\n",
    "            raise ValueError(\"transition not recognized\")\n",
    "    return observed_states"
   ]
  },
  {
   "cell_type": "code",
   "execution_count": 105,
   "metadata": {
    "slideshow": {
     "slide_type": "slide"
    }
   },
   "outputs": [],
   "source": [
    "result = simulation(5, time_limit=100,\n",
    "                    transitions=[removal_absorbing, increase_absorbing],\n",
    "                    transitions_names=[Transition.DECREASE, Transition.INCREASE])"
   ]
  },
  {
   "cell_type": "code",
   "execution_count": 108,
   "metadata": {
    "slideshow": {
     "slide_type": "slide"
    }
   },
   "outputs": [
    {
     "name": "stdout",
     "output_type": "stream",
     "text": [
      "Observation(state=5, time_of_observation=0.0, time_of_residency=0.8847778075788821, transition=<Transition.INCREASE: 'increase'>)\n",
      "\n",
      "Observation(state=6, time_of_observation=0.8847778075788821, time_of_residency=0.17300067447308484, transition=<Transition.DECREASE: 'removal'>)\n",
      "\n",
      "Observation(state=5, time_of_observation=1.057778482051967, time_of_residency=0.2858634978377892, transition=<Transition.DECREASE: 'removal'>)\n",
      "\n",
      "Observation(state=4, time_of_observation=1.343641979889756, time_of_residency=0.5703395307699232, transition=<Transition.DECREASE: 'removal'>)\n",
      "\n",
      "Observation(state=3, time_of_observation=1.9139815106596791, time_of_residency=0.543502327659089, transition=<Transition.DECREASE: 'removal'>)\n",
      "\n",
      "Observation(state=2, time_of_observation=2.457483838318768, time_of_residency=0.17592568856497076, transition=<Transition.DECREASE: 'removal'>)\n",
      "\n",
      "Observation(state=1, time_of_observation=2.6334095268837387, time_of_residency=0.512983143795379, transition=<Transition.DECREASE: 'removal'>)\n",
      "\n",
      "Observation(state=0, time_of_observation=3.1463926706791177, time_of_residency=inf, transition=<Transition.ABSORPION: 'absorbed'>)\n",
      "\n"
     ]
    }
   ],
   "source": [
    "for observation in result:\n",
    "    print(observation)\n",
    "    print()"
   ]
  },
  {
   "cell_type": "markdown",
   "metadata": {
    "slideshow": {
     "slide_type": "slide"
    }
   },
   "source": [
    "## fixed time events\n",
    "\n",
    "One possibility that wemight be interested in could be to register events happening at fixed point in time (or space, if we are describing the movement of an object).\n",
    "\n",
    "the advantage of working with markovian transitions is that there is no problem interrupting at a fixed point in time and then keep going from there as nothign happened!"
   ]
  },
  {
   "cell_type": "code",
   "execution_count": 109,
   "metadata": {
    "slideshow": {
     "slide_type": "slide"
    }
   },
   "outputs": [],
   "source": [
    "class Transition(Enum):\n",
    "    INCREASE = 'increase'\n",
    "    DECREASE = 'removal'\n",
    "    ABSORPION = 'absorbed'\n",
    "    RINGTONE = 'ringtone'\n"
   ]
  },
  {
   "cell_type": "code",
   "execution_count": 110,
   "metadata": {
    "slideshow": {
     "slide_type": "slide"
    }
   },
   "outputs": [],
   "source": [
    "def removal_absorbing(state):\n",
    "    return state*0.5\n",
    "\n",
    "def increase_absorbing(state):\n",
    "    return 1 if state>0 else 0\n",
    "\n",
    "transitions = [removal_absorbing, increase_absorbing]\n",
    "transitions_names = [Transition.DECREASE, Transition.INCREASE]"
   ]
  },
  {
   "cell_type": "code",
   "execution_count": 111,
   "metadata": {
    "slideshow": {
     "slide_type": "slide"
    }
   },
   "outputs": [],
   "source": [
    "state = 5"
   ]
  },
  {
   "cell_type": "code",
   "execution_count": 112,
   "metadata": {
    "slideshow": {
     "slide_type": "slide"
    }
   },
   "outputs": [
    {
     "data": {
      "text/plain": [
       "[2.5, 1]"
      ]
     },
     "execution_count": 112,
     "metadata": {},
     "output_type": "execute_result"
    }
   ],
   "source": [
    "rates = [f(state) for f in transitions]\n",
    "rates"
   ]
  },
  {
   "cell_type": "code",
   "execution_count": 113,
   "metadata": {
    "slideshow": {
     "slide_type": "slide"
    }
   },
   "outputs": [
    {
     "data": {
      "text/plain": [
       "3.5"
      ]
     },
     "execution_count": 113,
     "metadata": {},
     "output_type": "execute_result"
    }
   ],
   "source": [
    "total_rate = sum(rates)\n",
    "total_rate"
   ]
  },
  {
   "cell_type": "code",
   "execution_count": 115,
   "metadata": {
    "slideshow": {
     "slide_type": "slide"
    }
   },
   "outputs": [
    {
     "data": {
      "text/plain": [
       "0.22049078206635592"
      ]
     },
     "execution_count": 115,
     "metadata": {},
     "output_type": "execute_result"
    }
   ],
   "source": [
    "proposed_residency_time = np.random.exponential(1/total_rate)\n",
    "proposed_residency_time"
   ]
  },
  {
   "cell_type": "code",
   "execution_count": 116,
   "metadata": {
    "slideshow": {
     "slide_type": "slide"
    }
   },
   "outputs": [],
   "source": [
    "current_time = 0.1"
   ]
  },
  {
   "cell_type": "code",
   "execution_count": 117,
   "metadata": {
    "slideshow": {
     "slide_type": "slide"
    }
   },
   "outputs": [],
   "source": [
    "time_ringtone = 0.3"
   ]
  },
  {
   "cell_type": "code",
   "execution_count": 118,
   "metadata": {
    "slideshow": {
     "slide_type": "slide"
    }
   },
   "outputs": [],
   "source": [
    "if current_time<time_ringtone and current_time + proposed_residency_time > time_ringtone:\n",
    "    proposed_residency_time = time_ringtone - current_time\n",
    "    event = Transition.RINGTONE\n",
    "else:\n",
    "    pass"
   ]
  },
  {
   "cell_type": "code",
   "execution_count": 119,
   "metadata": {
    "slideshow": {
     "slide_type": "slide"
    }
   },
   "outputs": [
    {
     "data": {
      "text/plain": [
       "<Transition.RINGTONE: 'ringtone'>"
      ]
     },
     "execution_count": 119,
     "metadata": {},
     "output_type": "execute_result"
    }
   ],
   "source": [
    "event"
   ]
  },
  {
   "cell_type": "markdown",
   "metadata": {
    "slideshow": {
     "slide_type": "slide"
    }
   },
   "source": [
    "note that we have to decide how to interact with the absorbing states!\n",
    "my personal preference is to give priority to the timed events, as they might change the parameters of the simulation and change and absorbing point into a non absorbing one"
   ]
  },
  {
   "cell_type": "code",
   "execution_count": 132,
   "metadata": {
    "slideshow": {
     "slide_type": "slide"
    }
   },
   "outputs": [],
   "source": [
    "def simulation(starting_state, time_limit, transitions, transitions_names):\n",
    "    observed_states = []\n",
    "    state = starting_state\n",
    "    total_time = 0.0\n",
    "\n",
    "    while total_time < time_limit:\n",
    "        rates = [f(state) for f in transitions]\n",
    "        total_rate = sum(rates)\n",
    "        if total_rate>0:\n",
    "            time = np.random.exponential(1/total_rate)\n",
    "            event = rn.choices(transitions_names, weights=rates)[0]\n",
    "        else:\n",
    "            time = np.inf\n",
    "            event = Transition.ABSORPION\n",
    "        \n",
    "        # the fixed events overrides the others if they would happen before the chosen time\n",
    "        time_ringtone = 1.0\n",
    "        if total_time < time_ringtone and total_time + time > time_ringtone:\n",
    "            time = time_ringtone - total_time\n",
    "            event = Transition.RINGTONE\n",
    "            \n",
    "        observation = Observation(state, total_time, time, event)\n",
    "        observed_states.append(observation)\n",
    "\n",
    "        total_time += time\n",
    "\n",
    "        if event == Transition.INCREASE:\n",
    "            state += 1\n",
    "        elif event == Transition.DECREASE:\n",
    "            state -= 1\n",
    "        elif event == Transition.ABSORPION or event == Transition.RINGTONE:\n",
    "            pass\n",
    "        else:\n",
    "            raise ValueError(\"transition not recognized\")\n",
    "    return observed_states"
   ]
  },
  {
   "cell_type": "code",
   "execution_count": 133,
   "metadata": {
    "slideshow": {
     "slide_type": "slide"
    }
   },
   "outputs": [],
   "source": [
    "result = simulation(5, time_limit=100,\n",
    "                    transitions=[removal_absorbing, increase_absorbing],\n",
    "                    transitions_names=[Transition.DECREASE, Transition.INCREASE])"
   ]
  },
  {
   "cell_type": "code",
   "execution_count": 135,
   "metadata": {
    "slideshow": {
     "slide_type": "slide"
    }
   },
   "outputs": [
    {
     "name": "stdout",
     "output_type": "stream",
     "text": [
      "Observation(state=5, time_of_observation=0.0, time_of_residency=0.2861226830751954, transition=<Transition.DECREASE: 'removal'>)\n",
      "\n",
      "Observation(state=4, time_of_observation=0.2861226830751954, time_of_residency=0.20901332774897743, transition=<Transition.INCREASE: 'increase'>)\n",
      "\n",
      "Observation(state=5, time_of_observation=0.4951360108241728, time_of_residency=0.005714842148904791, transition=<Transition.INCREASE: 'increase'>)\n",
      "\n",
      "Observation(state=6, time_of_observation=0.5008508529730776, time_of_residency=0.49914914702692237, transition=<Transition.RINGTONE: 'ringtone'>)\n",
      "\n",
      "Observation(state=6, time_of_observation=1.0, time_of_residency=0.09120688240794557, transition=<Transition.DECREASE: 'removal'>)\n",
      "\n"
     ]
    }
   ],
   "source": [
    "for observation in result[:5]:\n",
    "    print(observation)\n",
    "    print()"
   ]
  },
  {
   "cell_type": "markdown",
   "metadata": {
    "slideshow": {
     "slide_type": "slide"
    }
   },
   "source": [
    "## Continuous time random walk\n",
    "\n",
    "these simulations are the basics for the generalization to the continuous time random walk simulation.\n",
    "\n",
    "These are used for example to simulate the behavior of high energy particles in matter to study the image resolution properties of certain instrumental settings, or as input for deep neural models for superresolution and so on.\n",
    "\n",
    "In particle simulation for example the events are going to be related to a particle, that can generate new particles on its way (for example by ionization).\n",
    "\n",
    "The fixed time events are replaced by geometrical considerations, but the underlying concept is the same."
   ]
  },
  {
   "cell_type": "markdown",
   "metadata": {
    "slideshow": {
     "slide_type": "slide"
    }
   },
   "source": [
    "## Exercise\n",
    "\n",
    "there are still many things that can be done to implement this simulator:\n",
    "\n",
    "1. allow the user to specify the effect of the various transitions\n",
    "2. return the simulation not as a list, but as a dedicated objct that can :\n",
    "    * be sliced over time: `my_simulation[0.5:100.0]`\n",
    "    * have a plot function dedicated\n",
    "    * automatically estimate the distribution\n",
    "3. always include multiple runs of the simulation, an djoin this with point 2"
   ]
  }
 ],
 "metadata": {
  "celltoolbar": "Slideshow",
  "kernelspec": {
   "display_name": "Python 3",
   "language": "python",
   "name": "python3"
  },
  "language_info": {
   "codemirror_mode": {
    "name": "ipython",
    "version": 3
   },
   "file_extension": ".py",
   "mimetype": "text/x-python",
   "name": "python",
   "nbconvert_exporter": "python",
   "pygments_lexer": "ipython3",
   "version": "3.6.7"
  }
 },
 "nbformat": 4,
 "nbformat_minor": 2
}
